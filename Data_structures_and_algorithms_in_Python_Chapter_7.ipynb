{
  "cells": [
    {
      "cell_type": "markdown",
      "metadata": {
        "id": "view-in-github",
        "colab_type": "text"
      },
      "source": [
        "<a href=\"https://colab.research.google.com/github/vahidNaghshin/Data_structures_and_algorithms_in_Python/blob/main/Data_structures_and_algorithms_in_Python_Chapter_7.ipynb\" target=\"_parent\"><img src=\"https://colab.research.google.com/assets/colab-badge.svg\" alt=\"Open In Colab\"/></a>"
      ]
    },
    {
      "cell_type": "markdown",
      "source": [
        "# Chapter7. LinkedLists"
      ],
      "metadata": {
        "id": "QWIl1oJA8V6P"
      }
    },
    {
      "cell_type": "code",
      "execution_count": null,
      "metadata": {
        "id": "Yd5cJjnTyY3x"
      },
      "outputs": [],
      "source": [
        "class Empty(Exception):\n",
        "  pass"
      ]
    },
    {
      "cell_type": "code",
      "execution_count": null,
      "metadata": {
        "id": "CsTj5b6m5xYf"
      },
      "outputs": [],
      "source": [
        "class LinkedStack:\n",
        "  class _Node:\n",
        "    __slot__ = '_element', '_next'\n",
        "    def __init__(self, element, next):\n",
        "      self._element = element\n",
        "      self._next = next\n",
        "  \n",
        "  def __init__(self):\n",
        "    self._head = None\n",
        "    self._size = 0\n",
        "\n",
        "  def __len__(self):\n",
        "    return self._size\n",
        "  \n",
        "  def is_empty(self):\n",
        "    return self._size == 0\n",
        "\n",
        "  def push(self, e):\n",
        "    self._head = self._Node(e, self._head)\n",
        "    self._size += 1\n",
        "\n",
        "  def _top(self):\n",
        "    if self.is_empty():\n",
        "      Empty('The link list is empty!')\n",
        "\n",
        "    return self._head._element\n",
        "  \n",
        "  def pop(self):\n",
        "    \n",
        "    if self.is_empty():\n",
        "      Empty('The link list is empty!')\n",
        "\n",
        "    head = self._head\n",
        "    self._head = head._next\n",
        "    self._size -= 1\n",
        "    return head._element\n"
      ]
    },
    {
      "cell_type": "code",
      "execution_count": null,
      "metadata": {
        "id": "g45pQul19Ijk"
      },
      "outputs": [],
      "source": [
        "class LinkedQueue:\n",
        "  class _Node:\n",
        "    __slot__ = '_element', '_next'\n",
        "    def __init__(self, element, next):\n",
        "      self._element = element\n",
        "      self._next = next\n",
        "  \n",
        "  def __init__(self):\n",
        "    self._head = None\n",
        "    self._size = 0\n",
        "    self._tail = None\n",
        "\n",
        "  def __len__(self):\n",
        "    return self._size\n",
        "  \n",
        "  def is_empty(self):\n",
        "    return self._size == 0\n",
        "\n",
        "  def enqueque(self, e):\n",
        "    new_node = self._Node(e, None)\n",
        "    if self.is_empty():\n",
        "      self._head = new_node\n",
        "    else:\n",
        "      self._tail._next = new_node\n",
        "    \n",
        "    self._tail = new_node\n",
        "    self._size += 1\n",
        "\n",
        "  def _first(self):\n",
        "    if self.is_empty():\n",
        "      Empty('The link list is empty!')\n",
        "\n",
        "    return self._head._element\n",
        "  \n",
        "  def dequeque(self):\n",
        "    \n",
        "    if self.is_empty():\n",
        "      Empty('The link list is empty!')\n",
        "\n",
        "    head = self._head._element\n",
        "    self._head = head._next\n",
        "    self._size -= 1\n",
        "    if self.is_empty():\n",
        "      self._tail = None\n",
        "    return head\n"
      ]
    },
    {
      "cell_type": "code",
      "execution_count": null,
      "metadata": {
        "id": "TyWJkZ7oFupB"
      },
      "outputs": [],
      "source": [
        "class CircularQueue:\n",
        "  class _Node:\n",
        "    __slot__ = '_element', '_next'\n",
        "    def __init__(self, element, next):\n",
        "      self._element = element\n",
        "      self._next = next\n",
        "\n",
        "  def __init__(self):\n",
        "    self._tail = None\n",
        "    self._size = 0\n",
        "\n",
        "  def __len__(self):\n",
        "    return self._size\n",
        "  \n",
        "  def is_empty(self):\n",
        "    return self._size == 0\n",
        "\n",
        "  def enqueque(self, e):\n",
        "    \n",
        "    new_node = self._Node(e, None)\n",
        "    \n",
        "    if self.is_empty():\n",
        "      new_node._next = new_node\n",
        "    else:\n",
        "      new_node._next = self._tail._next\n",
        "      self._tail._next = new_node\n",
        "    self._tail = new_node\n",
        "    self._size += 1\n",
        "\n",
        "\n",
        "  def _first(self):\n",
        "    if self.is_empty():\n",
        "      Empty('The link list is empty!')\n",
        "\n",
        "    return self._tail._next._element\n",
        "\n",
        "  def dequeque(self):\n",
        "    \n",
        "    if self.is_empty():\n",
        "      Empty('The link list is empty!')\n",
        "\n",
        "    head = self._tail._next._element\n",
        "    self._tail._next = self._tail._next._next\n",
        "    self._size -= 1\n",
        "    if self.is_empty():\n",
        "      self._tail = None\n",
        "    return head\n",
        "\n",
        "  def rotate(self):\n",
        "    if self._size > 0:\n",
        "      self._tail = self._tail._next"
      ]
    },
    {
      "cell_type": "code",
      "execution_count": null,
      "metadata": {
        "id": "Q2-n1PpwavRN"
      },
      "outputs": [],
      "source": [
        "class _DoublyLinkedBase:\n",
        "  class _Node:\n",
        "    __slot__ = '_element', '_next', '_prev'\n",
        "    def __init__(self, element, next, prev):\n",
        "      self._element = element\n",
        "      self._next = next\n",
        "      self._prev = prev\n",
        "  \n",
        "  def __init__(self):\n",
        "    self._header = self._Node(None, None, None)\n",
        "    self._trailer = self._Node(None, None, None)\n",
        "    self._header._next = self._trailer\n",
        "    self._trailer._prev = self._header\n",
        "    self._size = 0\n",
        "\n",
        "  def __len__(self):\n",
        "    return self._size\n",
        "  \n",
        "  def is_empty(self):\n",
        "    return self._size == 0\n",
        "  \n",
        "  def _insert_between(self, e, predecessor, successor):\n",
        "    \n",
        "    new_node = self._Node(e, successor, predecessor)\n",
        "    successor._prev = new_node\n",
        "    predecessor._next = new_node\n",
        "    self._size += 1\n",
        "    \n",
        "    return new_node\n",
        "\n",
        "  def _delete_node(self, node):\n",
        "    \n",
        "    predecessor = node._prev\n",
        "    successor = node._next\n",
        "    successor._prev = predecessor\n",
        "    predecessor._next = successor\n",
        "    self._size -= 1\n",
        "    element = node._element\n",
        "    node._element, node._prev, node._next = None, None, None\n",
        "    \n",
        "    return element"
      ]
    },
    {
      "cell_type": "code",
      "execution_count": null,
      "metadata": {
        "id": "1VFMJb1ChQZk",
        "colab": {
          "base_uri": "https://localhost:8080/",
          "height": 232
        },
        "outputId": "16aba267-975c-4f40-e7d5-c5f4a4591b80"
      },
      "outputs": [
        {
          "output_type": "error",
          "ename": "NameError",
          "evalue": "ignored",
          "traceback": [
            "\u001b[0;31m---------------------------------------------------------------------------\u001b[0m",
            "\u001b[0;31mNameError\u001b[0m                                 Traceback (most recent call last)",
            "\u001b[0;32m<ipython-input-1-0e2a01c4cc68>\u001b[0m in \u001b[0;36m<module>\u001b[0;34m\u001b[0m\n\u001b[0;32m----> 1\u001b[0;31m \u001b[0;32mclass\u001b[0m \u001b[0mLinkedDeque\u001b[0m\u001b[0;34m(\u001b[0m\u001b[0m_DoublyLinkedBase\u001b[0m\u001b[0;34m)\u001b[0m\u001b[0;34m:\u001b[0m\u001b[0;34m\u001b[0m\u001b[0;34m\u001b[0m\u001b[0m\n\u001b[0m\u001b[1;32m      2\u001b[0m \u001b[0;34m\u001b[0m\u001b[0m\n\u001b[1;32m      3\u001b[0m   \u001b[0;32mdef\u001b[0m \u001b[0mfirst\u001b[0m\u001b[0;34m(\u001b[0m\u001b[0mself\u001b[0m\u001b[0;34m)\u001b[0m\u001b[0;34m:\u001b[0m\u001b[0;34m\u001b[0m\u001b[0;34m\u001b[0m\u001b[0m\n\u001b[1;32m      4\u001b[0m     \u001b[0;32mif\u001b[0m \u001b[0mself\u001b[0m\u001b[0;34m.\u001b[0m\u001b[0mis_empty\u001b[0m\u001b[0;34m(\u001b[0m\u001b[0;34m)\u001b[0m\u001b[0;34m:\u001b[0m\u001b[0;34m\u001b[0m\u001b[0;34m\u001b[0m\u001b[0m\n\u001b[1;32m      5\u001b[0m       \u001b[0mEmpty\u001b[0m\u001b[0;34m(\u001b[0m\u001b[0;34m'Deque is empty!'\u001b[0m\u001b[0;34m)\u001b[0m\u001b[0;34m\u001b[0m\u001b[0;34m\u001b[0m\u001b[0m\n",
            "\u001b[0;31mNameError\u001b[0m: name '_DoublyLinkedBase' is not defined"
          ]
        }
      ],
      "source": [
        "class LinkedDeque(_DoublyLinkedBase):\n",
        "  \n",
        "  def first(self):\n",
        "    if self.is_empty():\n",
        "      Empty('Deque is empty!')\n",
        "    return self._header._next._element\n",
        "  \n",
        "  def last(self):\n",
        "    if self.is_empty():\n",
        "      Empty('Deque is empty!')\n",
        "    return self._trailer._prev._element\n",
        "  \n",
        "  def insert_first(self, e):\n",
        "    self.insert_between(e, self._header, self._header._next)\n",
        "\n",
        "  def insert_last(self, e):\n",
        "    self.insert_between(e, self._trailer._prev, self._trailer)\n",
        "  \n",
        "  def delete_first(self):\n",
        "    if self.is_empty():\n",
        "      Empty('Deque is empty!')\n",
        "    self.delete_node(self._header._next)\n",
        "  \n",
        "  def delete_last(self):\n",
        "    if self.is_empty():\n",
        "      Empty('Deque is empty!')\n",
        "    self.delete_node(self._trailer._prev)\n",
        "\n",
        "  "
      ]
    },
    {
      "cell_type": "code",
      "execution_count": null,
      "metadata": {
        "id": "Mr5vliwxk7aH"
      },
      "outputs": [],
      "source": [
        "class PositionalList(_DoublyLinkedBase):\n",
        "  class Position:\n",
        "    def __init__(self, container, node):\n",
        "      self._container = container\n",
        "      self._node = node\n",
        "    def element(self):\n",
        "      return self._node._element\n",
        "    def ــeqــ(self, other):\n",
        "      return type(other) is type(self) and other.ـnode is self.ـnode\n",
        "    def ــneــ(self, other):\n",
        "      return not (self == other) \n",
        "\n",
        "  def _validate(self, p):\n",
        "    if not isinstance(p, self.Position):\n",
        "      raise TypeError( 'p must be proper Position type' ) \n",
        "    if p._container is not self:\n",
        "      raise ValueError( 'p does not belong to this container' )\n",
        "    if p._node._next is None: \n",
        "      raise ValueError( 'p is no longer valid' ) \n",
        "    return p._node\n",
        "\n",
        "  def _make_position(self, node):\n",
        "    if node is self._header or node is self._trailer:\n",
        "      return None \n",
        "    else:\n",
        "      return self.Position(self, node)\n",
        "  \n",
        "  def first(self):\n",
        "    return self._make_position(self._header._next)\n",
        "\n",
        "  def last(self):\n",
        "    return self._make_position(self._trailer._prev)\n",
        "\n",
        "  def before(self, p):\n",
        "    node = self._validate(p)\n",
        "    return self._make_position(node._prev)\n",
        "  \n",
        "  def after(self, p):\n",
        "    node = self._validate(p)\n",
        "    \n",
        "    return self._make_position(node._next)\n",
        "\n",
        "  def __iter__(self):\n",
        "    cursor = self.first()\n",
        "    while cursor is not None:\n",
        "      yield cursor.element() \n",
        "      cursor = self.after(cursor)\n",
        "\n",
        "  def _insert_between(self, e, predecessor, successor):\n",
        "    node = super()._insert_between(e, predecessor, successor)\n",
        "    return self._make_position(node)\n",
        "\n",
        "  def add_first(self, e): \n",
        "    return self._insert_between(e, self._header, self._header._next)\n",
        "  \n",
        "  def add_last(self, e):\n",
        "    return self._insert_between(e, self._trailer._prev, self._trailer)\n",
        "\n",
        "  def add_before(self, p, e):\n",
        "    original = self._validate(p)\n",
        "    return self._insert_between(e, original._prev, original)\n",
        "\n",
        "  def add_after(self, p, e):\n",
        "    original = self._validate(p)\n",
        "    return self._insert_between(e, original, original._next)\n",
        "  \n",
        "  def delete(self, p):\n",
        "    original = self._validate(p)\n",
        "    return self._delete_node(original) \n",
        "\n",
        "\n",
        "  def replace(self, p, e):\n",
        "    original = self._validate(p)\n",
        "    old_value = original._element\n",
        "    original._element = e \n",
        "    return old_value\n"
      ]
    },
    {
      "cell_type": "code",
      "source": [
        "def insertion_sort(L):\n",
        "  if len(L) > 1:\n",
        "    marker = L.first()\n",
        "    while marker.element() != L.last().element():\n",
        "      pivot = L.after(marker)\n",
        "      value = pivot.element()\n",
        "      \n",
        "      if value > marker.element():\n",
        "        marker = pivot\n",
        "      else:\n",
        "        walk = marker\n",
        "        while walk.element() != L.first().element() and L.before(walk).element() > value:\n",
        "          walk = L.before(walk)\n",
        "\n",
        "        L.delete(pivot)\n",
        "        L.add_before(walk, value)"
      ],
      "metadata": {
        "id": "9PbJ8JmtJcPr"
      },
      "execution_count": null,
      "outputs": []
    },
    {
      "cell_type": "code",
      "source": [
        "class FavoriteList:\n",
        "  class _Item:\n",
        "    __slots__ = '_value', '_count'\n",
        "    def __init__(self, e):\n",
        "      self._value = e\n",
        "      self._count = 0\n",
        "  \n",
        "  def _find_position(self, e):\n",
        "    walk = self._data.first()\n",
        "    while walk is not None and walk.element()._value != e:\n",
        "      walk = self._data.after(walk)\n",
        "    return walk\n",
        "  \n",
        "  def _move_up(self, p):\n",
        "    if p != self._data.first():\n",
        "      cnt = p.element()._count\n",
        "      walk = self._data.before(p)\n",
        "      if cnt > walk.element()._count:\n",
        "        while (walk != self._data.first() and cnt > self._data.before(walk).element._count):\n",
        "          walk = self._data.before(walk)\n",
        "        self._data.add_before(walk, self._data.delete(p))\n",
        "\n",
        "  def __init__(self):\n",
        "    self._data = PositionalList()\n",
        "  \n",
        "  def __len__(self):\n",
        "    return len(self._data)\n",
        "  \n",
        "  def is_empty(self):\n",
        "    return len(self._data) == 0\n",
        "  \n",
        "  def access(self, e):\n",
        "    p = self._find_position(e)\n",
        "    if p is None:\n",
        "      p = self._data.add_last(self._Item(e))\n",
        "    p.element()._count += 1\n",
        "    self._move_up(p)\n",
        "  \n",
        "  def remove(self, e):\n",
        "    p = self._find_position(e)\n",
        "    if p is not None:\n",
        "      self._data.delete(p)\n",
        "  \n",
        "  def top(self, k):\n",
        "    if not 1 <= k <= len(self):\n",
        "      raise ValueError('Illegal value for k!')\n",
        "    walk = self._data.first()\n",
        "    for j in range(k):\n",
        "      item = walk.element()\n",
        "      yield item._value\n",
        "      walk = self._data.after(walk)\n",
        "\n",
        "  def clear(self):\n",
        "    self._data = PositionalList()\n",
        "\n",
        "  def reset_counts(self):\n",
        "    marker = self._data.first()\n",
        "    while marker.element() != self._data.last().element():\n",
        "      marker.element()._count = 0\n",
        "      marker = self._data.after(marker)\n",
        "\n",
        "\n",
        "\n"
      ],
      "metadata": {
        "id": "BVslf8sPWJAs"
      },
      "execution_count": null,
      "outputs": []
    },
    {
      "cell_type": "code",
      "source": [
        "class FavoriteListMTF(FavoriteList):\n",
        "  def _move_up(self, p):\n",
        "    if p != self._data.first():\n",
        "      self._data.add_first(self._data.delete(p))\n",
        "    \n",
        "  def top(self, k):\n",
        "    if not 1 <= k <= len(self):\n",
        "      raise ValueError('Illegal value for k!')\n",
        "    \n",
        "    temp = PositionalList()\n",
        "    for item in self._data:\n",
        "      temp.add_last(item)\n",
        "\n",
        "    for j in range(k):\n",
        "      highPos = temp.first()\n",
        "      walk = temp.after(highPos)\n",
        "      while walk is not None:\n",
        "        if walk.element()._count > highPos.element()._count:\n",
        "          highPos = walk\n",
        "        walk = temp.after(walk)\n",
        "      yield highPos.element()._value\n",
        "      temp.delete(highPos)"
      ],
      "metadata": {
        "id": "QIXPYq5579xL"
      },
      "execution_count": null,
      "outputs": []
    },
    {
      "cell_type": "markdown",
      "source": [
        "# Reinforcement"
      ],
      "metadata": {
        "id": "7MVDo0Uxqhcc"
      }
    },
    {
      "cell_type": "code",
      "source": [
        "#@title R-7.1\n",
        "def second_to_last_finder(L):\n",
        "  if len(L) <= 1:\n",
        "    raise Empty('The Linked list should have at least two nodes!')\n",
        "  else:\n",
        "    prev, cur = None, L._head\n",
        "    for i in range(len(L)-1):\n",
        "      prev, cur = cur, cur._next\n",
        "    return prev"
      ],
      "metadata": {
        "id": "maOzeyhQAdei"
      },
      "execution_count": null,
      "outputs": []
    },
    {
      "cell_type": "code",
      "source": [
        "#an example of linked list\n",
        "L = LinkedStack()\n",
        "L.push(1)\n",
        "L.push(2)\n",
        "L.push(3)\n",
        "L.push(4)"
      ],
      "metadata": {
        "id": "SW5wTbD9uMws"
      },
      "execution_count": null,
      "outputs": []
    },
    {
      "cell_type": "code",
      "source": [
        "sec_to_last_node = second_to_last_finder(L)\n",
        "sec_to_last_node"
      ],
      "metadata": {
        "colab": {
          "base_uri": "https://localhost:8080/"
        },
        "id": "IPTwjMXnuP9R",
        "outputId": "48b9d9e6-7398-4fd3-e2a9-9fc63de509ce"
      },
      "execution_count": null,
      "outputs": [
        {
          "output_type": "execute_result",
          "data": {
            "text/plain": [
              "<__main__.LinkedStack._Node at 0x7f10c6a6c410>"
            ]
          },
          "metadata": {},
          "execution_count": 40
        }
      ]
    },
    {
      "cell_type": "code",
      "source": [
        "sec_to_last_node._element"
      ],
      "metadata": {
        "colab": {
          "base_uri": "https://localhost:8080/"
        },
        "id": "EKEpQJJjw4d5",
        "outputId": "905387c1-ad8f-4fb4-c629-2c8595a69bb5"
      },
      "execution_count": null,
      "outputs": [
        {
          "output_type": "execute_result",
          "data": {
            "text/plain": [
              "2"
            ]
          },
          "metadata": {},
          "execution_count": 41
        }
      ]
    },
    {
      "cell_type": "code",
      "source": [
        "#@title R-7.2\n",
        "def concat_singly_linked_list(L, M):\n",
        "  L_prime = []\n",
        "  cur = L._head\n",
        "  for _ in range(len(L)):\n",
        "    L_prime.append(cur)\n",
        "    cur = cur._next\n",
        "\n",
        "  cur = M._head\n",
        "  for _ in range(len(M)):\n",
        "    L_prime.append(cur)\n",
        "    cur = cur._next\n",
        "\n",
        "  return L_prime"
      ],
      "metadata": {
        "id": "vy3l4EIrxJyj"
      },
      "execution_count": null,
      "outputs": []
    },
    {
      "cell_type": "code",
      "source": [
        "#an example of linked list\n",
        "L = LinkedStack()\n",
        "L.push(1)\n",
        "L.push(2)\n",
        "L.push(3)\n",
        "L.push(4)"
      ],
      "metadata": {
        "id": "-0C6d6fhzsqf"
      },
      "execution_count": null,
      "outputs": []
    },
    {
      "cell_type": "code",
      "source": [
        "#an example of linked list\n",
        "M = LinkedStack()\n",
        "M.push(10)\n",
        "M.push(20)"
      ],
      "metadata": {
        "id": "W6jSNRGUzu8w"
      },
      "execution_count": null,
      "outputs": []
    },
    {
      "cell_type": "code",
      "source": [
        "concat_singly_linked_list(L, M)"
      ],
      "metadata": {
        "colab": {
          "base_uri": "https://localhost:8080/"
        },
        "id": "R-r9wFp6z4Hf",
        "outputId": "7b184c6c-fa38-44a5-bf72-4f9ad30bf08d"
      },
      "execution_count": null,
      "outputs": [
        {
          "output_type": "execute_result",
          "data": {
            "text/plain": [
              "[<__main__.LinkedStack._Node at 0x7f10c74e29d0>,\n",
              " <__main__.LinkedStack._Node at 0x7f10c74e20d0>,\n",
              " <__main__.LinkedStack._Node at 0x7f10c74e2150>,\n",
              " <__main__.LinkedStack._Node at 0x7f10c74e2450>,\n",
              " <__main__.LinkedStack._Node at 0x7f10c74e2050>,\n",
              " <__main__.LinkedStack._Node at 0x7f10c74e21d0>]"
            ]
          },
          "metadata": {},
          "execution_count": 52
        }
      ]
    },
    {
      "cell_type": "code",
      "source": [
        "#@title R-7.3\n",
        "def count_node(L):\n",
        "\n",
        "    "
      ],
      "metadata": {
        "id": "J5cCc4vPz_oV"
      },
      "execution_count": null,
      "outputs": []
    },
    {
      "cell_type": "code",
      "source": [
        "#@title R-7.4\n",
        "\n",
        "def swap_node(L, n0, n1):\n",
        "  \"\"\"This func swaps the nodes with index n0 an n1\"\"\"\n",
        "  if max(n0, n1) > len(L):\n",
        "    raise IndexError(\"The refered node do not exist!\")\n",
        "\n",
        "  #make sure two reference nodes are sorted\n",
        "  n0, n1 = min(n0, n1), max(n0, n1)\n",
        "  \n",
        "\n",
        "  prev, cur = None, L._head\n",
        "  \n",
        "  for i in range(len(L)):\n",
        "    if i == n0:\n",
        "      node_n0 = cur\n",
        "      next_node0 = cur._next\n",
        "      if prev is None:  #the n0 is head node\n",
        "        prev_node0 = None\n",
        "      else:\n",
        "        prev_node0 = prev\n",
        "        \n",
        "    elif i == n1:\n",
        "      node_n1 = cur\n",
        "      prev_node1 = prev\n",
        "      if cur._next is None:\n",
        "        next_node1 = None\n",
        "      else:\n",
        "        next_node1 = cur._next\n",
        "    prev, cur = cur, cur._next\n",
        "  \n",
        "  if n1 - n0 > 1:\n",
        "    \n",
        "    if prev_node0:\n",
        "      prev_node0._next = node_n1\n",
        "    else:\n",
        "      L._head = node_n1\n",
        "\n",
        "    node_n1._next = next_node0\n",
        "    prev_node1._next = node_n0\n",
        "    node_n0._next = next_node1\n",
        "    \n",
        "\n",
        "\n",
        "  elif n1 - n0 == 1:\n",
        "    \n",
        "    if prev_node0:\n",
        "      prev_node0._next = node_n1\n",
        "    else:\n",
        "      L._head = node_n1\n",
        "\n",
        "    node_n1._next = node_n0\n",
        "    node_n0._next = next_node1\n",
        "\n"
      ],
      "metadata": {
        "id": "EgWrf_4eNyO1"
      },
      "execution_count": null,
      "outputs": []
    },
    {
      "cell_type": "code",
      "source": [
        "#an example of linked list\n",
        "L = LinkedStack()\n",
        "L.push(1)\n",
        "L.push(2)\n",
        "L.push(3)\n",
        "L.push(4)"
      ],
      "metadata": {
        "id": "bYCjuwIeQJam"
      },
      "execution_count": null,
      "outputs": []
    },
    {
      "cell_type": "code",
      "source": [
        "#current order of linked list\n",
        "cur = L._head\n",
        "for i in range(len(L)):\n",
        "  print(cur)\n",
        "  cur = cur._next"
      ],
      "metadata": {
        "colab": {
          "base_uri": "https://localhost:8080/"
        },
        "id": "SQ6iuPj_UHil",
        "outputId": "7d7d7b43-cfb5-4d55-ff0e-11952ab152df"
      },
      "execution_count": null,
      "outputs": [
        {
          "output_type": "stream",
          "name": "stdout",
          "text": [
            "<__main__.LinkedStack._Node object at 0x7f10c68b60d0>\n",
            "<__main__.LinkedStack._Node object at 0x7f10c69b0510>\n",
            "<__main__.LinkedStack._Node object at 0x7f10c69b0910>\n",
            "<__main__.LinkedStack._Node object at 0x7f10c69b0090>\n"
          ]
        }
      ]
    },
    {
      "cell_type": "code",
      "source": [
        "swap_node(L, n0=1, n1=3)"
      ],
      "metadata": {
        "id": "xVQIPibmbm4z"
      },
      "execution_count": null,
      "outputs": []
    },
    {
      "cell_type": "code",
      "source": [
        "cur = L._head\n",
        "for i in range(len(L)):\n",
        "  print(cur)\n",
        "  cur = cur._next"
      ],
      "metadata": {
        "colab": {
          "base_uri": "https://localhost:8080/"
        },
        "id": "vl_jwwhyWG-Y",
        "outputId": "8abe1430-e5cd-46d3-90b6-5962ad820a66"
      },
      "execution_count": null,
      "outputs": [
        {
          "output_type": "stream",
          "name": "stdout",
          "text": [
            "<__main__.LinkedStack._Node object at 0x7f10c68b60d0>\n",
            "<__main__.LinkedStack._Node object at 0x7f10c69b0090>\n",
            "<__main__.LinkedStack._Node object at 0x7f10c69b0910>\n",
            "<__main__.LinkedStack._Node object at 0x7f10c69b0510>\n"
          ]
        }
      ]
    },
    {
      "cell_type": "code",
      "source": [
        "#@title R-7.5\n",
        "def count_note_circularly_linked(L):\n",
        "  \"\"\"This func counts total number of nodes in circularly linked list\"\"\"\n",
        "  head_node = L._head\n",
        "\n",
        "  if head_node._next is None:\n",
        "    return 1\n",
        "  elif head_node is None:\n",
        "    return 0\n",
        "\n",
        "  count = 1\n",
        "  cur_node = L._head\n",
        "  while not cur_node._next is head_node:\n",
        "    cur_node = cur_node._next\n",
        "    count += 1\n",
        "  \n",
        "  return count "
      ],
      "metadata": {
        "id": "gpWuWArtUazN"
      },
      "execution_count": null,
      "outputs": []
    },
    {
      "cell_type": "code",
      "source": [
        "#@title R-7.6\n",
        "def is_same_list(x, y, L):\n",
        "  \"\"\"determine whether x and y belongs to the same circularly linked list L\"\"\"\n",
        "\n",
        "  head_node = L._head\n",
        "\n",
        "  if head_node is None or head_node._next is None:\n",
        "    return False\n",
        "  \n",
        "  cur_node = L._head\n",
        "  count_seen_x_y = 0 #number of times x or y is seen\n",
        "  while not cur_node._next is head_node:\n",
        "    if cur_node is x or cur_node is y:\n",
        "      count_seen_x_y += 1\n",
        "    cur_node = cur_node._next\n",
        "  \n",
        "  return count_seen_x_y == 2"
      ],
      "metadata": {
        "id": "S9LgDiRkQwct"
      },
      "execution_count": null,
      "outputs": []
    },
    {
      "cell_type": "code",
      "source": [
        "#@title R-7.7\n",
        "class LinkedQueue:\n",
        "  class _Node:\n",
        "    __slot__ = '_element', '_next'\n",
        "    def __init__(self, element, next):\n",
        "      self._element = element\n",
        "      self._next = next\n",
        "  \n",
        "  def __init__(self):\n",
        "    self._head = None\n",
        "    self._size = 0\n",
        "    self._tail = None\n",
        "\n",
        "  def __len__(self):\n",
        "    return self._size\n",
        "  \n",
        "  def is_empty(self):\n",
        "    return self._size == 0\n",
        "\n",
        "  def enqueque(self, e):\n",
        "    new_node = self._Node(e, None)\n",
        "    if self.is_empty():\n",
        "      self._head = new_node\n",
        "    else:\n",
        "      self._tail._next = new_node\n",
        "    \n",
        "    self._tail = new_node\n",
        "    self._size += 1\n",
        "\n",
        "  def _first(self):\n",
        "    if self.is_empty():\n",
        "      Empty('The link list is empty!')\n",
        "\n",
        "    return self._head._element\n",
        "  \n",
        "  def dequeque(self):\n",
        "    \n",
        "    if self.is_empty():\n",
        "      Empty('The link list is empty!')\n",
        "\n",
        "    head = self._head._element\n",
        "    self._head = self._head._next\n",
        "    self._size -= 1\n",
        "    if self.is_empty():\n",
        "      self._tail = None\n",
        "    return head\n",
        "\n",
        "  def rotate(self):\n",
        "    head_node = self._head\n",
        "    self._head = self._head._next\n",
        "    self._tail._next = head_node\n",
        "    self._tail = head_node\n",
        "    self._tail._next = None"
      ],
      "metadata": {
        "id": "aDG_rvMUUXbh"
      },
      "execution_count": null,
      "outputs": []
    },
    {
      "cell_type": "code",
      "source": [
        "L = LinkedQueue()"
      ],
      "metadata": {
        "id": "6WMvgBHeWz2n"
      },
      "execution_count": null,
      "outputs": []
    },
    {
      "cell_type": "code",
      "source": [
        "L.enqueque(2)\n",
        "L.enqueque(3)\n",
        "L.enqueque(4)\n"
      ],
      "metadata": {
        "id": "qJxYOtUTXVbM"
      },
      "execution_count": null,
      "outputs": []
    },
    {
      "cell_type": "code",
      "source": [
        "L.rotate()"
      ],
      "metadata": {
        "id": "2fevfQCKXxLk"
      },
      "execution_count": null,
      "outputs": []
    },
    {
      "cell_type": "code",
      "source": [
        "L.dequeque()"
      ],
      "metadata": {
        "colab": {
          "base_uri": "https://localhost:8080/"
        },
        "id": "VNDrcFVjXaxn",
        "outputId": "8bba4f5a-7d97-4705-8ad5-c09b639d0745"
      },
      "execution_count": null,
      "outputs": [
        {
          "output_type": "execute_result",
          "data": {
            "text/plain": [
              "2"
            ]
          },
          "metadata": {},
          "execution_count": 53
        }
      ]
    },
    {
      "cell_type": "code",
      "source": [
        "#@title R-7.8\n",
        "class _DoublyLinkedBase:\n",
        "  class _Node:\n",
        "    __slot__ = '_element', '_next', '_prev'\n",
        "    def __init__(self, element, next, prev):\n",
        "      self._element = element\n",
        "      self._next = next\n",
        "      self._prev = prev\n",
        "  \n",
        "  def __init__(self):\n",
        "    self._header = self._Node(None, None, None)\n",
        "    self._trailer = self._Node(None, None, None)\n",
        "    self._header._next = self._trailer\n",
        "    self._trailer._prev = self._header\n",
        "    self._size = 0\n",
        "\n",
        "  def __len__(self):\n",
        "    return self._size\n",
        "  \n",
        "  def is_empty(self):\n",
        "    return self._size == 0\n",
        "  \n",
        "  def _insert_between(self, e, predecessor, successor):\n",
        "    \n",
        "    new_node = self._Node(e, successor, predecessor)\n",
        "    successor._prev = new_node\n",
        "    predecessor._next = new_node\n",
        "    self._size += 1\n",
        "    \n",
        "    return new_node\n",
        "\n",
        "  def _delete_node(self, node):\n",
        "    \n",
        "    predecessor = node._prev\n",
        "    successor = node._next\n",
        "    successor._prev = predecessor\n",
        "    predecessor._next = successor\n",
        "    self._size -= 1\n",
        "    element = node._element\n",
        "    node._element, node._prev, node._next = None, None, None\n",
        "    \n",
        "    return element"
      ],
      "metadata": {
        "id": "dMgzBOl6XeJE"
      },
      "execution_count": null,
      "outputs": []
    },
    {
      "cell_type": "code",
      "source": [
        "import copy\n",
        "\n",
        "def find_middle_node(L):\n",
        "  \"\"\"This func returns the middle node of a Doubly Linked list\n",
        "  NOTE: no counting should be used!\n",
        "  \"\"\"\n",
        "  def is_surrounded_by_header_trailer(node):\n",
        "    return (node._prev == L._header and node._next == L._trailer) or (node._prev == L._header and node._next._next == L._trailer)\n",
        "  \n",
        "  #check for empty doubly linked list\n",
        "  if L._header._next == L._trailer:\n",
        "    raise Empty(\"The linked list is empty!\")\n",
        "\n",
        "  \n",
        "  cur_node = L._header._next\n",
        "  if is_surrounded_by_header_trailer(cur_node):\n",
        "      return cur_node\n",
        "\n",
        "  cur_node = cur_node._next\n",
        "  while True:\n",
        "    temp = copy.deepcopy(L)\n",
        "    while cur_node._prev != temp._header:\n",
        "\n",
        "      \n",
        "      if cur_node._next != temp._trailer:\n",
        "        #delete previous and next node \n",
        "        temp._delete_node(cur_node._prev)\n",
        "        temp._delete_node(cur_node._next)\n",
        "\n",
        "      if is_surrounded_by_header_trailer(cur_node):\n",
        "        return cur_node\n",
        "\n",
        "    cur_node = cur_node._next\n"
      ],
      "metadata": {
        "id": "kwqlur0yc7Gs"
      },
      "execution_count": null,
      "outputs": []
    },
    {
      "cell_type": "code",
      "source": [
        "L = _DoublyLinkedBase()\n",
        "L._insert_between(2, L._header, L._header._next)\n",
        "middle_node = L._insert_between(3, L._header, L._header._next)\n",
        "L._insert_between(4, L._header, L._header._next)\n",
        "print(f\"lenght of Doubly linked lis is {len(L)} with middle node: {middle_node}\")"
      ],
      "metadata": {
        "colab": {
          "base_uri": "https://localhost:8080/"
        },
        "id": "jv6pL455jvsa",
        "outputId": "1027c1a7-4cd0-404d-daed-59e74450a6a0"
      },
      "execution_count": null,
      "outputs": [
        {
          "output_type": "stream",
          "name": "stdout",
          "text": [
            "lenght of Doubly linked lis is 3 with middle node: <__main__._DoublyLinkedBase._Node object at 0x7ff0f97654d0>\n"
          ]
        }
      ]
    },
    {
      "cell_type": "code",
      "source": [
        "find_middle_node(L)"
      ],
      "metadata": {
        "colab": {
          "base_uri": "https://localhost:8080/"
        },
        "id": "dVFneBTJjxN3",
        "outputId": "44dc2033-847f-4818-86e2-ecaa3d523c2b"
      },
      "execution_count": null,
      "outputs": [
        {
          "output_type": "execute_result",
          "data": {
            "text/plain": [
              "<__main__._DoublyLinkedBase._Node at 0x7ff0f97654d0>"
            ]
          },
          "metadata": {},
          "execution_count": 117
        }
      ]
    },
    {
      "cell_type": "code",
      "source": [
        "#@title R-7.9\n",
        "def concat_doubly_linked_list(L, M):\n",
        "  result = []\n",
        "  \n",
        "  #For L\n",
        "  cur_node = L._header\n",
        "  while cur_node:\n",
        "    result.append(cur_node)\n",
        "    cur_node = cur_node._next\n",
        "\n",
        "  #For M\n",
        "  cur_node = L._header\n",
        "  while cur_node:\n",
        "    result.append(cur_node)\n",
        "    cur_node = cur_node._next\n",
        "  \n",
        "  return result"
      ],
      "metadata": {
        "id": "K6B9itdvlNul"
      },
      "execution_count": null,
      "outputs": []
    },
    {
      "cell_type": "code",
      "source": [
        "#@title R-7.10\n",
        "# for empty positional list we cannot use add_before or add_after since there is no element. So, add_first and add_last is essential."
      ],
      "metadata": {
        "id": "_WG-l1lp-Nal"
      },
      "execution_count": null,
      "outputs": []
    },
    {
      "cell_type": "code",
      "source": [
        "#@title R-7.11\n",
        "def max(L):\n",
        "  \n",
        "  max_element = L.first().element()\n",
        "  \n",
        "  if max_element is None:\n",
        "    raise Empty(\"The list is empty!\")\n",
        "  \n",
        "  for p in L:\n",
        "    if p > max_element:\n",
        "      max_element = p\n",
        "  \n",
        "  return max_element"
      ],
      "metadata": {
        "id": "HK6BoJ385Oy0"
      },
      "execution_count": null,
      "outputs": []
    },
    {
      "cell_type": "code",
      "source": [
        "\n",
        "class _DoublyLinkedBase:\n",
        "  class _Node:\n",
        "    __slot__ = '_element', '_next', '_prev'\n",
        "    def __init__(self, element, next, prev):\n",
        "      self._element = element\n",
        "      self._next = next\n",
        "      self._prev = prev\n",
        "  \n",
        "  def __init__(self):\n",
        "    self._header = self._Node(None, None, None)\n",
        "    self._trailer = self._Node(None, None, None)\n",
        "    self._header._next = self._trailer\n",
        "    self._trailer._prev = self._header\n",
        "    self._size = 0\n",
        "\n",
        "  def __len__(self):\n",
        "    return self._size\n",
        "  \n",
        "  def is_empty(self):\n",
        "    return self._size == 0\n",
        "  \n",
        "  def _insert_between(self, e, predecessor, successor):\n",
        "    \n",
        "    new_node = self._Node(e, successor, predecessor)\n",
        "    successor._prev = new_node\n",
        "    predecessor._next = new_node\n",
        "    self._size += 1\n",
        "    \n",
        "    return new_node\n",
        "\n",
        "  def _delete_node(self, node):\n",
        "    \n",
        "    predecessor = node._prev\n",
        "    successor = node._next\n",
        "    successor._prev = predecessor\n",
        "    predecessor._next = successor\n",
        "    self._size -= 1\n",
        "    element = node._element\n",
        "    node._element, node._prev, node._next = None, None, None\n",
        "    \n",
        "    return element"
      ],
      "metadata": {
        "id": "fLlcZx5LHyjo"
      },
      "execution_count": null,
      "outputs": []
    },
    {
      "cell_type": "code",
      "source": [
        "class PositionalList(_DoublyLinkedBase):\n",
        "  class Position:\n",
        "    def __init__(self, container, node):\n",
        "      self._container = container\n",
        "      self._node = node\n",
        "    def element(self):\n",
        "      return self._node._element\n",
        "    def ــeqــ(self, other):\n",
        "      return type(other) is type(self) and other.ـnode is self.ـnode\n",
        "    def ــneــ(self, other):\n",
        "      return not (self == other) \n",
        "\n",
        "  def _validate(self, p):\n",
        "    if not isinstance(p, self.Position):\n",
        "      raise TypeError( 'p must be proper Position type' ) \n",
        "    if p._container is not self:\n",
        "      raise ValueError( 'p does not belong to this container' )\n",
        "    if p._node._next is None: \n",
        "      raise ValueError( 'p is no longer valid' ) \n",
        "    return p._node\n",
        "\n",
        "  def _make_position(self, node):\n",
        "    if node is self._header or node is self._trailer:\n",
        "      return None \n",
        "    else:\n",
        "      return self.Position(self, node)\n",
        "  \n",
        "  def first(self):\n",
        "    return self._make_position(self._header._next)\n",
        "\n",
        "  def last(self):\n",
        "    return self._make_position(self._trailer._prev)\n",
        "\n",
        "  def before(self, p):\n",
        "    node = self._validate(p)\n",
        "    return self._make_position(node._prev)\n",
        "  \n",
        "  def after(self, p):\n",
        "    node = self._validate(p)\n",
        "    return self._make_position(node._next)\n",
        "\n",
        "  def __reversed__(self):\n",
        "    cursor = self.last()\n",
        "    while cursor is not None:\n",
        "      yield cursor.element() \n",
        "      cursor = self.before(cursor)\n",
        "\n",
        "  def __iter__(self):\n",
        "    cursor = self.first()\n",
        "    while cursor is not None:\n",
        "      yield cursor.element() \n",
        "      cursor = self.after(cursor)\n",
        "\n",
        "  def _insert_between(self, e, predecessor, successor):\n",
        "    node = super()._insert_between(e, predecessor, successor)\n",
        "    return self._make_position(node)\n",
        "\n",
        "\n",
        "  def add_first(self, e): \n",
        "    return self._insert_between(e, self._header, self._header._next)\n",
        "  \n",
        "  def add_last(self, e):\n",
        "    return self._insert_between(e, self._trailer._prev, self._trailer)\n",
        "\n",
        "  def add_before(self, p, e):\n",
        "    original = self._validate(p)\n",
        "    return self._insert_between(e, original._prev, original)\n",
        "\n",
        "  def add_after(self, p, e):\n",
        "    original = self._validate(p)\n",
        "    return self._insert_between(e, original, original._next)\n",
        "  \n",
        "  def delete(self, p):\n",
        "    original = self._validate(p)\n",
        "    return self._delete_node(original) \n",
        "\n",
        "\n",
        "  def replace(self, p, e):\n",
        "    original = self._validate(p)\n",
        "    old_value = original._element\n",
        "    original._element = e \n",
        "    return old_value\n",
        "\n",
        "\n",
        "  def max(self):\n",
        "    max_element = self.first().element()\n",
        "    \n",
        "    if max_element is None:\n",
        "      raise Empty(\"The list is empty!\")\n",
        "    \n",
        "    for p in self:\n",
        "      if p > max_element:\n",
        "        max_element = p\n",
        "    \n",
        "    return max_element\n",
        "\n",
        "  def find(self, e):\n",
        "    p = self.first()\n",
        "    if p is None:\n",
        "      raise Empty(\"list is empty!!\")\n",
        "    while p:\n",
        "      if p.element() == e:\n",
        "        return p\n",
        "      p = self.after(p)\n",
        "    \n",
        "    return None\n",
        "\n",
        "  def move_to_front(self, p):\n",
        "    origin = self.delete(p)\n",
        "    return self.add_first(origin)\n"
      ],
      "metadata": {
        "id": "KLe_MjLi537A"
      },
      "execution_count": null,
      "outputs": []
    },
    {
      "cell_type": "code",
      "source": [
        "L = PositionalList()\n",
        "p1 = L.add_first(2)\n",
        "p2 = L.add_after(p1, 3)\n",
        "p3 = L.add_after(p2, 1)\n",
        "p4 = L.add_after(p3, 5)"
      ],
      "metadata": {
        "id": "Z620d0YU7Xug"
      },
      "execution_count": null,
      "outputs": []
    },
    {
      "cell_type": "code",
      "source": [
        "L.move_to_front(p4)"
      ],
      "metadata": {
        "colab": {
          "base_uri": "https://localhost:8080/"
        },
        "id": "TD6E2E6-hr0P",
        "outputId": "2d45aec9-8f20-445f-e120-df33cc2c16ec"
      },
      "execution_count": null,
      "outputs": [
        {
          "output_type": "execute_result",
          "data": {
            "text/plain": [
              "<__main__.PositionalList.Position at 0x7ff0f97198d0>"
            ]
          },
          "metadata": {},
          "execution_count": 195
        }
      ]
    },
    {
      "cell_type": "code",
      "source": [
        "for e in L:\n",
        "  print(e)"
      ],
      "metadata": {
        "colab": {
          "base_uri": "https://localhost:8080/"
        },
        "id": "vAAYhHIF86GJ",
        "outputId": "d0ef3371-a79a-46e6-f253-569905570899"
      },
      "execution_count": null,
      "outputs": [
        {
          "output_type": "stream",
          "name": "stdout",
          "text": [
            "5\n",
            "2\n",
            "3\n",
            "1\n"
          ]
        }
      ]
    },
    {
      "cell_type": "code",
      "source": [
        "for i in reversed(L):\n",
        "  print(i)"
      ],
      "metadata": {
        "colab": {
          "base_uri": "https://localhost:8080/"
        },
        "id": "YSX1mfPDFD3S",
        "outputId": "9a1017b5-0041-49b8-868b-d7ba2270b12f"
      },
      "execution_count": null,
      "outputs": [
        {
          "output_type": "stream",
          "name": "stdout",
          "text": [
            "5\n",
            "1\n",
            "3\n",
            "2\n"
          ]
        }
      ]
    },
    {
      "cell_type": "code",
      "source": [
        "#@title R-7.12\n",
        "#insert the following snippet as a method to the class PositionalList\n",
        "def max(self):\n",
        "  max_element = self.first().element()\n",
        "  \n",
        "  if max_element is None:\n",
        "    raise Empty(\"The list is empty!\")\n",
        "  \n",
        "  for p in self:\n",
        "    if p > max_element:\n",
        "      max_element = p\n",
        "  \n",
        "  return max_element"
      ],
      "metadata": {
        "id": "jABH3-Kp87dG"
      },
      "execution_count": null,
      "outputs": []
    },
    {
      "cell_type": "code",
      "source": [
        "L.max()"
      ],
      "metadata": {
        "colab": {
          "base_uri": "https://localhost:8080/"
        },
        "id": "fuKCefpP93xK",
        "outputId": "f9dce0d0-c727-4a15-80ec-b5bc4cf39e72"
      },
      "execution_count": null,
      "outputs": [
        {
          "output_type": "execute_result",
          "data": {
            "text/plain": [
              "5"
            ]
          },
          "metadata": {},
          "execution_count": 141
        }
      ]
    },
    {
      "cell_type": "code",
      "source": [
        "#@title R-7.13\n",
        "def find(self, e):\n",
        "    p = self.first()\n",
        "    if p is None:\n",
        "      raise Empty(\"list is empty!!\")\n",
        "    while p:\n",
        "      if p.element() == e:\n",
        "        return p\n",
        "      p = self.after(p)\n",
        "    \n",
        "    return None"
      ],
      "metadata": {
        "id": "z2cRK2Hr-DmG"
      },
      "execution_count": null,
      "outputs": []
    },
    {
      "cell_type": "code",
      "source": [
        "#@title R-7.14"
      ],
      "metadata": {
        "id": "k-y5IkwvAC0b"
      },
      "execution_count": null,
      "outputs": []
    },
    {
      "cell_type": "code",
      "source": [
        "#@title R-7.15\n",
        "def __reversed__(self):\n",
        "    cursor = self.last()\n",
        "    while cursor is not None:\n",
        "      yield cursor.element() \n",
        "      cursor = self.before(cursor)"
      ],
      "metadata": {
        "id": "UZkOHc5OEe-T"
      },
      "execution_count": null,
      "outputs": []
    },
    {
      "cell_type": "code",
      "source": [
        "#@title R-7.16\n",
        "def add_last(self, e):\n",
        "    if super().is_empty():\n",
        "      self.add_first(e)\n",
        "    else:\n",
        "      self.add_after(self.last(), e)\n",
        "\n",
        "def add_before(self, p, e):\n",
        "  original = self._validate(p)\n",
        "  self.add_after(self._make_position(original._prev), e)"
      ],
      "metadata": {
        "id": "Bi-WQcP3GDS-"
      },
      "execution_count": null,
      "outputs": []
    },
    {
      "cell_type": "code",
      "source": [
        "#@title R-7.17\n",
        "def move_to_front(self, p):\n",
        "    origin = self.delete(p)\n",
        "    return self.add_first(origin)"
      ],
      "metadata": {
        "id": "Rsvy3cvLKn8U"
      },
      "execution_count": null,
      "outputs": []
    },
    {
      "cell_type": "code",
      "source": [
        "#@title R-7.18\n",
        "L = FavoriteListMTF()\n",
        "list_of_access = [ 'a','b','c','d','e', 'f','a','c', 'f','b','d','e']\n",
        "for e in list_of_access:\n",
        "  L.access(e)\n",
        "\n",
        "for i in L.top(6):\n",
        "  print(i)"
      ],
      "metadata": {
        "colab": {
          "base_uri": "https://localhost:8080/"
        },
        "id": "p5xAmdRdaGJI",
        "outputId": "f85de625-84b4-40c5-f416-f849a841bdd4"
      },
      "execution_count": null,
      "outputs": [
        {
          "output_type": "stream",
          "name": "stdout",
          "text": [
            "e\n",
            "d\n",
            "b\n",
            "f\n",
            "c\n",
            "a\n"
          ]
        }
      ]
    },
    {
      "cell_type": "code",
      "source": [
        "#@title R-7.22\n",
        "def clear(self):\n",
        "    self._data = PositionalList()"
      ],
      "metadata": {
        "id": "gdqT-mWFiSJ2"
      },
      "execution_count": null,
      "outputs": []
    },
    {
      "cell_type": "code",
      "source": [
        "#@title R-7.23\n",
        "def reset_counts(self):\n",
        "    marker = self._data.first()\n",
        "    while marker.element() != self._data.last().element():\n",
        "      marker.element()._count = 0\n",
        "      marker = self._data.after(marker)\n"
      ],
      "metadata": {
        "id": "FAsHfg-9oFXL"
      },
      "execution_count": null,
      "outputs": []
    },
    {
      "cell_type": "markdown",
      "source": [
        "# Creativity"
      ],
      "metadata": {
        "id": "_K61g-emp8XU"
      }
    },
    {
      "cell_type": "code",
      "source": [
        "#@title C-7.24\n",
        "class LinkedStack:\n",
        "  class _Node:\n",
        "    __slot__ = '_element', '_next'\n",
        "    def __init__(self, element, next):\n",
        "      self._element = element\n",
        "      self._next = next\n",
        "  \n",
        "  def __init__(self):\n",
        "    self._header = self._Node(None, None) #header sentinel node\n",
        "    self._size = 0\n",
        "\n",
        "  def __len__(self):\n",
        "    return self._size\n",
        "  \n",
        "  def is_empty(self):\n",
        "    return self._size == 0\n",
        "\n",
        "  def push(self, e):\n",
        "    new_node = self._Node(e, self._header)\n",
        "    self._header = new_node\n",
        "    self._size += 1\n",
        "\n",
        "  def _top(self):\n",
        "    if self.is_empty():\n",
        "      Empty('The link list is empty!')\n",
        "\n",
        "    return self._header._element\n",
        "  \n",
        "  def pop(self):\n",
        "    \n",
        "    if self.is_empty():\n",
        "      Empty('The link list is empty!')\n",
        "\n",
        "    head = self._head\n",
        "    self._head = head._next\n",
        "    self._size -= 1\n",
        "    return head._element\n"
      ],
      "metadata": {
        "id": "jhfk0-a4p3wa"
      },
      "execution_count": null,
      "outputs": []
    },
    {
      "cell_type": "code",
      "source": [
        "#@title R-7.25\n",
        "class LinkedQueue:\n",
        "  class _Node:\n",
        "    __slot__ = '_element', '_next'\n",
        "    def __init__(self, element, next):\n",
        "      self._element = element\n",
        "      self._next = next\n",
        "  \n",
        "  def __init__(self):\n",
        "    self._header = self._Node(None, None) #header sentinel node\n",
        "    self._size = 0\n",
        "    self._tail = None\n",
        "    \n",
        "\n",
        "  def __len__(self):\n",
        "    return self._size\n",
        "  \n",
        "  def is_empty(self):\n",
        "    return self._size == 0\n",
        "\n",
        "  def enqueue(self, e):\n",
        "    new_node = self._Node(e, None)\n",
        "    if self.is_empty():\n",
        "      self._tail = new_node\n",
        "      self._header._next = self._tail\n",
        "    else:\n",
        "      self._tail._next = new_node\n",
        "    \n",
        "    self._tail = new_node\n",
        "    self._size += 1\n",
        "\n",
        "  def _first(self):\n",
        "    if self.is_empty():\n",
        "      Empty('The link list is empty!')\n",
        "\n",
        "    return self._header._next._element\n",
        "  \n",
        "  def dequeue(self):\n",
        "    \n",
        "    if self.is_empty():\n",
        "      Empty('The link list is empty!')\n",
        "\n",
        "    head = self._header._next._element\n",
        "    self._header._next = self._header._next._next\n",
        "    self._size -= 1\n",
        "    if self.is_empty():\n",
        "      self._tail = None\n",
        "    return head\n",
        "\n",
        "  def concatenate(self, Q2):\n",
        "    for _ in range(len(Q2)):\n",
        "      e = Q2.dequeue()\n",
        "      self.enqueue(e)\n"
      ],
      "metadata": {
        "id": "bUcxWrxz9mcg"
      },
      "execution_count": null,
      "outputs": []
    },
    {
      "cell_type": "code",
      "source": [
        "L = LinkedQueue()\n",
        "L.enqueue(3)\n",
        "L.enqueue(2)\n",
        "L.enqueue(5)\n",
        "L.enqueue(7)"
      ],
      "metadata": {
        "id": "UwCZc9S4Ao7r"
      },
      "execution_count": null,
      "outputs": []
    },
    {
      "cell_type": "code",
      "source": [
        "L.dequeue()"
      ],
      "metadata": {
        "colab": {
          "base_uri": "https://localhost:8080/"
        },
        "id": "7UPBqUviAxce",
        "outputId": "d7163fc0-88e1-4105-c092-87ff0f578ec4"
      },
      "execution_count": null,
      "outputs": [
        {
          "output_type": "execute_result",
          "data": {
            "text/plain": [
              "3"
            ]
          },
          "metadata": {},
          "execution_count": 245
        }
      ]
    },
    {
      "cell_type": "code",
      "source": [
        "#@title R-7.26\n",
        "def concatenate(self, Q2):\n",
        "    for _ in range(len(Q2)):\n",
        "      e = Q2.dequeue()\n",
        "      self.enqueue(e)"
      ],
      "metadata": {
        "id": "ohq9iGz1A8EO"
      },
      "execution_count": null,
      "outputs": []
    },
    {
      "cell_type": "code",
      "source": [
        "L = LinkedQueue()\n",
        "L.enqueue(3)\n",
        "L.enqueue(2)\n",
        "L.enqueue(5)\n",
        "L.enqueue(7)"
      ],
      "metadata": {
        "id": "hrOX7hFOEYQ2"
      },
      "execution_count": null,
      "outputs": []
    },
    {
      "cell_type": "code",
      "source": [
        "M = LinkedQueue()\n",
        "M.enqueue(30)\n",
        "M.enqueue(20)"
      ],
      "metadata": {
        "id": "KJMGVa4GEbEF"
      },
      "execution_count": null,
      "outputs": []
    },
    {
      "cell_type": "code",
      "source": [
        "L.concatenate(M)"
      ],
      "metadata": {
        "id": "GyYGIJ1wEenA"
      },
      "execution_count": null,
      "outputs": []
    },
    {
      "cell_type": "code",
      "source": [
        "len(M)"
      ],
      "metadata": {
        "colab": {
          "base_uri": "https://localhost:8080/"
        },
        "id": "H9VkxhxoEhry",
        "outputId": "2f726e34-67b5-42ac-c45e-c7325f457a1a"
      },
      "execution_count": null,
      "outputs": [
        {
          "output_type": "execute_result",
          "data": {
            "text/plain": [
              "0"
            ]
          },
          "metadata": {},
          "execution_count": 256
        }
      ]
    },
    {
      "cell_type": "code",
      "source": [
        "for i in range(len(L)):\n",
        "  print(L.dequeue())"
      ],
      "metadata": {
        "colab": {
          "base_uri": "https://localhost:8080/"
        },
        "id": "AVa2p7b2Ejcs",
        "outputId": "a427b922-b55e-4d79-bcd7-0aa0d2a544c4"
      },
      "execution_count": null,
      "outputs": [
        {
          "output_type": "stream",
          "name": "stdout",
          "text": [
            "3\n",
            "2\n",
            "5\n",
            "7\n",
            "30\n",
            "20\n"
          ]
        }
      ]
    },
    {
      "cell_type": "code",
      "source": [
        "#@title C-7.27\n"
      ],
      "metadata": {
        "id": "ZswdqoACErKK"
      },
      "execution_count": null,
      "outputs": []
    },
    {
      "cell_type": "code",
      "source": [
        "#@title C-7.28"
      ],
      "metadata": {
        "id": "6tJRVmT6E_MV"
      },
      "execution_count": null,
      "outputs": []
    },
    {
      "cell_type": "code",
      "source": [
        "#@title C-7.29\n",
        "import copy\n",
        "def reverse_singly_linked_list(L):\n",
        "  cur_node = L._head\n",
        "  next_pointer = cur_node._next\n",
        "  prev_node = cur_node\n",
        "  cur_node._next = None\n",
        "  for _ in range(len(L)-1):\n",
        "    prev_node = cur_node\n",
        "    cur_node = next_pointer\n",
        "    next_pointer = cur_node._next\n",
        "    \n",
        "    cur_node._next = prev_node\n",
        "    L._head = cur_node\n"
      ],
      "metadata": {
        "id": "GMUO-TShlmD2"
      },
      "execution_count": null,
      "outputs": []
    },
    {
      "cell_type": "code",
      "source": [
        "class SinglyLinkedList:\n",
        "  \n",
        "  class _Node:\n",
        "    def __init__(self, element, next):\n",
        "      self._element = element\n",
        "      self._next = next\n",
        "      \n",
        "\n",
        "  def __init__(self):\n",
        "    self._head = None\n",
        "    self._size = 0\n",
        "\n",
        "  def is_empty(self):\n",
        "    return self._size == 0\n",
        "  \n",
        "  def __len__(self):\n",
        "    return self._size\n",
        "    \n",
        "  def add_node(self, e):\n",
        "    #insert from head side\n",
        "    if self.is_empty():\n",
        "      self._head = self._Node(e, None)\n",
        "    else:\n",
        "      \n",
        "      new_node = self._Node(e, self._head)\n",
        "\n",
        "      self._head = new_node\n",
        "      # print(self._head._element, new_node._element)\n",
        "    self._size += 1\n",
        "  \n",
        "  def __iter__(self):\n",
        "    cur_node = self._head\n",
        "    while not cur_node is None:\n",
        "      yield cur_node._element\n",
        "      cur_node = cur_node._next"
      ],
      "metadata": {
        "id": "wEp67aJCsHMy"
      },
      "execution_count": null,
      "outputs": []
    },
    {
      "cell_type": "code",
      "source": [
        "#@title C-7.30\n",
        "class LinkedLeakyStack:\n",
        "  class _Node:\n",
        "    __slot__ = '_element', '_next'\n",
        "    def __init__(self, element, next):\n",
        "      self._element = element\n",
        "      self._next = next\n",
        "  \n",
        "  def __init__(self, max_capacity=None):\n",
        "    self._head = None\n",
        "    self._size = 0\n",
        "    self._cap = max_capacity\n",
        "    \n",
        "\n",
        "  def __len__(self):\n",
        "    return self._size\n",
        "  \n",
        "  def is_empty(self):\n",
        "    return self._size == 0\n",
        "\n",
        "  def push(self, e):\n",
        "    if not self._cap or self._size < self._cap:\n",
        "      self._head = self._Node(e, self._head)\n",
        "      self._size += 1\n",
        "    else:\n",
        "      self._head = self._Node(e, self._head)\n",
        "\n",
        "      #delete the oldest one which is tail node\n",
        "      cur_node, prev_node = self._head, None\n",
        "\n",
        "      for _ in range(self._size):\n",
        "        prev_node, cur_node = cur_node, cur_node._next\n",
        "      \n",
        "      prev_node._next = None  #make the second last node as tail node\n",
        "\n",
        "  def _top(self):\n",
        "    if self.is_empty():\n",
        "      Empty('The link list is empty!')\n",
        "\n",
        "    return self._head._element\n",
        "  \n",
        "  def pop(self):\n",
        "    \n",
        "    if self.is_empty():\n",
        "      Empty('The link list is empty!')\n",
        "\n",
        "    head = self._head\n",
        "    self._head = head._next\n",
        "    self._size -= 1\n",
        "    return head._element\n",
        "\n"
      ],
      "metadata": {
        "id": "PzgPc2jusLuG"
      },
      "execution_count": null,
      "outputs": []
    },
    {
      "cell_type": "code",
      "source": [
        "#@title C-7.31\n"
      ],
      "metadata": {
        "id": "fmgB__n7uiOu"
      },
      "execution_count": null,
      "outputs": []
    },
    {
      "cell_type": "code",
      "source": [
        "class PositionalList(CircularQueue):\n",
        "  class Position:\n",
        "    def __init__(self, container, node):\n",
        "      self._container = container\n",
        "      self._node = node\n",
        "    def element(self):\n",
        "      return self._node._element\n",
        "    def ــeqــ(self, other):\n",
        "      return type(other) is type(self) and other.ـnode is self.ـnode\n",
        "    def ــneــ(self, other):\n",
        "      return not (self == other) \n",
        "\n",
        "  def _validate(self, p):\n",
        "    if not isinstance(p, self.Position):\n",
        "      raise TypeError( 'p must be proper Position type' ) \n",
        "    if p._container is not self:\n",
        "      raise ValueError( 'p does not belong to this container' )\n",
        "    if p._node._next is None: \n",
        "      raise ValueError( 'p is no longer valid' ) \n",
        "    return p._node\n",
        "\n",
        "  def _make_position(self, node):\n",
        "    if node is None:\n",
        "      return None \n",
        "    else:\n",
        "      return self.Position(self, node)\n",
        "  \n",
        "  def first(self):\n",
        "    return self._make_position(self._tail._next)\n",
        "\n",
        "  def last(self):\n",
        "    return self._make_position(self._trailer)\n",
        "\n",
        "  def before(self, p):\n",
        "    node = self._validate(p)\n",
        "    return self._make_position(node._prev)\n",
        "  \n",
        "  def after(self, p):\n",
        "    node = self._validate(p)\n",
        "    \n",
        "    return self._make_position(node._next)\n",
        "\n",
        "  def __iter__(self):\n",
        "    cursor = self.first()\n",
        "    while cursor is not None:\n",
        "      yield cursor.element() \n",
        "      cursor = self.after(cursor)\n",
        "\n",
        "  def add_last(self, e):\n",
        "    self.enqueue(e)\n",
        "    return self._make_position(self._tail)\n",
        "  \n",
        "  def delete_last(self, p):\n",
        "    original = self._validate(p)\n",
        "    return self.dequeue(original)\n",
        "\n",
        "\n"
      ],
      "metadata": {
        "id": "Kmf-Bkrlv-FF"
      },
      "execution_count": null,
      "outputs": []
    },
    {
      "cell_type": "code",
      "source": [
        "class CircularQueue:\n",
        "  class _Node:\n",
        "    __slot__ = '_element', '_next'\n",
        "    def __init__(self, element, next):\n",
        "      self._element = element\n",
        "      self._next = next\n",
        "\n",
        "  def __init__(self):\n",
        "    self._tail = None\n",
        "    self._size = 0\n",
        "\n",
        "  def __len__(self):\n",
        "    return self._size\n",
        "  \n",
        "  def is_empty(self):\n",
        "    return self._size == 0\n",
        "\n",
        "  def enqueque(self, e):\n",
        "    \n",
        "    new_node = self._Node(e, None)\n",
        "    \n",
        "    if self.is_empty():\n",
        "      new_node._next = new_node\n",
        "    else:\n",
        "      new_node._next = self._tail._next\n",
        "      self._tail._next = new_node\n",
        "    self._tail = new_node\n",
        "    self._size += 1\n",
        "\n",
        "\n",
        "  def _first(self):\n",
        "    if self.is_empty():\n",
        "      Empty('The link list is empty!')\n",
        "\n",
        "    return self._tail._next._element\n",
        "\n",
        "  def dequeque(self):\n",
        "    \n",
        "    if self.is_empty():\n",
        "      Empty('The link list is empty!')\n",
        "\n",
        "    head = self._tail._next._element\n",
        "    self._tail._next = self._tail._next._next\n",
        "    self._size -= 1\n",
        "    if self.is_empty():\n",
        "      self._tail = None\n",
        "    return head\n",
        "\n",
        "  def rotate(self):\n",
        "    if self._size > 0:\n",
        "      self._tail = self._tail._next"
      ],
      "metadata": {
        "id": "KvMtNi8Nxosv"
      },
      "execution_count": null,
      "outputs": []
    },
    {
      "cell_type": "code",
      "source": [
        "#@title C-7.32\n",
        "class _DoublyLinkedBase:\n",
        "  class _Node:\n",
        "    __slot__ = '_element', '_next', '_prev'\n",
        "    def __init__(self, element, next, prev):\n",
        "      self._element = element\n",
        "      self._next = next\n",
        "      self._prev = prev\n",
        "  \n",
        "  def __init__(self):\n",
        "    self._header = self._Node(None, None, None)\n",
        "    self._trailer = self._Node(None, None, None)\n",
        "    self._header._next = self._trailer\n",
        "    self._trailer._prev = self._header\n",
        "    self._size = 0\n",
        "\n",
        "  def __len__(self):\n",
        "    return self._size\n",
        "  \n",
        "  def is_empty(self):\n",
        "    return self._size == 0\n",
        "  \n",
        "  def _insert_between(self, e, predecessor, successor):\n",
        "    \n",
        "    new_node = self._Node(e, successor, predecessor)\n",
        "    successor._prev = new_node\n",
        "    predecessor._next = new_node\n",
        "    self._size += 1\n",
        "    \n",
        "    return new_node\n",
        "\n",
        "  def _delete_node(self, node):\n",
        "    \n",
        "    predecessor = node._prev\n",
        "    successor = node._next\n",
        "    successor._prev = predecessor\n",
        "    predecessor._next = successor\n",
        "    self._size -= 1\n",
        "    element = node._element\n",
        "    node._element, node._prev, node._next = None, None, None\n",
        "    \n",
        "    return element\n",
        "\n",
        "  def reverse(self):\n",
        "    if self.is_empty():\n",
        "      raise Empty(\"The list is empty!!\")\n",
        "    \n",
        "    node_left = self._header._next\n",
        "    node_right = self._trailer._prev\n",
        "    for _ in range(self._size//2):\n",
        "      element_left = node_left._element\n",
        "      element_right = node_right._element\n",
        "      node_left._element = element_right\n",
        "      node_right._element = element_left\n",
        "\n",
        "      node_left = node_left._next\n",
        "      node_right = node_right._prev\n"
      ],
      "metadata": {
        "id": "yja7U9RUIPNW"
      },
      "execution_count": null,
      "outputs": []
    },
    {
      "cell_type": "code",
      "source": [
        "#@title C-7.33\n",
        "def reverse(self):\n",
        "    if self.is_empty():\n",
        "      raise Empty(\"The list is empty!!\")\n",
        "    \n",
        "    node_left = self._header._next\n",
        "    node_right = self._trailer._prev\n",
        "    for _ in range(self._size//2):\n",
        "      element_left = node_left._element\n",
        "      element_right = node_right._element\n",
        "      node_left._element = element_right\n",
        "      node_right._element = element_left\n",
        "\n",
        "      node_left = node_left._next\n",
        "      node_right = node_right._prev\n"
      ],
      "metadata": {
        "id": "aetH3FBlMCBF"
      },
      "execution_count": null,
      "outputs": []
    },
    {
      "cell_type": "code",
      "source": [
        "#@title C-7.34\n",
        "    \n",
        "class PositionalList(_DoublyLinkedBase):\n",
        "  class Position:\n",
        "    def __init__(self, container, node):\n",
        "      self._container = container\n",
        "      self._node = node\n",
        "    def element(self):\n",
        "      return self._node._element\n",
        "    def ــeqــ(self, other):\n",
        "      return type(other) is type(self) and other.ـnode is self.ـnode\n",
        "    def ــneــ(self, other):\n",
        "      return not (self == other) \n",
        "\n",
        "  def _validate(self, p):\n",
        "    if not isinstance(p, self.Position):\n",
        "      raise TypeError( 'p must be proper Position type' ) \n",
        "    if p._container is not self:\n",
        "      raise ValueError( 'p does not belong to this container' )\n",
        "    if p._node._next is None: \n",
        "      raise ValueError( 'p is no longer valid' ) \n",
        "    return p._node\n",
        "\n",
        "  def _make_position(self, node):\n",
        "    if node is self._header or node is self._trailer:\n",
        "      return None \n",
        "    else:\n",
        "      return self.Position(self, node)\n",
        "  \n",
        "  def first(self):\n",
        "    return self._make_position(self._header._next)\n",
        "\n",
        "  def last(self):\n",
        "    return self._make_position(self._trailer._prev)\n",
        "\n",
        "  def before(self, p):\n",
        "    node = self._validate(p)\n",
        "    return self._make_position(node._prev)\n",
        "  \n",
        "  def after(self, p):\n",
        "    node = self._validate(p)\n",
        "    \n",
        "    return self._make_position(node._next)\n",
        "\n",
        "  def __iter__(self):\n",
        "    cursor = self.first()\n",
        "    while cursor is not None:\n",
        "      yield cursor.element() \n",
        "      cursor = self.after(cursor)\n",
        "\n",
        "  def _insert_between(self, e, predecessor, successor):\n",
        "    node = super()._insert_between(e, predecessor, successor)\n",
        "    return self._make_position(node)\n",
        "\n",
        "  def add_first(self, e): \n",
        "    return self._insert_between(e, self._header, self._header._next)\n",
        "  \n",
        "  def add_last(self, e):\n",
        "    return self._insert_between(e, self._trailer._prev, self._trailer)\n",
        "\n",
        "  def add_before(self, p, e):\n",
        "    original = self._validate(p)\n",
        "    return self._insert_between(e, original._prev, original)\n",
        "\n",
        "  def add_after(self, p, e):\n",
        "    original = self._validate(p)\n",
        "    return self._insert_between(e, original, original._next)\n",
        "  \n",
        "  def delete(self, p):\n",
        "    original = self._validate(p)\n",
        "    return self._delete_node(original) \n",
        "\n",
        "  def replace(self, p, e):\n",
        "    original = self._validate(p)\n",
        "    old_value = original._element\n",
        "    original._element = e \n",
        "    return old_value\n",
        "\n",
        "  def swap(self, p, q):\n",
        "    '''This method swaos the position p and q given that p is positioned before q'''\n",
        "\n",
        "    if not self.after(p) or not self.before(q):\n",
        "      raise ValueError('The order of poisitons is not right!!')\n",
        "    \n",
        "\n",
        "    node_next_p = self._validate(self.after(p))\n",
        "\n",
        "    \n",
        "    node_prev_q = self._validate(self.before(q))\n",
        "\n",
        "    #recover the nodes\n",
        "    node_p = self._validate(p)\n",
        "    node_q = self._validate(q)\n",
        "    \n",
        "    #copy nodes into temproray nodes\n",
        "    temp_node_p = node_p\n",
        "    temp_next_p = node_p._next\n",
        "    temp_prev_p = node_p._prev\n",
        "\n",
        "    temp_node_q = node_q\n",
        "    temp_next_q = node_q._next\n",
        "    temp_prev_q = node_q._prev\n",
        "\n",
        "    #cond 2: p comes righ after q\n",
        "    if temp_next_p == node_q:\n",
        "      node_p._prev = temp_node_q\n",
        "      node_q._next = temp_node_p\n",
        "    else:\n",
        "      node_p._prev = temp_prev_q\n",
        "      node_q._next = temp_next_p\n",
        "      node_q._next._prev = node_q\n",
        "      node_p._prev._next = node_p\n",
        "\n",
        "\n",
        "    node_p._next = temp_next_q\n",
        "    node_q._prev = temp_prev_p\n",
        "    \n",
        "    # apply changes to neighbor of p an q\n",
        "    node_p._next._prev = node_p\n",
        "    node_q._prev._next = node_q\n",
        "\n",
        "\n",
        "\n",
        "\n",
        "    return self._make_position(node_p), self._make_position(node_q)\n"
      ],
      "metadata": {
        "id": "SBoGzj-XnpEP"
      },
      "execution_count": null,
      "outputs": []
    },
    {
      "cell_type": "code",
      "source": [
        "#@title C-7.35"
      ],
      "metadata": {
        "id": "u3ID59A0pclk"
      },
      "execution_count": null,
      "outputs": []
    },
    {
      "cell_type": "code",
      "source": [
        "#@title C-7.36\n",
        "\n",
        "class _DoublyLinkedBase:\n",
        "  '''Doubly linked list without sentianls at two sides'''\n",
        "  class _Node:\n",
        "    __slot__ = '_element', '_next', '_prev'\n",
        "    def __init__(self, element, next, prev):\n",
        "      self._element = element\n",
        "      self._next = next\n",
        "      self._prev = prev\n",
        "  \n",
        "  def __init__(self):\n",
        "    self._head = None\n",
        "    self._size = 0\n",
        "\n",
        "  def __len__(self):\n",
        "    return self._size\n",
        "  \n",
        "  def is_empty(self):\n",
        "    return self._size == 0\n",
        "  \n",
        "  def _insert_between(self, e, predecessor, successor):\n",
        "    \n",
        "    if predecessor is None:\n",
        "      new_node = self._Node(e, None, None)\n",
        "      self._head = new_node\n",
        "      return new_node\n",
        "\n",
        "    new_node = self._Node(e, successor, predecessor)\n",
        "\n",
        "    if successor:\n",
        "      successor._prev = new_node\n",
        "    \n",
        "    predecessor._next = new_node\n",
        "    self._size += 1\n",
        "    \n",
        "    return new_node\n",
        "\n",
        "  def _delete_node(self, node):\n",
        "    \n",
        "    predecessor = node._prev\n",
        "    successor = node._next\n",
        "\n",
        "    #the node is head node\n",
        "    if predecessor is None:\n",
        "      self._head = None\n",
        "    elif successor:\n",
        "      successor._prev = predecessor\n",
        "    \n",
        "    predecessor._next = successor\n",
        "    self._size -= 1\n",
        "    element = node._element\n",
        "    node._element, node._prev, node._next = None, None, None\n",
        "    \n",
        "    return element"
      ],
      "metadata": {
        "id": "wGDHaxPStP1s"
      },
      "execution_count": null,
      "outputs": []
    },
    {
      "cell_type": "code",
      "source": [
        "#@title C-7.37\n",
        "def find_value(L, V):\n",
        "  \n",
        "  p = []\n",
        "  x = []\n",
        "  v_x = []\n",
        "  \n",
        "  for e in L:\n",
        "    p.append(e[0])\n",
        "    x.append(e[1])\n",
        "    v_x.append(V - e[1])\n",
        "    if e[1] in v_x:\n",
        "      idx = v_x.index(e[1])\n",
        "      return e[0], p[idx]\n",
        "  \n",
        "  return None, None\n"
      ],
      "metadata": {
        "id": "9j41dgjM0bnT"
      },
      "execution_count": null,
      "outputs": []
    },
    {
      "cell_type": "code",
      "source": [
        "#@title C-7.38\n",
        "class _DoublyLinkedBase:\n",
        "  class _Node:\n",
        "    __slot__ = '_element', '_next', '_prev'\n",
        "    def __init__(self, element, next, prev):\n",
        "      self._element = element\n",
        "      self._next = next\n",
        "      self._prev = prev\n",
        "  \n",
        "  def __init__(self):\n",
        "    self._header = self._Node(None, None, None)\n",
        "    self._trailer = self._Node(None, None, None)\n",
        "    self._header._next = self._trailer\n",
        "    self._trailer._prev = self._header\n",
        "    self._size = 0\n",
        "\n",
        "  def __len__(self):\n",
        "    return self._size\n",
        "  \n",
        "  def is_empty(self):\n",
        "    return self._size == 0\n",
        "  \n",
        "  def _insert_between(self, e, predecessor, successor):\n",
        "    \n",
        "    new_node = self._Node(e, successor, predecessor)\n",
        "    successor._prev = new_node\n",
        "    predecessor._next = new_node\n",
        "    self._size += 1\n",
        "    \n",
        "    return new_node\n",
        "\n",
        "  def _delete_node(self, node):\n",
        "    \n",
        "    predecessor = node._prev\n",
        "    successor = node._next\n",
        "    successor._prev = predecessor\n",
        "    predecessor._next = successor\n",
        "    self._size -= 1\n",
        "    element = node._element\n",
        "    node._element, node._prev, node._next = None, None, None\n",
        "    \n",
        "    return element"
      ],
      "metadata": {
        "id": "9BJ6nFxPg-ig"
      },
      "execution_count": null,
      "outputs": []
    },
    {
      "cell_type": "code",
      "source": [
        "class PositionalList(_DoublyLinkedBase):\n",
        "  class Position:\n",
        "    def __init__(self, container, node):\n",
        "      self._container = container\n",
        "      self._node = node\n",
        "    def element(self):\n",
        "      return self._node._element\n",
        "    def ــeqــ(self, other):\n",
        "      return type(other) is type(self) and other.ـnode is self.ـnode\n",
        "    def ــneــ(self, other):\n",
        "      return not (self == other) \n",
        "\n",
        "\n",
        "  def _validate(self, p):\n",
        "    if not isinstance(p, self.Position):\n",
        "      raise TypeError( 'p must be proper Position type' ) \n",
        "    if p._container is not self:\n",
        "      raise ValueError( 'p does not belong to this container' )\n",
        "    if p._node._next is None: \n",
        "      raise ValueError( 'p is no longer valid' ) \n",
        "    return p._node\n",
        "\n",
        "  def _make_position(self, node):\n",
        "    if node is self._header or node is self._trailer:\n",
        "      return None \n",
        "    else:\n",
        "      return self.Position(self, node)\n",
        "  \n",
        "  def first(self):\n",
        "    return self._make_position(self._header._next)\n",
        "\n",
        "  def last(self):\n",
        "    return self._make_position(self._trailer._prev)\n",
        "\n",
        "  def before(self, p):\n",
        "    node = self._validate(p)\n",
        "    return self._make_position(node._prev)\n",
        "  \n",
        "  def after(self, p):\n",
        "    node = self._validate(p)\n",
        "    \n",
        "    return self._make_position(node._next)\n",
        "\n",
        "  def __iter__(self):\n",
        "    cursor = self.first()\n",
        "    while cursor is not None:\n",
        "      yield cursor\n",
        "      cursor = self.after(cursor)\n",
        "\n",
        "  def _insert_between(self, e, predecessor, successor):\n",
        "    node = super()._insert_between(e, predecessor, successor)\n",
        "    return self._make_position(node)\n",
        "\n",
        "  def add_first(self, e): \n",
        "    return self._insert_between(e, self._header, self._header._next)\n",
        "  \n",
        "  def add_last(self, e):\n",
        "    return self._insert_between(e, self._trailer._prev, self._trailer)\n",
        "\n",
        "  def add_before(self, p, e):\n",
        "    original = self._validate(p)\n",
        "    return self._insert_between(e, original._prev, original)\n",
        "\n",
        "  def add_after(self, p, e):\n",
        "    original = self._validate(p)\n",
        "    return self._insert_between(e, original, original._next)\n",
        "  \n",
        "  def delete(self, p):\n",
        "    original = self._validate(p)\n",
        "    return self._delete_node(original) \n",
        "\n",
        "  def replace(self, p, e):\n",
        "    original = self._validate(p)\n",
        "    old_value = original._element\n",
        "    original._element = e \n",
        "    return old_value\n",
        "\n",
        "  def swap(self, p, q):\n",
        "    '''This method swaos the position p and q given that p is positioned before q'''\n",
        "\n",
        "    if not self.after(p) or not self.before(q):\n",
        "      raise ValueError('The order of poisitons is not right!!')\n",
        "    \n",
        "\n",
        "    node_next_p = self._validate(self.after(p))\n",
        "\n",
        "    \n",
        "    node_prev_q = self._validate(self.before(q))\n",
        "\n",
        "    #recover the nodes\n",
        "    node_p = self._validate(p)\n",
        "    node_q = self._validate(q)\n",
        "    \n",
        "    #copy nodes into temproray nodes\n",
        "    temp_node_p = node_p\n",
        "    temp_next_p = node_p._next\n",
        "    temp_prev_p = node_p._prev\n",
        "\n",
        "    temp_node_q = node_q\n",
        "    temp_next_q = node_q._next\n",
        "    temp_prev_q = node_q._prev\n",
        "\n",
        "    #cond 2: p comes righ after q\n",
        "    if temp_next_p == node_q:\n",
        "      node_p._prev = temp_node_q\n",
        "      node_q._next = temp_node_p\n",
        "    else:\n",
        "      node_p._prev = temp_prev_q\n",
        "      node_q._next = temp_next_p\n",
        "      node_q._next._prev = node_q\n",
        "      node_p._prev._next = node_p\n",
        "\n",
        "\n",
        "    node_p._next = temp_next_q\n",
        "    node_q._prev = temp_prev_p\n",
        "    \n",
        "    # apply changes to neighbor of p an q\n",
        "    node_p._next._prev = node_p\n",
        "    node_q._prev._next = node_q\n",
        "\n",
        "    return self._make_position(node_p), self._make_position(node_q)\n"
      ],
      "metadata": {
        "id": "cCFcHrw65ata"
      },
      "execution_count": null,
      "outputs": []
    },
    {
      "cell_type": "code",
      "source": [
        "L = PositionalList()\n",
        "L.add_first(4)\n",
        "L.add_first(2)\n",
        "L.add_first(7)\n",
        "L.add_first(1)\n",
        "L.add_first(3)"
      ],
      "metadata": {
        "colab": {
          "base_uri": "https://localhost:8080/"
        },
        "id": "k1oMdGrN84vM",
        "outputId": "e69890c5-fb0f-4565-9b1f-8a72c7f9b131"
      },
      "execution_count": null,
      "outputs": [
        {
          "output_type": "execute_result",
          "data": {
            "text/plain": [
              "<__main__.PositionalList.Position at 0x7f61bb501690>"
            ]
          },
          "metadata": {},
          "execution_count": 276
        }
      ]
    },
    {
      "cell_type": "code",
      "source": [
        "def bubble_sort(L):\n",
        "  for _ in range(len(L)):\n",
        "    for e in L:\n",
        "      if  L.after(e) and e.element() > L.after(e).element():\n",
        "        L.swap(e, L.after(e))"
      ],
      "metadata": {
        "id": "onUoTVrx9kB3"
      },
      "execution_count": null,
      "outputs": []
    },
    {
      "cell_type": "code",
      "source": [
        "bubble_sort(L)"
      ],
      "metadata": {
        "id": "MJlciL3r_Gcg"
      },
      "execution_count": null,
      "outputs": []
    },
    {
      "cell_type": "code",
      "source": [
        "#@title C-7.39\n",
        "class PositionalQueue(PositionalList):\n",
        "  def enqueue(self, e):\n",
        "    return self.add_last(e)\n",
        "  \n",
        "  def dequeue(self, p):\n",
        "    last_pos = self.last()\n",
        "    self.delete(last_pos)\n",
        "    return last_pos"
      ],
      "metadata": {
        "id": "XxELkI-K_IdD"
      },
      "execution_count": null,
      "outputs": []
    },
    {
      "cell_type": "code",
      "source": [
        "#@title C-7.40\n",
        "class FavoriteList:\n",
        "  class _Item:\n",
        "    __slots__ = '_value', '_count', '_access'\n",
        "    def __init__(self, e):\n",
        "      self._value = e\n",
        "      self._count = 0\n",
        "      self._access = 0\n",
        "  \n",
        "  def _find_position(self, e):\n",
        "    walk = self._data.first()\n",
        "    while walk is not None and walk.element()._value != e:\n",
        "      walk = self._data.after(walk)\n",
        "    return walk\n",
        "  \n",
        "  def _move_up(self, p):\n",
        "    if p.element() != self._data.first().element():\n",
        "      cnt = p.element()._count\n",
        "      walk = self._data.before(p)\n",
        "      if cnt > walk.element()._count:\n",
        "        while (walk.element() != self._data.first().element() and cnt > self._data.before(walk).element()._count):\n",
        "          walk = self._data.before(walk)\n",
        "        self._data.add_before(walk, self._data.delete(p))\n",
        "\n",
        "  def __init__(self, n):\n",
        "    self._data = PositionalList()\n",
        "    self._n = n\n",
        "  \n",
        "  def __len__(self):\n",
        "    return len(self._data)\n",
        "  \n",
        "  def is_empty(self):\n",
        "    return len(self._data) == 0\n",
        "  \n",
        "  def access(self, e):\n",
        "    p = self._find_position(e)\n",
        "\n",
        "    if p is None:\n",
        "      p = self._data.add_last(self._Item(e))\n",
        "    \n",
        "    p.element()._access = 0\n",
        "    \n",
        "    p.element()._count += 1\n",
        "    \n",
        "    walk = self._data.first()\n",
        "    while not walk is None:\n",
        "      \n",
        "      if walk.element()._value != p.element()._value:\n",
        "        walk.element()._access += 1\n",
        "        if walk.element()._access >= self._n:\n",
        "          walk.element()._count = 0\n",
        "      \n",
        "      walk = self._data.after(walk)\n",
        "      \n",
        "    self._move_up(p)\n",
        "      \n",
        "\n",
        "  \n",
        "  def remove(self, e):\n",
        "    p = self._find_position(e)\n",
        "    if p is not None:\n",
        "      self._data.delete(p)\n",
        "  \n",
        "  def top(self, k):\n",
        "    if not 1 <= k <= len(self):\n",
        "      raise ValueError('Illegal value for k!')\n",
        "    walk = self._data.first()\n",
        "    for j in range(k):\n",
        "      item = walk.element()\n",
        "      yield item._value\n",
        "      walk = self._data.after(walk)\n",
        "\n",
        "  def clear(self):\n",
        "    self._data = PositionalList()\n",
        "\n",
        "  def reset_counts(self):\n",
        "    marker = self._data.first()\n",
        "    while marker.element() != self._data.last().element():\n",
        "      marker.element()._count = 0\n",
        "      marker = self._data.after(marker)"
      ],
      "metadata": {
        "id": "_GeVuzwo8pzZ"
      },
      "execution_count": null,
      "outputs": []
    },
    {
      "cell_type": "code",
      "source": [
        "L = FavoriteList(3)"
      ],
      "metadata": {
        "id": "n7SOj2xRB9g4"
      },
      "execution_count": null,
      "outputs": []
    },
    {
      "cell_type": "code",
      "source": [
        "#@title C.7-41\n"
      ],
      "metadata": {
        "id": "a75xM6LuJ02t"
      },
      "execution_count": null,
      "outputs": []
    },
    {
      "cell_type": "code",
      "source": [
        "#@title C.7-42\n"
      ],
      "metadata": {
        "id": "6PuH7KvB9Qe2"
      },
      "execution_count": null,
      "outputs": []
    },
    {
      "cell_type": "code",
      "source": [
        "#@title C.7-43\n"
      ],
      "metadata": {
        "id": "pU0x9qQm9PqD"
      },
      "execution_count": null,
      "outputs": []
    },
    {
      "cell_type": "markdown",
      "source": [
        "# Projects"
      ],
      "metadata": {
        "id": "qB_0Z7kA9Ueo"
      }
    },
    {
      "cell_type": "code",
      "source": [
        "#@title P.7-44"
      ],
      "metadata": {
        "id": "iNAl4CRD9V4Q"
      },
      "execution_count": null,
      "outputs": []
    },
    {
      "cell_type": "code",
      "source": [
        "#@title P.7-45"
      ],
      "metadata": {
        "id": "o55KurgQ9Zqa"
      },
      "execution_count": null,
      "outputs": []
    },
    {
      "cell_type": "code",
      "source": [
        "#@title P.7-46"
      ],
      "metadata": {
        "id": "2yIBvou99aat"
      },
      "execution_count": null,
      "outputs": []
    },
    {
      "cell_type": "code",
      "source": [
        "#@title P.7-47"
      ],
      "metadata": {
        "id": "Lwhc_zjO9baP"
      },
      "execution_count": null,
      "outputs": []
    }
  ],
  "metadata": {
    "colab": {
      "provenance": [],
      "authorship_tag": "ABX9TyNEkrkdj1FxXLPmHC/ZP2+P",
      "include_colab_link": true
    },
    "kernelspec": {
      "display_name": "Python 3",
      "name": "python3"
    },
    "language_info": {
      "name": "python"
    }
  },
  "nbformat": 4,
  "nbformat_minor": 0
}