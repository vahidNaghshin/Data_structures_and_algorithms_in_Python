{
  "nbformat": 4,
  "nbformat_minor": 0,
  "metadata": {
    "colab": {
      "provenance": [],
      "authorship_tag": "ABX9TyP8FnQMX89jcqfVtdg3nd3i",
      "include_colab_link": true
    },
    "kernelspec": {
      "name": "python3",
      "display_name": "Python 3"
    },
    "language_info": {
      "name": "python"
    }
  },
  "cells": [
    {
      "cell_type": "markdown",
      "metadata": {
        "id": "view-in-github",
        "colab_type": "text"
      },
      "source": [
        "<a href=\"https://colab.research.google.com/github/vahidNaghshin/Data_structures_and_algorithms_in_Python/blob/main/Data_structures_and_algorithms_in_Python_Chapter_6.ipynb\" target=\"_parent\"><img src=\"https://colab.research.google.com/assets/colab-badge.svg\" alt=\"Open In Colab\"/></a>"
      ]
    },
    {
      "cell_type": "code",
      "execution_count": null,
      "metadata": {
        "id": "_2ZxvoiJcxOz"
      },
      "outputs": [],
      "source": [
        "class Empty(Exception):\n",
        "  pass"
      ]
    },
    {
      "cell_type": "code",
      "source": [
        "class ArrayStack:\n",
        "  \"\"\"An array stack with python list ADT as the core data structure\"\"\"\n",
        "  \n",
        "  def __init__(self):\n",
        "    self._data = []\n",
        "  \n",
        "  def __len__(self):\n",
        "    return len(self._data)\n",
        "  \n",
        "  def _is_empty(self):\n",
        "    return len(self) == 0\n",
        "  \n",
        "  def push(self, e):\n",
        "    self._data.append(e)\n",
        "\n",
        "  def _top(self):\n",
        "\n",
        "    if self._is_empty():\n",
        "      Empty('stack is empty')\n",
        "    \n",
        "    return self._data[-1]\n",
        "\n",
        "  def pop(self):\n",
        "\n",
        "    if self._is_empty():\n",
        "      raise Empty('stack is empty')\n",
        "    \n",
        "    return self._data.pop()\n",
        "\n",
        "  "
      ],
      "metadata": {
        "id": "0ZEghF3Ytxx5"
      },
      "execution_count": null,
      "outputs": []
    },
    {
      "cell_type": "code",
      "source": [
        "s=[1,2,3,4]\n",
        "s.pop()"
      ],
      "metadata": {
        "colab": {
          "base_uri": "https://localhost:8080/"
        },
        "id": "jYFBRH-xunfI",
        "outputId": "3afc3a47-301b-41f9-ff29-cf7aafb75bd7"
      },
      "execution_count": null,
      "outputs": [
        {
          "output_type": "execute_result",
          "data": {
            "text/plain": [
              "4"
            ]
          },
          "metadata": {},
          "execution_count": 5
        }
      ]
    },
    {
      "cell_type": "code",
      "source": [
        "def reverse_file(file_path):\n",
        "  S = ArrayStack()\n",
        "\n",
        "  original = open(file_path)\n",
        "  for line in original:\n",
        "    S.push(line.rstrip('\\n'))\n",
        "  original.close()\n",
        "\n",
        "  output = open(file_path, 'w')\n",
        "  \n",
        "  while not S._is_empty():\n",
        "    output.write(S.pop()+'\\n')\n",
        "  \n",
        "  output.close()"
      ],
      "metadata": {
        "id": "1T3GFX1IuqPE"
      },
      "execution_count": null,
      "outputs": []
    },
    {
      "cell_type": "code",
      "source": [
        "reverse_file('/content/sample_data/README.md')"
      ],
      "metadata": {
        "id": "6T6EWDOpxLtN"
      },
      "execution_count": null,
      "outputs": []
    },
    {
      "cell_type": "code",
      "source": [
        "f = open('/content/sample_data/README.md')\n",
        "for line in f:\n",
        "  print(line)"
      ],
      "metadata": {
        "colab": {
          "base_uri": "https://localhost:8080/"
        },
        "id": "lLLPG6HkxV-q",
        "outputId": "778c4f1a-0248-4b88-ab0c-9dc658bd447b"
      },
      "execution_count": null,
      "outputs": [
        {
          "output_type": "stream",
          "name": "stdout",
          "text": [
            "This directory includes a few sample datasets to get you started.\n",
            "\n",
            "\n",
            "\n",
            "*   `california_housing_data*.csv` is California housing data from the 1990 US\n",
            "\n",
            "    Census; more information is available at:\n",
            "\n",
            "    https://developers.google.com/machine-learning/crash-course/california-housing-data-description\n",
            "\n",
            "\n",
            "\n",
            "*   `mnist_*.csv` is a small sample of the\n",
            "\n",
            "    [MNIST database](https://en.wikipedia.org/wiki/MNIST_database), which is\n",
            "\n",
            "    described at: http://yann.lecun.com/exdb/mnist/\n",
            "\n",
            "\n",
            "\n",
            "*   `anscombe.json` contains a copy of\n",
            "\n",
            "    [Anscombe's quartet](https://en.wikipedia.org/wiki/Anscombe%27s_quartet); it\n",
            "\n",
            "    was originally described in\n",
            "\n",
            "\n",
            "\n",
            "    Anscombe, F. J. (1973). 'Graphs in Statistical Analysis'. American\n",
            "\n",
            "    Statistician. 27 (1): 17-21. JSTOR 2682899.\n",
            "\n",
            "\n",
            "\n",
            "    and our copy was prepared by the\n",
            "\n",
            "    [vega_datasets library](https://github.com/altair-viz/vega_datasets/blob/4f67bdaad10f45e3549984e17e1b3088c731503d/vega_datasets/_data/anscombe.json).\n",
            "\n"
          ]
        }
      ]
    },
    {
      "cell_type": "code",
      "source": [
        "def is_matched(expr):\n",
        "  lefty = '({['\n",
        "  righty = ')}]'\n",
        "  S = ArrayStack()\n",
        "  for c in expr:\n",
        "    if c in righty:\n",
        "      if S._is_empty():\n",
        "        return False\n",
        "      else:\n",
        "        if lefty.index(S.pop()) != righty.index(c):\n",
        "          return False\n",
        "    else:\n",
        "      S.push(c)\n",
        "\n",
        "  return S._is_empty()"
      ],
      "metadata": {
        "id": "qUNYzuloxdbB"
      },
      "execution_count": null,
      "outputs": []
    },
    {
      "cell_type": "code",
      "source": [
        "expr = '((()(()){([()])}))'\n",
        "\n",
        "is_matched(expr)"
      ],
      "metadata": {
        "colab": {
          "base_uri": "https://localhost:8080/"
        },
        "id": "BNvdY-br0vFe",
        "outputId": "faab48a4-cf9f-49fb-e789-ab79a55ebe52"
      },
      "execution_count": null,
      "outputs": [
        {
          "output_type": "execute_result",
          "data": {
            "text/plain": [
              "True"
            ]
          },
          "metadata": {},
          "execution_count": 33
        }
      ]
    },
    {
      "cell_type": "code",
      "source": [
        "def is_match_html(html_file):\n",
        "  S = ArrayStack()\n",
        "  j = html_file.find('<')\n",
        "  while j != -1:\n",
        "    k = html_file.find('>', j+1)\n",
        "    if k == -1:\n",
        "      return False\n",
        "    else:\n",
        "      tag = html_file[j+1:k]\n",
        "      if tag.startswith('/'):\n",
        "        if S._is_empty():\n",
        "          return False\n",
        "        else:\n",
        "          if S.pop() != tag[1:]:\n",
        "            return False\n",
        "      else:\n",
        "        S.push(tag)\n",
        "    j = html_file.find('<', k+1)\n",
        "  \n",
        "  return S._is_empty()\n"
      ],
      "metadata": {
        "id": "uRb3L6lH02fA"
      },
      "execution_count": null,
      "outputs": []
    },
    {
      "cell_type": "code",
      "source": [
        "html_file = '<body>\\\n",
        "<center>\\\n",
        "<h1> The Little Boat </h1>\\\n",
        "</center>\\\n",
        "<p> The storm tossed the little\\\n",
        "boat like a cheap sneaker in an\\\n",
        "old washing machine. The three\\\n",
        "drunken fishermen were used to\\\n",
        "such treatment, of course, but\\\n",
        "not the tree salesman, who even as\\\n",
        "a stowaway now felt that he\\\n",
        "had overpaid for the voyage. </p> a stowaway now felt that he had <ol>\\\n",
        "<li> Will the salesman die? </li>\\\n",
        "<li> What color is the boat? </li>\\\n",
        "<li> And what about Naomi? </li>\\\n",
        "</ol>\\\n",
        "</body>'\n",
        "\n",
        "is_match_html(html_file)"
      ],
      "metadata": {
        "colab": {
          "base_uri": "https://localhost:8080/"
        },
        "id": "FaENmGZ253t9",
        "outputId": "d9394406-3335-47f3-882e-b1b653b43834"
      },
      "execution_count": null,
      "outputs": [
        {
          "output_type": "execute_result",
          "data": {
            "text/plain": [
              "True"
            ]
          },
          "metadata": {},
          "execution_count": 43
        }
      ]
    },
    {
      "cell_type": "code",
      "source": [
        "class ArrayQueue:\n",
        "  \"\"\"Implementation of queue\"\"\"\n",
        "  QUEUE_SIZE = 10\n",
        "  def __init__(self):\n",
        "    self._data = [None]* ArrayQueue.QUEUE_SIZE\n",
        "    self._front = 0\n",
        "    self._size = 0\n",
        "  \n",
        "  def __len__(self):\n",
        "    return self._size\n",
        "  \n",
        "  def _is_empty(self):\n",
        "    return self._size == 0\n",
        "  \n",
        "  def first(self):\n",
        "    \"\"\"return the first element of the queue but does not remove it from the queue\"\"\"\n",
        "    if self._is_empty():\n",
        "      raise Empty('The queue is empty!!')\n",
        "\n",
        "    return self._data[self._front]\n",
        "\n",
        "  def dequeue(self):\n",
        "    if self._is_empty():\n",
        "      raise Empty('The queue is empty!!')\n",
        "\n",
        "    temp = self.first()\n",
        "    \n",
        "    self._data[self._front] = None\n",
        "    self._size -= 1 \n",
        "    self._front = (self._front+1) % len(self._data)\n",
        "\n",
        "    if 0 < self._size < len(self._data) // 4: \n",
        "      self._resize(len(self._data) // 2)\n",
        "    \n",
        "    return temp\n",
        "\n",
        "  def enqueue(self, e):\n",
        "    if self._size == len(self._data):\n",
        "      self._resize(2 * len(self._data))\n",
        "    avail = (self._front + self._size) % len(self._data)\n",
        "    self._data[avail] = e\n",
        "    self._size += 1\n",
        "    \n",
        "  # def _resize(self, c):\n",
        "  #   self._array = [None] * c\n",
        "  #   j = self._front\n",
        "  #   for i in range(self._size):\n",
        "  #     self._array[i] = self._data[(j+1)%len(self._data)]\n",
        "  #   self._data = self._array\n",
        "  #   self._front = 0\n",
        "\n",
        "\n",
        "  def _resize(self, cap): \n",
        "    old = self. data\n",
        "    self._data = [None]*cap \n",
        "    walk = self._front\n",
        "    for k in range(self._size):\n",
        "      self._data[k] = old[walk]\n",
        "      walk = (1 + walk) % len(old)\n",
        "    self._front = 0"
      ],
      "metadata": {
        "id": "PH6cB0qi7W9Y"
      },
      "execution_count": null,
      "outputs": []
    },
    {
      "cell_type": "code",
      "source": [
        "q = ArrayQueue()"
      ],
      "metadata": {
        "id": "WvR_7Lfvpkg8"
      },
      "execution_count": null,
      "outputs": []
    },
    {
      "cell_type": "code",
      "source": [
        "from collections import deque\n",
        "a = deque()"
      ],
      "metadata": {
        "id": "nWEnz05xplgH"
      },
      "execution_count": null,
      "outputs": []
    },
    {
      "cell_type": "code",
      "source": [
        "len(a)"
      ],
      "metadata": {
        "colab": {
          "base_uri": "https://localhost:8080/"
        },
        "id": "9Rx4M5qSwS_1",
        "outputId": "7e74e065-4e7c-4379-d2cd-eeb48b14ae16"
      },
      "execution_count": null,
      "outputs": [
        {
          "output_type": "execute_result",
          "data": {
            "text/plain": [
              "0"
            ]
          },
          "metadata": {},
          "execution_count": 39
        }
      ]
    },
    {
      "cell_type": "code",
      "source": [
        "a.append(1)"
      ],
      "metadata": {
        "id": "a3TnoZwZwVQe"
      },
      "execution_count": null,
      "outputs": []
    },
    {
      "cell_type": "code",
      "source": [
        "a.append(2)"
      ],
      "metadata": {
        "id": "OkZaci0swZCe"
      },
      "execution_count": null,
      "outputs": []
    },
    {
      "cell_type": "code",
      "source": [
        "a.pop()"
      ],
      "metadata": {
        "colab": {
          "base_uri": "https://localhost:8080/"
        },
        "id": "78FBU8GMwbBG",
        "outputId": "bffef9a6-2258-4a10-be0a-b5ab37c0f958"
      },
      "execution_count": null,
      "outputs": [
        {
          "output_type": "execute_result",
          "data": {
            "text/plain": [
              "2"
            ]
          },
          "metadata": {},
          "execution_count": 42
        }
      ]
    },
    {
      "cell_type": "code",
      "source": [
        "a.append()"
      ],
      "metadata": {
        "colab": {
          "base_uri": "https://localhost:8080/",
          "height": 164
        },
        "id": "UjaWyQGFwePI",
        "outputId": "ea41c2e1-88ff-421e-eb8f-22b1e3f68ff4"
      },
      "execution_count": null,
      "outputs": [
        {
          "output_type": "error",
          "ename": "NameError",
          "evalue": "ignored",
          "traceback": [
            "\u001b[0;31m---------------------------------------------------------------------------\u001b[0m",
            "\u001b[0;31mNameError\u001b[0m                                 Traceback (most recent call last)",
            "\u001b[0;32m<ipython-input-1-345ac4668da7>\u001b[0m in \u001b[0;36m<module>\u001b[0;34m\u001b[0m\n\u001b[0;32m----> 1\u001b[0;31m \u001b[0ma\u001b[0m\u001b[0;34m.\u001b[0m\u001b[0mappend\u001b[0m\u001b[0;34m(\u001b[0m\u001b[0;34m)\u001b[0m\u001b[0;34m\u001b[0m\u001b[0;34m\u001b[0m\u001b[0m\n\u001b[0m",
            "\u001b[0;31mNameError\u001b[0m: name 'a' is not defined"
          ]
        }
      ]
    },
    {
      "cell_type": "markdown",
      "source": [
        "# Reinforcement"
      ],
      "metadata": {
        "id": "5dZCAGHxxGNn"
      }
    },
    {
      "cell_type": "code",
      "source": [
        "#@title R-6.3\n",
        "def transfer(S, T):\n",
        "  \"\"\"ransfers all elements from stack S onto stack T, so that the element that starts \n",
        "  at the top of S is the first to be inserted onto T, \n",
        "  and the element at the bottom of S ends up at the top of T.\"\"\"\n",
        "  if S._is_empty():\n",
        "    return\n",
        "  \n",
        "  for _ in range(len(S)):\n",
        "    T.push(S.pop()) "
      ],
      "metadata": {
        "id": "hKJX2kWsxEFD"
      },
      "execution_count": null,
      "outputs": []
    },
    {
      "cell_type": "code",
      "source": [
        "S = ArrayStack()\n",
        "T = ArrayStack()"
      ],
      "metadata": {
        "id": "Oh86wzTuyLnB"
      },
      "execution_count": null,
      "outputs": []
    },
    {
      "cell_type": "code",
      "source": [
        "S.push(1)\n",
        "S.push(4)\n",
        "S.push(0)\n",
        "S.push(10)"
      ],
      "metadata": {
        "id": "d_WK3o5HyPqq"
      },
      "execution_count": null,
      "outputs": []
    },
    {
      "cell_type": "code",
      "source": [
        "transfer(S, T)"
      ],
      "metadata": {
        "id": "ohsxYlV3yWX9"
      },
      "execution_count": null,
      "outputs": []
    },
    {
      "cell_type": "code",
      "source": [
        "for _ in range(len(T)):\n",
        "  print(T.pop())"
      ],
      "metadata": {
        "colab": {
          "base_uri": "https://localhost:8080/"
        },
        "id": "NHLpy5-0yers",
        "outputId": "81b73546-2249-4f74-b345-41776ac2b979"
      },
      "execution_count": null,
      "outputs": [
        {
          "output_type": "stream",
          "name": "stdout",
          "text": [
            "1\n",
            "4\n",
            "0\n",
            "10\n"
          ]
        }
      ]
    },
    {
      "cell_type": "code",
      "source": [
        "#@title R-6.4\n",
        "def remove(S):\n",
        "  if len(S) == 1:\n",
        "    S.pop()\n",
        "  else:\n",
        "    S.pop()\n",
        "    remove(S)"
      ],
      "metadata": {
        "id": "QLbq93kSylB8"
      },
      "execution_count": null,
      "outputs": []
    },
    {
      "cell_type": "code",
      "source": [
        "S = ArrayStack()\n",
        "S.push(1)\n",
        "S.push(4)\n",
        "S.push(0)\n",
        "S.push(10)\n",
        "S._data"
      ],
      "metadata": {
        "colab": {
          "base_uri": "https://localhost:8080/"
        },
        "id": "L6sykwftz7j3",
        "outputId": "0ca2c401-47a4-48ac-ac15-1b6d5afe5b72"
      },
      "execution_count": null,
      "outputs": [
        {
          "output_type": "execute_result",
          "data": {
            "text/plain": [
              "[1, 4, 0, 10]"
            ]
          },
          "metadata": {},
          "execution_count": 34
        }
      ]
    },
    {
      "cell_type": "code",
      "source": [
        "remove(S)\n",
        "S._data"
      ],
      "metadata": {
        "colab": {
          "base_uri": "https://localhost:8080/"
        },
        "id": "4j6I5gvP0AqF",
        "outputId": "691a050e-5ef9-4caf-b19b-19d189c2269b"
      },
      "execution_count": null,
      "outputs": [
        {
          "output_type": "execute_result",
          "data": {
            "text/plain": [
              "[]"
            ]
          },
          "metadata": {},
          "execution_count": 35
        }
      ]
    },
    {
      "cell_type": "code",
      "source": [
        "#@title R-6.5\n",
        "def reverse_list(seq):\n",
        "  S = ArrayStack()\n",
        "  for i in range(len(seq)):\n",
        "    S.push(seq[i])\n",
        "  \n",
        "  result = []\n",
        "  for i in range(len(seq)):\n",
        "    result.append(S.pop())\n",
        "  \n",
        "  return result\n"
      ],
      "metadata": {
        "id": "UnhAKPp90Cjn"
      },
      "execution_count": null,
      "outputs": []
    },
    {
      "cell_type": "code",
      "source": [
        "seq = [2,3,4,5,6,7]\n",
        "reverse_list(seq)"
      ],
      "metadata": {
        "colab": {
          "base_uri": "https://localhost:8080/"
        },
        "id": "QSRSYq6m1IOf",
        "outputId": "69cd2c4b-6b56-4b38-f6f0-652545914e21"
      },
      "execution_count": null,
      "outputs": [
        {
          "output_type": "execute_result",
          "data": {
            "text/plain": [
              "[7, 6, 5, 4, 3, 2]"
            ]
          },
          "metadata": {},
          "execution_count": 37
        }
      ]
    },
    {
      "cell_type": "code",
      "source": [
        "#@title R-6.11\n",
        "from collections import deque\n",
        "\n",
        "class ArrayQueue:\n",
        "  def __init__(self):\n",
        "    self._data = deque()\n",
        "  \n",
        "  def enqueue(self, value):\n",
        "    self._data.append(value)\n",
        "  \n",
        "  def dequeue(self):\n",
        "    return self._data.popleft()\n",
        "  \n",
        "  def __len__(self):\n",
        "    return len(self._data)\n",
        "  \n",
        "  def _is_empty(self):\n",
        "    return len(self._data) == 0\n",
        "  \n",
        "  def first(self):\n",
        "    return self._data[0]"
      ],
      "metadata": {
        "id": "5FIzhvHa1L61"
      },
      "execution_count": null,
      "outputs": []
    },
    {
      "cell_type": "code",
      "source": [
        "a = ArrayQueue()"
      ],
      "metadata": {
        "id": "4OF2om9O3S9k"
      },
      "execution_count": null,
      "outputs": []
    },
    {
      "cell_type": "code",
      "source": [
        "a.enqueue(1)\n",
        "a.enqueue(2)\n",
        "a.enqueue(3)\n",
        "a.enqueue(4)"
      ],
      "metadata": {
        "id": "Ba7Ep9F03VzL"
      },
      "execution_count": null,
      "outputs": []
    },
    {
      "cell_type": "code",
      "source": [
        "len(a)"
      ],
      "metadata": {
        "colab": {
          "base_uri": "https://localhost:8080/"
        },
        "id": "_yDIprIT3aZW",
        "outputId": "9077fdae-abd6-474d-98c1-d7439240f086"
      },
      "execution_count": null,
      "outputs": [
        {
          "output_type": "execute_result",
          "data": {
            "text/plain": [
              "4"
            ]
          },
          "metadata": {},
          "execution_count": 60
        }
      ]
    },
    {
      "cell_type": "code",
      "source": [
        "a._is_empty()"
      ],
      "metadata": {
        "colab": {
          "base_uri": "https://localhost:8080/"
        },
        "id": "ubRiqF3W3ba2",
        "outputId": "875b72d8-8d5c-4a23-c15b-191626d41ca6"
      },
      "execution_count": null,
      "outputs": [
        {
          "output_type": "execute_result",
          "data": {
            "text/plain": [
              "False"
            ]
          },
          "metadata": {},
          "execution_count": 61
        }
      ]
    },
    {
      "cell_type": "code",
      "source": [
        "a.first()"
      ],
      "metadata": {
        "colab": {
          "base_uri": "https://localhost:8080/"
        },
        "id": "4htiCv2_3ebQ",
        "outputId": "39ddbc21-d50b-4254-d716-c4ca35f7cb1c"
      },
      "execution_count": null,
      "outputs": [
        {
          "output_type": "execute_result",
          "data": {
            "text/plain": [
              "1"
            ]
          },
          "metadata": {},
          "execution_count": 62
        }
      ]
    },
    {
      "cell_type": "code",
      "source": [
        "a._data"
      ],
      "metadata": {
        "colab": {
          "base_uri": "https://localhost:8080/"
        },
        "id": "ShrQNxjx3pY6",
        "outputId": "64dbfbf0-c202-4ccf-acf8-d81ff9e70e40"
      },
      "execution_count": null,
      "outputs": [
        {
          "output_type": "execute_result",
          "data": {
            "text/plain": [
              "deque([1, 2, 3, 4])"
            ]
          },
          "metadata": {},
          "execution_count": 63
        }
      ]
    },
    {
      "cell_type": "code",
      "source": [
        "for _ in range(len(a)):\n",
        "  print(a.dequeue())"
      ],
      "metadata": {
        "colab": {
          "base_uri": "https://localhost:8080/"
        },
        "id": "ERHfEIUw3ge9",
        "outputId": "5977964d-69fa-4c71-efb3-cd912f5a2aa4"
      },
      "execution_count": null,
      "outputs": [
        {
          "output_type": "stream",
          "name": "stdout",
          "text": [
            "1\n",
            "2\n",
            "3\n",
            "4\n"
          ]
        }
      ]
    },
    {
      "cell_type": "code",
      "source": [
        "#@title R-6.13\n",
        "def modify_deque(D, Q):\n",
        "  #move all contents of D to Q\n",
        "  for i in range(len(D)):\n",
        "    Q.enqueue(D.popleft())\n",
        "  \n",
        "  for _ in range(3):\n",
        "    D.append(Q.dequeue())\n",
        "  \n",
        "  D.appendleft(Q.dequeue())\n",
        "  D.append(Q.dequeue())\n",
        "  Q.enqueue(D.popleft())\n",
        "\n",
        "  for _ in range(3):\n",
        "    D.appendleft(Q.dequeue())\n",
        "  \n",
        "  D.append(Q.dequeue())\n",
        "  \n",
        "  for _ in range(3):\n",
        "    Q.enqueue(D.popleft())\n",
        "  \n",
        "  for _ in range(3):\n",
        "    D.appendleft(Q.dequeue())\n",
        "\n",
        "  for _ in range(3):\n",
        "    Q.enqueue(D.popleft())\n",
        "\n",
        "  for _ in range(3):\n",
        "    D.append(Q.dequeue())"
      ],
      "metadata": {
        "id": "WnuseA0r3nMt"
      },
      "execution_count": null,
      "outputs": []
    },
    {
      "cell_type": "code",
      "source": [
        "from collections import deque\n",
        "D = deque()\n",
        "Q = ArrayQueue()\n",
        "\n",
        "for i in range(1, 9):\n",
        "  D.append(i)"
      ],
      "metadata": {
        "id": "fmr8Ajc36ak3"
      },
      "execution_count": null,
      "outputs": []
    },
    {
      "cell_type": "code",
      "source": [
        "modify_deque(D, Q)"
      ],
      "metadata": {
        "id": "c4pwWbmC9lSx"
      },
      "execution_count": null,
      "outputs": []
    },
    {
      "cell_type": "code",
      "source": [
        "for i in range(len(D)):\n",
        "  print(D[i])"
      ],
      "metadata": {
        "colab": {
          "base_uri": "https://localhost:8080/"
        },
        "id": "ZTrT7Av19qh6",
        "outputId": "73ea5ee4-c7c9-4a37-f4fe-0497111d89ee"
      },
      "execution_count": null,
      "outputs": [
        {
          "output_type": "stream",
          "name": "stdout",
          "text": [
            "1\n",
            "2\n",
            "3\n",
            "5\n",
            "4\n",
            "6\n",
            "7\n",
            "8\n"
          ]
        }
      ]
    },
    {
      "cell_type": "code",
      "source": [
        "#@title R-6.14\n",
        "#@title R-6.13\n",
        "def modify_deque(D, S):\n",
        "  #move all contents of D to S\n",
        "  for i in range(3, len(D)):\n",
        "    S.push(D.pop())\n",
        "\n",
        "  D.appendleft(S.pop())\n",
        "  D.append(S.pop())\n",
        "  S.push(D.popleft())\n",
        "\n",
        "  for _ in range(4):\n",
        "    D.append(S.pop())\n",
        "  \n"
      ],
      "metadata": {
        "id": "-aDeYsq3_RbU"
      },
      "execution_count": null,
      "outputs": []
    },
    {
      "cell_type": "code",
      "source": [
        "from collections import deque\n",
        "D = deque()\n",
        "Q = ArrayStack()\n",
        "\n",
        "for i in range(1, 9):\n",
        "  D.append(i)"
      ],
      "metadata": {
        "id": "nGQvnTvtBt3V"
      },
      "execution_count": null,
      "outputs": []
    },
    {
      "cell_type": "code",
      "source": [
        "modify_deque(D, S)"
      ],
      "metadata": {
        "id": "5dQYQPmOBw8T"
      },
      "execution_count": null,
      "outputs": []
    },
    {
      "cell_type": "code",
      "source": [
        "for i in range(len(D)):\n",
        "  print(D[i])"
      ],
      "metadata": {
        "colab": {
          "base_uri": "https://localhost:8080/"
        },
        "id": "e99Am9JyByxm",
        "outputId": "3b41672a-7684-4637-c853-e8dcb71cc6b2"
      },
      "execution_count": null,
      "outputs": [
        {
          "output_type": "stream",
          "name": "stdout",
          "text": [
            "1\n",
            "2\n",
            "3\n",
            "5\n",
            "4\n",
            "6\n",
            "7\n",
            "8\n"
          ]
        }
      ]
    },
    {
      "cell_type": "markdown",
      "source": [
        "# Creativity"
      ],
      "metadata": {
        "id": "tlzRStIHCblG"
      }
    },
    {
      "cell_type": "code",
      "source": [
        "#@title C-6.15\n",
        "# the stack accommodates three distinct integers. The probability that the maximum of three integers resides in one of three\n",
        "# places is 1/3. The following func picks the maximum integer if it resides in cell 1 or 2 which is with probability 2/3 that the max resides.\n",
        "def max_stack(S):\n",
        "  x = S.pop()\n",
        "  if x > S._top():\n",
        "    return x\n",
        "  else:\n",
        "    return S.pop()"
      ],
      "metadata": {
        "id": "jrsTavivB0hG"
      },
      "execution_count": null,
      "outputs": []
    },
    {
      "cell_type": "code",
      "source": [
        "#@title C-6.16\n",
        "class Full(Exception):\n",
        "  pass\n",
        "\n",
        "class ArrayStack:\n",
        "  \"\"\"An array stack with python list ADT as the core data structure\"\"\"\n",
        "  \n",
        "  def __init__(self, max_capacity=None):\n",
        "    self._data = []\n",
        "    self._max_cap = max_capacity\n",
        "  \n",
        "  def __len__(self):\n",
        "    return len(self._data)\n",
        "  \n",
        "  def _is_empty(self):\n",
        "    return len(self) == 0\n",
        "  \n",
        "  def push(self, e):\n",
        "    if not self._max_cap:\n",
        "      self._data.append(e)\n",
        "    else:\n",
        "      if self._max_cap == len(self):\n",
        "        raise Full('The stack is full!!')\n",
        "      else:\n",
        "        self._data.append(e)\n",
        "\n",
        "  def _top(self):\n",
        "\n",
        "    if self._is_empty():\n",
        "      Empty('stack is empty')\n",
        "    \n",
        "    return self._data[-1]\n",
        "\n",
        "  def pop(self):\n",
        "\n",
        "    if self._is_empty():\n",
        "      raise Empty('stack is empty')\n",
        "    \n",
        "    return self._data.pop()\n",
        "\n",
        "\n",
        "\n"
      ],
      "metadata": {
        "id": "gi6CGEEPgQDq"
      },
      "execution_count": null,
      "outputs": []
    },
    {
      "cell_type": "code",
      "source": [
        "S = ArrayStack(2)\n",
        "S.push(0)\n",
        "S.push(1)"
      ],
      "metadata": {
        "id": "lR10bWMohnEb"
      },
      "execution_count": null,
      "outputs": []
    },
    {
      "cell_type": "code",
      "source": [
        "S.push(4)"
      ],
      "metadata": {
        "colab": {
          "base_uri": "https://localhost:8080/",
          "height": 283
        },
        "id": "gfJbHzf6hshV",
        "outputId": "6087ba21-ed4a-4b9f-a5c7-da67bf2364c0"
      },
      "execution_count": null,
      "outputs": [
        {
          "output_type": "error",
          "ename": "Full",
          "evalue": "ignored",
          "traceback": [
            "\u001b[0;31m---------------------------------------------------------------------------\u001b[0m",
            "\u001b[0;31mFull\u001b[0m                                      Traceback (most recent call last)",
            "\u001b[0;32m<ipython-input-7-d9e6224a348f>\u001b[0m in \u001b[0;36m<module>\u001b[0;34m\u001b[0m\n\u001b[0;32m----> 1\u001b[0;31m \u001b[0mS\u001b[0m\u001b[0;34m.\u001b[0m\u001b[0mpush\u001b[0m\u001b[0;34m(\u001b[0m\u001b[0;36m4\u001b[0m\u001b[0;34m)\u001b[0m\u001b[0;34m\u001b[0m\u001b[0;34m\u001b[0m\u001b[0m\n\u001b[0m",
            "\u001b[0;32m<ipython-input-4-ef3b8500a8a6>\u001b[0m in \u001b[0;36mpush\u001b[0;34m(self, e)\u001b[0m\n\u001b[1;32m     21\u001b[0m     \u001b[0;32melse\u001b[0m\u001b[0;34m:\u001b[0m\u001b[0;34m\u001b[0m\u001b[0;34m\u001b[0m\u001b[0m\n\u001b[1;32m     22\u001b[0m       \u001b[0;32mif\u001b[0m \u001b[0mself\u001b[0m\u001b[0;34m.\u001b[0m\u001b[0m_max_cap\u001b[0m \u001b[0;34m==\u001b[0m \u001b[0mlen\u001b[0m\u001b[0;34m(\u001b[0m\u001b[0mself\u001b[0m\u001b[0;34m)\u001b[0m\u001b[0;34m:\u001b[0m\u001b[0;34m\u001b[0m\u001b[0;34m\u001b[0m\u001b[0m\n\u001b[0;32m---> 23\u001b[0;31m         \u001b[0;32mraise\u001b[0m \u001b[0mFull\u001b[0m\u001b[0;34m(\u001b[0m\u001b[0;34m'The stack is full!!'\u001b[0m\u001b[0;34m)\u001b[0m\u001b[0;34m\u001b[0m\u001b[0;34m\u001b[0m\u001b[0m\n\u001b[0m\u001b[1;32m     24\u001b[0m       \u001b[0;32melse\u001b[0m\u001b[0;34m:\u001b[0m\u001b[0;34m\u001b[0m\u001b[0;34m\u001b[0m\u001b[0m\n\u001b[1;32m     25\u001b[0m         \u001b[0mself\u001b[0m\u001b[0;34m.\u001b[0m\u001b[0m_data\u001b[0m\u001b[0;34m.\u001b[0m\u001b[0mappend\u001b[0m\u001b[0;34m(\u001b[0m\u001b[0me\u001b[0m\u001b[0;34m)\u001b[0m\u001b[0;34m\u001b[0m\u001b[0;34m\u001b[0m\u001b[0m\n",
            "\u001b[0;31mFull\u001b[0m: The stack is full!!"
          ]
        }
      ]
    },
    {
      "cell_type": "code",
      "source": [
        "#@title C-6.17\n",
        "\n",
        "def __init__(self, max_capacity=None):\n",
        "  self._max_cap = max_capacity\n",
        "  if not self._max_cap:\n",
        "    self._data = []\n",
        "  else:\n",
        "    self._data = [None] * self._max_cap\n",
        "    "
      ],
      "metadata": {
        "id": "1YYnpACDhwpi"
      },
      "execution_count": null,
      "outputs": []
    },
    {
      "cell_type": "code",
      "source": [
        "#@title C-6.18 \n",
        "#Refer to R-6.3 please"
      ],
      "metadata": {
        "id": "7LnloqBKiLxb"
      },
      "execution_count": null,
      "outputs": []
    },
    {
      "cell_type": "code",
      "source": [
        "#@title C-6.19\n",
        "def is_match_html(html_file):\n",
        "  S = ArrayStack()\n",
        "  j = html_file.find('<')\n",
        "  while j != -1:\n",
        "\n",
        "    k = html_file.find('>', j+1)\n",
        "\n",
        "    if k == -1:\n",
        "      return False\n",
        "    else:\n",
        "      \n",
        "      #we should localise the space (' ') first\n",
        "      space_idx = html_file.find(' ', j+1, k)\n",
        "      if space_idx == -1:\n",
        "        tag = html_file[j+1:k]\n",
        "      else:\n",
        "        tag = html_file[j+1:space_idx]\n",
        "\n",
        "      if tag.startswith('/'):\n",
        "        if S._is_empty():\n",
        "          return False\n",
        "        else:\n",
        "          if S.pop() != tag[1:]:\n",
        "            return False\n",
        "      else:\n",
        "        S.push(tag)\n",
        "    j = html_file.find('<', k+1)\n",
        "  \n",
        "  return S._is_empty()\n"
      ],
      "metadata": {
        "id": "74BwMj0qitVE"
      },
      "execution_count": null,
      "outputs": []
    },
    {
      "cell_type": "code",
      "source": [
        "html_file = '<body>\\\n",
        "<center>\\\n",
        "<table border=\"3\" cellpadding=\"5\"> The Little Boat </table border=\"3\" cellpadding=\"5\">\\\n",
        "</center>\\\n",
        "<p> The storm tossed the little\\\n",
        "boat like a cheap sneaker in an\\\n",
        "old washing machine. The three\\\n",
        "drunken fishermen were used to\\\n",
        "such treatment, of course, but\\\n",
        "not the tree salesman, who even as\\\n",
        "a stowaway now felt that he\\\n",
        "had overpaid for the voyage. </p> a stowaway now felt that he had <ol>\\\n",
        "<li> Will the salesman die? </li>\\\n",
        "<li> What color is the boat? </li>\\\n",
        "<li> And what about Naomi? </li>\\\n",
        "</ol>\\\n",
        "</body>'\n",
        "\n",
        "is_match_html(html_file)"
      ],
      "metadata": {
        "colab": {
          "base_uri": "https://localhost:8080/"
        },
        "id": "drZ-Zx8yjfz2",
        "outputId": "61fd6030-dbb6-42e6-9e33-f4425bea32ce"
      },
      "execution_count": null,
      "outputs": [
        {
          "output_type": "execute_result",
          "data": {
            "text/plain": [
              "True"
            ]
          },
          "metadata": {},
          "execution_count": 19
        }
      ]
    },
    {
      "cell_type": "code",
      "source": [
        "#@title C-6.20\n",
        "\n",
        "\n",
        "\n",
        "\n"
      ],
      "metadata": {
        "id": "9T_rnI9jjinC"
      },
      "execution_count": null,
      "outputs": []
    },
    {
      "cell_type": "code",
      "source": [
        "#@title C-6.21"
      ],
      "metadata": {
        "id": "DbVbOBChuIpp"
      },
      "execution_count": null,
      "outputs": []
    },
    {
      "cell_type": "code",
      "source": [
        "#@title C-6.22\n",
        "def post_fix(expr):\n",
        "  \"\"\"generate the postfix notation of the expression\"\"\"\n",
        "  lefty = '('\n",
        "  righty = ')'\n",
        "  S = ArrayStack()\n",
        "  op_stack = ArrayStack()\n",
        "\n",
        "  s = ''\n",
        "\n",
        "  for c in expr:\n",
        "    if c in righty:\n",
        "      if S._is_empty():\n",
        "        raise Exception('The parenthesis does not match!')\n",
        "      elif lefty.index(S.pop()) != righty.index(c):\n",
        "        raise Exception('The parenthesis does not match!')\n",
        "      s += op_stack.pop()\n",
        "    else:\n",
        "      if not (c in lefty) and not (c in ['+', '-', '/', '*']):\n",
        "        s += c\n",
        "      elif c in ['+', '-', '/', '*']:\n",
        "        op_stack.push(c)\n",
        "      elif c in lefty:\n",
        "        S.push(c)\n",
        "    \n",
        "  s += op_stack.pop()\n",
        "  \n",
        "  return s"
      ],
      "metadata": {
        "id": "SxmDwVZcvuYd"
      },
      "execution_count": null,
      "outputs": []
    },
    {
      "cell_type": "code",
      "source": [
        "expr = '((5+2)*(8-3))/4'\n",
        "s = post_fix(expr)\n",
        "s"
      ],
      "metadata": {
        "colab": {
          "base_uri": "https://localhost:8080/",
          "height": 37
        },
        "id": "y1tdSail2dCA",
        "outputId": "4900f3d1-47be-4f10-c48a-a2b3f367c5e4"
      },
      "execution_count": null,
      "outputs": [
        {
          "output_type": "execute_result",
          "data": {
            "text/plain": [
              "'52+83-*4/'"
            ],
            "application/vnd.google.colaboratory.intrinsic+json": {
              "type": "string"
            }
          },
          "metadata": {},
          "execution_count": 61
        }
      ]
    },
    {
      "cell_type": "code",
      "source": [
        "expr = '4/((5+2)*(8-3))'\n",
        "s = post_fix(expr)\n",
        "s"
      ],
      "metadata": {
        "colab": {
          "base_uri": "https://localhost:8080/",
          "height": 37
        },
        "id": "y2BT1tik2yQz",
        "outputId": "73c553aa-18ba-41c2-9158-173ac0d6b93e"
      },
      "execution_count": null,
      "outputs": [
        {
          "output_type": "execute_result",
          "data": {
            "text/plain": [
              "'452+83-*/'"
            ],
            "application/vnd.google.colaboratory.intrinsic+json": {
              "type": "string"
            }
          },
          "metadata": {},
          "execution_count": 62
        }
      ]
    },
    {
      "cell_type": "code",
      "source": [
        "#@title C-6.23\n",
        "def store(R, S, T):\n",
        "  l = len(S) + len(T)\n",
        "  for _ in range(len(S)):\n",
        "    R.push(S.pop())\n",
        "  for _ in range(len(T)):\n",
        "    R.push(T.pop())\n",
        "  for _ in range(l):\n",
        "    S.push(R.pop())"
      ],
      "metadata": {
        "id": "Grsb2ZWS20pd"
      },
      "execution_count": null,
      "outputs": []
    },
    {
      "cell_type": "code",
      "source": [
        "R, S, T = ArrayStack(), ArrayStack(), ArrayStack()\n",
        "\n",
        "R.push(1)\n",
        "R.push(2)\n",
        "R.push(3)\n",
        "\n",
        "S.push(4)\n",
        "S.push(5)\n",
        "\n",
        "T.push(6)\n",
        "T.push(7)\n",
        "T.push(8)\n",
        "T.push(9)"
      ],
      "metadata": {
        "id": "8s1opaqN26wV"
      },
      "execution_count": null,
      "outputs": []
    },
    {
      "cell_type": "code",
      "source": [
        "store(R, S, T)"
      ],
      "metadata": {
        "id": "TqYpbNipDQDC"
      },
      "execution_count": null,
      "outputs": []
    },
    {
      "cell_type": "code",
      "source": [
        "R._data"
      ],
      "metadata": {
        "colab": {
          "base_uri": "https://localhost:8080/"
        },
        "id": "CA1OialAk4IF",
        "outputId": "3c3d52ec-40d8-4a11-e861-99f97172625c"
      },
      "execution_count": null,
      "outputs": [
        {
          "output_type": "execute_result",
          "data": {
            "text/plain": [
              "[1, 2, 3]"
            ]
          },
          "metadata": {},
          "execution_count": 11
        }
      ]
    },
    {
      "cell_type": "code",
      "source": [
        "S._data"
      ],
      "metadata": {
        "colab": {
          "base_uri": "https://localhost:8080/"
        },
        "id": "fdxOkcROk5HD",
        "outputId": "b628af61-0497-4ace-9dd9-75b61aea33fd"
      },
      "execution_count": null,
      "outputs": [
        {
          "output_type": "execute_result",
          "data": {
            "text/plain": [
              "[6, 7, 8, 9, 4, 5]"
            ]
          },
          "metadata": {},
          "execution_count": 12
        }
      ]
    },
    {
      "cell_type": "code",
      "source": [
        "#@title 6-C.24\n",
        "class QueueBasedArrayStack(ArrayQueue):\n",
        "  def __init__(self):\n",
        "    super().__init__()\n",
        "\n",
        "  def push(self, value):\n",
        "    super().enqueue(value)\n",
        "  \n",
        "  def top(self):\n",
        "    self._data[self._front + self._size - 1]\n",
        "  \n",
        "  def pop(self):\n",
        "    \n",
        "    for _ in range(self._size - 1):\n",
        "      x = super().dequeue()\n",
        "      super().enqueue(x)\n",
        "\n",
        "    return super().dequeue()"
      ],
      "metadata": {
        "id": "j4s8qzMjk6SJ"
      },
      "execution_count": null,
      "outputs": []
    },
    {
      "cell_type": "code",
      "source": [
        "class ArrayQueue:\n",
        "  \"\"\"Implementation of queue\"\"\"\n",
        "  QUEUE_SIZE = 10\n",
        "  def __init__(self):\n",
        "    self._data = [None]* ArrayQueue.QUEUE_SIZE\n",
        "    self._front = 0\n",
        "    self._size = 0\n",
        "  \n",
        "  def __len__(self):\n",
        "    return self._size\n",
        "  \n",
        "  def _is_empty(self):\n",
        "    return self._size == 0\n",
        "  \n",
        "  def first(self):\n",
        "    \"\"\"return the first element of the queue but does not remove it from the queue\"\"\"\n",
        "    if self._is_empty():\n",
        "      raise Empty('The queue is empty!!')\n",
        "\n",
        "    return self._data[self._front]\n",
        "\n",
        "  def dequeue(self):\n",
        "    if self._is_empty():\n",
        "      raise Empty('The queue is empty!!')\n",
        "\n",
        "    temp = self.first()\n",
        "    \n",
        "    self._data[self._front] = None\n",
        "    self._size -= 1 \n",
        "    self._front = (self._front+1) % len(self._data)\n",
        "\n",
        "    if 0 < self._size < len(self._data) // 4: \n",
        "      self._resize(len(self._data) // 2)\n",
        "    \n",
        "    return temp\n",
        "\n",
        "  def enqueue(self, e):\n",
        "    if self._size == len(self._data):\n",
        "      self._resize(2 * len(self._data))\n",
        "    avail = (self._front + self._size) % len(self._data)\n",
        "    self._data[avail] = e\n",
        "    self._size += 1\n",
        "\n",
        "  def _resize(self, cap): \n",
        "    old = self._data\n",
        "    self._data = [None]*cap \n",
        "    walk = self._front\n",
        "    for k in range(self._size):\n",
        "      self._data[k] = old[walk]\n",
        "      walk = (1 + walk) % len(old)\n",
        "    self._front = 0"
      ],
      "metadata": {
        "id": "HGRDFt8DmDsa"
      },
      "execution_count": null,
      "outputs": []
    },
    {
      "cell_type": "code",
      "source": [
        "S = QueueBasedArrayStack()"
      ],
      "metadata": {
        "id": "3KzzrEe7ncb9"
      },
      "execution_count": null,
      "outputs": []
    },
    {
      "cell_type": "code",
      "source": [
        "S.push(1)\n",
        "S.push(2)\n",
        "S.push(3)"
      ],
      "metadata": {
        "id": "sGat-cyWoDh5"
      },
      "execution_count": null,
      "outputs": []
    },
    {
      "cell_type": "code",
      "source": [
        "for _ in range(len(S)):\n",
        "  print(S.pop())"
      ],
      "metadata": {
        "colab": {
          "base_uri": "https://localhost:8080/"
        },
        "id": "_R3pl-9aoGuk",
        "outputId": "e38b5233-eaa6-4991-d884-2c34cfc55077"
      },
      "execution_count": null,
      "outputs": [
        {
          "output_type": "stream",
          "name": "stdout",
          "text": [
            "3\n",
            "2\n",
            "1\n"
          ]
        }
      ]
    },
    {
      "cell_type": "code",
      "source": [
        "#@title 6-C.25\n",
        "class StackBasedQueue:\n",
        "  def __init__(self):\n",
        "    self._S0 = ArrayStack()\n",
        "    self._S1 = ArrayStack()\n",
        "\n",
        "  def __len__(self):\n",
        "    return len(self._S0) + len(self._S1)\n",
        "  \n",
        "  def _is_empty(self):\n",
        "    return len(self._S0) == 0\n",
        "  \n",
        "  def first(self):\n",
        "    for _ in range(len(self._S0)):\n",
        "      self._S1.push(self._S0.pop())\n",
        "    return self._S1._top()\n",
        "  \n",
        "  def enqueue(self, e):\n",
        "    self._S0.push(e)\n",
        "  \n",
        "  def dequeue(self):\n",
        "    for _ in range(len(self._S0)):\n",
        "      self._S1.push(self._S0.pop())\n",
        "    return self._S1.pop()\n"
      ],
      "metadata": {
        "id": "0QAOTFw0oIDQ"
      },
      "execution_count": null,
      "outputs": []
    },
    {
      "cell_type": "code",
      "source": [
        "#@title C-6.16\n",
        "class Full(Exception):\n",
        "  pass\n",
        "\n",
        "class ArrayStack:\n",
        "  \"\"\"An array stack with python list ADT as the core data structure\"\"\"\n",
        "  \n",
        "  def __init__(self, max_capacity=None):\n",
        "    self._data = []\n",
        "    self._max_cap = max_capacity\n",
        "  \n",
        "  def __len__(self):\n",
        "    return len(self._data)\n",
        "  \n",
        "  def _is_empty(self):\n",
        "    return len(self) == 0\n",
        "  \n",
        "  def push(self, e):\n",
        "    if not self._max_cap:\n",
        "      self._data.append(e)\n",
        "    else:\n",
        "      if self._max_cap == len(self):\n",
        "        raise Full('The stack is full!!')\n",
        "      else:\n",
        "        self._data.append(e)\n",
        "\n",
        "  def _top(self):\n",
        "\n",
        "    if self._is_empty():\n",
        "      Empty('stack is empty')\n",
        "    \n",
        "    return self._data[-1]\n",
        "\n",
        "  def pop(self):\n",
        "\n",
        "    if self._is_empty():\n",
        "      raise Empty('stack is empty')\n",
        "    \n",
        "    return self._data.pop()\n",
        "\n",
        "\n",
        "\n"
      ],
      "metadata": {
        "id": "f5LHM9WFwhiW"
      },
      "execution_count": null,
      "outputs": []
    },
    {
      "cell_type": "code",
      "source": [
        "q = StackBasedQueue()"
      ],
      "metadata": {
        "id": "DQy0jaRAxDZj"
      },
      "execution_count": null,
      "outputs": []
    },
    {
      "cell_type": "code",
      "source": [
        "q.enqueue(1)\n",
        "q.enqueue(2)\n",
        "q.enqueue(3)\n",
        "q.enqueue(4)"
      ],
      "metadata": {
        "id": "b6mpmvxLxHIt"
      },
      "execution_count": null,
      "outputs": []
    },
    {
      "cell_type": "code",
      "source": [
        "q.first()"
      ],
      "metadata": {
        "colab": {
          "base_uri": "https://localhost:8080/"
        },
        "id": "wblb-YKWxjxJ",
        "outputId": "5a3fd06a-dea4-4890-d0c8-421b0dcd9005"
      },
      "execution_count": null,
      "outputs": [
        {
          "output_type": "execute_result",
          "data": {
            "text/plain": [
              "1"
            ]
          },
          "metadata": {},
          "execution_count": 117
        }
      ]
    },
    {
      "cell_type": "code",
      "source": [
        "for _ in range(len(q)):\n",
        "  print(q.dequeue())"
      ],
      "metadata": {
        "colab": {
          "base_uri": "https://localhost:8080/"
        },
        "id": "hiMdaslqxLZb",
        "outputId": "fd83800d-8364-4ede-8e4e-443dedb7ed5b"
      },
      "execution_count": null,
      "outputs": [
        {
          "output_type": "stream",
          "name": "stdout",
          "text": [
            "1\n",
            "2\n",
            "3\n",
            "4\n"
          ]
        }
      ]
    },
    {
      "cell_type": "code",
      "source": [
        "#@title C-6.26\n",
        "class StackBasedDeque:\n",
        "  def __init__(self):\n",
        "    self._S0 = ArrayStack()\n",
        "    self._S1 = ArrayStack()\n",
        "  \n",
        "  def __len__(self):\n",
        "    return len(self._S0) + len(self._S1)\n",
        "  \n",
        "  def add_first(self, v):\n",
        "    for _ in range(len(self._S0)):\n",
        "      self._S1.push(self._S0.pop())\n",
        "    self._S1.push(v)\n",
        "  \n",
        "  def add_last(self, v):\n",
        "    if not self._S0._is_empty():\n",
        "      self._S0.push(v)\n",
        "      for _ in range(len(self._S0)):\n",
        "        self._S1.push(self._S0.pop())\n",
        "    else:\n",
        "      for _ in range(len(self._S1)):\n",
        "        self._S0.push(self._S1.pop())\n",
        "      self._S0.push(v)\n",
        "  \n",
        "  def delete_first(self):\n",
        "    for _ in range(len(self._S0)):\n",
        "      self._S1.push(self._S0.pop())\n",
        "    #delete the first element in queue\n",
        "    self._S1.pop()\n",
        "\n",
        "  def delete_last(self):\n",
        "    if self._S0._is_empty():\n",
        "      for _ in range(len(self._S1)):\n",
        "        self._S0.push(self._S1.pop())\n",
        "      self._S0.pop() #delete last element\n",
        "    else:\n",
        "      self._S0.pop()\n",
        "  \n",
        "  def last(self):\n",
        "    if not self._S0._is_empty():\n",
        "      return self._S0._top()\n",
        "    else:\n",
        "      for _ in range(len(self._S2)):\n",
        "        self._S0.push(self._S1.pop())\n",
        "      return self._S0._top()\n",
        "\n",
        "  def first(self):\n",
        "    if self._S0._is_empty():\n",
        "      return self._S1._top()\n",
        "    else:\n",
        "      for _ in range(len(self._S0)):\n",
        "        self._S1.push(self._S0.pop())\n",
        "      return self._S1._top()\n",
        "\n",
        "  def dequeue(self):\n",
        "    if self._S0._is_empty():\n",
        "      return self._S1.pop()\n",
        "    else:\n",
        "      for _ in range(len(self._S0)):\n",
        "        self._S1.push(self._S0.pop())\n",
        "      return self._S1.pop()"
      ],
      "metadata": {
        "id": "c-LdGfjRxN_7"
      },
      "execution_count": null,
      "outputs": []
    },
    {
      "cell_type": "code",
      "source": [
        "d = StackBasedDeque()"
      ],
      "metadata": {
        "id": "V_u5qs5J3YYm"
      },
      "execution_count": null,
      "outputs": []
    },
    {
      "cell_type": "code",
      "source": [
        "# d = [2,1,3]\n",
        "d.add_first(1)\n",
        "d.add_first(2)\n",
        "d.add_last(3)"
      ],
      "metadata": {
        "id": "ku6QBQUE3cwY"
      },
      "execution_count": null,
      "outputs": []
    },
    {
      "cell_type": "code",
      "source": [
        "for _ in range(len(d)):\n",
        "  print(d.dequeue())"
      ],
      "metadata": {
        "colab": {
          "base_uri": "https://localhost:8080/"
        },
        "id": "BdgkFd7D3lJV",
        "outputId": "23a553e4-1dd4-4062-af5b-4e792953d956"
      },
      "execution_count": null,
      "outputs": [
        {
          "output_type": "stream",
          "name": "stdout",
          "text": [
            "2\n",
            "1\n",
            "3\n"
          ]
        }
      ]
    },
    {
      "cell_type": "code",
      "source": [
        "\n",
        "#@title C-6.27\n",
        "\n",
        "\n",
        "class ArrayQueue:\n",
        "  \"\"\"Implementation of queue\"\"\"\n",
        "  QUEUE_SIZE = 10\n",
        "  def __init__(self):\n",
        "    self._data = [None]* ArrayQueue.QUEUE_SIZE\n",
        "    self._front = 0\n",
        "    self._size = 0\n",
        "  \n",
        "  def __len__(self):\n",
        "    return self._size\n",
        "  \n",
        "  def _is_empty(self):\n",
        "    return self._size == 0\n",
        "  \n",
        "  def first(self):\n",
        "    \"\"\"return the first element of the queue but does not remove it from the queue\"\"\"\n",
        "    if self._is_empty():\n",
        "      raise Empty('The queue is empty!!')\n",
        "\n",
        "    return self._data[self._front]\n",
        "\n",
        "  def dequeue(self):\n",
        "    if self._is_empty():\n",
        "      raise Empty('The queue is empty!!')\n",
        "\n",
        "    temp = self.first()\n",
        "    \n",
        "    self._data[self._front] = None\n",
        "    self._size -= 1 \n",
        "    self._front = (self._front+1) % len(self._data)\n",
        "\n",
        "    if 0 < self._size < len(self._data) // 4: \n",
        "      self._resize(len(self._data) // 2)\n",
        "    \n",
        "    return temp\n",
        "\n",
        "  def enqueue(self, e):\n",
        "    if self._size == len(self._data):\n",
        "      self._resize(2 * len(self._data))\n",
        "    avail = (self._front + self._size) % len(self._data)\n",
        "    self._data[avail] = e\n",
        "    self._size += 1\n",
        "    \n",
        "  # def _resize(self, c):\n",
        "  #   self._array = [None] * c\n",
        "  #   j = self._front\n",
        "  #   for i in range(self._size):\n",
        "  #     self._array[i] = self._data[(j+1)%len(self._data)]\n",
        "  #   self._data = self._array\n",
        "  #   self._front = 0\n",
        "\n",
        "\n",
        "  def _resize(self, cap): \n",
        "    old = self._data\n",
        "    self._data = [None]*cap \n",
        "    walk = self._front\n",
        "    for k in range(self._size):\n",
        "      self._data[k] = old[walk]\n",
        "      walk = (1 + walk) % len(old)\n",
        "    self._front = 0\n",
        "\n",
        "def check_value(S, value):\n",
        "  q = ArrayQueue()\n",
        "  result = None\n",
        "\n",
        "  l = len(S)\n",
        "  for _ in range(l):\n",
        "    \n",
        "    x = S.pop()\n",
        "\n",
        "    if x == value:\n",
        "      result = x\n",
        "    \n",
        "    q.enqueue(x)\n",
        "  \n",
        "  \n",
        "  #to make the content reversed in queue\n",
        "  for _ in range(l):\n",
        "    S.push(q.dequeue())\n",
        "\n",
        "  for _ in range(l):\n",
        "    q.enqueue(S.pop())\n",
        "      \n",
        "  \n",
        "  for _ in range(l):\n",
        "    S.push(q.dequeue())\n",
        "  return result"
      ],
      "metadata": {
        "id": "TgDBKltb4DTH"
      },
      "execution_count": null,
      "outputs": []
    },
    {
      "cell_type": "code",
      "source": [
        "S = ArrayStack()\n",
        "\n",
        "#load the stack\n",
        "S.push(1)\n",
        "S.push(2)\n",
        "S.push(3)\n",
        "S.push(4)\n",
        "\n",
        "\n",
        "value = 3\n",
        "check_value(S, value)"
      ],
      "metadata": {
        "colab": {
          "base_uri": "https://localhost:8080/"
        },
        "id": "uJ5hb9KtIh2R",
        "outputId": "289cb3f2-e283-4b70-8df7-5f217cce1285"
      },
      "execution_count": null,
      "outputs": [
        {
          "output_type": "execute_result",
          "data": {
            "text/plain": [
              "3"
            ]
          },
          "metadata": {},
          "execution_count": 220
        }
      ]
    },
    {
      "cell_type": "code",
      "source": [
        "for _ in range(len(S)):\n",
        "  print(S.pop())"
      ],
      "metadata": {
        "colab": {
          "base_uri": "https://localhost:8080/"
        },
        "id": "PuQXYVavIvbz",
        "outputId": "dd24a299-8388-4ab1-d326-89b278c79bc1"
      },
      "execution_count": null,
      "outputs": [
        {
          "output_type": "stream",
          "name": "stdout",
          "text": [
            "4\n",
            "3\n",
            "2\n",
            "1\n"
          ]
        }
      ]
    },
    {
      "cell_type": "code",
      "source": [
        "#@title C-6.28\n",
        "\n",
        "class ArrayQueue:\n",
        "  \"\"\"Implementation of queue\"\"\"\n",
        "  QUEUE_SIZE = 10\n",
        "  def __init__(self, max_capacity=None):\n",
        "    self._max_cap = max_capacity\n",
        "    if not self._max_cap:\n",
        "      self._data = [None]* ArrayQueue.QUEUE_SIZE\n",
        "      \n",
        "    else:\n",
        "      self._data = [None]* self._max_cap\n",
        "\n",
        "    self._front = 0\n",
        "    self._size = 0\n",
        "\n",
        "  \n",
        "  def __len__(self):\n",
        "    return self._size\n",
        "  \n",
        "  def _is_empty(self):\n",
        "    return self._size == 0\n",
        "  \n",
        "  def first(self):\n",
        "    \"\"\"return the first element of the queue but does not remove it from the queue\"\"\"\n",
        "    if self._is_empty():\n",
        "      raise Empty('The queue is empty!!')\n",
        "\n",
        "    return self._data[self._front]\n",
        "\n",
        "  def dequeue(self):\n",
        "    if self._is_empty():\n",
        "      raise Empty('The queue is empty!!')\n",
        "\n",
        "    temp = self.first()\n",
        "    \n",
        "    self._data[self._front] = None\n",
        "    self._size -= 1 \n",
        "    self._front = (self._front+1) % len(self._data)\n",
        "\n",
        "    if 0 < self._size < len(self._data) // 4: \n",
        "      self._resize(len(self._data) // 2)\n",
        "    \n",
        "    return temp\n",
        "\n",
        "  def enqueue(self, e):\n",
        "    if not self._max_cap:\n",
        "      #it will resize only when the max capacity is not defined\n",
        "      if self._size == len(self._data):\n",
        "        self._resize(2 * len(self._data))\n",
        "    else:\n",
        "      #if the capcity is defined then it will throw exception in the case of being full\n",
        "      if self._size == len(self._data):\n",
        "        raise Full('The queue capacity is full!!') \n",
        "    avail = (self._front + self._size) % len(self._data)\n",
        "    self._data[avail] = e\n",
        "    self._size += 1\n",
        "\n",
        "\n",
        "  def _resize(self, cap): \n",
        "    old = self._data\n",
        "    self._data = [None]*cap \n",
        "    walk = self._front\n",
        "    for k in range(self._size):\n",
        "      self._data[k] = old[walk]\n",
        "      walk = (1 + walk) % len(old)\n",
        "    self._front = 0"
      ],
      "metadata": {
        "id": "dAj2tsDuJB5Q"
      },
      "execution_count": null,
      "outputs": []
    },
    {
      "cell_type": "code",
      "source": [
        "#@title C-6.29\n",
        "class ArrayQueue:\n",
        "  \"\"\"Implementation of queue\"\"\"\n",
        "  QUEUE_SIZE = 10\n",
        "  def __init__(self):\n",
        "    self._data = [None]* ArrayQueue.QUEUE_SIZE\n",
        "    self._front = 0\n",
        "    self._size = 0\n",
        "  \n",
        "  def __len__(self):\n",
        "    return self._size\n",
        "  \n",
        "  def _is_empty(self):\n",
        "    return self._size == 0\n",
        "  \n",
        "  def first(self):\n",
        "    \"\"\"return the first element of the queue but does not remove it from the queue\"\"\"\n",
        "    if self._is_empty():\n",
        "      raise Empty('The queue is empty!!')\n",
        "\n",
        "    return self._data[self._front]\n",
        "\n",
        "  def rotate(self):\n",
        "    \n",
        "    if self._is_empty():\n",
        "      raise Empty('The queue is empty!!')\n",
        "\n",
        "    #by rotation we do not remove the element in the first line\n",
        "    #just shift the pointer to the next element\n",
        "    self._front = (self._front+1) % len(self._data)    \n",
        "    \n",
        "    \n",
        "\n",
        "  def dequeue(self):\n",
        "    if self._is_empty():\n",
        "      raise Empty('The queue is empty!!')\n",
        "\n",
        "    temp = self.first()\n",
        "    \n",
        "    self._data[self._front] = None\n",
        "    self._size -= 1 \n",
        "    self._front = (self._front+1) % len(self._data)\n",
        "\n",
        "    if 0 < self._size < len(self._data) // 4: \n",
        "      self._resize(len(self._data) // 2)\n",
        "    \n",
        "    return temp\n",
        "\n",
        "  def enqueue(self, e):\n",
        "    if self._size == len(self._data):\n",
        "      self._resize(2 * len(self._data))\n",
        "    avail = (self._front + self._size) % len(self._data)\n",
        "    self._data[avail] = e\n",
        "    self._size += 1\n",
        "    \n",
        "  def _resize(self, cap): \n",
        "    old = self. data\n",
        "    self._data = [None]*cap \n",
        "    walk = self._front\n",
        "    for k in range(self._size):\n",
        "      self._data[k] = old[walk]\n",
        "      walk = (1 + walk) % len(old)\n",
        "    self._front = 0"
      ],
      "metadata": {
        "id": "bBz0-3poUWXH"
      },
      "execution_count": null,
      "outputs": []
    },
    {
      "cell_type": "code",
      "source": [
        "#@title C-6.30\n",
        "# Assume that there are m numbers in Q which d out m is even. Then there are N/2-q out of N-m is even in R. \n",
        "#the probability of alice winning is 0.5(d/m + (N/2-d)/(N-m))\n",
        "# 0<= d <= N/2, d <= m <= N\n",
        "\n",
        "# d=1, we have proabbility of alice winning: 0.5(1+49/99) = 74/99"
      ],
      "metadata": {
        "id": "_GL1_Kf0v5Qt"
      },
      "execution_count": null,
      "outputs": []
    },
    {
      "cell_type": "markdown",
      "source": [
        "# Projects"
      ],
      "metadata": {
        "id": "2b_am-W1SepX"
      }
    },
    {
      "cell_type": "code",
      "source": [
        "#@title P-6.32\n",
        "\n",
        "class ArrayDeque:\n",
        "\n",
        "  QUEUE_SIZE = 10\n",
        "  def __init__(self):\n",
        "    self._data = [None]* ArrayQueue.QUEUE_SIZE\n",
        "    self._front = 0\n",
        "    self._size = 0\n",
        "\n",
        "  def __len__(self):\n",
        "    return self._size\n",
        "  \n",
        "  def _is_empty(self):\n",
        "    return self._size == 0\n",
        "  \n",
        "  def first(self):\n",
        "    \"\"\"return the first element of the queue but does not remove it from the queue\"\"\"\n",
        "    if self._is_empty():\n",
        "      raise Empty('The queue is empty!!')\n",
        "\n",
        "    return self._data[self._front]\n",
        "\n",
        "  def last(self):\n",
        "    \"\"\"return the last element of the queue but does not remove it from the queue\"\"\"\n",
        "    if self._is_empty():\n",
        "      raise Empty('The queue is empty!!')\n",
        "    back = (self._front + self._size - 1) % len(self. data)\n",
        "    return self._data[back]\n",
        "  \n",
        "  def add_last(self, e):\n",
        "    \n",
        "    if self._size == len(self._data):\n",
        "      self._resize(2 * len(self._data))\n",
        "\n",
        "    avail = (self._front + self._size) % len(self._data)\n",
        "    self._data[avail] = e\n",
        "    self._size += 1\n",
        "\n",
        "  def delete_first(self):\n",
        "\n",
        "    if self._is_empty():\n",
        "      raise Empty('The queue is empty!!')\n",
        "    temp = self._data[self._front]\n",
        "    self._data[self._front] = None\n",
        "    self._size -= 1 \n",
        "    self._front = (self._front+1) % len(self._data)\n",
        "\n",
        "    if 0 < self._size < len(self._data) // 4: \n",
        "      self._resize(len(self._data) // 2)\n",
        "\n",
        "    return temp\n",
        "\n",
        "  def add_first(self, e):\n",
        "    if self._size == len(self._data):\n",
        "      self._resize(2 * len(self._data))\n",
        "\n",
        "    self._front = (self._front - 1) % len(self._data)\n",
        "    self._data[self._front] = e\n",
        "    self._size += 1\n",
        "\n",
        "  def delete_last(self):\n",
        "    if self._is_empty():\n",
        "      raise Empty('The queue is empty!!')\n",
        "\n",
        "    avail = (self._front + self._size - 1) % len(self._data)\n",
        "    temp = self._data[avail]\n",
        "    self._data[avail] = None\n",
        "    self._size -= 1\n",
        "    return temp\n",
        "\n",
        "  def _resize(self, cap): \n",
        "    old = self. data\n",
        "    self._data = [None]*cap \n",
        "    walk = self._front\n",
        "    for k in range(self._size):\n",
        "      self._data[k] = old[walk]\n",
        "      walk = (1 + walk) % len(old)\n",
        "    self._front = 0\n",
        "    "
      ],
      "metadata": {
        "id": "NeZSsl3f_pUy"
      },
      "execution_count": null,
      "outputs": []
    },
    {
      "cell_type": "code",
      "source": [
        "#@title P-6.33\n",
        "\n",
        "class ArrayDeque:\n",
        "\n",
        "  QUEUE_SIZE = 10\n",
        "  def __init__(self, max_len=None):\n",
        "    \"\"\"if max_len is not set, we assume that the deque expansion is limitless\"\"\"    \n",
        "    self._max_len = max_len\n",
        "\n",
        "    if not self._max_len:\n",
        "      self._data = [None]* ArrayQueue.QUEUE_SIZE\n",
        "    else:\n",
        "      self._data = [None]* self._max_len\n",
        "\n",
        "    self._front = 0\n",
        "    self._size = 0\n",
        "\n",
        "  def __len__(self):\n",
        "    \"\"\"Gives the length of the content\"\"\"\n",
        "    return self._size\n",
        "  \n",
        "  def _is_empty(self):\n",
        "    return self._size == 0\n",
        "  \n",
        "  def first(self):\n",
        "    \"\"\"return the first element of the queue but does not remove it from the queue\"\"\"\n",
        "    if self._is_empty():\n",
        "      raise Empty('The queue is empty!!')\n",
        "\n",
        "    return self._data[self._front]\n",
        "\n",
        "  def last(self):\n",
        "    \"\"\"return the last element of the queue but does not remove it from the queue\"\"\"\n",
        "    if self._is_empty():\n",
        "      raise Empty('The queue is empty!!')\n",
        "    \n",
        "    back = (self._front + self._size - 1) % len(self._data)\n",
        "    return self._data[back]\n",
        "\n",
        "  def __getitem__(self, k):\n",
        "    \n",
        "    if k == 0:\n",
        "      return self.first()\n",
        "\n",
        "    elif k == -1:\n",
        "      return self.last()\n",
        "    \n",
        "    elif 0 < k < self._size -1:\n",
        "      return self._data[k]\n",
        "    \n",
        "    else:\n",
        "      raise IndexError(\"Out of index\")    \n",
        "\n",
        "  def __setitem__(self, k, v):\n",
        "\n",
        "    if k == 0:\n",
        "      avail = self._front\n",
        "      self._data[avail] = v\n",
        "\n",
        "    elif k == -1:\n",
        "      avail = (self._front + self._size) % len(self._data)\n",
        "      self._data[avail] = v\n",
        "    \n",
        "    elif 0 < k < self._size -1:\n",
        "      avail = (self._front + k) % len(self._data)\n",
        "      self._data[avail] = v\n",
        "\n",
        "    else:\n",
        "      raise IndexError(\"Out of index\") \n",
        "\n",
        "\n",
        "  def clear(self):\n",
        "\n",
        "    if not self._max_len:\n",
        "      self._data = [None]* ArrayQueue.QUEUE_SIZE\n",
        "    else:\n",
        "      self._data = [None]* self._max_len\n",
        "\n",
        "    self._front = 0\n",
        "    self._size = 0\n",
        "\n",
        "\n",
        "  def rotate(self, k):\n",
        "    \"\"\"circularly shift rightward k step\"\"\"\n",
        "    avail = self._front\n",
        "\n",
        "    #shift all data leftward to stitch it to the end of queue\n",
        "    for i in range(k):\n",
        "      self._data[(self._front + self._size + i) % len(self._data)] = self._data[(self._front + i) % len(self._data)]\n",
        "      self._data[(self._front + i) % len(self._data)] = None\n",
        "\n",
        "    self._front = (self._front + k) % len(self._data)\n",
        "\n",
        "  def remove(self, e):\n",
        "\n",
        "    if self._is_empty():\n",
        "      raise Empty('The queue is empty!!')\n",
        "    \n",
        "    avail = self._front\n",
        "    for k in range(len(self._data)):\n",
        "      if self._data[avail] == e:\n",
        "        if k == 0:\n",
        "          self._data[self._front] = None\n",
        "        else:\n",
        "          #shift all elements seen so far to the right\n",
        "          for i in range(1, k+1):\n",
        "            idx = (self._front + i) % len(self._data)\n",
        "            self._data[idx] = self._data[idx - 1]\n",
        "        \n",
        "        self._size -= 1\n",
        "        self._front += 1\n",
        "        return\n",
        "      avail = (avail + 1) % len(self._data)\n",
        "    \n",
        "    raise ValueError(\"There is no match for a given value!\")\n",
        "\n",
        "  def count(self, e):\n",
        "    if self._is_empty():\n",
        "      raise Empty('The queue is empty!!')\n",
        "\n",
        "    avail = self._front\n",
        "    count = 0\n",
        "    for k in range(len(self._data)):\n",
        "      if self._data[avail] == e:\n",
        "        count += 1\n",
        "      avail = (avail + 1) % len(self._data)\n",
        "    \n",
        "    return count\n",
        "\n",
        "\n",
        "  def append(self, e):\n",
        "\n",
        "    if not self._max_len:  \n",
        "      if self._size == len(self._data):\n",
        "        self._resize(2 * len(self._data))\n",
        "\n",
        "      avail = (self._front + self._size) % len(self._data)\n",
        "      self._data[avail] = e\n",
        "      self._size += 1\n",
        "    else:\n",
        "      if self._size < self._max_len:\n",
        "         avail = (self._front + self._size) % len(self._data)\n",
        "         self._data[avail] = e\n",
        "         self._size += 1\n",
        "      else:\n",
        "        self._data[self._front] = e\n",
        "        self._front = (self._front+1) % len(self._data)\n",
        "\n",
        "  def popleft(self):\n",
        "\n",
        "    if self._is_empty():\n",
        "      raise Empty('The queue is empty!!')\n",
        "    temp = self._data[self._front]\n",
        "    self._data[self._front] = None\n",
        "    self._size -= 1 \n",
        "    self._front = (self._front+1) % len(self._data)\n",
        "\n",
        "    if 0 < self._size < len(self._data) // 4: \n",
        "      self._resize(len(self._data) // 2)\n",
        "\n",
        "    return temp\n",
        "\n",
        "  def appendleft(self, e):\n",
        "    \n",
        "    if not self._max_len:\n",
        "      if self._size == len(self._data):\n",
        "        self._resize(2 * len(self._data))\n",
        "      self._front = (self._front - 1) % len(self._data)\n",
        "      self._data[self._front] = e\n",
        "      self._size += 1\n",
        "    \n",
        "    else:\n",
        "      if self._size < self._max_len:\n",
        "        self._front = (self._front - 1) % len(self._data)\n",
        "        self._data[self._front] = e\n",
        "        self._size += 1\n",
        "      else:\n",
        "        #if the max_len = size, then the element before first element is the last element which is replaced by\n",
        "        # the new added element\n",
        "        self._front = (self._front - 1) % len(self._data)\n",
        "        self._data[self._front] = e\n",
        "\n",
        "  def pop(self):\n",
        "    \n",
        "    if self._is_empty():\n",
        "      raise Empty('The queue is empty!!')\n",
        "\n",
        "    avail = (self._front + self._size - 1) % len(self._data)\n",
        "    temp = self._data[avail]\n",
        "    self._data[avail] = None\n",
        "    self._size -= 1\n",
        "    return temp\n",
        "\n",
        "  def _resize(self, cap): \n",
        "    old = self. data\n",
        "    self._data = [None]*cap \n",
        "    walk = self._front\n",
        "    for k in range(self._size):\n",
        "      self._data[k] = old[walk]\n",
        "      walk = (1 + walk) % len(old)\n",
        "    self._front = 0\n",
        "    "
      ],
      "metadata": {
        "id": "7P5HSxLcS7gG"
      },
      "execution_count": null,
      "outputs": []
    },
    {
      "cell_type": "code",
      "source": [
        "#@title P-6.34\n",
        "#please refer to C-6.22"
      ],
      "metadata": {
        "id": "1nC-W9vRcY7P"
      },
      "execution_count": null,
      "outputs": []
    },
    {
      "cell_type": "code",
      "source": [
        "#@title P-6.35\n",
        "class LeakyStack(ArrayStack):\n",
        "  def __init__(self, max_len=None):\n",
        "    super().__init__(max_len)\n",
        "\n",
        "  def push(self, e):\n",
        "    if not self._max_cap:\n",
        "      self._data.append(e)\n",
        "    else:\n",
        "      if self._max_cap == len(self):\n",
        "        for k in range(1, len(self._max_cap)):\n",
        "          self._data[k-1] = self._data[k]\n",
        "        self._data.append(e)\n",
        "      else:\n",
        "        self._data.append(e)"
      ],
      "metadata": {
        "id": "_H9qz-Sbzw_2"
      },
      "execution_count": null,
      "outputs": []
    },
    {
      "cell_type": "code",
      "source": [
        "l = LeakyStack(3)"
      ],
      "metadata": {
        "id": "XYU-ACPL354e"
      },
      "execution_count": null,
      "outputs": []
    },
    {
      "cell_type": "code",
      "source": [
        "#@title P-6.36\n",
        "def capital_gain(seq_trans):\n",
        "  q_buy = ArrayQueue()\n",
        "  capital_gain = 0\n",
        "  for s in seq_trans:\n",
        "    idx = s.find('buy')\n",
        "    if idx == -1:\n",
        "      idx0 = s.find('sell')\n",
        "      idx1 = s.find('share')\n",
        "      num_sold = int(s[idx0+4: idx1-1])\n",
        "      \n",
        "      idx0 = s.find('$')\n",
        "      idx1 = s.find('each')\n",
        "      price_sold = int(s[idx0+1: idx1-1])\n",
        "\n",
        "      done = False\n",
        "      while not done and not q_buy._is_empty():\n",
        "        f = q_buy.first()\n",
        "        \n",
        "        if f['num'] < num_sold:\n",
        "          capital_gain += (f['num']) * (price_sold - f['price'])\n",
        "          num_sold -= f['num']\n",
        "          q_buy.dequeue()   #remove the bought shares from queue\n",
        "        else:\n",
        "          f['num'] = f['num'] - num_sold\n",
        "          capital_gain += (num_sold) * (price_sold - f['price'])\n",
        "          q_buy.modify_queue({'num': f['num'] , 'price': f['price']}) #we do not remove the fist element in queue as we still have left\n",
        "          done = True\n",
        "\n",
        "    else:\n",
        "      idx0 = s.find('buy')\n",
        "      idx1 = s.find('share')\n",
        "      num_bought = int(s[idx0+3: idx1-1])\n",
        "      \n",
        "      idx0 = s.find('$')\n",
        "      idx1 = s.find('each')\n",
        "      price_bought = int(s[idx0+1: idx1-1])\n",
        "\n",
        "      q_buy.enqueue({'num': num_bought, 'price': price_bought})\n",
        "  \n",
        "  return capital_gain\n"
      ],
      "metadata": {
        "id": "AtAYYgAs3-Ba"
      },
      "execution_count": null,
      "outputs": []
    },
    {
      "cell_type": "code",
      "source": [
        "class ArrayQueue:\n",
        "  \"\"\"Implementation of queue\"\"\"\n",
        "  QUEUE_SIZE = 10\n",
        "  def __init__(self):\n",
        "    self._data = [None]* ArrayQueue.QUEUE_SIZE\n",
        "    self._front = 0\n",
        "    self._size = 0\n",
        "  \n",
        "  def __len__(self):\n",
        "    return self._size\n",
        "  \n",
        "  def _is_empty(self):\n",
        "    return self._size == 0\n",
        "  \n",
        "  def first(self):\n",
        "    \"\"\"return the first element of the queue but does not remove it from the queue\"\"\"\n",
        "    if self._is_empty():\n",
        "      raise Empty('The queue is empty!!')\n",
        "\n",
        "    return self._data[self._front]\n",
        "\n",
        "  def modify_queue(self, v):\n",
        "    \"\"\"modify the first element of the queue\"\"\"\n",
        "    self._data[self._front] = v\n",
        "\n",
        "\n",
        "  def dequeue(self):\n",
        "    if self._is_empty():\n",
        "      raise Empty('The queue is empty!!')\n",
        "\n",
        "    temp = self.first()\n",
        "    \n",
        "    self._data[self._front] = None\n",
        "    self._size -= 1 \n",
        "    self._front = (self._front+1) % len(self._data)\n",
        "\n",
        "    if 0 < self._size < len(self._data) // 4: \n",
        "      self._resize(len(self._data) // 2)\n",
        "    \n",
        "    return temp\n",
        "\n",
        "  def enqueue(self, e):\n",
        "    if self._size == len(self._data):\n",
        "      self._resize(2 * len(self._data))\n",
        "    avail = (self._front + self._size) % len(self._data)\n",
        "    self._data[avail] = e\n",
        "    self._size += 1\n",
        "\n",
        "  def _resize(self, cap): \n",
        "    old = self._data\n",
        "    self._data = [None]*cap \n",
        "    walk = self._front\n",
        "    for k in range(self._size):\n",
        "      self._data[k] = old[walk]\n",
        "      walk = (1 + walk) % len(old)\n",
        "    self._front = 0"
      ],
      "metadata": {
        "id": "EtQOdYk_DFxE"
      },
      "execution_count": null,
      "outputs": []
    },
    {
      "cell_type": "code",
      "source": [
        "seq_trans = ['buy 100 share(s) at $20 each', 'buy 20 share(s) at $24 each', 'buy 200 share(s) at $36 each', 'sell 150 share(s) at $30 each']\n",
        "capital_gain(seq_trans)"
      ],
      "metadata": {
        "colab": {
          "base_uri": "https://localhost:8080/"
        },
        "id": "7FFvHc7hCjr9",
        "outputId": "b1d5ea3a-e236-4c63-a61f-54319604301a"
      },
      "execution_count": null,
      "outputs": [
        {
          "output_type": "execute_result",
          "data": {
            "text/plain": [
              "940"
            ]
          },
          "metadata": {},
          "execution_count": 28
        }
      ]
    },
    {
      "cell_type": "code",
      "source": [
        "#@title P-6.37\n",
        "\n",
        "class Empty(Exception):\n",
        "  pass\n",
        "\n",
        "class TwoColorStackArray:\n",
        "  \"\"\"An colored array stack with python list ADT as the core data structure\"\"\"\n",
        "  STACK_SIZE = 10\n",
        "  def __init__(self):\n",
        "    self._data = [None] * ArrayStack.STACK_SIZE\n",
        "    self._front_red = 0\n",
        "    self._front_blue = -1\n",
        "  \n",
        "  def __len__(self):\n",
        "    len_1 = self._data.index(None)\n",
        "    \n",
        "    self._data.reverse()\n",
        "    len_2 = self._data.index(None)\n",
        "    \n",
        "    self._data.reverse()\n",
        "\n",
        "    return len_1 + len_2\n",
        "  \n",
        "  def _is_empty(self, c='red'):\n",
        "\n",
        "    if c=='red':\n",
        "      return self._front_red == 0\n",
        "    else:\n",
        "      return self._front_blue == -1\n",
        "  \n",
        "  def push(self, e, c='red'):\n",
        "    \n",
        "    if len(self) == len(self._data) - 1:\n",
        "      self._resize(2*len(self._data))\n",
        "\n",
        "    if c == 'red':\n",
        "      self._data[self._front_red] = e\n",
        "      self._front_red += 1\n",
        "    else:\n",
        "      self._data[self._front_blue] = e\n",
        "      self._front_blue -= 1\n",
        "    \n",
        "\n",
        "  def _top(self, c='red'):\n",
        "\n",
        "    if self._is_empty():\n",
        "      Empty('stack is empty')\n",
        "\n",
        "    if c == 'red':\n",
        "      return self._data[self._front_red - 1]\n",
        "    else:\n",
        "      return self._data[self._front_blue + 1]\n",
        "\n",
        "  def pop(self, c='red'):\n",
        "\n",
        "    if self._is_empty(c):\n",
        "      raise Empty(f'stack {c} is empty')\n",
        "    \n",
        "    if c == 'red':\n",
        "      answer = self._data[self._front_red - 1]\n",
        "      self._front_red -= 1\n",
        "      return answer\n",
        "    else:\n",
        "      answer = self._data[self._front_blue + 1]\n",
        "      self._front_blue += 1\n",
        "      return answer\n",
        "\n",
        "  def _resize(self, cap): \n",
        "    old = self._data\n",
        "    self._data = [None]*cap \n",
        "    \n",
        "    walk = self._front_red\n",
        "    for k in range(walk):\n",
        "      self._data[k] = old[k]\n",
        "    \n",
        "    walk = self._front_blue\n",
        "    for k in range(walk, 0, 1):\n",
        "      self._data[k] = old[k]\n",
        "  "
      ],
      "metadata": {
        "id": "HgJLTPrIN-zL"
      },
      "execution_count": null,
      "outputs": []
    },
    {
      "cell_type": "code",
      "source": [
        "S = TwoColorStackArray()"
      ],
      "metadata": {
        "id": "SnZmctPOO2lx"
      },
      "execution_count": null,
      "outputs": []
    },
    {
      "cell_type": "code",
      "source": [
        "S.push(1, 'red')\n",
        "S.push(2, 'red')\n",
        "\n",
        "S.push(3, 'blue')\n",
        "S.push(4, 'blue')\n",
        "S.push(5, 'blue')"
      ],
      "metadata": {
        "id": "uTNAcbvrO-Ve"
      },
      "execution_count": null,
      "outputs": []
    },
    {
      "cell_type": "code",
      "source": [
        "S.pop('blue')"
      ],
      "metadata": {
        "colab": {
          "base_uri": "https://localhost:8080/"
        },
        "id": "bOXWoF0-UBlJ",
        "outputId": "7ec07171-f3b7-4a74-d1d6-a132bb5cb1c7"
      },
      "execution_count": null,
      "outputs": [
        {
          "output_type": "execute_result",
          "data": {
            "text/plain": [
              "5"
            ]
          },
          "metadata": {},
          "execution_count": 108
        }
      ]
    },
    {
      "cell_type": "code",
      "source": [],
      "metadata": {
        "id": "5L2hOHFWQWy8"
      },
      "execution_count": null,
      "outputs": []
    }
  ]
}