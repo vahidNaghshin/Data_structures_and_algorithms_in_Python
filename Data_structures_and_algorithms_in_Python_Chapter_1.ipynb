{
  "nbformat": 4,
  "nbformat_minor": 0,
  "metadata": {
    "colab": {
      "provenance": [],
      "authorship_tag": "ABX9TyOOfmHZUGnAo0f58EAQzQ6n",
      "include_colab_link": true
    },
    "kernelspec": {
      "name": "python3",
      "display_name": "Python 3"
    }
  },
  "cells": [
    {
      "cell_type": "markdown",
      "metadata": {
        "id": "view-in-github",
        "colab_type": "text"
      },
      "source": [
        "<a href=\"https://colab.research.google.com/github/vahidNaghshin/Data_structures_and_algorithms_in_Python/blob/main/Data_structures_and_algorithms_in_Python_Chapter_1.ipynb\" target=\"_parent\"><img src=\"https://colab.research.google.com/assets/colab-badge.svg\" alt=\"Open In Colab\"/></a>"
      ]
    },
    {
      "cell_type": "markdown",
      "source": [
        "# Chapter1. PythonPrimer"
      ],
      "metadata": {
        "id": "gN3KBCs_NZrX"
      }
    },
    {
      "cell_type": "markdown",
      "source": [
        "# Reinforcement"
      ],
      "metadata": {
        "id": "9LltMNwgS2CR"
      }
    },
    {
      "cell_type": "code",
      "source": [
        "#@title R-1.1\n",
        "def is_multiple(n, m):\n",
        "  if not m:\n",
        "    raise ValueError('The number should be non-zero')\n",
        "  return True if not n%m else False"
      ],
      "metadata": {
        "id": "4ZIyr_qeIuSO"
      },
      "execution_count": null,
      "outputs": []
    },
    {
      "cell_type": "code",
      "source": [
        "n, m = 10, 4\n",
        "is_multiple(n, m)"
      ],
      "metadata": {
        "colab": {
          "base_uri": "https://localhost:8080/"
        },
        "id": "j3YUGy8pJA1o",
        "outputId": "0fa71a92-f912-4a47-949b-23322b6bc619"
      },
      "execution_count": null,
      "outputs": [
        {
          "output_type": "execute_result",
          "data": {
            "text/plain": [
              "False"
            ]
          },
          "metadata": {},
          "execution_count": 92
        }
      ]
    },
    {
      "cell_type": "code",
      "source": [
        "#@title R-1.2\n",
        "def is_even(k):\n",
        "  k = abs(k)\n",
        "  while True:\n",
        "    if k == 1:\n",
        "      #the k is odd\n",
        "      return False\n",
        "    elif not k:\n",
        "      #k is even\n",
        "      return True\n",
        "    k -= 2"
      ],
      "metadata": {
        "id": "q4o8EahEJGbQ"
      },
      "execution_count": null,
      "outputs": []
    },
    {
      "cell_type": "code",
      "source": [
        "k=-40\n",
        "is_even(k)"
      ],
      "metadata": {
        "colab": {
          "base_uri": "https://localhost:8080/"
        },
        "id": "g1kTr8kDNbhV",
        "outputId": "aca5794f-62bd-466e-f47c-510791e18344"
      },
      "execution_count": null,
      "outputs": [
        {
          "output_type": "execute_result",
          "data": {
            "text/plain": [
              "True"
            ]
          },
          "metadata": {},
          "execution_count": 99
        }
      ]
    },
    {
      "cell_type": "code",
      "source": [
        "#@title R-1.3\n",
        "def minmax(seq):\n",
        "  if not seq:\n",
        "    raise ValueError('The sequence is empty!')\n",
        "\n",
        "  max_value, min_value = seq[0], seq[0]\n",
        "  for i in range(1, len(seq)):\n",
        "    if seq[i] > max_value:\n",
        "      max_value = seq[i]\n",
        "    if seq[i] < min_value:\n",
        "      min_value = seq[i]\n",
        "    \n",
        "  return max_value, min_value"
      ],
      "metadata": {
        "id": "yuCsoalXNdsX"
      },
      "execution_count": null,
      "outputs": []
    },
    {
      "cell_type": "code",
      "source": [
        "seq = [1, 5, -2, 8, 10, 190]\n",
        "minmax(seq)"
      ],
      "metadata": {
        "colab": {
          "base_uri": "https://localhost:8080/"
        },
        "id": "wxqvPVihOJiD",
        "outputId": "c7af8bb0-363b-43c9-febc-e192e511578d"
      },
      "execution_count": null,
      "outputs": [
        {
          "output_type": "execute_result",
          "data": {
            "text/plain": [
              "(190, -2)"
            ]
          },
          "metadata": {},
          "execution_count": 107
        }
      ]
    },
    {
      "cell_type": "code",
      "source": [
        "#@title R-1.4\n",
        "def sum_sqrs(k):\n",
        "  sum_ = 0\n",
        "  for i in range(k):\n",
        "    sum_ += i * i\n",
        "  return sum_"
      ],
      "metadata": {
        "id": "QA4womN0OPLt"
      },
      "execution_count": null,
      "outputs": []
    },
    {
      "cell_type": "code",
      "source": [
        "k=3\n",
        "sum_sqrs(k)"
      ],
      "metadata": {
        "colab": {
          "base_uri": "https://localhost:8080/"
        },
        "id": "rhJa16pdOYdV",
        "outputId": "0d1ee1e5-7641-4ea5-cff8-397fc6198c69"
      },
      "execution_count": null,
      "outputs": [
        {
          "output_type": "execute_result",
          "data": {
            "text/plain": [
              "5"
            ]
          },
          "metadata": {},
          "execution_count": 109
        }
      ]
    },
    {
      "cell_type": "code",
      "source": [
        "#@title R-1.5\n",
        "sum(z*z for z in range(k))"
      ],
      "metadata": {
        "colab": {
          "base_uri": "https://localhost:8080/"
        },
        "id": "6JQCYIVYPhlQ",
        "outputId": "7f12801d-384f-4937-9216-a9f16573979f"
      },
      "execution_count": null,
      "outputs": [
        {
          "output_type": "execute_result",
          "data": {
            "text/plain": [
              "5"
            ]
          },
          "metadata": {},
          "execution_count": 110
        }
      ]
    },
    {
      "cell_type": "code",
      "source": [
        "#@title R-1.6\n",
        "def sum_odd_sqrs(k):\n",
        "  sum_ = 0\n",
        "  for i in range(k):\n",
        "    if i%2:\n",
        "      sum_ += i * i\n",
        "  return sum_"
      ],
      "metadata": {
        "id": "fKddPbgsPs9u"
      },
      "execution_count": null,
      "outputs": []
    },
    {
      "cell_type": "code",
      "source": [
        "sum_odd_sqrs(k)"
      ],
      "metadata": {
        "colab": {
          "base_uri": "https://localhost:8080/"
        },
        "id": "c9YXFcujP6yD",
        "outputId": "6ba7b62a-62d6-4eb9-f34a-7060d52ab5c8"
      },
      "execution_count": null,
      "outputs": [
        {
          "output_type": "execute_result",
          "data": {
            "text/plain": [
              "1"
            ]
          },
          "metadata": {},
          "execution_count": 114
        }
      ]
    },
    {
      "cell_type": "code",
      "source": [
        "#@title R-1.7\n",
        "sum(z*z for z in range(k) if z%2)"
      ],
      "metadata": {
        "colab": {
          "base_uri": "https://localhost:8080/"
        },
        "id": "QM87QfjtP70Q",
        "outputId": "be354a8c-ceee-4628-c1d4-37b9e4ffd1b1"
      },
      "execution_count": null,
      "outputs": [
        {
          "output_type": "execute_result",
          "data": {
            "text/plain": [
              "1"
            ]
          },
          "metadata": {},
          "execution_count": 115
        }
      ]
    },
    {
      "cell_type": "code",
      "source": [
        "#@title R-1.10\n",
        "[i for i in range(8, -9, -2)]"
      ],
      "metadata": {
        "colab": {
          "base_uri": "https://localhost:8080/"
        },
        "id": "u4zhVP40QR6z",
        "outputId": "588d7db5-5516-4cb1-e4e6-4a4449e1e6ed"
      },
      "execution_count": null,
      "outputs": [
        {
          "output_type": "execute_result",
          "data": {
            "text/plain": [
              "[8, 6, 4, 2, 0, -2, -4, -6, -8]"
            ]
          },
          "metadata": {},
          "execution_count": 117
        }
      ]
    },
    {
      "cell_type": "code",
      "source": [
        "#@title R-1.11\n",
        "[2**i for i in range(9)]"
      ],
      "metadata": {
        "colab": {
          "base_uri": "https://localhost:8080/"
        },
        "id": "jQZxaaIRQn2S",
        "outputId": "1e5879ea-b1ec-431f-c6e9-0cb6341ad453"
      },
      "execution_count": null,
      "outputs": [
        {
          "output_type": "execute_result",
          "data": {
            "text/plain": [
              "[1, 2, 4, 8, 16, 32, 64, 128, 256]"
            ]
          },
          "metadata": {},
          "execution_count": 119
        }
      ]
    },
    {
      "cell_type": "code",
      "source": [
        "#@title R-1.12\n",
        "import random\n",
        "\n",
        "def choice_(seq):\n",
        "  return seq[random.randrange(0, len(seq))]\n"
      ],
      "metadata": {
        "id": "bPJgGpoNQzhv"
      },
      "execution_count": null,
      "outputs": []
    },
    {
      "cell_type": "code",
      "source": [
        "seq = [1,2,3,4]\n",
        "choice_(seq)"
      ],
      "metadata": {
        "colab": {
          "base_uri": "https://localhost:8080/"
        },
        "id": "aiApWNQaRrSx",
        "outputId": "e841e0db-c5bc-4a70-db5f-bfbaebe4ae7b"
      },
      "execution_count": null,
      "outputs": [
        {
          "output_type": "execute_result",
          "data": {
            "text/plain": [
              "4"
            ]
          },
          "metadata": {},
          "execution_count": 131
        }
      ]
    },
    {
      "cell_type": "markdown",
      "source": [
        "# Creativity"
      ],
      "metadata": {
        "id": "OGSvEQobS4pj"
      }
    },
    {
      "cell_type": "code",
      "source": [
        "#@title C-1.13\n",
        "seq = [1,6,2,5,9,3]\n",
        "seq.reverse()\n",
        "seq"
      ],
      "metadata": {
        "colab": {
          "base_uri": "https://localhost:8080/"
        },
        "id": "feQ75A7mRvBd",
        "outputId": "bb9f69a4-6e60-4955-d3f0-f6c939562cb0"
      },
      "execution_count": null,
      "outputs": [
        {
          "output_type": "execute_result",
          "data": {
            "text/plain": [
              "[3, 9, 5, 2, 6, 1]"
            ]
          },
          "metadata": {},
          "execution_count": 134
        }
      ]
    },
    {
      "cell_type": "code",
      "source": [
        "for i in {1,2,36,2}:\n",
        "  print(i)"
      ],
      "metadata": {
        "colab": {
          "base_uri": "https://localhost:8080/"
        },
        "id": "TQ1JHy6jUEv4",
        "outputId": "3376641c-1ae6-4b20-9b57-307ba4308bd4"
      },
      "execution_count": null,
      "outputs": [
        {
          "output_type": "stream",
          "name": "stdout",
          "text": [
            "1\n",
            "2\n",
            "36\n"
          ]
        }
      ]
    },
    {
      "cell_type": "code",
      "source": [
        "#@title C-1.14\n",
        "def determine_odd_prod(seq):\n",
        "  elements = list(set(seq)) #to get the distinct elements\n",
        "  result = []\n",
        "  for i in range(len(elements)):\n",
        "    for j in range(i+1, len(elements)): #since we have distinct elements\n",
        "      if (seq[i] * seq[j]) % 2:\n",
        "        return True\n",
        "  return False"
      ],
      "metadata": {
        "id": "Y1Ikf3PDTfm5"
      },
      "execution_count": null,
      "outputs": []
    },
    {
      "cell_type": "code",
      "source": [
        "seq = [1,24,21,2,4, 24]\n",
        "determine_odd_prod(seq)"
      ],
      "metadata": {
        "colab": {
          "base_uri": "https://localhost:8080/"
        },
        "id": "6CpIhM26Upxx",
        "outputId": "033e88e6-f3b5-4ea4-fe13-67fad9937621"
      },
      "execution_count": null,
      "outputs": [
        {
          "output_type": "execute_result",
          "data": {
            "text/plain": [
              "True"
            ]
          },
          "metadata": {},
          "execution_count": 152
        }
      ]
    },
    {
      "cell_type": "code",
      "source": [
        "#@title C-1.15\n",
        "def is_distinct(seq):\n",
        "  return True if len(seq)==len(set(seq)) else False"
      ],
      "metadata": {
        "id": "Yb-Vb1ebU0cP"
      },
      "execution_count": null,
      "outputs": []
    },
    {
      "cell_type": "code",
      "source": [
        "is_distinct(seq)"
      ],
      "metadata": {
        "colab": {
          "base_uri": "https://localhost:8080/"
        },
        "id": "PHiTewRbVwKZ",
        "outputId": "e1d72162-be9e-4870-fce8-1495c504c8e0"
      },
      "execution_count": null,
      "outputs": [
        {
          "output_type": "execute_result",
          "data": {
            "text/plain": [
              "False"
            ]
          },
          "metadata": {},
          "execution_count": 154
        }
      ]
    },
    {
      "cell_type": "code",
      "source": [
        "#@title C-1.18\n",
        "[i*(i+1) for i in range(10)]"
      ],
      "metadata": {
        "colab": {
          "base_uri": "https://localhost:8080/"
        },
        "id": "XF4_p_7iWzwo",
        "outputId": "77dd899d-3bbb-43ec-f12a-cf3b24b34832"
      },
      "execution_count": null,
      "outputs": [
        {
          "output_type": "execute_result",
          "data": {
            "text/plain": [
              "[0, 2, 6, 12, 20, 30, 42, 56, 72, 90]"
            ]
          },
          "metadata": {},
          "execution_count": 175
        }
      ]
    },
    {
      "cell_type": "code",
      "source": [
        "#@title C-1.19\n",
        "[chr(i) for i in range(97, 97+26)]"
      ],
      "metadata": {
        "colab": {
          "base_uri": "https://localhost:8080/"
        },
        "id": "04FFMMBFW4ii",
        "outputId": "34db1df9-2252-433e-e31a-170a05aedbba"
      },
      "execution_count": null,
      "outputs": [
        {
          "output_type": "execute_result",
          "data": {
            "text/plain": [
              "['a',\n",
              " 'b',\n",
              " 'c',\n",
              " 'd',\n",
              " 'e',\n",
              " 'f',\n",
              " 'g',\n",
              " 'h',\n",
              " 'i',\n",
              " 'j',\n",
              " 'k',\n",
              " 'l',\n",
              " 'm',\n",
              " 'n',\n",
              " 'o',\n",
              " 'p',\n",
              " 'q',\n",
              " 'r',\n",
              " 's',\n",
              " 't',\n",
              " 'u',\n",
              " 'v',\n",
              " 'w',\n",
              " 'x',\n",
              " 'y',\n",
              " 'z']"
            ]
          },
          "metadata": {},
          "execution_count": 179
        }
      ]
    },
    {
      "cell_type": "code",
      "source": [
        "#@title C-1.20\n",
        "import random\n",
        "def own_shuffle(seq):\n",
        "  k = len(seq)\n",
        "  idx = []\n",
        "  while k:\n",
        "    idx_rand = random.randint(0,len(seq)-1) #randint includes both end points\n",
        "    if  idx_rand not in idx:\n",
        "      idx.append(idx_rand)\n",
        "      k -= 1\n",
        "    \n",
        "  return [seq[i] for i in idx]\n"
      ],
      "metadata": {
        "id": "NQ1toLpoXHeb"
      },
      "execution_count": null,
      "outputs": []
    },
    {
      "cell_type": "code",
      "source": [
        "own_shuffle(seq)"
      ],
      "metadata": {
        "colab": {
          "base_uri": "https://localhost:8080/"
        },
        "id": "dAtArmqkcAAm",
        "outputId": "5c9490ff-ef91-4b4c-a9c7-d5060b86837a"
      },
      "execution_count": null,
      "outputs": [
        {
          "output_type": "execute_result",
          "data": {
            "text/plain": [
              "[2, 4, 48, 8, 42, 48]"
            ]
          },
          "metadata": {},
          "execution_count": 194
        }
      ]
    },
    {
      "cell_type": "code",
      "source": [
        "#@title C-1.21\n",
        "print('enter your input')\n",
        "print('To finish, enter ctrl+D')\n",
        "done = True\n",
        "temp = []\n",
        "while done:\n",
        "  try:\n",
        "    temp.append(input('Enter ... '))\n",
        "  except EOFError:\n",
        "    done = False #finish getting input from user\n",
        "    temp.reverse()\n",
        "    for line in temp:\n",
        "      print(line)\n"
      ],
      "metadata": {
        "colab": {
          "base_uri": "https://localhost:8080/"
        },
        "id": "JO6udsCeclh5",
        "outputId": "c970b48f-9548-42bd-9ba5-c26297311220"
      },
      "execution_count": null,
      "outputs": [
        {
          "output_type": "stream",
          "name": "stdout",
          "text": [
            "enter your input\n",
            "To finish, enter ctrl+D\n",
            "Enter ... this is line 1\n",
            "Enter ... this is line 2\n",
            "Enter ... this is line 3\n",
            "Enter ... \u0004\n",
            "this is line 3\n",
            "this is line 2\n",
            "this is line 1\n"
          ]
        }
      ]
    },
    {
      "cell_type": "code",
      "source": [
        "#@title C-1.22\n",
        "def dot_prod(a, b):\n",
        "  return [a[i]*b[i] for i in range(len(a))] #both arrays/lists have the same length"
      ],
      "metadata": {
        "id": "NoHkjSx3dsz-"
      },
      "execution_count": null,
      "outputs": []
    },
    {
      "cell_type": "code",
      "source": [
        "a, b=[1,2,3], [4,5,6]\n",
        "dot_prod(a, b)"
      ],
      "metadata": {
        "colab": {
          "base_uri": "https://localhost:8080/"
        },
        "id": "wjDzFbwmPq7P",
        "outputId": "e1a8d851-b493-4398-c695-9445b5399364"
      },
      "execution_count": null,
      "outputs": [
        {
          "output_type": "execute_result",
          "data": {
            "text/plain": [
              "[4, 10, 18]"
            ]
          },
          "metadata": {},
          "execution_count": 4
        }
      ]
    },
    {
      "cell_type": "code",
      "source": [
        "#@title C-1.23\n",
        "def out_of_bound(a, idx):\n",
        "  try:\n",
        "    return a[idx]\n",
        "  except IndexError:\n",
        "    print('Don’t try buffer overflow attacks in Python!')"
      ],
      "metadata": {
        "id": "tHMpd8SFP0kZ"
      },
      "execution_count": null,
      "outputs": []
    },
    {
      "cell_type": "code",
      "source": [
        "out_of_bound(a, idx=10)"
      ],
      "metadata": {
        "colab": {
          "base_uri": "https://localhost:8080/"
        },
        "id": "H6ZoZb5tQRB3",
        "outputId": "cb9568da-fbc6-4368-d783-9c000fde140a"
      },
      "execution_count": null,
      "outputs": [
        {
          "output_type": "stream",
          "name": "stdout",
          "text": [
            "Don’t try buffer overflow attacks in Python!\n"
          ]
        }
      ]
    },
    {
      "cell_type": "code",
      "source": [
        "#@title C-1.24\n",
        "def count_vowel(character):\n",
        "  count = 0\n",
        "  for c in character:\n",
        "    if c in {'a', 'o', 'e', 'i', 'u'}:\n",
        "      count += 1\n",
        "  return count\n"
      ],
      "metadata": {
        "id": "KJJjXPJuQWwN"
      },
      "execution_count": null,
      "outputs": []
    },
    {
      "cell_type": "code",
      "source": [
        "character = 'Hello, world!'\n",
        "count_vowel(character)"
      ],
      "metadata": {
        "colab": {
          "base_uri": "https://localhost:8080/"
        },
        "id": "wlX1J3M7Q7Nd",
        "outputId": "33c8b696-afb8-4b8b-d927-bd39ace02a06"
      },
      "execution_count": null,
      "outputs": [
        {
          "output_type": "execute_result",
          "data": {
            "text/plain": [
              "3"
            ]
          },
          "metadata": {},
          "execution_count": 10
        }
      ]
    },
    {
      "cell_type": "code",
      "source": [
        "#@title C-1.25\n",
        "def remove_punc(character):\n",
        "  no_punc = ''\n",
        "  for c in character:\n",
        "    if not c in {'.', '\\'', '?', '!', ',', ':', ';', '-', '_', '[', ']', '{', '}', '(', ')', '\\\"'}:\n",
        "      no_punc += c\n",
        "  return no_punc\n"
      ],
      "metadata": {
        "id": "5ROtnBczRANs"
      },
      "execution_count": null,
      "outputs": []
    },
    {
      "cell_type": "code",
      "source": [
        "character= \"Let\\'s try, Mike.\"\n",
        "remove_punc(character)"
      ],
      "metadata": {
        "colab": {
          "base_uri": "https://localhost:8080/",
          "height": 37
        },
        "id": "od3_HF6MRyMW",
        "outputId": "f93c6789-3129-44a7-ce85-bae3d686cf0c"
      },
      "execution_count": null,
      "outputs": [
        {
          "output_type": "execute_result",
          "data": {
            "text/plain": [
              "'Lets try Mike'"
            ],
            "application/vnd.google.colaboratory.intrinsic+json": {
              "type": "string"
            }
          },
          "metadata": {},
          "execution_count": 15
        }
      ]
    },
    {
      "cell_type": "code",
      "source": [
        "#@title C-1.26\n",
        "\n",
        "def det_order():\n",
        "  a = int(input('Enter a number : a'))\n",
        "  b = int(input('Enter a number : b'))\n",
        "  c = int(input('Enter a number : c'))\n",
        "\n",
        "  if a + b == c or c + a == b or b + c == a:\n",
        "    return True\n",
        "  elif a - b == c or c - a == b or b - c == a:\n",
        "    return True\n",
        "  elif a * b == c or c * a == b or b * c == a:\n",
        "    return True\n",
        "  return False"
      ],
      "metadata": {
        "id": "VAGhMA8hRzcK"
      },
      "execution_count": null,
      "outputs": []
    },
    {
      "cell_type": "code",
      "source": [
        "det_order()"
      ],
      "metadata": {
        "colab": {
          "base_uri": "https://localhost:8080/"
        },
        "id": "OOurP2f-T1Mj",
        "outputId": "bfb51835-62f3-4e7a-f43c-5f5c3aaa9ac8"
      },
      "execution_count": null,
      "outputs": [
        {
          "name": "stdout",
          "output_type": "stream",
          "text": [
            "Enter a number : a3\n",
            "Enter a number : b4\n",
            "Enter a number : c1\n"
          ]
        },
        {
          "output_type": "execute_result",
          "data": {
            "text/plain": [
              "True"
            ]
          },
          "metadata": {},
          "execution_count": 19
        }
      ]
    },
    {
      "cell_type": "code",
      "source": [
        "#@title C-1.27\n",
        "def factors(n):\n",
        "  k = 1\n",
        "  temp = []\n",
        "  while k * k < n:\n",
        "    if not n%k:\n",
        "      yield k\n",
        "      temp.append(n//k)\n",
        "    k+=1\n",
        "  if k*k ==n:\n",
        "    yield k\n",
        "  temp.reverse()\n",
        "  for i in temp:\n",
        "    yield i \n",
        "  "
      ],
      "metadata": {
        "id": "DzUlpdHzT78P"
      },
      "execution_count": null,
      "outputs": []
    },
    {
      "cell_type": "code",
      "source": [
        "for i in factors(90):\n",
        "  print(i)"
      ],
      "metadata": {
        "colab": {
          "base_uri": "https://localhost:8080/"
        },
        "id": "5zZVSfwOiXog",
        "outputId": "ba43b5f7-39ae-429f-8e16-e0d3abaa895f"
      },
      "execution_count": null,
      "outputs": [
        {
          "output_type": "stream",
          "name": "stdout",
          "text": [
            "1\n",
            "2\n",
            "3\n",
            "5\n",
            "6\n",
            "9\n",
            "10\n",
            "15\n",
            "18\n",
            "30\n",
            "45\n",
            "90\n"
          ]
        }
      ]
    },
    {
      "cell_type": "code",
      "source": [
        "#@title C-1.28\n",
        "import math\n",
        "def norm(v, p=2):\n",
        "  return math.sqrt(sum(v[i] * v[i] for i in range(len(v))))"
      ],
      "metadata": {
        "id": "kn3oKJ9_idU-"
      },
      "execution_count": null,
      "outputs": []
    },
    {
      "cell_type": "code",
      "source": [
        "v = (3, 4)\n",
        "norm(v)"
      ],
      "metadata": {
        "colab": {
          "base_uri": "https://localhost:8080/"
        },
        "id": "Xqp3DF9blHDC",
        "outputId": "afc38eea-ce5b-4af6-a783-14bb5d34bae3"
      },
      "execution_count": null,
      "outputs": [
        {
          "output_type": "execute_result",
          "data": {
            "text/plain": [
              "5.0"
            ]
          },
          "metadata": {},
          "execution_count": 12
        }
      ]
    },
    {
      "cell_type": "markdown",
      "source": [
        "# Projects"
      ],
      "metadata": {
        "id": "V8N49pvwlPaD"
      }
    },
    {
      "cell_type": "code",
      "source": [
        "#@title P-1.29\n",
        "import math, random\n",
        "\n",
        "def possible_string(ch=['c' , 'a' , 't' ]):\n",
        "  \n",
        "  idx = [i for i in range(len(ch))]\n",
        "  tot_comb = math.factorial(len(ch))\n",
        "  print(\"Total words is: {0}\".format(tot_comb))\n",
        "  k = 0\n",
        "  temp = []\n",
        "  while len(temp) < tot_comb:\n",
        "\n",
        "    #make a word\n",
        "    candidate = ''\n",
        "    for i in idx:\n",
        "      candidate += ch[i]\n",
        "\n",
        "    #if the word is not already in the list of words should be considered as new entry\n",
        "    if not candidate in temp:\n",
        "      temp.append(candidate)\n",
        "\n",
        "    random.shuffle(idx)\n",
        "\n",
        "  return temp"
      ],
      "metadata": {
        "id": "fdztUEXklKuR",
        "cellView": "form"
      },
      "execution_count": null,
      "outputs": []
    },
    {
      "cell_type": "code",
      "source": [
        "all_words = possible_string(ch=['c' , 'a' , 't' , 'd' , 'o' , 'g'  ])\n",
        "len(all_words)"
      ],
      "metadata": {
        "colab": {
          "base_uri": "https://localhost:8080/"
        },
        "id": "OTKsB6RUoa-h",
        "outputId": "d6be0a85-33e1-4ae4-a61a-49bba3d75453"
      },
      "execution_count": null,
      "outputs": [
        {
          "output_type": "stream",
          "name": "stdout",
          "text": [
            "Total words is: 720\n"
          ]
        },
        {
          "output_type": "execute_result",
          "data": {
            "text/plain": [
              "720"
            ]
          },
          "metadata": {},
          "execution_count": 29
        }
      ]
    },
    {
      "cell_type": "code",
      "source": [
        "idx = [0, 1, 2, 3]\n",
        "c= ['z', 'a', 'o', 'd']\n",
        "p = ''\n",
        "for i in idx:\n",
        "  p += c[i]\n",
        "\n",
        "p\n"
      ],
      "metadata": {
        "colab": {
          "base_uri": "https://localhost:8080/",
          "height": 37
        },
        "id": "AFsH0nOpnIcW",
        "outputId": "e4a982f7-7238-420b-d4b2-8899bb1debf2"
      },
      "execution_count": null,
      "outputs": [
        {
          "output_type": "execute_result",
          "data": {
            "text/plain": [
              "'zaod'"
            ],
            "application/vnd.google.colaboratory.intrinsic+json": {
              "type": "string"
            }
          },
          "metadata": {},
          "execution_count": 20
        }
      ]
    },
    {
      "cell_type": "code",
      "source": [
        "#@title P-1.30\n",
        "def num_div():\n",
        "  n = int(input('Please enter a number greater than 2: '))\n",
        "  k = 0\n",
        "  while n > 2:\n",
        "    n /= 2\n",
        "    k += 1\n",
        "  return k \n"
      ],
      "metadata": {
        "id": "THUC2UvboehI"
      },
      "execution_count": null,
      "outputs": []
    },
    {
      "cell_type": "code",
      "source": [
        "num_div()"
      ],
      "metadata": {
        "colab": {
          "base_uri": "https://localhost:8080/"
        },
        "id": "DHyCXXTLtQf9",
        "outputId": "8cffeb00-edf3-4296-9130-c4dd45d00e17"
      },
      "execution_count": null,
      "outputs": [
        {
          "name": "stdout",
          "output_type": "stream",
          "text": [
            "Please enter a number greater than 2: 7\n"
          ]
        },
        {
          "output_type": "execute_result",
          "data": {
            "text/plain": [
              "2"
            ]
          },
          "metadata": {},
          "execution_count": 19
        }
      ]
    },
    {
      "cell_type": "code",
      "source": [
        "#@title P-1.31\n",
        "def make_change(charged, given, coins):\n",
        " change = given - charged\n",
        " if change < 0:\n",
        "   raise ValueError('Money Given should be greater than Money Charged')\n",
        "\n",
        " result = {}\n",
        " \n",
        " #makes sure the coins is sorted from max to min\n",
        " coins.sort()\n",
        " coins.reverse()\n",
        "\n",
        "\n",
        " for k in range(len(coins)):\n",
        "   q, r = divmod(change, coins[k])\n",
        "   result[coins[k]] = q\n",
        "   change = r\n",
        " \n",
        " if change:\n",
        "   print('Warning: change cannot paid fully')  #if the change cannot paid by coin system\n",
        "\n",
        " return result  \n",
        "\n",
        "\n"
      ],
      "metadata": {
        "id": "1RdwRJwPtSvY"
      },
      "execution_count": null,
      "outputs": []
    },
    {
      "cell_type": "code",
      "source": [
        "charged, given = 200, 335\n",
        "coins = [1, 2, 5, 10, 20, 50, 100]\n",
        "\n",
        "make_change(charged, given, coins)"
      ],
      "metadata": {
        "colab": {
          "base_uri": "https://localhost:8080/"
        },
        "id": "0Q80NGLhvxDH",
        "outputId": "b91625a2-bc32-4581-8dfa-0d524d40e522"
      },
      "execution_count": null,
      "outputs": [
        {
          "output_type": "execute_result",
          "data": {
            "text/plain": [
              "{100: 1, 50: 0, 20: 1, 10: 1, 5: 1, 2: 0, 1: 0}"
            ]
          },
          "metadata": {},
          "execution_count": 38
        }
      ]
    },
    {
      "cell_type": "code",
      "source": [
        "#@title P-1.32\n",
        "def calculator():\n",
        "  in1 = float(input('Input the first number: '))\n",
        "  in2 = float(input('Input the second number: '))\n",
        "  op = input('Input the operation: (+, -, /, *)')\n",
        "\n",
        "  if op == '+':\n",
        "    return in1 + in2\n",
        "  elif op == '-':\n",
        "    return in1 - in2\n",
        "  elif op == '/':\n",
        "    return in1 / in2\n",
        "  elif op == '*':\n",
        "    return in1 * in2"
      ],
      "metadata": {
        "id": "DDzN2djRtXl5"
      },
      "execution_count": null,
      "outputs": []
    },
    {
      "cell_type": "code",
      "source": [
        "calculator()"
      ],
      "metadata": {
        "colab": {
          "base_uri": "https://localhost:8080/"
        },
        "id": "c0Z3WYLUyvlE",
        "outputId": "3388bc98-dd17-422c-9608-d846ef6672c0"
      },
      "execution_count": null,
      "outputs": [
        {
          "name": "stdout",
          "output_type": "stream",
          "text": [
            "Input the first number: 3\n",
            "Input the second number: 2\n",
            "Input the operation: (+, -, /, *)*\n"
          ]
        },
        {
          "output_type": "execute_result",
          "data": {
            "text/plain": [
              "6.0"
            ]
          },
          "metadata": {},
          "execution_count": 40
        }
      ]
    },
    {
      "cell_type": "code",
      "source": [
        "#@title P-1.33\n",
        "def handheld_calculator():\n",
        "  in1 = float(input('Input the first number: '))\n",
        "  print(in1)\n",
        "  \n",
        "  op = input('Input the operation: (+, -, /, *)')\n",
        "  print(op)\n",
        "\n",
        "  in2 = float(input('Input the second number: '))\n",
        "  print(in2)\n",
        "\n",
        "  if op == '+':\n",
        "    return in1 + in2\n",
        "  elif op == '-':\n",
        "    return in1 - in2\n",
        "  elif op == '/':\n",
        "    return in1 / in2\n",
        "  elif op == '*':\n",
        "    return in1 * in2"
      ],
      "metadata": {
        "id": "wuwsWsgCyw3C"
      },
      "execution_count": null,
      "outputs": []
    },
    {
      "cell_type": "code",
      "source": [
        "handheld_calculator()"
      ],
      "metadata": {
        "colab": {
          "base_uri": "https://localhost:8080/"
        },
        "id": "an38O4g1zxtc",
        "outputId": "17516b05-429c-46dc-e97f-fee437abce64"
      },
      "execution_count": null,
      "outputs": [
        {
          "output_type": "stream",
          "name": "stdout",
          "text": [
            "Input the first number: 2\n",
            "2.0\n",
            "Input the operation: (+, -, /, *)*\n",
            "*\n",
            "Input the second number: 5\n",
            "5.0\n"
          ]
        },
        {
          "output_type": "execute_result",
          "data": {
            "text/plain": [
              "10.0"
            ]
          },
          "metadata": {},
          "execution_count": 42
        }
      ]
    },
    {
      "cell_type": "code",
      "source": [
        "#@title P-1.34\n",
        "import random\n",
        "def punishment(sentence, num=100):\n",
        "  result = []\n",
        "  for k in range(num):\n",
        "    temp = ''\n",
        "    loc = random.randint(0, len(sentence)) #select the location of typo randomly\n",
        "    character = chr(random.randint(97, 122))  # make random typo\n",
        "    \n",
        "    #apply the typo\n",
        "    for i in range(len(sentence)):\n",
        "      if i == loc:\n",
        "        temp += character\n",
        "      else:\n",
        "        temp += sentence[i]\n",
        "\n",
        "\n",
        "\n",
        "    result.append(temp)\n",
        "  \n",
        "  return result"
      ],
      "metadata": {
        "id": "kdmkaaNmzzaf"
      },
      "execution_count": null,
      "outputs": []
    },
    {
      "cell_type": "code",
      "source": [
        "sentence = 'I will never spam my friends again.'\n",
        "punishment(sentence, num=10)"
      ],
      "metadata": {
        "colab": {
          "base_uri": "https://localhost:8080/"
        },
        "id": "B75apTyU0cgg",
        "outputId": "2c9c4c39-ab55-4cd7-f459-bbcc8959d5ed"
      },
      "execution_count": null,
      "outputs": [
        {
          "output_type": "execute_result",
          "data": {
            "text/plain": [
              "['I will nevzr spam my friends again.',\n",
              " 'I will never spam ms friends again.',\n",
              " 'y will never spam my friends again.',\n",
              " 'I will never spam my frienxs again.',\n",
              " 'I will nwver spam my friends again.',\n",
              " 'I will never spam mx friends again.',\n",
              " 'I will never spam my friends agaic.',\n",
              " 'I will never spam my frienls again.',\n",
              " 'I will never spah my friends again.',\n",
              " 'Ihwill never spam my friends again.']"
            ]
          },
          "metadata": {},
          "execution_count": 63
        }
      ]
    },
    {
      "cell_type": "code",
      "source": [
        "#@title P-1.35\n",
        "\n",
        "import random\n",
        "def birthday_paradox(n, iter=100):\n",
        "  count = 0\n",
        "  for i in range(iter):\n",
        "    birthday = [random.randint(1, 365) for k in range(n)]\n",
        "\n",
        "    #check whether at least two people have the same birthdays\n",
        "    if len(set(birthday)) != len(birthday):\n",
        "      count += 1\n",
        "  \n",
        "  return count/iter"
      ],
      "metadata": {
        "id": "CkjFMUcS0jsZ"
      },
      "execution_count": null,
      "outputs": []
    },
    {
      "cell_type": "code",
      "source": [
        "birthday_paradox(n=23, iter=100)"
      ],
      "metadata": {
        "colab": {
          "base_uri": "https://localhost:8080/"
        },
        "id": "FtHWKOm-0pAk",
        "outputId": "4ac7d250-1309-44d0-afa3-b8bfd30ec674"
      },
      "execution_count": null,
      "outputs": [
        {
          "output_type": "execute_result",
          "data": {
            "text/plain": [
              "0.5"
            ]
          },
          "metadata": {},
          "execution_count": 73
        }
      ]
    },
    {
      "cell_type": "code",
      "source": [
        "#@title P-1.36\n",
        "\n",
        "def count_same_words():\n",
        "  s = input('Enter a sentence ...')\n",
        "  s += ' '   #concatenate white space to make the algorithm efficient\n",
        "\n",
        "  result = {}\n",
        "  temp = ''\n",
        "  for i in range(len(s)):\n",
        "    if s[i] != ' ':\n",
        "      temp += s[i]\n",
        "    else:\n",
        "      if temp in result:\n",
        "        result[temp] += 1\n",
        "      else:\n",
        "        result[temp] = 1\n",
        "    \n",
        "      temp = ''\n",
        "  \n",
        "  return result\n",
        "\n"
      ],
      "metadata": {
        "id": "BmjExC0c3_FO"
      },
      "execution_count": null,
      "outputs": []
    },
    {
      "cell_type": "code",
      "source": [
        "count_same_words()"
      ],
      "metadata": {
        "colab": {
          "base_uri": "https://localhost:8080/"
        },
        "id": "r_iAAhnH5Uzo",
        "outputId": "7844db5c-e7e9-4e96-cbc4-8ab41f4cc5d6"
      },
      "execution_count": null,
      "outputs": [
        {
          "name": "stdout",
          "output_type": "stream",
          "text": [
            "Enter a sentence ...Hi I am python developer and happy python day!\n"
          ]
        },
        {
          "output_type": "execute_result",
          "data": {
            "text/plain": [
              "{'Hi': 1,\n",
              " 'I': 1,\n",
              " 'am': 1,\n",
              " 'python': 2,\n",
              " 'developer': 1,\n",
              " 'and': 1,\n",
              " 'happy': 1,\n",
              " 'day!': 1}"
            ]
          },
          "metadata": {},
          "execution_count": 97
        }
      ]
    },
    {
      "cell_type": "code",
      "source": [],
      "metadata": {
        "id": "fcQo9ldn5ZPI"
      },
      "execution_count": null,
      "outputs": []
    }
  ]
}