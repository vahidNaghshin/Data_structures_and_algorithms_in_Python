{
  "nbformat": 4,
  "nbformat_minor": 0,
  "metadata": {
    "colab": {
      "provenance": [],
      "authorship_tag": "ABX9TyMThYTFI7WhV8SRlWEQZ9mW",
      "include_colab_link": true
    },
    "kernelspec": {
      "name": "python3",
      "display_name": "Python 3"
    }
  },
  "cells": [
    {
      "cell_type": "markdown",
      "metadata": {
        "id": "view-in-github",
        "colab_type": "text"
      },
      "source": [
        "<a href=\"https://colab.research.google.com/github/vahidNaghshin/Data_structures_and_algorithms_in_Python/blob/main/Data_structures_and_algorithms_in_Python_Chapter_1.ipynb\" target=\"_parent\"><img src=\"https://colab.research.google.com/assets/colab-badge.svg\" alt=\"Open In Colab\"/></a>"
      ]
    },
    {
      "cell_type": "markdown",
      "source": [
        "# Chapter 1"
      ],
      "metadata": {
        "id": "STuXYbsJV8E2"
      }
    },
    {
      "cell_type": "code",
      "source": [
        "#derive the python version\n",
        "import sys\n",
        "print(f\"the python version is {sys.version}\")"
      ],
      "metadata": {
        "colab": {
          "base_uri": "https://localhost:8080/"
        },
        "id": "_Zcj1UcoSKYk",
        "outputId": "39d88d0c-8698-46ea-bcda-0a21e72e3b47"
      },
      "execution_count": null,
      "outputs": [
        {
          "output_type": "stream",
          "name": "stdout",
          "text": [
            "the python version is 3.7.14 (default, Sep  8 2022, 00:06:44) \n",
            "[GCC 7.5.0]\n"
          ]
        }
      ]
    },
    {
      "cell_type": "code",
      "source": [
        "#use this to run the python in interactive mode\n",
        "python3 -i script_name.py"
      ],
      "metadata": {
        "id": "s44RNEqIT4Vm"
      },
      "execution_count": null,
      "outputs": []
    },
    {
      "cell_type": "code",
      "source": [
        "\n",
        "f = {'a':1, 'b':4}\n",
        "x = 'a'\n",
        "x in f.keys()"
      ],
      "metadata": {
        "colab": {
          "base_uri": "https://localhost:8080/"
        },
        "id": "x7EhOGU0V_Lf",
        "outputId": "23d6f0ad-c38a-492a-c1f4-56dd7b44c50b"
      },
      "execution_count": null,
      "outputs": [
        {
          "output_type": "execute_result",
          "data": {
            "text/plain": [
              "True"
            ]
          },
          "metadata": {},
          "execution_count": 6
        }
      ]
    },
    {
      "cell_type": "code",
      "source": [
        "#the alias \n",
        "x = 3\n",
        "y = 3\n",
        "id(x), id(y)"
      ],
      "metadata": {
        "colab": {
          "base_uri": "https://localhost:8080/"
        },
        "id": "0jRIbm4JYat-",
        "outputId": "a2f07fca-3f3a-4e91-8386-ab39e235ce90"
      },
      "execution_count": null,
      "outputs": [
        {
          "output_type": "execute_result",
          "data": {
            "text/plain": [
              "(11122656, 11122656)"
            ]
          },
          "metadata": {},
          "execution_count": 7
        }
      ]
    },
    {
      "cell_type": "code",
      "source": [
        "#the alias\n",
        "x = 3\n",
        "y = x\n",
        "id(x), id(y)"
      ],
      "metadata": {
        "colab": {
          "base_uri": "https://localhost:8080/"
        },
        "id": "gYtMvOm0gNJg",
        "outputId": "ca8ded5a-caa6-4d47-96ad-39a95c85e2a6"
      },
      "execution_count": null,
      "outputs": [
        {
          "output_type": "execute_result",
          "data": {
            "text/plain": [
              "(11122656, 11122656)"
            ]
          },
          "metadata": {},
          "execution_count": 8
        }
      ]
    },
    {
      "cell_type": "code",
      "source": [
        "x = [2,5,1,7,3,6]\n",
        "id(x), id(x.sort())"
      ],
      "metadata": {
        "colab": {
          "base_uri": "https://localhost:8080/"
        },
        "id": "C8eAIeOKgR-d",
        "outputId": "70ffd44b-9e7a-49e6-e133-23527534e828"
      },
      "execution_count": null,
      "outputs": [
        {
          "output_type": "execute_result",
          "data": {
            "text/plain": [
              "(140264835596608, 11120128)"
            ]
          },
          "metadata": {},
          "execution_count": 10
        }
      ]
    },
    {
      "cell_type": "code",
      "source": [
        "#the sort method of class list return the changed list \n",
        "x"
      ],
      "metadata": {
        "colab": {
          "base_uri": "https://localhost:8080/"
        },
        "id": "m5NKNqYihZzp",
        "outputId": "bb3d02fe-2952-4e16-a15e-e70dcad82b62"
      },
      "execution_count": null,
      "outputs": [
        {
          "output_type": "execute_result",
          "data": {
            "text/plain": [
              "[1, 2, 3, 5, 6, 7]"
            ]
          },
          "metadata": {},
          "execution_count": 11
        }
      ]
    },
    {
      "cell_type": "code",
      "source": [
        "#the defat value of bool class\n",
        "bool()"
      ],
      "metadata": {
        "colab": {
          "base_uri": "https://localhost:8080/"
        },
        "id": "Rst1RBV4hsiq",
        "outputId": "cafc54ab-15c7-4da2-b1bb-439dde5d3f52"
      },
      "execution_count": null,
      "outputs": [
        {
          "output_type": "execute_result",
          "data": {
            "text/plain": [
              "False"
            ]
          },
          "metadata": {},
          "execution_count": 12
        }
      ]
    },
    {
      "cell_type": "code",
      "source": [
        "#different input base\n",
        "x = 0b110\n",
        "y = 0o11\n",
        "z = 0x11\n",
        "x, y, z"
      ],
      "metadata": {
        "colab": {
          "base_uri": "https://localhost:8080/"
        },
        "id": "31lUdBazifv2",
        "outputId": "6868a0ed-ca22-4ccf-c348-12eaf776cdfc"
      },
      "execution_count": null,
      "outputs": [
        {
          "output_type": "execute_result",
          "data": {
            "text/plain": [
              "(6, 9, 17)"
            ]
          },
          "metadata": {},
          "execution_count": 18
        }
      ]
    },
    {
      "cell_type": "code",
      "source": [
        "#default value of int(), float()\n",
        "int(), float()"
      ],
      "metadata": {
        "colab": {
          "base_uri": "https://localhost:8080/"
        },
        "id": "udQNV_x9jPc-",
        "outputId": "563a3415-6abe-4549-edd0-587dd09f8c9b"
      },
      "execution_count": null,
      "outputs": [
        {
          "output_type": "execute_result",
          "data": {
            "text/plain": [
              "(0, 0.0)"
            ]
          },
          "metadata": {},
          "execution_count": 25
        }
      ]
    },
    {
      "cell_type": "code",
      "source": [
        "#gives the integer of string\n",
        "int('12'), int( '7f' , 16)"
      ],
      "metadata": {
        "colab": {
          "base_uri": "https://localhost:8080/"
        },
        "id": "cXG-zB20jp02",
        "outputId": "35076e36-6114-4e8c-e0e2-30d3eb094cbf"
      },
      "execution_count": null,
      "outputs": [
        {
          "output_type": "execute_result",
          "data": {
            "text/plain": [
              "(12, 127)"
            ]
          },
          "metadata": {},
          "execution_count": 24
        }
      ]
    },
    {
      "cell_type": "code",
      "source": [
        "#while it givens ValueError for string\n",
        "int('v')"
      ],
      "metadata": {
        "colab": {
          "base_uri": "https://localhost:8080/",
          "height": 164
        },
        "id": "U2cULI9fj2Kz",
        "outputId": "3df4eacc-66e8-4399-d3af-fa9014db5b88"
      },
      "execution_count": null,
      "outputs": [
        {
          "output_type": "error",
          "ename": "ValueError",
          "evalue": "ignored",
          "traceback": [
            "\u001b[0;31m---------------------------------------------------------------------------\u001b[0m",
            "\u001b[0;31mValueError\u001b[0m                                Traceback (most recent call last)",
            "\u001b[0;32m<ipython-input-22-d54a621ab0fb>\u001b[0m in \u001b[0;36m<module>\u001b[0;34m\u001b[0m\n\u001b[0;32m----> 1\u001b[0;31m \u001b[0mint\u001b[0m\u001b[0;34m(\u001b[0m\u001b[0;34m'v'\u001b[0m\u001b[0;34m)\u001b[0m\u001b[0;34m\u001b[0m\u001b[0;34m\u001b[0m\u001b[0m\n\u001b[0m",
            "\u001b[0;31mValueError\u001b[0m: invalid literal for int() with base 10: 'v'"
          ]
        }
      ]
    },
    {
      "cell_type": "code",
      "source": [
        "float('3.14')"
      ],
      "metadata": {
        "colab": {
          "base_uri": "https://localhost:8080/"
        },
        "id": "9KFcFD01j68H",
        "outputId": "70cb4d4e-6c80-478e-e3c4-2f4d1af97143"
      },
      "execution_count": null,
      "outputs": [
        {
          "output_type": "execute_result",
          "data": {
            "text/plain": [
              "3.14"
            ]
          },
          "metadata": {},
          "execution_count": 26
        }
      ]
    },
    {
      "cell_type": "code",
      "source": [
        "#list is mutable\n",
        "x = [1,2,3]\n",
        "x[2]=5\n",
        "x"
      ],
      "metadata": {
        "colab": {
          "base_uri": "https://localhost:8080/"
        },
        "id": "VdKPQjPUkewf",
        "outputId": "9c58b2b9-d120-4d1c-adad-7b031243da6c"
      },
      "execution_count": null,
      "outputs": [
        {
          "output_type": "execute_result",
          "data": {
            "text/plain": [
              "[1, 2, 5]"
            ]
          },
          "metadata": {},
          "execution_count": 28
        }
      ]
    },
    {
      "cell_type": "code",
      "source": [
        "#tuple is immutable\n",
        "x = (1,2,3)\n",
        "x[2]=5\n",
        "x"
      ],
      "metadata": {
        "colab": {
          "base_uri": "https://localhost:8080/",
          "height": 215
        },
        "id": "fWaAMALrk0A-",
        "outputId": "f2dfb7f6-d0c7-4bf0-cb19-ff192695e955"
      },
      "execution_count": null,
      "outputs": [
        {
          "output_type": "error",
          "ename": "TypeError",
          "evalue": "ignored",
          "traceback": [
            "\u001b[0;31m---------------------------------------------------------------------------\u001b[0m",
            "\u001b[0;31mTypeError\u001b[0m                                 Traceback (most recent call last)",
            "\u001b[0;32m<ipython-input-29-0739fb1c568c>\u001b[0m in \u001b[0;36m<module>\u001b[0;34m\u001b[0m\n\u001b[1;32m      1\u001b[0m \u001b[0;31m#tuple is immutable\u001b[0m\u001b[0;34m\u001b[0m\u001b[0;34m\u001b[0m\u001b[0;34m\u001b[0m\u001b[0m\n\u001b[1;32m      2\u001b[0m \u001b[0mx\u001b[0m \u001b[0;34m=\u001b[0m \u001b[0;34m(\u001b[0m\u001b[0;36m1\u001b[0m\u001b[0;34m,\u001b[0m\u001b[0;36m2\u001b[0m\u001b[0;34m,\u001b[0m\u001b[0;36m3\u001b[0m\u001b[0;34m)\u001b[0m\u001b[0;34m\u001b[0m\u001b[0;34m\u001b[0m\u001b[0m\n\u001b[0;32m----> 3\u001b[0;31m \u001b[0mx\u001b[0m\u001b[0;34m[\u001b[0m\u001b[0;36m2\u001b[0m\u001b[0;34m]\u001b[0m\u001b[0;34m=\u001b[0m\u001b[0;36m5\u001b[0m\u001b[0;34m\u001b[0m\u001b[0;34m\u001b[0m\u001b[0m\n\u001b[0m\u001b[1;32m      4\u001b[0m \u001b[0mx\u001b[0m\u001b[0;34m\u001b[0m\u001b[0;34m\u001b[0m\u001b[0m\n",
            "\u001b[0;31mTypeError\u001b[0m: 'tuple' object does not support item assignment"
          ]
        }
      ]
    },
    {
      "cell_type": "code",
      "source": [
        "#string class is immutable\n",
        "x = 'adnajnd'\n",
        "x[2]='f'\n",
        "x"
      ],
      "metadata": {
        "colab": {
          "base_uri": "https://localhost:8080/",
          "height": 215
        },
        "id": "ZKA3gw_fk5uP",
        "outputId": "10da2228-e75d-4a4a-9728-abd9b0f75eef"
      },
      "execution_count": null,
      "outputs": [
        {
          "output_type": "error",
          "ename": "TypeError",
          "evalue": "ignored",
          "traceback": [
            "\u001b[0;31m---------------------------------------------------------------------------\u001b[0m",
            "\u001b[0;31mTypeError\u001b[0m                                 Traceback (most recent call last)",
            "\u001b[0;32m<ipython-input-30-100ec7e52495>\u001b[0m in \u001b[0;36m<module>\u001b[0;34m\u001b[0m\n\u001b[1;32m      1\u001b[0m \u001b[0;31m#string class is immutable\u001b[0m\u001b[0;34m\u001b[0m\u001b[0;34m\u001b[0m\u001b[0;34m\u001b[0m\u001b[0m\n\u001b[1;32m      2\u001b[0m \u001b[0mx\u001b[0m \u001b[0;34m=\u001b[0m \u001b[0;34m'adnajnd'\u001b[0m\u001b[0;34m\u001b[0m\u001b[0;34m\u001b[0m\u001b[0m\n\u001b[0;32m----> 3\u001b[0;31m \u001b[0mx\u001b[0m\u001b[0;34m[\u001b[0m\u001b[0;36m2\u001b[0m\u001b[0;34m]\u001b[0m\u001b[0;34m=\u001b[0m\u001b[0;34m'f'\u001b[0m\u001b[0;34m\u001b[0m\u001b[0;34m\u001b[0m\u001b[0m\n\u001b[0m\u001b[1;32m      4\u001b[0m \u001b[0mx\u001b[0m\u001b[0;34m\u001b[0m\u001b[0;34m\u001b[0m\u001b[0m\n",
            "\u001b[0;31mTypeError\u001b[0m: 'str' object does not support item assignment"
          ]
        }
      ]
    },
    {
      "cell_type": "code",
      "source": [
        "#list class can accept any iterator\n",
        "list('hello'), list(range(5)), list((1,2,3,4)), list({1,25,6,7})"
      ],
      "metadata": {
        "colab": {
          "base_uri": "https://localhost:8080/"
        },
        "id": "MCpO2QY9k-vK",
        "outputId": "f229ad9f-3f73-4763-efbf-4aa2d441a1aa"
      },
      "execution_count": null,
      "outputs": [
        {
          "output_type": "execute_result",
          "data": {
            "text/plain": [
              "(['h', 'e', 'l', 'l', 'o'], [0, 1, 2, 3, 4], [1, 2, 3, 4], [1, 7, 25, 6])"
            ]
          },
          "metadata": {},
          "execution_count": 34
        }
      ]
    },
    {
      "cell_type": "code",
      "source": [
        "#tuple, use comam after one single value\n",
        "x = (17,)\n",
        "x, (17)"
      ],
      "metadata": {
        "colab": {
          "base_uri": "https://localhost:8080/"
        },
        "id": "7cGVQmsdl-9X",
        "outputId": "b4c39bad-d69e-49d3-e372-4a7e34f6accc"
      },
      "execution_count": null,
      "outputs": [
        {
          "output_type": "execute_result",
          "data": {
            "text/plain": [
              "((17,), 17)"
            ]
          },
          "metadata": {},
          "execution_count": 36
        }
      ]
    },
    {
      "cell_type": "code",
      "source": [
        "type((13))"
      ],
      "metadata": {
        "colab": {
          "base_uri": "https://localhost:8080/"
        },
        "id": "JcXj_D1smkr9",
        "outputId": "19519896-9829-4bc3-890c-f2add7203cb1"
      },
      "execution_count": null,
      "outputs": [
        {
          "output_type": "execute_result",
          "data": {
            "text/plain": [
              "int"
            ]
          },
          "metadata": {},
          "execution_count": 37
        }
      ]
    },
    {
      "cell_type": "code",
      "source": [
        "#\\ escape for string\n",
        "\"Don\\'t worry\", \"Don't worry\", \"C:\\\\Python\\\\\",  'C:\\\\Python\\\\' ,  'C:/Python/'  "
      ],
      "metadata": {
        "colab": {
          "base_uri": "https://localhost:8080/"
        },
        "id": "BE0TFwYXmocX",
        "outputId": "ee030ebc-cafb-43e4-8bdd-b74b13985cef"
      },
      "execution_count": null,
      "outputs": [
        {
          "output_type": "execute_result",
          "data": {
            "text/plain": [
              "(\"Don't worry\", \"Don't worry\", 'C:\\\\Python\\\\', 'C:\\\\Python\\\\', 'C:/Python/')"
            ]
          },
          "metadata": {},
          "execution_count": 53
        }
      ]
    },
    {
      "cell_type": "code",
      "source": [
        "#use print for acslash\n",
        "my_str = 'Alice\\\\Bob\\\\Carl'\n",
        "print(my_str)\n",
        "my_str"
      ],
      "metadata": {
        "colab": {
          "base_uri": "https://localhost:8080/",
          "height": 54
        },
        "id": "uVC00RL-nghI",
        "outputId": "b5f6d9d2-f27d-4a9c-f622-21c3a7f82c88"
      },
      "execution_count": null,
      "outputs": [
        {
          "output_type": "stream",
          "name": "stdout",
          "text": [
            "Alice\\Bob\\Carl\n"
          ]
        },
        {
          "output_type": "execute_result",
          "data": {
            "text/plain": [
              "'Alice\\\\Bob\\\\Carl'"
            ],
            "application/vnd.google.colaboratory.intrinsic+json": {
              "type": "string"
            }
          },
          "metadata": {},
          "execution_count": 48
        }
      ]
    },
    {
      "cell_type": "code",
      "source": [
        "my_str = r'Alice\\Bob\\Carl'\n",
        "print(my_str)"
      ],
      "metadata": {
        "colab": {
          "base_uri": "https://localhost:8080/"
        },
        "id": "4UVoqDWxoIMD",
        "outputId": "f601762b-fc85-4bc0-c6ff-86d8346c8963"
      },
      "execution_count": null,
      "outputs": [
        {
          "output_type": "stream",
          "name": "stdout",
          "text": [
            "Alice\\Bob\\Carl\n"
          ]
        }
      ]
    },
    {
      "cell_type": "code",
      "source": [
        "#when cosntructing path you can use forward slash\n",
        "file_path = '/content/sample_data/README.md'"
      ],
      "metadata": {
        "id": "Uj2Qkvj5oed4"
      },
      "execution_count": null,
      "outputs": []
    },
    {
      "cell_type": "code",
      "source": [
        "#you can use unicode\n",
        "print('20\\u20AC')"
      ],
      "metadata": {
        "colab": {
          "base_uri": "https://localhost:8080/"
        },
        "id": "-Cztrq-go9t0",
        "outputId": "67902077-6296-42ed-d5c3-7997b49b5b13"
      },
      "execution_count": null,
      "outputs": [
        {
          "output_type": "stream",
          "name": "stdout",
          "text": [
            "20€\n"
          ]
        }
      ]
    },
    {
      "cell_type": "code",
      "source": [
        "TestText = \"Test - āĀēĒčČ..šŠūŪžŽ\" # this not UTF-8...it is a Unicode string in Python 3.X.\n",
        "TestText2 = TestText.encode('utf8') # this is a UTF-8-encoded byte string.\n",
        "print(TestText2)"
      ],
      "metadata": {
        "colab": {
          "base_uri": "https://localhost:8080/"
        },
        "id": "bC94gfN9pDE8",
        "outputId": "1724bfe9-ba8b-4100-9d43-ca98b00e4e04"
      },
      "execution_count": null,
      "outputs": [
        {
          "output_type": "stream",
          "name": "stdout",
          "text": [
            "b'Test - \\xc4\\x81\\xc4\\x80\\xc4\\x93\\xc4\\x92\\xc4\\x8d\\xc4\\x8c..\\xc5\\xa1\\xc5\\xa0\\xc5\\xab\\xc5\\xaa\\xc5\\xbe\\xc5\\xbd'\n"
          ]
        }
      ]
    },
    {
      "cell_type": "code",
      "source": [
        "#{[1,2], 2}\n",
        "{(1,2), 2}"
      ],
      "metadata": {
        "colab": {
          "base_uri": "https://localhost:8080/"
        },
        "id": "elQXPSl5pkIB",
        "outputId": "bc50eb71-14c7-403f-ff52-15285977aee9"
      },
      "execution_count": null,
      "outputs": [
        {
          "output_type": "execute_result",
          "data": {
            "text/plain": [
              "{(1, 2), 2}"
            ]
          },
          "metadata": {},
          "execution_count": 67
        }
      ]
    },
    {
      "cell_type": "code",
      "source": [
        "set('hello')"
      ],
      "metadata": {
        "colab": {
          "base_uri": "https://localhost:8080/"
        },
        "id": "_DivGoHBqEuu",
        "outputId": "89701943-0142-4ef3-df91-4181648311c5"
      },
      "execution_count": null,
      "outputs": [
        {
          "output_type": "execute_result",
          "data": {
            "text/plain": [
              "{'e', 'h', 'l', 'o'}"
            ]
          },
          "metadata": {},
          "execution_count": 69
        }
      ]
    },
    {
      "cell_type": "code",
      "source": [
        "pairs = [( 'ga' , 'Irish' ), ( 'de' , 'German' )]\n",
        "dict(pairs) "
      ],
      "metadata": {
        "colab": {
          "base_uri": "https://localhost:8080/"
        },
        "id": "O2D-sPUeqcqx",
        "outputId": "21a82747-989b-433c-9c28-7260cc93f406"
      },
      "execution_count": null,
      "outputs": [
        {
          "output_type": "execute_result",
          "data": {
            "text/plain": [
              "{'ga': 'Irish', 'de': 'German'}"
            ]
          },
          "metadata": {},
          "execution_count": 70
        }
      ]
    },
    {
      "cell_type": "code",
      "source": [
        "a = None\n",
        "b = False\n",
        "b and a, a and b"
      ],
      "metadata": {
        "colab": {
          "base_uri": "https://localhost:8080/"
        },
        "id": "NS6gVCW5q-3Q",
        "outputId": "23dd12f6-9276-4557-e271-1b7be961327c"
      },
      "execution_count": null,
      "outputs": [
        {
          "output_type": "execute_result",
          "data": {
            "text/plain": [
              "(False, None)"
            ]
          },
          "metadata": {},
          "execution_count": 75
        }
      ]
    },
    {
      "cell_type": "code",
      "source": [
        "a = set([1,2])\n",
        "b = set([2,1, 1, 2])\n",
        "a, b, a==b"
      ],
      "metadata": {
        "colab": {
          "base_uri": "https://localhost:8080/"
        },
        "id": "DmUfQYbs1Gyl",
        "outputId": "2328a5d1-6c27-4c42-e09d-14cd22b12d9a"
      },
      "execution_count": null,
      "outputs": [
        {
          "output_type": "execute_result",
          "data": {
            "text/plain": [
              "({1, 2}, {1, 2}, True)"
            ]
          },
          "metadata": {},
          "execution_count": 77
        }
      ]
    },
    {
      "cell_type": "code",
      "source": [
        "a, b = 5, 3\n",
        "a/b, a//b, a%b"
      ],
      "metadata": {
        "colab": {
          "base_uri": "https://localhost:8080/"
        },
        "id": "7VhBzwn61i9m",
        "outputId": "fc011c86-8e48-4371-849c-94c0a905275a"
      },
      "execution_count": null,
      "outputs": [
        {
          "output_type": "execute_result",
          "data": {
            "text/plain": [
              "(1.6666666666666667, 1, 2)"
            ]
          },
          "metadata": {},
          "execution_count": 78
        }
      ]
    },
    {
      "cell_type": "code",
      "source": [
        "#bitwise ops\n",
        "a, b = 0b10, 0b01\n",
        "a, b, ~a, a|b, a^b, a &b, a<<1, a<<2"
      ],
      "metadata": {
        "colab": {
          "base_uri": "https://localhost:8080/"
        },
        "id": "XnWW4xl02M6b",
        "outputId": "b022d5f9-e8b1-4129-fc48-5a2dde13404f"
      },
      "execution_count": null,
      "outputs": [
        {
          "output_type": "execute_result",
          "data": {
            "text/plain": [
              "(2, 1, -3, 3, 3, 0, 4, 8)"
            ]
          },
          "metadata": {},
          "execution_count": 84
        }
      ]
    },
    {
      "cell_type": "code",
      "source": [
        "a = True\n",
        "a, ~a"
      ],
      "metadata": {
        "colab": {
          "base_uri": "https://localhost:8080/"
        },
        "id": "9l4Dya2L271L",
        "outputId": "49ad5145-7bd1-4557-8bd6-eec744c03dea"
      },
      "execution_count": null,
      "outputs": [
        {
          "output_type": "execute_result",
          "data": {
            "text/plain": [
              "(True, -2)"
            ]
          },
          "metadata": {},
          "execution_count": 83
        }
      ]
    },
    {
      "cell_type": "code",
      "source": [
        "s = [1,2,3]\n",
        "s[2]=0\n",
        "s"
      ],
      "metadata": {
        "colab": {
          "base_uri": "https://localhost:8080/"
        },
        "id": "U4MnCq5q3PCE",
        "outputId": "f91fd351-ee40-4e6e-b14b-ddd4af092cfa"
      },
      "execution_count": null,
      "outputs": [
        {
          "output_type": "execute_result",
          "data": {
            "text/plain": [
              "[1, 2, 0]"
            ]
          },
          "metadata": {},
          "execution_count": 85
        }
      ]
    },
    {
      "cell_type": "code",
      "source": [
        "'amp' in 'example'"
      ],
      "metadata": {
        "colab": {
          "base_uri": "https://localhost:8080/"
        },
        "id": "_UOIVvPF4GP3",
        "outputId": "5b3c8336-daf9-4b86-d98a-5dff144a646a"
      },
      "execution_count": null,
      "outputs": [
        {
          "output_type": "execute_result",
          "data": {
            "text/plain": [
              "True"
            ]
          },
          "metadata": {},
          "execution_count": 86
        }
      ]
    },
    {
      "cell_type": "code",
      "source": [
        "#https://stackoverflow.com/questions/13052857/comparing-two-lists-using-the-greater-than-or-less-than-operator\n",
        "[1,2,3] < [2,3,2]"
      ],
      "metadata": {
        "colab": {
          "base_uri": "https://localhost:8080/"
        },
        "id": "c4rpnzqc4RQ9",
        "outputId": "1d78a706-396f-437b-e2b0-d52152bc6a6b"
      },
      "execution_count": null,
      "outputs": [
        {
          "output_type": "execute_result",
          "data": {
            "text/plain": [
              "True"
            ]
          },
          "metadata": {},
          "execution_count": 88
        }
      ]
    },
    {
      "cell_type": "code",
      "source": [
        " \n",
        " [5, 6, 9] < [5, 3, 4] "
      ],
      "metadata": {
        "colab": {
          "base_uri": "https://localhost:8080/"
        },
        "id": "2hrY-w2x4gSj",
        "outputId": "e9c82e21-77d4-4c85-8d7c-7034749f4e45"
      },
      "execution_count": null,
      "outputs": [
        {
          "output_type": "execute_result",
          "data": {
            "text/plain": [
              "False"
            ]
          },
          "metadata": {},
          "execution_count": 92
        }
      ]
    },
    {
      "cell_type": "code",
      "source": [
        "list1 = [10, 15, 20, 25, 30, 35, 40]\n",
        "list2 = [25, 40, 35] \n",
        "li = list1 - list2\n",
        "li"
      ],
      "metadata": {
        "colab": {
          "base_uri": "https://localhost:8080/",
          "height": 215
        },
        "id": "7UEzD2304sd1",
        "outputId": "e8d55240-2661-480d-eeab-ffbaf37bd206"
      },
      "execution_count": null,
      "outputs": [
        {
          "output_type": "error",
          "ename": "TypeError",
          "evalue": "ignored",
          "traceback": [
            "\u001b[0;31m---------------------------------------------------------------------------\u001b[0m",
            "\u001b[0;31mTypeError\u001b[0m                                 Traceback (most recent call last)",
            "\u001b[0;32m<ipython-input-91-ff85ce44baa2>\u001b[0m in \u001b[0;36m<module>\u001b[0;34m\u001b[0m\n\u001b[1;32m      1\u001b[0m \u001b[0mlist1\u001b[0m \u001b[0;34m=\u001b[0m \u001b[0;34m[\u001b[0m\u001b[0;36m10\u001b[0m\u001b[0;34m,\u001b[0m \u001b[0;36m15\u001b[0m\u001b[0;34m,\u001b[0m \u001b[0;36m20\u001b[0m\u001b[0;34m,\u001b[0m \u001b[0;36m25\u001b[0m\u001b[0;34m,\u001b[0m \u001b[0;36m30\u001b[0m\u001b[0;34m,\u001b[0m \u001b[0;36m35\u001b[0m\u001b[0;34m,\u001b[0m \u001b[0;36m40\u001b[0m\u001b[0;34m]\u001b[0m\u001b[0;34m\u001b[0m\u001b[0;34m\u001b[0m\u001b[0m\n\u001b[1;32m      2\u001b[0m \u001b[0mlist2\u001b[0m \u001b[0;34m=\u001b[0m \u001b[0;34m[\u001b[0m\u001b[0;36m25\u001b[0m\u001b[0;34m,\u001b[0m \u001b[0;36m40\u001b[0m\u001b[0;34m,\u001b[0m \u001b[0;36m35\u001b[0m\u001b[0;34m]\u001b[0m\u001b[0;34m\u001b[0m\u001b[0;34m\u001b[0m\u001b[0m\n\u001b[0;32m----> 3\u001b[0;31m \u001b[0mli\u001b[0m \u001b[0;34m=\u001b[0m \u001b[0mlist1\u001b[0m \u001b[0;34m-\u001b[0m \u001b[0mlist2\u001b[0m\u001b[0;34m\u001b[0m\u001b[0;34m\u001b[0m\u001b[0m\n\u001b[0m\u001b[1;32m      4\u001b[0m \u001b[0mli\u001b[0m\u001b[0;34m\u001b[0m\u001b[0;34m\u001b[0m\u001b[0m\n",
            "\u001b[0;31mTypeError\u001b[0m: unsupported operand type(s) for -: 'list' and 'list'"
          ]
        }
      ]
    },
    {
      "cell_type": "code",
      "source": [
        "#the in comapres the keys of dictionary\n",
        "d = {'a':1, 'b':2}\n",
        "'a' in d, 1 in d"
      ],
      "metadata": {
        "colab": {
          "base_uri": "https://localhost:8080/"
        },
        "id": "Ul8zjSYw5l1m",
        "outputId": "9826997e-c48a-4269-eb7e-420166f7013f"
      },
      "execution_count": null,
      "outputs": [
        {
          "output_type": "execute_result",
          "data": {
            "text/plain": [
              "(True, False)"
            ]
          },
          "metadata": {},
          "execution_count": 93
        }
      ]
    },
    {
      "cell_type": "code",
      "source": [
        "# This example demonstrates the subtle difference between the list semantics for the syntax beta += foo versus beta = beta + foo\n",
        "alpha = [1, 2, 3] \n",
        "beta = alpha\n",
        "#does change the alias\n",
        "beta += [4, 5]\n",
        "\n",
        "#does not change the alias\n",
        "beta = beta + [6, 7] \n",
        "print(alpha, beta)"
      ],
      "metadata": {
        "colab": {
          "base_uri": "https://localhost:8080/"
        },
        "id": "a86Xnyp17T1e",
        "outputId": "035608ae-bad7-440b-a4d2-6130ba8f8053"
      },
      "execution_count": null,
      "outputs": [
        {
          "output_type": "stream",
          "name": "stdout",
          "text": [
            "[1, 2, 3, 4, 5, 6, 7] [1, 2, 3, 4, 5, 6, 7]\n"
          ]
        }
      ]
    },
    {
      "cell_type": "code",
      "source": [
        "#  1 <= x + y <= 10 does not compute the inter- mediate value x + y twice.\n",
        " x, y = 1, 2\n",
        " 1 <= x + y <= 10,  (1 <= x + y) and (x + y <= 10) "
      ],
      "metadata": {
        "colab": {
          "base_uri": "https://localhost:8080/"
        },
        "id": "eD6jew_b7pvG",
        "outputId": "06f8f87d-40d5-41aa-eeea-36e956d44b57"
      },
      "execution_count": null,
      "outputs": [
        {
          "output_type": "execute_result",
          "data": {
            "text/plain": [
              "(True,)"
            ]
          },
          "metadata": {},
          "execution_count": 99
        }
      ]
    },
    {
      "cell_type": "code",
      "source": [
        "val1, val2 = 1, 2\n",
        "cond = val1 < val2\n",
        "x = val1 if cond else val2\n",
        "x"
      ],
      "metadata": {
        "colab": {
          "base_uri": "https://localhost:8080/"
        },
        "id": "acsNKLKz8gpW",
        "outputId": "85beaf78-0722-4849-90a6-87b2256665f5"
      },
      "execution_count": null,
      "outputs": [
        {
          "output_type": "execute_result",
          "data": {
            "text/plain": [
              "1"
            ]
          },
          "metadata": {},
          "execution_count": 101
        }
      ]
    },
    {
      "cell_type": "code",
      "source": [
        "a = 0b00111100\n",
        "a, ~a"
      ],
      "metadata": {
        "colab": {
          "base_uri": "https://localhost:8080/"
        },
        "id": "msrAWpcG9C2B",
        "outputId": "4a0c1833-1814-4ea7-e36a-e1e65b553e18"
      },
      "execution_count": null,
      "outputs": [
        {
          "output_type": "execute_result",
          "data": {
            "text/plain": [
              "(60, -61)"
            ]
          },
          "metadata": {},
          "execution_count": 103
        }
      ]
    },
    {
      "cell_type": "markdown",
      "source": [
        "**Control Flow**"
      ],
      "metadata": {
        "id": "jjRwDEqq9u5Z"
      }
    },
    {
      "cell_type": "code",
      "source": [
        "s = {1,2,3}\n",
        "for i in s:\n",
        "  print(i)\n",
        "  break"
      ],
      "metadata": {
        "colab": {
          "base_uri": "https://localhost:8080/"
        },
        "id": "sRL5rbX19c1h",
        "outputId": "62db9e09-9822-43de-a1e6-5d4c4f4d9cec"
      },
      "execution_count": null,
      "outputs": [
        {
          "output_type": "stream",
          "name": "stdout",
          "text": [
            "1\n"
          ]
        }
      ]
    },
    {
      "cell_type": "markdown",
      "source": [
        "**Functions**"
      ],
      "metadata": {
        "id": "xPBuKRfRDaGg"
      }
    },
    {
      "cell_type": "markdown",
      "source": [
        "a distinction between functions and methods. We use the general term function to describe a traditional, stateless function that is in- voked without the context of a particular class or an instance of that class, such as sorted(data). "
      ],
      "metadata": {
        "id": "oMN-5MWpDf45"
      }
    },
    {
      "cell_type": "code",
      "source": [
        "def None_return():\n",
        "  return\n",
        "\n",
        "print(None_return())"
      ],
      "metadata": {
        "colab": {
          "base_uri": "https://localhost:8080/"
        },
        "id": "7pH4BeuPAWkQ",
        "outputId": "04d8a307-06b6-4a2e-cd93-c444e387cee3"
      },
      "execution_count": null,
      "outputs": [
        {
          "output_type": "stream",
          "name": "stdout",
          "text": [
            "None\n"
          ]
        }
      ]
    },
    {
      "cell_type": "code",
      "source": [
        "def None_return():\n",
        "  print('Im a function without any return statement')\n",
        "\n",
        "print(None_return())"
      ],
      "metadata": {
        "colab": {
          "base_uri": "https://localhost:8080/"
        },
        "id": "IYW55iomEeiL",
        "outputId": "c71f58a3-c405-40e5-e57e-f0f73f536ee1"
      },
      "execution_count": null,
      "outputs": [
        {
          "output_type": "stream",
          "name": "stdout",
          "text": [
            "Im a function without any return statement\n",
            "None\n"
          ]
        }
      ]
    },
    {
      "cell_type": "code",
      "source": [
        "data = [1,2,3,4]\n",
        "print('before statement data: {0}'.format(data))\n",
        "def f(d, s):\n",
        "  for i in range(len(d)):\n",
        "    d.append(i*s)\n",
        "\n",
        "f(data, 2)\n",
        "\n",
        "print('After statement data: {0}'.format(data))"
      ],
      "metadata": {
        "colab": {
          "base_uri": "https://localhost:8080/"
        },
        "id": "PuIHjFX7EpsO",
        "outputId": "c898a5e2-07a7-4274-de4a-172090a89cf1"
      },
      "execution_count": null,
      "outputs": [
        {
          "output_type": "stream",
          "name": "stdout",
          "text": [
            "before statement data: [1, 2, 3, 4]\n",
            "After statement data: [1, 2, 3, 4, 0, 2, 4, 6]\n"
          ]
        }
      ]
    },
    {
      "cell_type": "code",
      "source": [
        "def range(start, stop=None, step=1):\n",
        "  if stop is None:\n",
        "    stop = start\n",
        "    start = 0\n",
        "    ....\n"
      ],
      "metadata": {
        "id": "-VnUb34yILVM"
      },
      "execution_count": null,
      "outputs": []
    },
    {
      "cell_type": "code",
      "source": [
        "max(12,-34, key=abs)"
      ],
      "metadata": {
        "colab": {
          "base_uri": "https://localhost:8080/"
        },
        "id": "RUWVmLSGJkmS",
        "outputId": "ffd2691c-25ea-4532-aa61-79029b8d78c4"
      },
      "execution_count": null,
      "outputs": [
        {
          "output_type": "execute_result",
          "data": {
            "text/plain": [
              "-34"
            ]
          },
          "metadata": {},
          "execution_count": 115
        }
      ]
    },
    {
      "cell_type": "code",
      "source": [
        "all([1,0,3]), any([1, 0, 3])"
      ],
      "metadata": {
        "colab": {
          "base_uri": "https://localhost:8080/"
        },
        "id": "UxtmfmhqKoEO",
        "outputId": "f1497ff5-9592-4bca-c872-d3de4f76208e"
      },
      "execution_count": null,
      "outputs": [
        {
          "output_type": "execute_result",
          "data": {
            "text/plain": [
              "(False, True)"
            ]
          },
          "metadata": {},
          "execution_count": 117
        }
      ]
    },
    {
      "cell_type": "code",
      "source": [
        "u = iter([1,2,3,4])\n",
        "u"
      ],
      "metadata": {
        "colab": {
          "base_uri": "https://localhost:8080/"
        },
        "id": "D5Meixd_Ll0T",
        "outputId": "35b937cb-15d2-4b0e-cf97-2aae076635b0"
      },
      "execution_count": null,
      "outputs": [
        {
          "output_type": "execute_result",
          "data": {
            "text/plain": [
              "<list_iterator at 0x7f980b4d26d0>"
            ]
          },
          "metadata": {},
          "execution_count": 1
        }
      ]
    },
    {
      "cell_type": "code",
      "source": [
        "next(u)"
      ],
      "metadata": {
        "colab": {
          "base_uri": "https://localhost:8080/",
          "height": 164
        },
        "id": "F9yB2ICdL5a-",
        "outputId": "f503bfd3-62d1-41ac-a0a5-daf5bee4edc3"
      },
      "execution_count": null,
      "outputs": [
        {
          "output_type": "error",
          "ename": "StopIteration",
          "evalue": "ignored",
          "traceback": [
            "\u001b[0;31m---------------------------------------------------------------------------\u001b[0m",
            "\u001b[0;31mStopIteration\u001b[0m                             Traceback (most recent call last)",
            "\u001b[0;32m<ipython-input-6-c287431234ba>\u001b[0m in \u001b[0;36m<module>\u001b[0;34m\u001b[0m\n\u001b[0;32m----> 1\u001b[0;31m \u001b[0mnext\u001b[0m\u001b[0;34m(\u001b[0m\u001b[0mu\u001b[0m\u001b[0;34m)\u001b[0m\u001b[0;34m\u001b[0m\u001b[0;34m\u001b[0m\u001b[0m\n\u001b[0m",
            "\u001b[0;31mStopIteration\u001b[0m: "
          ]
        }
      ]
    },
    {
      "cell_type": "code",
      "source": [
        "def add_two(a, b):\n",
        "  return a+b"
      ],
      "metadata": {
        "id": "FS5_01R9L7WW"
      },
      "execution_count": null,
      "outputs": []
    },
    {
      "cell_type": "code",
      "source": [
        "for k in map(add_two, [1,2,3], [5,6,7]):\n",
        "  print(k)"
      ],
      "metadata": {
        "colab": {
          "base_uri": "https://localhost:8080/"
        },
        "id": "81gCZxE8ME5J",
        "outputId": "d2e4a38a-3d82-4ec1-9b15-6f620f104d08"
      },
      "execution_count": null,
      "outputs": [
        {
          "output_type": "stream",
          "name": "stdout",
          "text": [
            "6\n",
            "8\n",
            "10\n"
          ]
        }
      ]
    },
    {
      "cell_type": "code",
      "source": [
        "next(map(add_two, [1,2,3], [5,6,7]))"
      ],
      "metadata": {
        "colab": {
          "base_uri": "https://localhost:8080/"
        },
        "id": "v0TOvJosMIxm",
        "outputId": "53cf319b-bbf1-40d4-982f-50cc17829554"
      },
      "execution_count": null,
      "outputs": [
        {
          "output_type": "execute_result",
          "data": {
            "text/plain": [
              "6"
            ]
          },
          "metadata": {},
          "execution_count": 128
        }
      ]
    },
    {
      "cell_type": "code",
      "source": [
        "round(2.3346532, 3), round(2.6)"
      ],
      "metadata": {
        "colab": {
          "base_uri": "https://localhost:8080/"
        },
        "id": "cdRJeudGMQAb",
        "outputId": "64189c48-69f9-4f82-e9f7-b394c755a3e1"
      },
      "execution_count": null,
      "outputs": [
        {
          "output_type": "execute_result",
          "data": {
            "text/plain": [
              "(2.335, 3)"
            ]
          },
          "metadata": {},
          "execution_count": 132
        }
      ]
    },
    {
      "cell_type": "code",
      "source": [
        "print('asd')\n",
        "print()\n",
        "print('asdad')"
      ],
      "metadata": {
        "colab": {
          "base_uri": "https://localhost:8080/"
        },
        "id": "hlh-g9vjMirT",
        "outputId": "00ee4aad-c2f0-49eb-87da-fed29efcf3d8"
      },
      "execution_count": null,
      "outputs": [
        {
          "output_type": "stream",
          "name": "stdout",
          "text": [
            "asd\n",
            "\n",
            "asdad\n"
          ]
        }
      ]
    },
    {
      "cell_type": "code",
      "source": [
        "print('a', 'b', 'c', sep= '' ), print('a', 'b', 'c', sep= '' ), print('a', 'b', 'c', sep= '|||' )"
      ],
      "metadata": {
        "colab": {
          "base_uri": "https://localhost:8080/"
        },
        "id": "KC0RlHEyNL9p",
        "outputId": "a552ae06-1280-4697-b41a-c761d0611f15"
      },
      "execution_count": null,
      "outputs": [
        {
          "output_type": "stream",
          "name": "stdout",
          "text": [
            "abc\n",
            "abc\n",
            "a|||b|||c\n"
          ]
        },
        {
          "output_type": "execute_result",
          "data": {
            "text/plain": [
              "(None, None, None)"
            ]
          },
          "metadata": {},
          "execution_count": 134
        }
      ]
    },
    {
      "cell_type": "code",
      "source": [
        "year = int(input( 'In what year were you born?'   ))\n",
        "year"
      ],
      "metadata": {
        "colab": {
          "base_uri": "https://localhost:8080/"
        },
        "id": "7TkBczQtNdhJ",
        "outputId": "9e3d12bf-c692-4f7e-94d5-760919a4fcf1"
      },
      "execution_count": null,
      "outputs": [
        {
          "name": "stdout",
          "output_type": "stream",
          "text": [
            "In what year were you born?45\n"
          ]
        },
        {
          "output_type": "execute_result",
          "data": {
            "text/plain": [
              "45"
            ]
          },
          "metadata": {},
          "execution_count": 136
        }
      ]
    },
    {
      "cell_type": "code",
      "source": [
        "reply = input( 'Enter x and y, separated by spaces: ' )\n",
        "pieces = reply.split( ) # returns a list of strings, as separated by spaces \n",
        "x = float(pieces[0])\n",
        "y = float(pieces[1])\n",
        "x, y"
      ],
      "metadata": {
        "colab": {
          "base_uri": "https://localhost:8080/"
        },
        "id": "MoO649O8ONNI",
        "outputId": "76f4574e-c0d7-46f3-91b5-cbda0c8f15e5"
      },
      "execution_count": null,
      "outputs": [
        {
          "name": "stdout",
          "output_type": "stream",
          "text": [
            "Enter x and y, separated by spaces: 45 65\n"
          ]
        },
        {
          "output_type": "execute_result",
          "data": {
            "text/plain": [
              "(45.0, 65.0)"
            ]
          },
          "metadata": {},
          "execution_count": 137
        }
      ]
    },
    {
      "cell_type": "code",
      "source": [
        "age = int(input( 'Enter your age in years:  ' ))\n",
        "max_heart_rate = 206.9 - (0.67 * age) # as per Med Sci Sports Exerc. \n",
        "target = 0.65*max_heart_rate\n",
        "print( 'Your target fat-burning heart rate is' , target)"
      ],
      "metadata": {
        "colab": {
          "base_uri": "https://localhost:8080/"
        },
        "id": "UX1fnUMROlIV",
        "outputId": "fe0cc570-c7a5-44cb-bad4-bd964b703abd"
      },
      "execution_count": null,
      "outputs": [
        {
          "output_type": "stream",
          "name": "stdout",
          "text": [
            "Enter your age in years:  36\n",
            "Your target fat-burning heart rate is 118.807\n"
          ]
        }
      ]
    },
    {
      "cell_type": "code",
      "source": [
        "fp = open('/content/sample_data/anscombe.json')\n",
        "fp"
      ],
      "metadata": {
        "colab": {
          "base_uri": "https://localhost:8080/"
        },
        "id": "YGxoj-qoO-TH",
        "outputId": "b0e2ddcf-096f-45c5-ad5a-a565e61791d5"
      },
      "execution_count": null,
      "outputs": [
        {
          "output_type": "execute_result",
          "data": {
            "text/plain": [
              "<_io.TextIOWrapper name='/content/sample_data/anscombe.json' mode='r' encoding='UTF-8'>"
            ]
          },
          "metadata": {},
          "execution_count": 156
        }
      ]
    },
    {
      "cell_type": "code",
      "source": [
        "for line in fp:\n",
        "  print(line)"
      ],
      "metadata": {
        "colab": {
          "base_uri": "https://localhost:8080/"
        },
        "id": "ifRnfgA8Qowp",
        "outputId": "0e6e68ec-d4cd-4b06-b329-56aa28575a3c"
      },
      "execution_count": null,
      "outputs": [
        {
          "output_type": "stream",
          "name": "stdout",
          "text": [
            "[\n",
            "\n",
            "  {\"Series\":\"I\", \"X\":10.0, \"Y\":8.04},\n",
            "\n",
            "  {\"Series\":\"I\", \"X\":8.0, \"Y\":6.95},\n",
            "\n",
            "  {\"Series\":\"I\", \"X\":13.0, \"Y\":7.58},\n",
            "\n",
            "  {\"Series\":\"I\", \"X\":9.0, \"Y\":8.81},\n",
            "\n",
            "  {\"Series\":\"I\", \"X\":11.0, \"Y\":8.33},\n",
            "\n",
            "  {\"Series\":\"I\", \"X\":14.0, \"Y\":9.96},\n",
            "\n",
            "  {\"Series\":\"I\", \"X\":6.0, \"Y\":7.24},\n",
            "\n",
            "  {\"Series\":\"I\", \"X\":4.0, \"Y\":4.26},\n",
            "\n",
            "  {\"Series\":\"I\", \"X\":12.0, \"Y\":10.84},\n",
            "\n",
            "  {\"Series\":\"I\", \"X\":7.0, \"Y\":4.81},\n",
            "\n",
            "  {\"Series\":\"I\", \"X\":5.0, \"Y\":5.68},\n",
            "\n",
            "\n",
            "\n",
            "  {\"Series\":\"II\", \"X\":10.0, \"Y\":9.14},\n",
            "\n",
            "  {\"Series\":\"II\", \"X\":8.0, \"Y\":8.14},\n",
            "\n",
            "  {\"Series\":\"II\", \"X\":13.0, \"Y\":8.74},\n",
            "\n",
            "  {\"Series\":\"II\", \"X\":9.0, \"Y\":8.77},\n",
            "\n",
            "  {\"Series\":\"II\", \"X\":11.0, \"Y\":9.26},\n",
            "\n",
            "  {\"Series\":\"II\", \"X\":14.0, \"Y\":8.10},\n",
            "\n",
            "  {\"Series\":\"II\", \"X\":6.0, \"Y\":6.13},\n",
            "\n",
            "  {\"Series\":\"II\", \"X\":4.0, \"Y\":3.10},\n",
            "\n",
            "  {\"Series\":\"II\", \"X\":12.0, \"Y\":9.13},\n",
            "\n",
            "  {\"Series\":\"II\", \"X\":7.0, \"Y\":7.26},\n",
            "\n",
            "  {\"Series\":\"II\", \"X\":5.0, \"Y\":4.74},\n",
            "\n",
            "\n",
            "\n",
            "  {\"Series\":\"III\", \"X\":10.0, \"Y\":7.46},\n",
            "\n",
            "  {\"Series\":\"III\", \"X\":8.0, \"Y\":6.77},\n",
            "\n",
            "  {\"Series\":\"III\", \"X\":13.0, \"Y\":12.74},\n",
            "\n",
            "  {\"Series\":\"III\", \"X\":9.0, \"Y\":7.11},\n",
            "\n",
            "  {\"Series\":\"III\", \"X\":11.0, \"Y\":7.81},\n",
            "\n",
            "  {\"Series\":\"III\", \"X\":14.0, \"Y\":8.84},\n",
            "\n",
            "  {\"Series\":\"III\", \"X\":6.0, \"Y\":6.08},\n",
            "\n",
            "  {\"Series\":\"III\", \"X\":4.0, \"Y\":5.39},\n",
            "\n",
            "  {\"Series\":\"III\", \"X\":12.0, \"Y\":8.15},\n",
            "\n",
            "  {\"Series\":\"III\", \"X\":7.0, \"Y\":6.42},\n",
            "\n",
            "  {\"Series\":\"III\", \"X\":5.0, \"Y\":5.73},\n",
            "\n",
            "\n",
            "\n",
            "  {\"Series\":\"IV\", \"X\":8.0, \"Y\":6.58},\n",
            "\n",
            "  {\"Series\":\"IV\", \"X\":8.0, \"Y\":5.76},\n",
            "\n",
            "  {\"Series\":\"IV\", \"X\":8.0, \"Y\":7.71},\n",
            "\n",
            "  {\"Series\":\"IV\", \"X\":8.0, \"Y\":8.84},\n",
            "\n",
            "  {\"Series\":\"IV\", \"X\":8.0, \"Y\":8.47},\n",
            "\n",
            "  {\"Series\":\"IV\", \"X\":8.0, \"Y\":7.04},\n",
            "\n",
            "  {\"Series\":\"IV\", \"X\":8.0, \"Y\":5.25},\n",
            "\n",
            "  {\"Series\":\"IV\", \"X\":19.0, \"Y\":12.50},\n",
            "\n",
            "  {\"Series\":\"IV\", \"X\":8.0, \"Y\":5.56},\n",
            "\n",
            "  {\"Series\":\"IV\", \"X\":8.0, \"Y\":7.91},\n",
            "\n",
            "  {\"Series\":\"IV\", \"X\":8.0, \"Y\":6.89}\n",
            "\n",
            "]\n",
            "\n"
          ]
        }
      ]
    },
    {
      "cell_type": "code",
      "source": [
        "fp.read(45)"
      ],
      "metadata": {
        "colab": {
          "base_uri": "https://localhost:8080/",
          "height": 37
        },
        "id": "vcxNuExwPuh5",
        "outputId": "147737b9-a9c1-4a6f-ef0e-358c77af1884"
      },
      "execution_count": null,
      "outputs": [
        {
          "output_type": "execute_result",
          "data": {
            "text/plain": [
              "''"
            ],
            "application/vnd.google.colaboratory.intrinsic+json": {
              "type": "string"
            }
          },
          "metadata": {},
          "execution_count": 146
        }
      ]
    },
    {
      "cell_type": "code",
      "source": [
        "fp.readline()"
      ],
      "metadata": {
        "colab": {
          "base_uri": "https://localhost:8080/",
          "height": 37
        },
        "id": "xFwUSssmP7gQ",
        "outputId": "2fa0e1e5-e1e5-4b98-c3dd-375af1c34683"
      },
      "execution_count": null,
      "outputs": [
        {
          "output_type": "execute_result",
          "data": {
            "text/plain": [
              "'  {\"Series\":\"I\", \"X\":8.0, \"Y\":6.95},\\n'"
            ],
            "application/vnd.google.colaboratory.intrinsic+json": {
              "type": "string"
            }
          },
          "metadata": {},
          "execution_count": 152
        }
      ]
    },
    {
      "cell_type": "code",
      "source": [
        "for l in fp.readlines():\n",
        "  print(l)"
      ],
      "metadata": {
        "colab": {
          "base_uri": "https://localhost:8080/"
        },
        "id": "8yY5AXZWQJsP",
        "outputId": "34cc621d-19df-4178-e393-9db8783c2994"
      },
      "execution_count": null,
      "outputs": [
        {
          "output_type": "stream",
          "name": "stdout",
          "text": [
            "  {\"Series\":\"I\", \"X\":9.0, \"Y\":8.81},\n",
            "\n",
            "  {\"Series\":\"I\", \"X\":11.0, \"Y\":8.33},\n",
            "\n",
            "  {\"Series\":\"I\", \"X\":14.0, \"Y\":9.96},\n",
            "\n",
            "  {\"Series\":\"I\", \"X\":6.0, \"Y\":7.24},\n",
            "\n",
            "  {\"Series\":\"I\", \"X\":4.0, \"Y\":4.26},\n",
            "\n",
            "  {\"Series\":\"I\", \"X\":12.0, \"Y\":10.84},\n",
            "\n",
            "  {\"Series\":\"I\", \"X\":7.0, \"Y\":4.81},\n",
            "\n",
            "  {\"Series\":\"I\", \"X\":5.0, \"Y\":5.68},\n",
            "\n",
            "\n",
            "\n",
            "  {\"Series\":\"II\", \"X\":10.0, \"Y\":9.14},\n",
            "\n",
            "  {\"Series\":\"II\", \"X\":8.0, \"Y\":8.14},\n",
            "\n",
            "  {\"Series\":\"II\", \"X\":13.0, \"Y\":8.74},\n",
            "\n",
            "  {\"Series\":\"II\", \"X\":9.0, \"Y\":8.77},\n",
            "\n",
            "  {\"Series\":\"II\", \"X\":11.0, \"Y\":9.26},\n",
            "\n",
            "  {\"Series\":\"II\", \"X\":14.0, \"Y\":8.10},\n",
            "\n",
            "  {\"Series\":\"II\", \"X\":6.0, \"Y\":6.13},\n",
            "\n",
            "  {\"Series\":\"II\", \"X\":4.0, \"Y\":3.10},\n",
            "\n",
            "  {\"Series\":\"II\", \"X\":12.0, \"Y\":9.13},\n",
            "\n",
            "  {\"Series\":\"II\", \"X\":7.0, \"Y\":7.26},\n",
            "\n",
            "  {\"Series\":\"II\", \"X\":5.0, \"Y\":4.74},\n",
            "\n",
            "\n",
            "\n",
            "  {\"Series\":\"III\", \"X\":10.0, \"Y\":7.46},\n",
            "\n",
            "  {\"Series\":\"III\", \"X\":8.0, \"Y\":6.77},\n",
            "\n",
            "  {\"Series\":\"III\", \"X\":13.0, \"Y\":12.74},\n",
            "\n",
            "  {\"Series\":\"III\", \"X\":9.0, \"Y\":7.11},\n",
            "\n",
            "  {\"Series\":\"III\", \"X\":11.0, \"Y\":7.81},\n",
            "\n",
            "  {\"Series\":\"III\", \"X\":14.0, \"Y\":8.84},\n",
            "\n",
            "  {\"Series\":\"III\", \"X\":6.0, \"Y\":6.08},\n",
            "\n",
            "  {\"Series\":\"III\", \"X\":4.0, \"Y\":5.39},\n",
            "\n",
            "  {\"Series\":\"III\", \"X\":12.0, \"Y\":8.15},\n",
            "\n",
            "  {\"Series\":\"III\", \"X\":7.0, \"Y\":6.42},\n",
            "\n",
            "  {\"Series\":\"III\", \"X\":5.0, \"Y\":5.73},\n",
            "\n",
            "\n",
            "\n",
            "  {\"Series\":\"IV\", \"X\":8.0, \"Y\":6.58},\n",
            "\n",
            "  {\"Series\":\"IV\", \"X\":8.0, \"Y\":5.76},\n",
            "\n",
            "  {\"Series\":\"IV\", \"X\":8.0, \"Y\":7.71},\n",
            "\n",
            "  {\"Series\":\"IV\", \"X\":8.0, \"Y\":8.84},\n",
            "\n",
            "  {\"Series\":\"IV\", \"X\":8.0, \"Y\":8.47},\n",
            "\n",
            "  {\"Series\":\"IV\", \"X\":8.0, \"Y\":7.04},\n",
            "\n",
            "  {\"Series\":\"IV\", \"X\":8.0, \"Y\":5.25},\n",
            "\n",
            "  {\"Series\":\"IV\", \"X\":19.0, \"Y\":12.50},\n",
            "\n",
            "  {\"Series\":\"IV\", \"X\":8.0, \"Y\":5.56},\n",
            "\n",
            "  {\"Series\":\"IV\", \"X\":8.0, \"Y\":7.91},\n",
            "\n",
            "  {\"Series\":\"IV\", \"X\":8.0, \"Y\":6.89}\n",
            "\n",
            "]\n",
            "\n"
          ]
        }
      ]
    },
    {
      "cell_type": "code",
      "source": [
        "fp.close()"
      ],
      "metadata": {
        "id": "gJyEoM9pPkAi"
      },
      "execution_count": null,
      "outputs": []
    },
    {
      "cell_type": "code",
      "source": [
        "print(..., file=fp)"
      ],
      "metadata": {
        "id": "78SUtb7SPn4p"
      },
      "execution_count": null,
      "outputs": []
    },
    {
      "cell_type": "code",
      "source": [
        "raise ValueError( 'x cannot be negative' )"
      ],
      "metadata": {
        "colab": {
          "base_uri": "https://localhost:8080/",
          "height": 164
        },
        "id": "XL9ECN50ThVI",
        "outputId": "1c262b1f-7c0f-4696-8605-334536456e5f"
      },
      "execution_count": null,
      "outputs": [
        {
          "output_type": "error",
          "ename": "ValueError",
          "evalue": "ignored",
          "traceback": [
            "\u001b[0;31m---------------------------------------------------------------------------\u001b[0m",
            "\u001b[0;31mValueError\u001b[0m                                Traceback (most recent call last)",
            "\u001b[0;32m<ipython-input-8-97f658b4c72c>\u001b[0m in \u001b[0;36m<module>\u001b[0;34m\u001b[0m\n\u001b[0;32m----> 1\u001b[0;31m \u001b[0;32mraise\u001b[0m \u001b[0mValueError\u001b[0m\u001b[0;34m(\u001b[0m \u001b[0;34m'x cannot be negative'\u001b[0m \u001b[0;34m)\u001b[0m\u001b[0;34m\u001b[0m\u001b[0;34m\u001b[0m\u001b[0m\n\u001b[0m",
            "\u001b[0;31mValueError\u001b[0m: x cannot be negative"
          ]
        }
      ]
    },
    {
      "cell_type": "code",
      "source": [
        "def sqrt(x):\n",
        "  if not isinstance(x, (int, float)):\n",
        "    raise ValueError('it should be numeric value')\n",
        "  elif x < 0:\n",
        "    raise ValueError('It should be positive value')"
      ],
      "metadata": {
        "id": "1uVJkA9HUPiy"
      },
      "execution_count": null,
      "outputs": []
    },
    {
      "cell_type": "code",
      "source": [
        "sqrt('a')"
      ],
      "metadata": {
        "colab": {
          "base_uri": "https://localhost:8080/",
          "height": 283
        },
        "id": "fhZmlZkQU01w",
        "outputId": "342c94ab-8283-4ecd-d94c-fbcf8b9ff979"
      },
      "execution_count": null,
      "outputs": [
        {
          "output_type": "error",
          "ename": "ValueError",
          "evalue": "ignored",
          "traceback": [
            "\u001b[0;31m---------------------------------------------------------------------------\u001b[0m",
            "\u001b[0;31mValueError\u001b[0m                                Traceback (most recent call last)",
            "\u001b[0;32m<ipython-input-12-d0eecbee4c14>\u001b[0m in \u001b[0;36m<module>\u001b[0;34m\u001b[0m\n\u001b[0;32m----> 1\u001b[0;31m \u001b[0msqrt\u001b[0m\u001b[0;34m(\u001b[0m\u001b[0;34m'a'\u001b[0m\u001b[0;34m)\u001b[0m\u001b[0;34m\u001b[0m\u001b[0;34m\u001b[0m\u001b[0m\n\u001b[0m",
            "\u001b[0;32m<ipython-input-11-b51f6c9f6f9e>\u001b[0m in \u001b[0;36msqrt\u001b[0;34m(x)\u001b[0m\n\u001b[1;32m      1\u001b[0m \u001b[0;32mdef\u001b[0m \u001b[0msqrt\u001b[0m\u001b[0;34m(\u001b[0m\u001b[0mx\u001b[0m\u001b[0;34m)\u001b[0m\u001b[0;34m:\u001b[0m\u001b[0;34m\u001b[0m\u001b[0;34m\u001b[0m\u001b[0m\n\u001b[1;32m      2\u001b[0m   \u001b[0;32mif\u001b[0m \u001b[0;32mnot\u001b[0m \u001b[0misinstance\u001b[0m\u001b[0;34m(\u001b[0m\u001b[0mx\u001b[0m\u001b[0;34m,\u001b[0m \u001b[0;34m(\u001b[0m\u001b[0mint\u001b[0m\u001b[0;34m,\u001b[0m \u001b[0mfloat\u001b[0m\u001b[0;34m)\u001b[0m\u001b[0;34m)\u001b[0m\u001b[0;34m:\u001b[0m\u001b[0;34m\u001b[0m\u001b[0;34m\u001b[0m\u001b[0m\n\u001b[0;32m----> 3\u001b[0;31m     \u001b[0;32mraise\u001b[0m \u001b[0mValueError\u001b[0m\u001b[0;34m(\u001b[0m\u001b[0;34m'it should be numeric value'\u001b[0m\u001b[0;34m)\u001b[0m\u001b[0;34m\u001b[0m\u001b[0;34m\u001b[0m\u001b[0m\n\u001b[0m\u001b[1;32m      4\u001b[0m   \u001b[0;32melif\u001b[0m \u001b[0mx\u001b[0m \u001b[0;34m<\u001b[0m \u001b[0;36m0\u001b[0m\u001b[0;34m:\u001b[0m\u001b[0;34m\u001b[0m\u001b[0;34m\u001b[0m\u001b[0m\n\u001b[1;32m      5\u001b[0m     \u001b[0;32mraise\u001b[0m \u001b[0mValueError\u001b[0m\u001b[0;34m(\u001b[0m\u001b[0;34m'It should be positive value'\u001b[0m\u001b[0;34m)\u001b[0m\u001b[0;34m\u001b[0m\u001b[0;34m\u001b[0m\u001b[0m\n",
            "\u001b[0;31mValueError\u001b[0m: it should be numeric value"
          ]
        }
      ]
    },
    {
      "cell_type": "code",
      "source": [
        "import collections\n",
        "collections.Iterable"
      ],
      "metadata": {
        "colab": {
          "base_uri": "https://localhost:8080/"
        },
        "id": "tW6hAmXwU4D5",
        "outputId": "d20174e1-f12c-491e-e684-2ec5cbeb1db6"
      },
      "execution_count": null,
      "outputs": [
        {
          "output_type": "stream",
          "name": "stderr",
          "text": [
            "/usr/local/lib/python3.7/dist-packages/ipykernel_launcher.py:2: DeprecationWarning: Using or importing the ABCs from 'collections' instead of from 'collections.abc' is deprecated since Python 3.3,and in 3.9 it will stop working\n",
            "  \n"
          ]
        },
        {
          "output_type": "execute_result",
          "data": {
            "text/plain": [
              "collections.abc.Iterable"
            ]
          },
          "metadata": {},
          "execution_count": 15
        }
      ]
    },
    {
      "cell_type": "code",
      "source": [
        "def sum(value):\n",
        "  if not isinstance(value, collections.Iterable):\n",
        "    raise ValueError('The value should be Iterable')\n",
        "  tot = 0\n",
        "  for val in value:\n",
        "    if not isinstance(val, (int, float)):\n",
        "      raise ValueError('the iterable should include only numerical values')\n",
        "    \n",
        "    tot += val\n",
        "  return tot\n"
      ],
      "metadata": {
        "id": "-eAmqBrJVaUD"
      },
      "execution_count": null,
      "outputs": []
    },
    {
      "cell_type": "code",
      "source": [
        "sum([1,2,3])"
      ],
      "metadata": {
        "colab": {
          "base_uri": "https://localhost:8080/"
        },
        "id": "_ruDJW15WM7J",
        "outputId": "ef88a1d1-85f3-4990-b807-4460203853cb"
      },
      "execution_count": null,
      "outputs": [
        {
          "output_type": "execute_result",
          "data": {
            "text/plain": [
              "6"
            ]
          },
          "metadata": {},
          "execution_count": 24
        }
      ]
    },
    {
      "cell_type": "code",
      "source": [
        "try:\n",
        "  fp = open('sometext.txt')\n",
        "except IOError as e:\n",
        "  print(e)\n",
        "  print('Unable to load {0}'.format(e))\n",
        "  raise\n",
        "finally:\n",
        "  print('it is caught')"
      ],
      "metadata": {
        "colab": {
          "base_uri": "https://localhost:8080/",
          "height": 283
        },
        "id": "P_VNq7_lWOTG",
        "outputId": "52246edd-61a7-4896-b2a9-4a30abcb1ad4"
      },
      "execution_count": null,
      "outputs": [
        {
          "output_type": "stream",
          "name": "stdout",
          "text": [
            "[Errno 2] No such file or directory: 'sometext.txt'\n",
            "Unable to load [Errno 2] No such file or directory: 'sometext.txt'\n",
            "it is caught\n"
          ]
        },
        {
          "output_type": "error",
          "ename": "FileNotFoundError",
          "evalue": "ignored",
          "traceback": [
            "\u001b[0;31m---------------------------------------------------------------------------\u001b[0m",
            "\u001b[0;31mFileNotFoundError\u001b[0m                         Traceback (most recent call last)",
            "\u001b[0;32m<ipython-input-32-1ac296c95f09>\u001b[0m in \u001b[0;36m<module>\u001b[0;34m\u001b[0m\n\u001b[1;32m      1\u001b[0m \u001b[0;32mtry\u001b[0m\u001b[0;34m:\u001b[0m\u001b[0;34m\u001b[0m\u001b[0;34m\u001b[0m\u001b[0m\n\u001b[0;32m----> 2\u001b[0;31m   \u001b[0mfp\u001b[0m \u001b[0;34m=\u001b[0m \u001b[0mopen\u001b[0m\u001b[0;34m(\u001b[0m\u001b[0;34m'sometext.txt'\u001b[0m\u001b[0;34m)\u001b[0m\u001b[0;34m\u001b[0m\u001b[0;34m\u001b[0m\u001b[0m\n\u001b[0m\u001b[1;32m      3\u001b[0m \u001b[0;32mexcept\u001b[0m \u001b[0mIOError\u001b[0m \u001b[0;32mas\u001b[0m \u001b[0me\u001b[0m\u001b[0;34m:\u001b[0m\u001b[0;34m\u001b[0m\u001b[0;34m\u001b[0m\u001b[0m\n\u001b[1;32m      4\u001b[0m   \u001b[0mprint\u001b[0m\u001b[0;34m(\u001b[0m\u001b[0me\u001b[0m\u001b[0;34m)\u001b[0m\u001b[0;34m\u001b[0m\u001b[0;34m\u001b[0m\u001b[0m\n\u001b[1;32m      5\u001b[0m   \u001b[0mprint\u001b[0m\u001b[0;34m(\u001b[0m\u001b[0;34m'Unable to load {0}'\u001b[0m\u001b[0;34m.\u001b[0m\u001b[0mformat\u001b[0m\u001b[0;34m(\u001b[0m\u001b[0me\u001b[0m\u001b[0;34m)\u001b[0m\u001b[0;34m)\u001b[0m\u001b[0;34m\u001b[0m\u001b[0;34m\u001b[0m\u001b[0m\n",
            "\u001b[0;31mFileNotFoundError\u001b[0m: [Errno 2] No such file or directory: 'sometext.txt'"
          ]
        }
      ]
    },
    {
      "cell_type": "code",
      "source": [
        "try:\n",
        "  fp = open('sometext.txt')\n",
        "except IOError as e:\n",
        "  pass"
      ],
      "metadata": {
        "id": "dkAg2baIZbfO"
      },
      "execution_count": null,
      "outputs": []
    },
    {
      "cell_type": "code",
      "source": [
        "x = [1,2,30,4]"
      ],
      "metadata": {
        "id": "J5gkKW-uaOo1"
      },
      "execution_count": null,
      "outputs": []
    },
    {
      "cell_type": "code",
      "source": [
        "h = iter(x)\n",
        "h"
      ],
      "metadata": {
        "colab": {
          "base_uri": "https://localhost:8080/"
        },
        "id": "pXEwAwHk00Yq",
        "outputId": "0ef42121-0a7e-4858-ee40-5daf2c3f41de"
      },
      "execution_count": null,
      "outputs": [
        {
          "output_type": "execute_result",
          "data": {
            "text/plain": [
              "<list_iterator at 0x7f97feed1a50>"
            ]
          },
          "metadata": {},
          "execution_count": 55
        }
      ]
    },
    {
      "cell_type": "code",
      "source": [
        "next(h)"
      ],
      "metadata": {
        "colab": {
          "base_uri": "https://localhost:8080/"
        },
        "id": "h8XwXMuS0SZF",
        "outputId": "17466aca-f3b9-4925-a5e8-0f980f660e71"
      },
      "execution_count": null,
      "outputs": [
        {
          "output_type": "execute_result",
          "data": {
            "text/plain": [
              "1"
            ]
          },
          "metadata": {},
          "execution_count": 56
        }
      ]
    },
    {
      "cell_type": "code",
      "source": [
        "del x[1]"
      ],
      "metadata": {
        "id": "7d4xIDC80Y8S"
      },
      "execution_count": null,
      "outputs": []
    },
    {
      "cell_type": "code",
      "source": [
        "x"
      ],
      "metadata": {
        "colab": {
          "base_uri": "https://localhost:8080/"
        },
        "id": "0HmhDajQ1Jhm",
        "outputId": "de1f1999-890a-40ef-d81b-411401b0857c"
      },
      "execution_count": null,
      "outputs": [
        {
          "output_type": "execute_result",
          "data": {
            "text/plain": [
              "[1, 30, 4]"
            ]
          },
          "metadata": {},
          "execution_count": 58
        }
      ]
    },
    {
      "cell_type": "code",
      "source": [
        "next(h)"
      ],
      "metadata": {
        "colab": {
          "base_uri": "https://localhost:8080/"
        },
        "id": "KwGlayMm1N_T",
        "outputId": "ed1e3e11-8f35-4260-dec7-db3b8c6f0c77"
      },
      "execution_count": null,
      "outputs": [
        {
          "output_type": "execute_result",
          "data": {
            "text/plain": [
              "30"
            ]
          },
          "metadata": {},
          "execution_count": 59
        }
      ]
    },
    {
      "cell_type": "code",
      "source": [
        "sum([])"
      ],
      "metadata": {
        "colab": {
          "base_uri": "https://localhost:8080/"
        },
        "id": "95MG2Nlt1aon",
        "outputId": "6cf7404c-ad55-41cc-b4e4-ea561e4303cf"
      },
      "execution_count": null,
      "outputs": [
        {
          "output_type": "execute_result",
          "data": {
            "text/plain": [
              "0"
            ]
          },
          "metadata": {},
          "execution_count": 60
        }
      ]
    },
    {
      "cell_type": "code",
      "source": [
        "def factors(n):\n",
        "  for k in range(1, n+1):\n",
        "    if not n%k:\n",
        "      yield k"
      ],
      "metadata": {
        "id": "5ti2ocDa2HTD"
      },
      "execution_count": null,
      "outputs": []
    },
    {
      "cell_type": "code",
      "source": [
        "for i in factors(6):\n",
        "  print(i)"
      ],
      "metadata": {
        "colab": {
          "base_uri": "https://localhost:8080/"
        },
        "id": "X0cET2h93MKd",
        "outputId": "35f9ccfa-9b43-4fa8-ae78-2f2ce8b04a5e"
      },
      "execution_count": null,
      "outputs": [
        {
          "output_type": "stream",
          "name": "stdout",
          "text": [
            "1\n",
            "6\n",
            "2\n",
            "3\n"
          ]
        }
      ]
    },
    {
      "cell_type": "code",
      "source": [
        "def factors(n):\n",
        "  k = 1\n",
        "  while k * k < n:\n",
        "    if not n%k:\n",
        "      yield k\n",
        "      yield n//k\n",
        "    k+=1\n",
        "  if k*k ==n:\n",
        "    yield k "
      ],
      "metadata": {
        "id": "srmSHT-63QGi"
      },
      "execution_count": null,
      "outputs": []
    },
    {
      "cell_type": "code",
      "source": [
        "def fibonacci(n):\n",
        "  a, b = 0, 1\n",
        "  for k in range(n):\n",
        "    yield a\n",
        "    future = a + b\n",
        "    a = b \n",
        "    b = future"
      ],
      "metadata": {
        "id": "2bo0gGPx4OVZ"
      },
      "execution_count": null,
      "outputs": []
    },
    {
      "cell_type": "code",
      "source": [
        "for i in fibonacci(10):\n",
        "  print(i)"
      ],
      "metadata": {
        "colab": {
          "base_uri": "https://localhost:8080/"
        },
        "id": "SOh5pR4d5UR1",
        "outputId": "7705df26-38bb-4788-e09c-4d9b4a8bacf7"
      },
      "execution_count": null,
      "outputs": [
        {
          "output_type": "stream",
          "name": "stdout",
          "text": [
            "0\n",
            "1\n",
            "1\n",
            "2\n",
            "3\n",
            "5\n",
            "8\n",
            "13\n",
            "21\n",
            "34\n"
          ]
        }
      ]
    },
    {
      "cell_type": "code",
      "source": [
        "sum(k*k for k in range(10))"
      ],
      "metadata": {
        "colab": {
          "base_uri": "https://localhost:8080/"
        },
        "id": "RZUCgr7w5X4y",
        "outputId": "56a3b433-f73a-4219-ee1b-71ad7c09efa4"
      },
      "execution_count": null,
      "outputs": [
        {
          "output_type": "execute_result",
          "data": {
            "text/plain": [
              "285"
            ]
          },
          "metadata": {},
          "execution_count": 70
        }
      ]
    },
    {
      "cell_type": "code",
      "source": [
        "a, b = 1, 2\n",
        "a, b"
      ],
      "metadata": {
        "colab": {
          "base_uri": "https://localhost:8080/"
        },
        "id": "ilg2JufW6vn9",
        "outputId": "00921722-3036-40ea-d017-e06f83c27ad6"
      },
      "execution_count": null,
      "outputs": [
        {
          "output_type": "execute_result",
          "data": {
            "text/plain": [
              "(1, 2)"
            ]
          },
          "metadata": {},
          "execution_count": 71
        }
      ]
    },
    {
      "cell_type": "code",
      "source": [
        "a, b = b, a\n",
        "a, b"
      ],
      "metadata": {
        "colab": {
          "base_uri": "https://localhost:8080/"
        },
        "id": "vrh79YIJ76Nw",
        "outputId": "b9eb6aad-f3eb-4e98-edd5-36cbd1c0bd9d"
      },
      "execution_count": null,
      "outputs": [
        {
          "output_type": "execute_result",
          "data": {
            "text/plain": [
              "(2, 1)"
            ]
          },
          "metadata": {},
          "execution_count": 72
        }
      ]
    },
    {
      "cell_type": "code",
      "source": [
        "a.__dir__"
      ],
      "metadata": {
        "colab": {
          "base_uri": "https://localhost:8080/"
        },
        "id": "SnUoyJMl7-a0",
        "outputId": "f004bbc0-ecdc-431e-8cea-03dee79d0229"
      },
      "execution_count": null,
      "outputs": [
        {
          "output_type": "execute_result",
          "data": {
            "text/plain": [
              "<function int.__dir__()>"
            ]
          },
          "metadata": {},
          "execution_count": 79
        }
      ]
    },
    {
      "cell_type": "code",
      "source": [
        "fibonacci.__dict__"
      ],
      "metadata": {
        "colab": {
          "base_uri": "https://localhost:8080/"
        },
        "id": "sNChnV3PIg3f",
        "outputId": "f8f15695-5b0f-402c-ada2-1a216b68ee16"
      },
      "execution_count": null,
      "outputs": [
        {
          "output_type": "execute_result",
          "data": {
            "text/plain": [
              "{}"
            ]
          },
          "metadata": {},
          "execution_count": 77
        }
      ]
    },
    {
      "cell_type": "markdown",
      "source": [
        "# Reinforcement"
      ],
      "metadata": {
        "id": "9LltMNwgS2CR"
      }
    },
    {
      "cell_type": "code",
      "source": [
        "#R-1.1\n",
        "def is_multiple(n, m):\n",
        "  if not m:\n",
        "    raise ValueError('The number should be non-zero')\n",
        "  return True if not n%m else False"
      ],
      "metadata": {
        "id": "4ZIyr_qeIuSO"
      },
      "execution_count": null,
      "outputs": []
    },
    {
      "cell_type": "code",
      "source": [
        "n, m = 10, 4\n",
        "is_multiple(n, m)"
      ],
      "metadata": {
        "colab": {
          "base_uri": "https://localhost:8080/"
        },
        "id": "j3YUGy8pJA1o",
        "outputId": "0fa71a92-f912-4a47-949b-23322b6bc619"
      },
      "execution_count": null,
      "outputs": [
        {
          "output_type": "execute_result",
          "data": {
            "text/plain": [
              "False"
            ]
          },
          "metadata": {},
          "execution_count": 92
        }
      ]
    },
    {
      "cell_type": "code",
      "source": [
        "#R-1.2\n",
        "def is_even(k):\n",
        "  k = abs(k)\n",
        "  while True:\n",
        "    if k == 1:\n",
        "      #the k is odd\n",
        "      return False\n",
        "    elif not k:\n",
        "      #k is even\n",
        "      return True\n",
        "    k -= 2"
      ],
      "metadata": {
        "id": "q4o8EahEJGbQ"
      },
      "execution_count": null,
      "outputs": []
    },
    {
      "cell_type": "code",
      "source": [
        "k=-40\n",
        "is_even(k)"
      ],
      "metadata": {
        "colab": {
          "base_uri": "https://localhost:8080/"
        },
        "id": "g1kTr8kDNbhV",
        "outputId": "aca5794f-62bd-466e-f47c-510791e18344"
      },
      "execution_count": null,
      "outputs": [
        {
          "output_type": "execute_result",
          "data": {
            "text/plain": [
              "True"
            ]
          },
          "metadata": {},
          "execution_count": 99
        }
      ]
    },
    {
      "cell_type": "code",
      "source": [
        "#R-1.3\n",
        "def minmax(seq):\n",
        "  if not seq:\n",
        "    raise ValueError('The sequence is empty!')\n",
        "\n",
        "  max_value, min_value = seq[0], seq[0]\n",
        "  for i in range(1, len(seq)):\n",
        "    if seq[i] > max_value:\n",
        "      max_value = seq[i]\n",
        "    if seq[i] < min_value:\n",
        "      min_value = seq[i]\n",
        "    \n",
        "  return max_value, min_value"
      ],
      "metadata": {
        "id": "yuCsoalXNdsX"
      },
      "execution_count": null,
      "outputs": []
    },
    {
      "cell_type": "code",
      "source": [
        "seq = [1, 5, -2, 8, 10, 190]\n",
        "minmax(seq)"
      ],
      "metadata": {
        "colab": {
          "base_uri": "https://localhost:8080/"
        },
        "id": "wxqvPVihOJiD",
        "outputId": "c7af8bb0-363b-43c9-febc-e192e511578d"
      },
      "execution_count": null,
      "outputs": [
        {
          "output_type": "execute_result",
          "data": {
            "text/plain": [
              "(190, -2)"
            ]
          },
          "metadata": {},
          "execution_count": 107
        }
      ]
    },
    {
      "cell_type": "code",
      "source": [
        "#R-1.4\n",
        "def sum_sqrs(k):\n",
        "  sum_ = 0\n",
        "  for i in range(k):\n",
        "    sum_ += i * i\n",
        "  return sum_"
      ],
      "metadata": {
        "id": "QA4womN0OPLt"
      },
      "execution_count": null,
      "outputs": []
    },
    {
      "cell_type": "code",
      "source": [
        "k=3\n",
        "sum_sqrs(k)"
      ],
      "metadata": {
        "colab": {
          "base_uri": "https://localhost:8080/"
        },
        "id": "rhJa16pdOYdV",
        "outputId": "0d1ee1e5-7641-4ea5-cff8-397fc6198c69"
      },
      "execution_count": null,
      "outputs": [
        {
          "output_type": "execute_result",
          "data": {
            "text/plain": [
              "5"
            ]
          },
          "metadata": {},
          "execution_count": 109
        }
      ]
    },
    {
      "cell_type": "code",
      "source": [
        "#R-1.5\n",
        "sum(z*z for z in range(k))"
      ],
      "metadata": {
        "colab": {
          "base_uri": "https://localhost:8080/"
        },
        "id": "6JQCYIVYPhlQ",
        "outputId": "7f12801d-384f-4937-9216-a9f16573979f"
      },
      "execution_count": null,
      "outputs": [
        {
          "output_type": "execute_result",
          "data": {
            "text/plain": [
              "5"
            ]
          },
          "metadata": {},
          "execution_count": 110
        }
      ]
    },
    {
      "cell_type": "code",
      "source": [
        "#R-1.6\n",
        "def sum_odd_sqrs(k):\n",
        "  sum_ = 0\n",
        "  for i in range(k):\n",
        "    if i%2:\n",
        "      sum_ += i * i\n",
        "  return sum_"
      ],
      "metadata": {
        "id": "fKddPbgsPs9u"
      },
      "execution_count": null,
      "outputs": []
    },
    {
      "cell_type": "code",
      "source": [
        "sum_odd_sqrs(k)"
      ],
      "metadata": {
        "colab": {
          "base_uri": "https://localhost:8080/"
        },
        "id": "c9YXFcujP6yD",
        "outputId": "6ba7b62a-62d6-4eb9-f34a-7060d52ab5c8"
      },
      "execution_count": null,
      "outputs": [
        {
          "output_type": "execute_result",
          "data": {
            "text/plain": [
              "1"
            ]
          },
          "metadata": {},
          "execution_count": 114
        }
      ]
    },
    {
      "cell_type": "code",
      "source": [
        "#R-1.7\n",
        "sum(z*z for z in range(k) if z%2)"
      ],
      "metadata": {
        "colab": {
          "base_uri": "https://localhost:8080/"
        },
        "id": "QM87QfjtP70Q",
        "outputId": "be354a8c-ceee-4628-c1d4-37b9e4ffd1b1"
      },
      "execution_count": null,
      "outputs": [
        {
          "output_type": "execute_result",
          "data": {
            "text/plain": [
              "1"
            ]
          },
          "metadata": {},
          "execution_count": 115
        }
      ]
    },
    {
      "cell_type": "code",
      "source": [
        "#R-1.10\n",
        "[i for i in range(8, -9, -2)]"
      ],
      "metadata": {
        "colab": {
          "base_uri": "https://localhost:8080/"
        },
        "id": "u4zhVP40QR6z",
        "outputId": "588d7db5-5516-4cb1-e4e6-4a4449e1e6ed"
      },
      "execution_count": null,
      "outputs": [
        {
          "output_type": "execute_result",
          "data": {
            "text/plain": [
              "[8, 6, 4, 2, 0, -2, -4, -6, -8]"
            ]
          },
          "metadata": {},
          "execution_count": 117
        }
      ]
    },
    {
      "cell_type": "code",
      "source": [
        "#R-1.11\n",
        "[2**i for i in range(9)]"
      ],
      "metadata": {
        "colab": {
          "base_uri": "https://localhost:8080/"
        },
        "id": "jQZxaaIRQn2S",
        "outputId": "1e5879ea-b1ec-431f-c6e9-0cb6341ad453"
      },
      "execution_count": null,
      "outputs": [
        {
          "output_type": "execute_result",
          "data": {
            "text/plain": [
              "[1, 2, 4, 8, 16, 32, 64, 128, 256]"
            ]
          },
          "metadata": {},
          "execution_count": 119
        }
      ]
    },
    {
      "cell_type": "code",
      "source": [
        "#R-1.12\n",
        "import random\n",
        "\n",
        "def choice_(seq):\n",
        "  return seq[random.randrange(0, len(seq))]\n"
      ],
      "metadata": {
        "id": "bPJgGpoNQzhv"
      },
      "execution_count": null,
      "outputs": []
    },
    {
      "cell_type": "code",
      "source": [
        "seq = [1,2,3,4]\n",
        "choice_(seq)"
      ],
      "metadata": {
        "colab": {
          "base_uri": "https://localhost:8080/"
        },
        "id": "aiApWNQaRrSx",
        "outputId": "e841e0db-c5bc-4a70-db5f-bfbaebe4ae7b"
      },
      "execution_count": null,
      "outputs": [
        {
          "output_type": "execute_result",
          "data": {
            "text/plain": [
              "4"
            ]
          },
          "metadata": {},
          "execution_count": 131
        }
      ]
    },
    {
      "cell_type": "markdown",
      "source": [
        "# Creativity"
      ],
      "metadata": {
        "id": "OGSvEQobS4pj"
      }
    },
    {
      "cell_type": "code",
      "source": [
        "#C-1.13\n",
        "seq = [1,6,2,5,9,3]\n",
        "seq.reverse()\n",
        "seq"
      ],
      "metadata": {
        "colab": {
          "base_uri": "https://localhost:8080/"
        },
        "id": "feQ75A7mRvBd",
        "outputId": "bb9f69a4-6e60-4955-d3f0-f6c939562cb0"
      },
      "execution_count": null,
      "outputs": [
        {
          "output_type": "execute_result",
          "data": {
            "text/plain": [
              "[3, 9, 5, 2, 6, 1]"
            ]
          },
          "metadata": {},
          "execution_count": 134
        }
      ]
    },
    {
      "cell_type": "code",
      "source": [
        "for i in {1,2,36,2}:\n",
        "  print(i)"
      ],
      "metadata": {
        "colab": {
          "base_uri": "https://localhost:8080/"
        },
        "id": "TQ1JHy6jUEv4",
        "outputId": "3376641c-1ae6-4b20-9b57-307ba4308bd4"
      },
      "execution_count": null,
      "outputs": [
        {
          "output_type": "stream",
          "name": "stdout",
          "text": [
            "1\n",
            "2\n",
            "36\n"
          ]
        }
      ]
    },
    {
      "cell_type": "code",
      "source": [
        "#C-1.14\n",
        "def determine_odd_prod(seq):\n",
        "  elements = list(set(seq)) #to get the distinct elements\n",
        "  result = []\n",
        "  for i in range(len(elements)):\n",
        "    for j in range(i+1, len(elements)): #since we have distinct elements\n",
        "      if (seq[i] * seq[j]) % 2:\n",
        "        return True\n",
        "  return False"
      ],
      "metadata": {
        "id": "Y1Ikf3PDTfm5"
      },
      "execution_count": null,
      "outputs": []
    },
    {
      "cell_type": "code",
      "source": [
        "seq = [1,24,21,2,4, 24]\n",
        "determine_odd_prod(seq)"
      ],
      "metadata": {
        "colab": {
          "base_uri": "https://localhost:8080/"
        },
        "id": "6CpIhM26Upxx",
        "outputId": "033e88e6-f3b5-4ea4-fe13-67fad9937621"
      },
      "execution_count": null,
      "outputs": [
        {
          "output_type": "execute_result",
          "data": {
            "text/plain": [
              "True"
            ]
          },
          "metadata": {},
          "execution_count": 152
        }
      ]
    },
    {
      "cell_type": "code",
      "source": [
        "#C-1.15\n",
        "def is_distinct(seq):\n",
        "  return True if len(seq)==len(set(seq)) else False"
      ],
      "metadata": {
        "id": "Yb-Vb1ebU0cP"
      },
      "execution_count": null,
      "outputs": []
    },
    {
      "cell_type": "code",
      "source": [
        "is_distinct(seq)"
      ],
      "metadata": {
        "colab": {
          "base_uri": "https://localhost:8080/"
        },
        "id": "PHiTewRbVwKZ",
        "outputId": "e1d72162-be9e-4870-fce8-1495c504c8e0"
      },
      "execution_count": null,
      "outputs": [
        {
          "output_type": "execute_result",
          "data": {
            "text/plain": [
              "False"
            ]
          },
          "metadata": {},
          "execution_count": 154
        }
      ]
    },
    {
      "cell_type": "code",
      "source": [
        "#C-1.18\n",
        "[i*(i+1) for i in range(10)]"
      ],
      "metadata": {
        "colab": {
          "base_uri": "https://localhost:8080/"
        },
        "id": "XF4_p_7iWzwo",
        "outputId": "77dd899d-3bbb-43ec-f12a-cf3b24b34832"
      },
      "execution_count": null,
      "outputs": [
        {
          "output_type": "execute_result",
          "data": {
            "text/plain": [
              "[0, 2, 6, 12, 20, 30, 42, 56, 72, 90]"
            ]
          },
          "metadata": {},
          "execution_count": 175
        }
      ]
    },
    {
      "cell_type": "code",
      "source": [
        "#C-1.19\n",
        "[chr(i) for i in range(97, 97+26)]"
      ],
      "metadata": {
        "colab": {
          "base_uri": "https://localhost:8080/"
        },
        "id": "04FFMMBFW4ii",
        "outputId": "34db1df9-2252-433e-e31a-170a05aedbba"
      },
      "execution_count": null,
      "outputs": [
        {
          "output_type": "execute_result",
          "data": {
            "text/plain": [
              "['a',\n",
              " 'b',\n",
              " 'c',\n",
              " 'd',\n",
              " 'e',\n",
              " 'f',\n",
              " 'g',\n",
              " 'h',\n",
              " 'i',\n",
              " 'j',\n",
              " 'k',\n",
              " 'l',\n",
              " 'm',\n",
              " 'n',\n",
              " 'o',\n",
              " 'p',\n",
              " 'q',\n",
              " 'r',\n",
              " 's',\n",
              " 't',\n",
              " 'u',\n",
              " 'v',\n",
              " 'w',\n",
              " 'x',\n",
              " 'y',\n",
              " 'z']"
            ]
          },
          "metadata": {},
          "execution_count": 179
        }
      ]
    },
    {
      "cell_type": "code",
      "source": [
        "#C-1.20\n",
        "import random\n",
        "def own_shuffle(seq):\n",
        "  k = len(seq)\n",
        "  idx = []\n",
        "  while k:\n",
        "    idx_rand = random.randint(0,len(seq)-1) #randint includes both end points\n",
        "    if  idx_rand not in idx:\n",
        "      idx.append(idx_rand)\n",
        "      k -= 1\n",
        "    \n",
        "  return [seq[i] for i in idx]\n"
      ],
      "metadata": {
        "id": "NQ1toLpoXHeb"
      },
      "execution_count": null,
      "outputs": []
    },
    {
      "cell_type": "code",
      "source": [
        "own_shuffle(seq)"
      ],
      "metadata": {
        "colab": {
          "base_uri": "https://localhost:8080/"
        },
        "id": "dAtArmqkcAAm",
        "outputId": "5c9490ff-ef91-4b4c-a9c7-d5060b86837a"
      },
      "execution_count": null,
      "outputs": [
        {
          "output_type": "execute_result",
          "data": {
            "text/plain": [
              "[2, 4, 48, 8, 42, 48]"
            ]
          },
          "metadata": {},
          "execution_count": 194
        }
      ]
    },
    {
      "cell_type": "code",
      "source": [
        "#C-1.21\n",
        "print('enter your input')\n",
        "print('To finish, enter ctrl+D')\n",
        "done = True\n",
        "temp = []\n",
        "while done:\n",
        "  try:\n",
        "    temp.append(input('Enter ... '))\n",
        "  except EOFError:\n",
        "    done = False #finish getting input from user\n",
        "    temp.reverse()\n",
        "    for line in temp:\n",
        "      print(line)\n"
      ],
      "metadata": {
        "colab": {
          "base_uri": "https://localhost:8080/"
        },
        "id": "JO6udsCeclh5",
        "outputId": "c970b48f-9548-42bd-9ba5-c26297311220"
      },
      "execution_count": null,
      "outputs": [
        {
          "output_type": "stream",
          "name": "stdout",
          "text": [
            "enter your input\n",
            "To finish, enter ctrl+D\n",
            "Enter ... this is line 1\n",
            "Enter ... this is line 2\n",
            "Enter ... this is line 3\n",
            "Enter ... \u0004\n",
            "this is line 3\n",
            "this is line 2\n",
            "this is line 1\n"
          ]
        }
      ]
    },
    {
      "cell_type": "code",
      "source": [
        "#C-1.22\n",
        "def dot_prod(a, b):\n",
        "  return [a[i]*b[i] for i in range(len(a))] #both arrays/lists have the same length"
      ],
      "metadata": {
        "id": "NoHkjSx3dsz-"
      },
      "execution_count": null,
      "outputs": []
    },
    {
      "cell_type": "code",
      "source": [
        "a, b=[1,2,3], [4,5,6]\n",
        "dot_prod(a, b)"
      ],
      "metadata": {
        "colab": {
          "base_uri": "https://localhost:8080/"
        },
        "id": "wjDzFbwmPq7P",
        "outputId": "e1a8d851-b493-4398-c695-9445b5399364"
      },
      "execution_count": null,
      "outputs": [
        {
          "output_type": "execute_result",
          "data": {
            "text/plain": [
              "[4, 10, 18]"
            ]
          },
          "metadata": {},
          "execution_count": 4
        }
      ]
    },
    {
      "cell_type": "code",
      "source": [
        "#C-1.23\n",
        "def out_of_bound(a, idx):\n",
        "  try:\n",
        "    return a[idx]\n",
        "  except IndexError:\n",
        "    print('Don’t try buffer overflow attacks in Python!')"
      ],
      "metadata": {
        "id": "tHMpd8SFP0kZ"
      },
      "execution_count": null,
      "outputs": []
    },
    {
      "cell_type": "code",
      "source": [
        "out_of_bound(a, idx=10)"
      ],
      "metadata": {
        "colab": {
          "base_uri": "https://localhost:8080/"
        },
        "id": "H6ZoZb5tQRB3",
        "outputId": "cb9568da-fbc6-4368-d783-9c000fde140a"
      },
      "execution_count": null,
      "outputs": [
        {
          "output_type": "stream",
          "name": "stdout",
          "text": [
            "Don’t try buffer overflow attacks in Python!\n"
          ]
        }
      ]
    },
    {
      "cell_type": "code",
      "source": [
        "#C-1.24\n",
        "def count_vowel(character):\n",
        "  count = 0\n",
        "  for c in character:\n",
        "    if c in {'a', 'o', 'e', 'i', 'u'}:\n",
        "      count += 1\n",
        "  return count\n"
      ],
      "metadata": {
        "id": "KJJjXPJuQWwN"
      },
      "execution_count": null,
      "outputs": []
    },
    {
      "cell_type": "code",
      "source": [
        "character = 'Hello, world!'\n",
        "count_vowel(character)"
      ],
      "metadata": {
        "colab": {
          "base_uri": "https://localhost:8080/"
        },
        "id": "wlX1J3M7Q7Nd",
        "outputId": "33c8b696-afb8-4b8b-d927-bd39ace02a06"
      },
      "execution_count": null,
      "outputs": [
        {
          "output_type": "execute_result",
          "data": {
            "text/plain": [
              "3"
            ]
          },
          "metadata": {},
          "execution_count": 10
        }
      ]
    },
    {
      "cell_type": "code",
      "source": [
        "#C-1.25\n",
        "def remove_punc(character):\n",
        "  no_punc = ''\n",
        "  for c in character:\n",
        "    if not c in {'.', '\\'', '?', '!', ',', ':', ';', '-', '_', '[', ']', '{', '}', '(', ')', '\\\"'}:\n",
        "      no_punc += c\n",
        "  return no_punc\n"
      ],
      "metadata": {
        "id": "5ROtnBczRANs"
      },
      "execution_count": null,
      "outputs": []
    },
    {
      "cell_type": "code",
      "source": [
        "character= \"Let\\'s try, Mike.\"\n",
        "remove_punc(character)"
      ],
      "metadata": {
        "colab": {
          "base_uri": "https://localhost:8080/",
          "height": 37
        },
        "id": "od3_HF6MRyMW",
        "outputId": "f93c6789-3129-44a7-ce85-bae3d686cf0c"
      },
      "execution_count": null,
      "outputs": [
        {
          "output_type": "execute_result",
          "data": {
            "text/plain": [
              "'Lets try Mike'"
            ],
            "application/vnd.google.colaboratory.intrinsic+json": {
              "type": "string"
            }
          },
          "metadata": {},
          "execution_count": 15
        }
      ]
    },
    {
      "cell_type": "code",
      "source": [
        "#C-1.26\n",
        "\n",
        "def det_order():\n",
        "  a = int(input('Enter a number : a'))\n",
        "  b = int(input('Enter a number : b'))\n",
        "  c = int(input('Enter a number : c'))\n",
        "\n",
        "  if a + b == c or c + a == b or b + c == a:\n",
        "    return True\n",
        "  elif a - b == c or c - a == b or b - c == a:\n",
        "    return True\n",
        "  elif a * b == c or c * a == b or b * c == a:\n",
        "    return True\n",
        "  return False"
      ],
      "metadata": {
        "id": "VAGhMA8hRzcK"
      },
      "execution_count": null,
      "outputs": []
    },
    {
      "cell_type": "code",
      "source": [
        "det_order()"
      ],
      "metadata": {
        "colab": {
          "base_uri": "https://localhost:8080/"
        },
        "id": "OOurP2f-T1Mj",
        "outputId": "bfb51835-62f3-4e7a-f43c-5f5c3aaa9ac8"
      },
      "execution_count": null,
      "outputs": [
        {
          "name": "stdout",
          "output_type": "stream",
          "text": [
            "Enter a number : a3\n",
            "Enter a number : b4\n",
            "Enter a number : c1\n"
          ]
        },
        {
          "output_type": "execute_result",
          "data": {
            "text/plain": [
              "True"
            ]
          },
          "metadata": {},
          "execution_count": 19
        }
      ]
    },
    {
      "cell_type": "code",
      "source": [
        "#C-1.27\n",
        "def factors(n):\n",
        "  k = 1\n",
        "  temp = []\n",
        "  while k * k < n:\n",
        "    if not n%k:\n",
        "      yield k\n",
        "      temp.append(n//k)\n",
        "    k+=1\n",
        "  if k*k ==n:\n",
        "    yield k\n",
        "  temp.reverse()\n",
        "  for i in temp:\n",
        "    yield i \n",
        "  "
      ],
      "metadata": {
        "id": "DzUlpdHzT78P"
      },
      "execution_count": null,
      "outputs": []
    },
    {
      "cell_type": "code",
      "source": [
        "for i in factors(90):\n",
        "  print(i)"
      ],
      "metadata": {
        "colab": {
          "base_uri": "https://localhost:8080/"
        },
        "id": "5zZVSfwOiXog",
        "outputId": "ba43b5f7-39ae-429f-8e16-e0d3abaa895f"
      },
      "execution_count": null,
      "outputs": [
        {
          "output_type": "stream",
          "name": "stdout",
          "text": [
            "1\n",
            "2\n",
            "3\n",
            "5\n",
            "6\n",
            "9\n",
            "10\n",
            "15\n",
            "18\n",
            "30\n",
            "45\n",
            "90\n"
          ]
        }
      ]
    },
    {
      "cell_type": "code",
      "source": [
        "#C-1.28\n",
        "import math\n",
        "def norm(v, p=2):\n",
        "  return math.sqrt(sum(v[i] * v[i] for i in range(len(v))))"
      ],
      "metadata": {
        "id": "kn3oKJ9_idU-"
      },
      "execution_count": null,
      "outputs": []
    },
    {
      "cell_type": "code",
      "source": [
        "v = (3, 4)\n",
        "norm(v)"
      ],
      "metadata": {
        "colab": {
          "base_uri": "https://localhost:8080/"
        },
        "id": "Xqp3DF9blHDC",
        "outputId": "afc38eea-ce5b-4af6-a783-14bb5d34bae3"
      },
      "execution_count": null,
      "outputs": [
        {
          "output_type": "execute_result",
          "data": {
            "text/plain": [
              "5.0"
            ]
          },
          "metadata": {},
          "execution_count": 12
        }
      ]
    },
    {
      "cell_type": "markdown",
      "source": [
        "# Projects"
      ],
      "metadata": {
        "id": "V8N49pvwlPaD"
      }
    },
    {
      "cell_type": "code",
      "source": [
        "#P-1.29\n",
        "import math, random\n",
        "\n",
        "def possible_string(ch=['c' , 'a' , 't' ]):\n",
        "  \n",
        "  idx = [i for i in range(len(ch))]\n",
        "  tot_comb = math.factorial(len(ch))\n",
        "  print(\"Total words is: {0}\".format(tot_comb))\n",
        "  k = 0\n",
        "  temp = []\n",
        "  while len(temp) < tot_comb:\n",
        "\n",
        "    #make a word\n",
        "    candidate = ''\n",
        "    for i in idx:\n",
        "      candidate += ch[i]\n",
        "\n",
        "    #if the word is not already in the list of words should be considered as new entry\n",
        "    if not candidate in temp:\n",
        "      temp.append(candidate)\n",
        "\n",
        "    random.shuffle(idx)\n",
        "\n",
        "  return temp"
      ],
      "metadata": {
        "id": "fdztUEXklKuR"
      },
      "execution_count": null,
      "outputs": []
    },
    {
      "cell_type": "code",
      "source": [
        "all_words = possible_string(ch=['c' , 'a' , 't' , 'd' , 'o' , 'g'  ])\n",
        "len(all_words)"
      ],
      "metadata": {
        "colab": {
          "base_uri": "https://localhost:8080/"
        },
        "id": "OTKsB6RUoa-h",
        "outputId": "d6be0a85-33e1-4ae4-a61a-49bba3d75453"
      },
      "execution_count": null,
      "outputs": [
        {
          "output_type": "stream",
          "name": "stdout",
          "text": [
            "Total words is: 720\n"
          ]
        },
        {
          "output_type": "execute_result",
          "data": {
            "text/plain": [
              "720"
            ]
          },
          "metadata": {},
          "execution_count": 29
        }
      ]
    },
    {
      "cell_type": "code",
      "source": [
        "idx = [0, 1, 2, 3]\n",
        "c= ['z', 'a', 'o', 'd']\n",
        "p = ''\n",
        "for i in idx:\n",
        "  p += c[i]\n",
        "\n",
        "p\n"
      ],
      "metadata": {
        "colab": {
          "base_uri": "https://localhost:8080/",
          "height": 37
        },
        "id": "AFsH0nOpnIcW",
        "outputId": "e4a982f7-7238-420b-d4b2-8899bb1debf2"
      },
      "execution_count": null,
      "outputs": [
        {
          "output_type": "execute_result",
          "data": {
            "text/plain": [
              "'zaod'"
            ],
            "application/vnd.google.colaboratory.intrinsic+json": {
              "type": "string"
            }
          },
          "metadata": {},
          "execution_count": 20
        }
      ]
    },
    {
      "cell_type": "code",
      "source": [
        "#P-1.30\n",
        "def num_div():\n",
        "  n = int(input('Please enter a number greater than 2: '))\n",
        "  k = 0\n",
        "  while n > 2:\n",
        "    n /= 2\n",
        "    k += 1\n",
        "  return k \n"
      ],
      "metadata": {
        "id": "THUC2UvboehI"
      },
      "execution_count": null,
      "outputs": []
    },
    {
      "cell_type": "code",
      "source": [
        "num_div()"
      ],
      "metadata": {
        "colab": {
          "base_uri": "https://localhost:8080/"
        },
        "id": "DHyCXXTLtQf9",
        "outputId": "8cffeb00-edf3-4296-9130-c4dd45d00e17"
      },
      "execution_count": null,
      "outputs": [
        {
          "name": "stdout",
          "output_type": "stream",
          "text": [
            "Please enter a number greater than 2: 7\n"
          ]
        },
        {
          "output_type": "execute_result",
          "data": {
            "text/plain": [
              "2"
            ]
          },
          "metadata": {},
          "execution_count": 19
        }
      ]
    },
    {
      "cell_type": "code",
      "source": [
        "#P-1.31\n",
        "def make_change(charged, given, coins):\n",
        " change = given - charged\n",
        " if change < 0:\n",
        "   raise ValueError('Money Given should be greater than Money Charged')\n",
        "\n",
        " result = {}\n",
        " \n",
        " #makes sure the coins is sorted from max to min\n",
        " coins.sort()\n",
        " coins.reverse()\n",
        "\n",
        "\n",
        " for k in range(len(coins)):\n",
        "   q, r = divmod(change, coins[k])\n",
        "   result[coins[k]] = q\n",
        "   change = r\n",
        " \n",
        " if change:\n",
        "   print('Warning: change cannot paid fully')  #if the change cannot paid by coin system\n",
        "\n",
        " return result  \n",
        "\n",
        "\n"
      ],
      "metadata": {
        "id": "1RdwRJwPtSvY"
      },
      "execution_count": null,
      "outputs": []
    },
    {
      "cell_type": "code",
      "source": [
        "charged, given = 200, 335\n",
        "coins = [1, 2, 5, 10, 20, 50, 100]\n",
        "\n",
        "make_change(charged, given, coins)"
      ],
      "metadata": {
        "colab": {
          "base_uri": "https://localhost:8080/"
        },
        "id": "0Q80NGLhvxDH",
        "outputId": "b91625a2-bc32-4581-8dfa-0d524d40e522"
      },
      "execution_count": null,
      "outputs": [
        {
          "output_type": "execute_result",
          "data": {
            "text/plain": [
              "{100: 1, 50: 0, 20: 1, 10: 1, 5: 1, 2: 0, 1: 0}"
            ]
          },
          "metadata": {},
          "execution_count": 38
        }
      ]
    },
    {
      "cell_type": "code",
      "source": [
        "#P-1.32\n",
        "def calculator():\n",
        "  in1 = float(input('Input the first number: '))\n",
        "  in2 = float(input('Input the second number: '))\n",
        "  op = input('Input the operation: (+, -, /, *)')\n",
        "\n",
        "  if op == '+':\n",
        "    return in1 + in2\n",
        "  elif op == '-':\n",
        "    return in1 - in2\n",
        "  elif op == '/':\n",
        "    return in1 / in2\n",
        "  elif op == '*':\n",
        "    return in1 * in2"
      ],
      "metadata": {
        "id": "DDzN2djRtXl5"
      },
      "execution_count": null,
      "outputs": []
    },
    {
      "cell_type": "code",
      "source": [
        "calculator()"
      ],
      "metadata": {
        "colab": {
          "base_uri": "https://localhost:8080/"
        },
        "id": "c0Z3WYLUyvlE",
        "outputId": "3388bc98-dd17-422c-9608-d846ef6672c0"
      },
      "execution_count": null,
      "outputs": [
        {
          "name": "stdout",
          "output_type": "stream",
          "text": [
            "Input the first number: 3\n",
            "Input the second number: 2\n",
            "Input the operation: (+, -, /, *)*\n"
          ]
        },
        {
          "output_type": "execute_result",
          "data": {
            "text/plain": [
              "6.0"
            ]
          },
          "metadata": {},
          "execution_count": 40
        }
      ]
    },
    {
      "cell_type": "code",
      "source": [
        "#P-1.33\n",
        "def handheld_calculator():\n",
        "  in1 = float(input('Input the first number: '))\n",
        "  print(in1)\n",
        "  \n",
        "  op = input('Input the operation: (+, -, /, *)')\n",
        "  print(op)\n",
        "\n",
        "  in2 = float(input('Input the second number: '))\n",
        "  print(in2)\n",
        "\n",
        "  if op == '+':\n",
        "    return in1 + in2\n",
        "  elif op == '-':\n",
        "    return in1 - in2\n",
        "  elif op == '/':\n",
        "    return in1 / in2\n",
        "  elif op == '*':\n",
        "    return in1 * in2"
      ],
      "metadata": {
        "id": "wuwsWsgCyw3C"
      },
      "execution_count": null,
      "outputs": []
    },
    {
      "cell_type": "code",
      "source": [
        "handheld_calculator()"
      ],
      "metadata": {
        "colab": {
          "base_uri": "https://localhost:8080/"
        },
        "id": "an38O4g1zxtc",
        "outputId": "17516b05-429c-46dc-e97f-fee437abce64"
      },
      "execution_count": null,
      "outputs": [
        {
          "output_type": "stream",
          "name": "stdout",
          "text": [
            "Input the first number: 2\n",
            "2.0\n",
            "Input the operation: (+, -, /, *)*\n",
            "*\n",
            "Input the second number: 5\n",
            "5.0\n"
          ]
        },
        {
          "output_type": "execute_result",
          "data": {
            "text/plain": [
              "10.0"
            ]
          },
          "metadata": {},
          "execution_count": 42
        }
      ]
    },
    {
      "cell_type": "code",
      "source": [
        "#P-1.34\n",
        "import random\n",
        "def punishment(sentence, num=100):\n",
        "  result = []\n",
        "  for k in range(num):\n",
        "    temp = ''\n",
        "    loc = random.randint(0, len(sentence)) #select the location of typo randomly\n",
        "    character = chr(random.randint(97, 122))  # make random typo\n",
        "    \n",
        "    #apply the typo\n",
        "    for i in range(len(sentence)):\n",
        "      if i == loc:\n",
        "        temp += character\n",
        "      else:\n",
        "        temp += sentence[i]\n",
        "\n",
        "\n",
        "\n",
        "    result.append(temp)\n",
        "  \n",
        "  return result"
      ],
      "metadata": {
        "id": "kdmkaaNmzzaf"
      },
      "execution_count": null,
      "outputs": []
    },
    {
      "cell_type": "code",
      "source": [
        "sentence = 'I will never spam my friends again.'\n",
        "punishment(sentence, num=10)"
      ],
      "metadata": {
        "colab": {
          "base_uri": "https://localhost:8080/"
        },
        "id": "B75apTyU0cgg",
        "outputId": "2c9c4c39-ab55-4cd7-f459-bbcc8959d5ed"
      },
      "execution_count": null,
      "outputs": [
        {
          "output_type": "execute_result",
          "data": {
            "text/plain": [
              "['I will nevzr spam my friends again.',\n",
              " 'I will never spam ms friends again.',\n",
              " 'y will never spam my friends again.',\n",
              " 'I will never spam my frienxs again.',\n",
              " 'I will nwver spam my friends again.',\n",
              " 'I will never spam mx friends again.',\n",
              " 'I will never spam my friends agaic.',\n",
              " 'I will never spam my frienls again.',\n",
              " 'I will never spah my friends again.',\n",
              " 'Ihwill never spam my friends again.']"
            ]
          },
          "metadata": {},
          "execution_count": 63
        }
      ]
    },
    {
      "cell_type": "code",
      "source": [
        "#P-1.35\n",
        "\n",
        "import random\n",
        "def birthday_paradox(n, iter=100):\n",
        "  count = 0\n",
        "  for i in range(iter):\n",
        "    birthday = [random.randint(1, 365) for k in range(n)]\n",
        "\n",
        "    #check whether at least two people have the same birthdays\n",
        "    if len(set(birthday)) != len(birthday):\n",
        "      count += 1\n",
        "  \n",
        "  return count/iter"
      ],
      "metadata": {
        "id": "CkjFMUcS0jsZ"
      },
      "execution_count": null,
      "outputs": []
    },
    {
      "cell_type": "code",
      "source": [
        "birthday_paradox(n=23, iter=100)"
      ],
      "metadata": {
        "colab": {
          "base_uri": "https://localhost:8080/"
        },
        "id": "FtHWKOm-0pAk",
        "outputId": "4ac7d250-1309-44d0-afa3-b8bfd30ec674"
      },
      "execution_count": null,
      "outputs": [
        {
          "output_type": "execute_result",
          "data": {
            "text/plain": [
              "0.5"
            ]
          },
          "metadata": {},
          "execution_count": 73
        }
      ]
    },
    {
      "cell_type": "code",
      "source": [
        "#P-1.36\n",
        "\n",
        "def count_same_words():\n",
        "  s = input('Enter a sentence ...')\n",
        "  s += ' '   #concatenate white space to make the algorithm efficient\n",
        "\n",
        "  result = {}\n",
        "  temp = ''\n",
        "  for i in range(len(s)):\n",
        "    if s[i] != ' ':\n",
        "      temp += s[i]\n",
        "    else:\n",
        "      if temp in result:\n",
        "        result[temp] += 1\n",
        "      else:\n",
        "        result[temp] = 1\n",
        "    \n",
        "      temp = ''\n",
        "  \n",
        "  return result\n",
        "\n"
      ],
      "metadata": {
        "id": "BmjExC0c3_FO"
      },
      "execution_count": null,
      "outputs": []
    },
    {
      "cell_type": "code",
      "source": [
        "count_same_words()"
      ],
      "metadata": {
        "colab": {
          "base_uri": "https://localhost:8080/"
        },
        "id": "r_iAAhnH5Uzo",
        "outputId": "7844db5c-e7e9-4e96-cbc4-8ab41f4cc5d6"
      },
      "execution_count": null,
      "outputs": [
        {
          "name": "stdout",
          "output_type": "stream",
          "text": [
            "Enter a sentence ...Hi I am python developer and happy python day!\n"
          ]
        },
        {
          "output_type": "execute_result",
          "data": {
            "text/plain": [
              "{'Hi': 1,\n",
              " 'I': 1,\n",
              " 'am': 1,\n",
              " 'python': 2,\n",
              " 'developer': 1,\n",
              " 'and': 1,\n",
              " 'happy': 1,\n",
              " 'day!': 1}"
            ]
          },
          "metadata": {},
          "execution_count": 97
        }
      ]
    },
    {
      "cell_type": "code",
      "source": [],
      "metadata": {
        "id": "fcQo9ldn5ZPI"
      },
      "execution_count": null,
      "outputs": []
    }
  ]
}