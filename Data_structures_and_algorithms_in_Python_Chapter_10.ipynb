{
  "nbformat": 4,
  "nbformat_minor": 0,
  "metadata": {
    "colab": {
      "provenance": [],
      "authorship_tag": "ABX9TyOevwuUeUdQ8hJ9GPMmCt7q",
      "include_colab_link": true
    },
    "kernelspec": {
      "name": "python3",
      "display_name": "Python 3"
    },
    "language_info": {
      "name": "python"
    }
  },
  "cells": [
    {
      "cell_type": "markdown",
      "metadata": {
        "id": "view-in-github",
        "colab_type": "text"
      },
      "source": [
        "<a href=\"https://colab.research.google.com/github/vahidNaghshin/Data_structures_and_algorithms_in_Python/blob/main/Data_structures_and_algorithms_in_Python_Chapter_10.ipynb\" target=\"_parent\"><img src=\"https://colab.research.google.com/assets/colab-badge.svg\" alt=\"Open In Colab\"/></a>"
      ]
    },
    {
      "cell_type": "code",
      "execution_count": 1,
      "metadata": {
        "colab": {
          "base_uri": "https://localhost:8080/"
        },
        "id": "Mw_FtvXfST7D",
        "outputId": "b7fb5469-0175-4c07-e1cd-48441fc346a0"
      },
      "outputs": [
        {
          "output_type": "execute_result",
          "data": {
            "text/plain": [
              "['counter,', 'guranted']"
            ]
          },
          "metadata": {},
          "execution_count": 1
        }
      ],
      "source": [
        "words = 'counter, guranted'\n",
        "words.split()"
      ]
    },
    {
      "cell_type": "code",
      "source": [
        "freq = {'vahid': 35, 'sahel': 26}\n",
        "freq"
      ],
      "metadata": {
        "colab": {
          "base_uri": "https://localhost:8080/"
        },
        "id": "JobkkywDbD7P",
        "outputId": "65ee041a-8559-4eb0-8e94-8ea0b2d32d5b"
      },
      "execution_count": 2,
      "outputs": [
        {
          "output_type": "execute_result",
          "data": {
            "text/plain": [
              "{'vahid': 35, 'sahel': 26}"
            ]
          },
          "metadata": {},
          "execution_count": 2
        }
      ]
    },
    {
      "cell_type": "code",
      "source": [
        "freq.get('vahid', 3)"
      ],
      "metadata": {
        "colab": {
          "base_uri": "https://localhost:8080/"
        },
        "id": "vwpbPo9nbZ_s",
        "outputId": "0ad72298-4636-4e09-8652-88bcf80961d1"
      },
      "execution_count": 3,
      "outputs": [
        {
          "output_type": "execute_result",
          "data": {
            "text/plain": [
              "35"
            ]
          },
          "metadata": {},
          "execution_count": 3
        }
      ]
    },
    {
      "cell_type": "code",
      "source": [
        "words[0].isalpha()"
      ],
      "metadata": {
        "colab": {
          "base_uri": "https://localhost:8080/"
        },
        "id": "agD3ZhZzbdbQ",
        "outputId": "73955763-fa44-49d5-c791-219d4bdb2457"
      },
      "execution_count": 4,
      "outputs": [
        {
          "output_type": "execute_result",
          "data": {
            "text/plain": [
              "True"
            ]
          },
          "metadata": {},
          "execution_count": 4
        }
      ]
    },
    {
      "cell_type": "code",
      "source": [
        "freq={}\n",
        "\n",
        "filename = '/content/sample_data/README.md'\n",
        "\n",
        "for piece in open(filename).read().lower().split():\n",
        "  # print(piece)\n",
        "  word = ''.join(c for c in piece if c.isalpha())\n",
        "  # print(word)\n",
        "  # print('----')\n",
        "  if word: # require at least one alphabetic character\n",
        "    freq[word] = 1 + freq.get(word, 0)\n",
        "  max_word = ''\n",
        "  max_count = 0\n",
        "  for (w, c) in freq.items():\n",
        "    if c > max_count: \n",
        "      max_word = w \n",
        "      max_count = c\n",
        "\n",
        "print( 'The most frequent word is ' , max_word) \n",
        "print( 'Its number of occurrences is ' , max_count)\n",
        "\n"
      ],
      "metadata": {
        "id": "HmcYXSTFbpLO",
        "colab": {
          "base_uri": "https://localhost:8080/"
        },
        "outputId": "ee9f1295-7375-4077-b28f-5977bd725a23"
      },
      "execution_count": 5,
      "outputs": [
        {
          "output_type": "stream",
          "name": "stdout",
          "text": [
            "The most frequent word is  is\n",
            "Its number of occurrences is  4\n"
          ]
        }
      ]
    },
    {
      "cell_type": "code",
      "source": [
        "from collections.abc import MutableMapping\n",
        "\n",
        "class MapBase(MutableMapping):\n",
        "  class _Item:\n",
        "    __slots__ = '_key' , '_value'\n",
        "    def __init__ (self, k, v): \n",
        "      self._key = k\n",
        "      self._value = v\n",
        "    \n",
        "    def __eq__(self, other):\n",
        "      return self._key == other._key\n",
        "    \n",
        "    def __ne__ (self, other): \n",
        "      return not (self == other)\n",
        "    \n",
        "    def __lt__ (self, other):\n",
        "      return self._key < other._key"
      ],
      "metadata": {
        "id": "Tc9WnM_wcuIc"
      },
      "execution_count": 6,
      "outputs": []
    },
    {
      "cell_type": "code",
      "source": [
        "class UnsortedTableMap(MapBase):\n",
        "  def __init__ (self):\n",
        "    self._table = []\n",
        "  \n",
        "  def __getitem__ (self, k):\n",
        "    for item in self._table:\n",
        "      if k == item._key: \n",
        "        return item._value\n",
        "    \n",
        "    raise KeyError( 'Key Error: '  + repr(k))\n",
        "\n",
        "  def __setitem__ (self, k, v):\n",
        "    for item in self._table:\n",
        "      if k == item._key: \n",
        "        item._value = v \n",
        "        return\n",
        "    # did not find match for key\n",
        "    self._table.append(self._Item(k,v)) \n",
        "  \n",
        "  def __delitem__ (self, k):\n",
        "    for j in range(len(self._table)):\n",
        "      if k == self._table[j]._key: \n",
        "        self._table.pop(j)\n",
        "        return\n",
        "    raise KeyError( 'Key Error: '  + repr(k))\n",
        "  \n",
        "  def __len__ (self):\n",
        "    return len(self._table)\n",
        "\n",
        "  def __iter__ (self):\n",
        "    for item in self._table:\n",
        "      yield item._key \n",
        "\n",
        "  def items(self):\n",
        "    for item in self._table:\n",
        "      yield (item._key , item._value)"
      ],
      "metadata": {
        "id": "M18JpOyMmQ8d"
      },
      "execution_count": 7,
      "outputs": []
    },
    {
      "cell_type": "code",
      "source": [
        "h = UnsortedTableMap()\n",
        "h['1'] = 2\n",
        "h['2'] = 3\n",
        "h['3'] = 5"
      ],
      "metadata": {
        "id": "7qYqTVJuGTXP"
      },
      "execution_count": 8,
      "outputs": []
    },
    {
      "cell_type": "code",
      "source": [
        "h.items()"
      ],
      "metadata": {
        "colab": {
          "base_uri": "https://localhost:8080/"
        },
        "id": "Z1pkmABWGcXI",
        "outputId": "4fe2cfcc-283c-4b45-a9f9-cb8e6d57ccdc"
      },
      "execution_count": 9,
      "outputs": [
        {
          "output_type": "execute_result",
          "data": {
            "text/plain": [
              "<generator object UnsortedTableMap.items at 0x7f306f1e0740>"
            ]
          },
          "metadata": {},
          "execution_count": 9
        }
      ]
    },
    {
      "cell_type": "code",
      "source": [
        "'3' in h"
      ],
      "metadata": {
        "colab": {
          "base_uri": "https://localhost:8080/"
        },
        "id": "zSyWC8X0Gjga",
        "outputId": "bd37c378-e57d-4275-fbd3-e4cfc0d3510a"
      },
      "execution_count": 10,
      "outputs": [
        {
          "output_type": "execute_result",
          "data": {
            "text/plain": [
              "True"
            ]
          },
          "metadata": {},
          "execution_count": 10
        }
      ]
    },
    {
      "cell_type": "code",
      "source": [
        "h.pop('9293', 9)"
      ],
      "metadata": {
        "colab": {
          "base_uri": "https://localhost:8080/"
        },
        "id": "E3QfQUtuG4Y4",
        "outputId": "80d5e358-c0f0-47da-c350-3cac5882ed78"
      },
      "execution_count": 11,
      "outputs": [
        {
          "output_type": "execute_result",
          "data": {
            "text/plain": [
              "9"
            ]
          },
          "metadata": {},
          "execution_count": 11
        }
      ]
    },
    {
      "cell_type": "code",
      "source": [
        "for i in h.items():\n",
        "  print(i)"
      ],
      "metadata": {
        "colab": {
          "base_uri": "https://localhost:8080/"
        },
        "id": "sxgWXL0ZJBFK",
        "outputId": "f250ef41-f872-4a92-bc02-dd6662b933f7"
      },
      "execution_count": 12,
      "outputs": [
        {
          "output_type": "stream",
          "name": "stdout",
          "text": [
            "('1', 2)\n",
            "('2', 3)\n",
            "('3', 5)\n"
          ]
        }
      ]
    },
    {
      "cell_type": "code",
      "source": [
        "def hash_code(s):\n",
        "  mask = (1 << 32) - 1\n",
        "  h = 0\n",
        "  for character in s:\n",
        "    h = (h << 5 & mask) | (h >> 27)\n",
        "    h += ord(character)\n",
        "  \n",
        "  return h\n",
        "\n"
      ],
      "metadata": {
        "id": "8WrEgUEXrOqo"
      },
      "execution_count": 13,
      "outputs": []
    },
    {
      "cell_type": "code",
      "source": [
        "s = 'u'\n",
        "hash_code(s)"
      ],
      "metadata": {
        "colab": {
          "base_uri": "https://localhost:8080/"
        },
        "id": "QnQC-2h5Hzer",
        "outputId": "16e14885-e5bd-4442-b95c-74968c37c2d9"
      },
      "execution_count": 14,
      "outputs": [
        {
          "output_type": "execute_result",
          "data": {
            "text/plain": [
              "117"
            ]
          },
          "metadata": {},
          "execution_count": 14
        }
      ]
    },
    {
      "cell_type": "code",
      "source": [
        "2 >> 4"
      ],
      "metadata": {
        "colab": {
          "base_uri": "https://localhost:8080/"
        },
        "id": "Of6of8FyH2ad",
        "outputId": "6043a457-8de8-4a91-9196-b227a3e73058"
      },
      "execution_count": 15,
      "outputs": [
        {
          "output_type": "execute_result",
          "data": {
            "text/plain": [
              "0"
            ]
          },
          "metadata": {},
          "execution_count": 15
        }
      ]
    },
    {
      "cell_type": "code",
      "source": [
        "hash(5)"
      ],
      "metadata": {
        "colab": {
          "base_uri": "https://localhost:8080/"
        },
        "id": "Q7vxk70VI3qM",
        "outputId": "24620c29-fa60-4c57-95a0-26564b61496c"
      },
      "execution_count": 16,
      "outputs": [
        {
          "output_type": "execute_result",
          "data": {
            "text/plain": [
              "5"
            ]
          },
          "metadata": {},
          "execution_count": 16
        }
      ]
    },
    {
      "cell_type": "code",
      "source": [
        "hash(5.0)"
      ],
      "metadata": {
        "id": "tsRLW-0WK3Iv",
        "outputId": "3aa96fd8-838c-48de-c3c5-609541c57c8c",
        "colab": {
          "base_uri": "https://localhost:8080/"
        }
      },
      "execution_count": 17,
      "outputs": [
        {
          "output_type": "execute_result",
          "data": {
            "text/plain": [
              "5"
            ]
          },
          "metadata": {},
          "execution_count": 17
        }
      ]
    },
    {
      "cell_type": "code",
      "source": [
        "5 == 5.0"
      ],
      "metadata": {
        "id": "HPJm9knPK5l2",
        "outputId": "29a88b29-d8fa-4464-d27a-4180f29f0c34",
        "colab": {
          "base_uri": "https://localhost:8080/"
        }
      },
      "execution_count": 18,
      "outputs": [
        {
          "output_type": "execute_result",
          "data": {
            "text/plain": [
              "True"
            ]
          },
          "metadata": {},
          "execution_count": 18
        }
      ]
    },
    {
      "cell_type": "code",
      "source": [
        "import random\n",
        "class HashMapBase(MapBase):\n",
        "  def __init__ (self, cap=11, p=109345121): \n",
        "     self._table = cap * [ None ]\n",
        "     self._n = 0\n",
        "     self._prime = p\n",
        "     self._scale = 1 + random.randrange(p - 1) \n",
        "     self._shift = random.randrange(p)\n",
        "  \n",
        "  def _hash_function(self, k):\n",
        "    return (hash(k) * self._scale + self._shift) % self._prime % len(self._table)\n",
        "\n",
        "  def __len__ (self): \n",
        "    return self._n\n",
        "  \n",
        "  def __getitem__ (self, k):\n",
        "    j = self._hash_function(k) \n",
        "    return self._bucket_getitem(j, k)\n",
        "  \n",
        "  def __setitem__ (self, k, v):\n",
        "    j = self._hash_function(k)\n",
        "    self._bucket_setitem(j, k, v)\n",
        "    if self._n > len(self._table) // 2:\n",
        "      self._resize(2 * len(self. table) - 1)\n",
        "  \n",
        "  def __delitem__ (self, k):\n",
        "    j = self._hash_function(k) \n",
        "    self._bucket_delitem(j, k)\n",
        "    self._n -= 1\n",
        "\n",
        "  def _resize(self, c):\n",
        "    old = list(self.items()) \n",
        "    self._table = c * [None] \n",
        "    self._n = 0\n",
        "    for (k,v) in old:\n",
        "      self[k] = v"
      ],
      "metadata": {
        "id": "f_D7hOBAK65-"
      },
      "execution_count": 19,
      "outputs": []
    },
    {
      "cell_type": "code",
      "source": [
        "class ChainHashMap(HashMapBase):\n",
        "  def _bucket_getitem(self, j, k): \n",
        "    bucket = self._table[j]\n",
        "    if bucket is None:\n",
        "      raise KeyError( 'Key Error: '  + repr(k)) \n",
        "    return bucket[k]\n",
        "  \n",
        "  def _bucket_setitem(self, j, k, v): \n",
        "    if self._table[j] is None:\n",
        "      self._table[j] = UnsortedTableMap() \n",
        "    oldsize = len(self._table[j])\n",
        "    self._table[j][k] = v\n",
        "    if len(self._table[j]) > oldsize:\n",
        "      self._n += 1\n",
        "  \n",
        "  def _bucket_delitem(self, j, k): \n",
        "    bucket = self._table[j]\n",
        "    if bucket is None:\n",
        "      raise KeyError( 'Key Error: '  + repr(k)) \n",
        "    del bucket[k]\n",
        "\n",
        "  def __iter__ (self):\n",
        "    for bucket in self._table:\n",
        "      if bucket is not None: \n",
        "        for key in bucket:\n",
        "          yield key\n"
      ],
      "metadata": {
        "id": "ITUgT_ldWeb4"
      },
      "execution_count": 20,
      "outputs": []
    },
    {
      "cell_type": "code",
      "source": [
        "class ProbeHashMap(HashMapBase):\n",
        "  _AVAIL = object()\n",
        "\n",
        "  def _is_available(self, j):\n",
        "    return self._table[j] is None or self._table[j] is ProbeHashMap._AVAIL\n",
        "\n",
        "  def _find_slot(self, j, k):\n",
        "\n",
        "    firstAvail = None\n",
        "    while True:\n",
        "      if self._is_available(j): \n",
        "        if firstAvail is None:\n",
        "          firstAvail = j\n",
        "        if self._table[j] is None:\n",
        "          return (False, firstAvail)\n",
        "      elif k == self._table[j]._key:\n",
        "        return (True, j)\n",
        "      \n",
        "      j = (j + 1) % len(self._table)\n",
        "\n",
        "  def _bucket_getitem(self, j, k): \n",
        "    found, s = self._find_slot(j, k) \n",
        "    if not found:\n",
        "      raise KeyError( 'Key Error: '  + repr(k)) \n",
        "    return self._table[s]._value\n",
        "\n",
        "\n",
        "  def _bucket_setitem(self, j, k, v): \n",
        "    found, s = self._find_slot(j, k) \n",
        "    if not found:\n",
        "      self._table[s] = self._Item(k,v)\n",
        "      self._n += 1 \n",
        "    else:\n",
        "      self._table[s]._value = v\n",
        "  \n",
        "  def _bucket_delitem(self, j, k): \n",
        "    found, s = self._find_slot(j, k) \n",
        "    if not found:\n",
        "      raise KeyError( 'Key Error:  ' + repr(k)) \n",
        "    self._table[s] = ProbeHashMap._AVAIL\n",
        "  \n",
        "  def __iter__ (self):\n",
        "    for j in range(len(self._table)):\n",
        "      if not self._is_available(j): \n",
        "        yield self._table[j]._key"
      ],
      "metadata": {
        "id": "MJYmhQkIZr_b"
      },
      "execution_count": 21,
      "outputs": []
    },
    {
      "cell_type": "code",
      "source": [
        "H = ProbeHashMap()"
      ],
      "metadata": {
        "id": "NlzpAqxldPFk"
      },
      "execution_count": 22,
      "outputs": []
    },
    {
      "cell_type": "code",
      "source": [
        "H[91] = 14"
      ],
      "metadata": {
        "id": "fjP6bLnzdRku"
      },
      "execution_count": 23,
      "outputs": []
    },
    {
      "cell_type": "code",
      "source": [
        "H[19, 54] = 14"
      ],
      "metadata": {
        "id": "wyxbsdMtda58"
      },
      "execution_count": 24,
      "outputs": []
    },
    {
      "cell_type": "code",
      "source": [
        "for i in H:\n",
        "  print(i)"
      ],
      "metadata": {
        "colab": {
          "base_uri": "https://localhost:8080/"
        },
        "id": "WBV-EmwceGDq",
        "outputId": "9326492d-e6d1-47a2-a0ac-897ac7e4da36"
      },
      "execution_count": 25,
      "outputs": [
        {
          "output_type": "stream",
          "name": "stdout",
          "text": [
            "91\n",
            "(19, 54)\n"
          ]
        }
      ]
    },
    {
      "cell_type": "code",
      "source": [
        "class SortedTableMap(MapBase):\n",
        "  def _find_index(self, k, low, high):\n",
        "    if high < low: \n",
        "      return high + 1\n",
        "    else:\n",
        "      mid = (low + high) // 2\n",
        "      if k == self._table[mid]._key:\n",
        "        return mid\n",
        "      elif k < self._table[mid]._key:\n",
        "        return self._find_index(k, low, mid - 1) \n",
        "      else:\n",
        "        return self._find_index(k, mid + 1, high)\n",
        "  \n",
        "  def __init__ (self):\n",
        "    self._table = []\n",
        "  \n",
        "  def __len__ (self):\n",
        "    return len(self._table)\n",
        "  \n",
        "  def __getitem__ (self, k):\n",
        "    j = self._find_index(k, 0, len(self._table) - 1)\n",
        "    if j == len(self._table) or self._table[j]._key != k:\n",
        "      raise KeyError( 'Key Error: '  + repr(k)) \n",
        "    return self._table[j]._value\n",
        "  \n",
        "  def __setitem__ (self, k, v):\n",
        "     j = self._find_index(k, 0, len(self._table) - 1)\n",
        "     if j < len(self._table) and self._table[j]._key == k:\n",
        "       self._table[j]._value = v \n",
        "     else:\n",
        "       self._table.insert(j, self._Item(k,v))\n",
        "  \n",
        "  def __delitem__ (self, k):\n",
        "    j = self._find_index(k, 0, len(self._table) - 1)\n",
        "    if j == len(self._table) or self._table[j]._key != k:\n",
        "        raise KeyError( 'Key Error: '  + repr(k)) \n",
        "    self._table.pop(j)\n",
        "  \n",
        "  def __iter__ (self):\n",
        "    for item in self._table:\n",
        "      yield item._key\n",
        "  \n",
        "  def __reversed__ (self):\n",
        "    for item in reversed(self._table):\n",
        "      yield item._key\n",
        "  \n",
        "  def find_min(self):\n",
        "    if len(self._table) > 0:\n",
        "      return (self._table[0]._key, self._table[0]._value) \n",
        "    else:\n",
        "      return None\n",
        "  \n",
        "  def find_max(self):\n",
        "    if len(self._table) > 0:\n",
        "      return (self._table[-1]._key, self._table[-1]._value) \n",
        "    else:\n",
        "      return None\n",
        "  \n",
        "  def find_ge(self, k):\n",
        "    j = self._find_index(k, 0, len(self._table) - 1) \n",
        "    if j < len(self._table):\n",
        "      return (self._table[j]._key, self._table[j]._value) \n",
        "    else:\n",
        "      return None\n",
        "  \n",
        "  def find_lt(self, k):\n",
        "    j = self._find_index(k, 0, len(self._table) - 1) \n",
        "    if j > 0:\n",
        "      return (self._table[j-1]._key, self._table[j-1]._value)\n",
        "    else:\n",
        "      return None\n",
        "  \n",
        "  def find_gt(self, k):\n",
        "    j = self._find_index(k, 0, len(self._table) - 1) # j s key >= k \n",
        "    if j < len(self._table) and self._table[j]._key == k:\n",
        "      j += 1\n",
        "    if j < len(self._table):\n",
        "      return (self._table[j]._key, self._table[j]._value) \n",
        "    else:\n",
        "      return None\n",
        "  \n",
        "  def find_range(self, start, stop):\n",
        "    if start is None:\n",
        "      j = 0\n",
        "    else:\n",
        "      j = self._find_index(start, 0, len(self._table) - 1)\n",
        "    while j < len(self._table) and (stop is None or self._table[j]._key < stop):\n",
        "      yield (self._table[j]._key, self._table[j]._value) \n",
        "      j += 1\n",
        "\n",
        "\n",
        "  \n",
        "\n",
        "\n",
        "\n",
        "\n",
        "      \n",
        "\n"
      ],
      "metadata": {
        "id": "AUz0OOZqqthO"
      },
      "execution_count": 26,
      "outputs": []
    },
    {
      "cell_type": "code",
      "source": [
        "class CostPerformanceDatabase:\n",
        "  def init (self):\n",
        "    self._M = SortedTableMap()\n",
        "  \n",
        "  def best(self, c):\n",
        "    return self._M.find_le(c)\n",
        "  \n",
        "  def add(self, c, p):\n",
        "    other = self._M.find_le(c) \n",
        "    if other is not None and other[1] >= p: \n",
        "      return\n",
        "    self._M[c] = p\n",
        "    other = self._M.find_gt(c)\n",
        "    while other is not None and other[1] <= p:\n",
        "      del self._M[other[0]]\n",
        "      other = self._M.find_gt(c)"
      ],
      "metadata": {
        "id": "A-ZZD4jAuqF8"
      },
      "execution_count": 27,
      "outputs": []
    },
    {
      "cell_type": "code",
      "source": [
        "from collections.abc import MutableSet\n",
        "\n",
        "class TestSet(MutableSet):\n",
        "  def __lt__ (self, other):\n",
        "    if len(self) >= len(other):\n",
        "      return False \n",
        "    for e in self:\n",
        "      if e not in other: \n",
        "        return False\n",
        "    return True\n",
        "\n",
        "  def __or__ (self, other): \n",
        "    result = type(self)() \n",
        "    for e in self:\n",
        "      result.add(e) \n",
        "    for e in other:\n",
        "      result.add(e) \n",
        "    return result\n",
        "  "
      ],
      "metadata": {
        "id": "UdAZetCpziKl"
      },
      "execution_count": 28,
      "outputs": []
    },
    {
      "cell_type": "code",
      "source": [
        "S = TestSet()"
      ],
      "metadata": {
        "colab": {
          "base_uri": "https://localhost:8080/",
          "height": 164
        },
        "id": "XCLxLmQNVZu9",
        "outputId": "ce896aa8-dba5-41c8-a65f-568db353d3f1"
      },
      "execution_count": 29,
      "outputs": [
        {
          "output_type": "error",
          "ename": "TypeError",
          "evalue": "ignored",
          "traceback": [
            "\u001b[0;31m---------------------------------------------------------------------------\u001b[0m",
            "\u001b[0;31mTypeError\u001b[0m                                 Traceback (most recent call last)",
            "\u001b[0;32m<ipython-input-29-69803c50c56f>\u001b[0m in \u001b[0;36m<module>\u001b[0;34m\u001b[0m\n\u001b[0;32m----> 1\u001b[0;31m \u001b[0mS\u001b[0m \u001b[0;34m=\u001b[0m \u001b[0mTestSet\u001b[0m\u001b[0;34m(\u001b[0m\u001b[0;34m)\u001b[0m\u001b[0;34m\u001b[0m\u001b[0;34m\u001b[0m\u001b[0m\n\u001b[0m",
            "\u001b[0;31mTypeError\u001b[0m: Can't instantiate abstract class TestSet with abstract methods __contains__, __iter__, __len__, add, discard"
          ]
        }
      ]
    },
    {
      "cell_type": "code",
      "source": [
        "class X:\n",
        "  def __init__(self, c):\n",
        "    self._c = c\n",
        "  def instantiate_another(self, v):\n",
        "    return type(self)(v)"
      ],
      "metadata": {
        "id": "hiivm7qrV8u_"
      },
      "execution_count": 30,
      "outputs": []
    },
    {
      "cell_type": "code",
      "source": [
        "K=X(4)"
      ],
      "metadata": {
        "id": "S5zZJSBRXA7X"
      },
      "execution_count": 31,
      "outputs": []
    },
    {
      "cell_type": "code",
      "source": [
        "K._c"
      ],
      "metadata": {
        "colab": {
          "base_uri": "https://localhost:8080/"
        },
        "id": "50jwJKNOXGxP",
        "outputId": "a9829fff-a385-4f32-e337-ccf9c97e0d88"
      },
      "execution_count": 32,
      "outputs": [
        {
          "output_type": "execute_result",
          "data": {
            "text/plain": [
              "4"
            ]
          },
          "metadata": {},
          "execution_count": 32
        }
      ]
    },
    {
      "cell_type": "code",
      "source": [
        "H = K.instantiate_another(9)\n",
        "H._c"
      ],
      "metadata": {
        "colab": {
          "base_uri": "https://localhost:8080/"
        },
        "id": "PXBkHFREXHrX",
        "outputId": "e6830492-6732-4b27-f91d-965f7062e8c9"
      },
      "execution_count": 33,
      "outputs": [
        {
          "output_type": "execute_result",
          "data": {
            "text/plain": [
              "9"
            ]
          },
          "metadata": {},
          "execution_count": 33
        }
      ]
    },
    {
      "cell_type": "code",
      "source": [
        "def __ior__ (self, other): \n",
        "  for e in other:\n",
        "    self.add(e)\n",
        "  return self"
      ],
      "metadata": {
        "id": "gPHwbqtaXQHF"
      },
      "execution_count": 34,
      "outputs": []
    },
    {
      "cell_type": "code",
      "source": [
        "class MultiMap:\n",
        "  _MapType = dict\n",
        "\n",
        "  def __init__ (self):\n",
        "    self._map = self._MapType()\n",
        "  \n",
        "  def __iter__ (self):\n",
        "    for k, secondary in self._map.items():\n",
        "      for v in secondary: \n",
        "        yield (k,v)\n",
        "  \n",
        "  def add(self, k, v):\n",
        "    container = self._map.setdefault(k, []) \n",
        "    container.append(v)\n",
        "    self._n += 1\n",
        "  \n",
        "  def pop(self, k):\n",
        "    secondary = self._map[k] \n",
        "    v = secondary.pop()\n",
        "    if len(secondary) == 0:\n",
        "      del self._map[k] \n",
        "    self._n -= 1 \n",
        "    return (k, v)\n",
        "  \n",
        "  def find(self, k):\n",
        "    secondary = self._map[k] \n",
        "    return (k, secondary[0])\n",
        "  \n",
        "  def find_all(self, k):\n",
        "    secondary = self._map.get(k, []) # empty list, by default \n",
        "    for v in secondary:\n",
        "      yield (k,v)"
      ],
      "metadata": {
        "id": "UY4WDPT1XlUN"
      },
      "execution_count": 35,
      "outputs": []
    },
    {
      "cell_type": "markdown",
      "source": [
        "# Reinforcement"
      ],
      "metadata": {
        "id": "yx5pCVvaBvRA"
      }
    },
    {
      "cell_type": "code",
      "source": [
        "#@title R-10.1\n",
        "#@markdown It is asseumed that the five basic methods of MutableMapping class is impelmented\n",
        "def pop(self, k, d=None):\n",
        "    if k in self:\n",
        "      return self[k]\n",
        "    else:\n",
        "      return d  "
      ],
      "metadata": {
        "id": "EVf4orSKvyol"
      },
      "execution_count": null,
      "outputs": []
    },
    {
      "cell_type": "code",
      "source": [
        "#@title R-10.2\n",
        "#@markdown It is asseumed that the five basic methods of MutableMapping class is impelmented\n",
        "\n",
        "def items(self):\n",
        "    for k in self:\n",
        "      yield (k, self[k])"
      ],
      "metadata": {
        "id": "W_OKLabrCGqM"
      },
      "execution_count": null,
      "outputs": []
    },
    {
      "cell_type": "code",
      "source": [
        "#@title R-10.3\n",
        "def items(self):\n",
        "    for item in self._table:\n",
        "      yield (item._key , item._value)"
      ],
      "metadata": {
        "id": "ajyTrXwrE2GO"
      },
      "execution_count": null,
      "outputs": []
    },
    {
      "cell_type": "code",
      "source": [
        "#@title R-10.5\n",
        "class UnsortedTableMap(MapBase):\n",
        "  def __init__ (self):\n",
        "    self._table = PositionalList()\n",
        "  \n",
        "  def __getitem__ (self, k):\n",
        "    for p in self._table:\n",
        "      if k == p.element._Item._key: \n",
        "        return p.element._Item._value\n",
        "    \n",
        "    raise KeyError( 'Key Error: '  + repr(k))\n",
        "\n",
        "  def __setitem__ (self, k, v):\n",
        "    for p in self._table:\n",
        "      if k == p.element._Item._key: \n",
        "        p.element._Item._value = v \n",
        "        return\n",
        "    # did not find match for key\n",
        "    self._table.add_first(self._Item(k, v)) \n",
        "  \n",
        "  def __delitem__ (self, k):\n",
        "    for p in self._table:\n",
        "      if k == p.element._Item._key: \n",
        "        self._table.delete(p)\n",
        "        return\n",
        "    raise KeyError( 'Key Error: '  + repr(k))\n",
        "\n",
        "  \n",
        "  def __len__ (self):\n",
        "    return len(self._table)\n",
        "\n",
        "  def __iter__ (self):\n",
        "    for p in self._table:\n",
        "      yield p.element._Item._key "
      ],
      "metadata": {
        "id": "ny5Bwgv1IpcV"
      },
      "execution_count": null,
      "outputs": []
    },
    {
      "cell_type": "code",
      "source": [
        "#@title R-10.7\n"
      ],
      "metadata": {
        "id": "y6qhPwxvamM0"
      },
      "execution_count": null,
      "outputs": []
    },
    {
      "cell_type": "code",
      "source": [
        "#@title R-10.9\n",
        "import numpy as np\n",
        "\n",
        "@np.vectorize\n",
        "def hash_code(x):\n",
        "  return ((3 * x) + 5 ) % 11"
      ],
      "metadata": {
        "id": "4fucrZGeb8r4"
      },
      "execution_count": null,
      "outputs": []
    },
    {
      "cell_type": "code",
      "source": [
        "x = [12, 44, 13, 88, 23, 94, 11, 39, 20, 16, 5]\n",
        "hash_code(x)"
      ],
      "metadata": {
        "colab": {
          "base_uri": "https://localhost:8080/"
        },
        "id": "yb9NUaL3clBN",
        "outputId": "d154b85d-e90e-475e-9ec0-7a3f79a4f038"
      },
      "execution_count": null,
      "outputs": [
        {
          "output_type": "execute_result",
          "data": {
            "text/plain": [
              "array([ 8,  5,  0,  5,  8,  1,  5,  1, 10,  9,  9])"
            ]
          },
          "metadata": {},
          "execution_count": 49
        }
      ]
    },
    {
      "cell_type": "code",
      "source": [
        "#@title R-10.15\n",
        "import random, math\n",
        "class HashMapBase(MapBase):\n",
        "  def __init__ (self, max_load=0.5, cap=11, p=109345121): \n",
        "     self._table = cap * [ None ]\n",
        "     self._n = 0\n",
        "     self._prime = p\n",
        "     self._scale = 1 + random.randrange(p - 1) \n",
        "     self._shift = random.randrange(p)\n",
        "     self._max_laod = max_load\n",
        "  \n",
        "  def _hash_function(self, k):\n",
        "    return (hash(k) * self._scale + self._shift) % self._prime % len(self._table)\n",
        "\n",
        "  def __len__ (self): \n",
        "    return self._n\n",
        "  \n",
        "  def __getitem__ (self, k):\n",
        "    j = self._hash_function(k) \n",
        "    return self._bucket_getitem(j, k)\n",
        "  \n",
        "  def __setitem__ (self, k, v):\n",
        "    j = self._hash_function(k)\n",
        "    self._bucket_setitem(j, k, v)\n",
        "\n",
        "    w = math.ceil(1/self.max_load)\n",
        "\n",
        "\n",
        "\n",
        "    if self._n > len(self._table) // w:\n",
        "      self._resize(w * len(self. table) - 1)\n",
        "  \n",
        "  def __delitem__ (self, k):\n",
        "    j = self._hash_function(k) \n",
        "    self._bucket_delitem(j, k)\n",
        "    self._n -= 1\n",
        "\n",
        "  def _resize(self, c):\n",
        "    old = list(self.items()) \n",
        "    self._table = c * [None] \n",
        "    self._n = 0\n",
        "    for (k,v) in old:\n",
        "      self[k] = v"
      ],
      "metadata": {
        "id": "kLOxDl95cq2q"
      },
      "execution_count": null,
      "outputs": []
    },
    {
      "cell_type": "code",
      "source": [
        "#@title R-10.17\n",
        "class ProbeHashMap(HashMapBase):\n",
        "  \"\"\"Hash map implemented with quadratic probing for collision resolution.\"\"\"\n",
        "  _AVAIL = object()\n",
        "\n",
        "  def _is_available(self, j):\n",
        "    return self._table[j] is None or self._table[j] is ProbeHashMap._AVAIL\n",
        "\n",
        "  def _find_slot(self, j, k):\n",
        "\n",
        "    i = 0\n",
        "\n",
        "    firstAvail = None\n",
        "    while True:\n",
        "      if self._is_available(j): \n",
        "        if firstAvail is None:\n",
        "          firstAvail = j\n",
        "        if self._table[j] is None:\n",
        "          return (False, firstAvail)\n",
        "      elif k == self._table[j]._key:\n",
        "        return (True, j)\n",
        "      \n",
        "      j = (j + i**2) % len(self._table)\n",
        "      i += 1\n",
        "\n",
        "  def _bucket_getitem(self, j, k): \n",
        "    found, s = self._find_slot(j, k) \n",
        "    if not found:\n",
        "      raise KeyError( 'Key Error: '  + repr(k)) \n",
        "    return self._table[s]._value\n",
        "\n",
        "  def _bucket_setitem(self, j, k, v): \n",
        "    found, s = self._find_slot(j, k) \n",
        "    if not found:\n",
        "      self._table[s] = self._Item(k,v)\n",
        "      self._n += 1 \n",
        "    else:\n",
        "      self._table[s]._value = v\n",
        "  \n",
        "  def _bucket_delitem(self, j, k): \n",
        "    found, s = self._find_slot(j, k) \n",
        "    if not found:\n",
        "      raise KeyError( 'Key Error:  ' + repr(k)) \n",
        "    self._table[s] = ProbeHashMap._AVAIL\n",
        "  \n",
        "  def __iter__ (self):\n",
        "    for j in range(len(self._table)):\n",
        "      if not self._is_available(j): \n",
        "        yield self._table[j]._key"
      ],
      "metadata": {
        "id": "f-6oPIh5gqGX"
      },
      "execution_count": null,
      "outputs": []
    },
    {
      "cell_type": "code",
      "source": [
        "#@title R-10.24\n",
        "#pseudo-code description of the __delitem__ map operation when using a skip list.\n",
        "Algorithm __delitem__ (k):\n",
        "\"\"\"delete the position with key k and return the corresponding value\"\"\"\n",
        "Input: Key k\n",
        "Output: The corresponding value with key k\n",
        "p = SkipSearch(k)\n",
        "p = next(p)\n",
        "while above(p) is None do:\n",
        "  k = p\n",
        "  w = next(p)\n",
        "  q = prev(p)\n",
        "\n",
        "  delete p\n",
        "  next(q) = w\n",
        "  prev(w) = q \n",
        "\n",
        "  p = above(k)\n",
        "\n"
      ],
      "metadata": {
        "id": "r7AaP2f4grLr",
        "colab": {
          "base_uri": "https://localhost:8080/",
          "height": 130
        },
        "outputId": "2de50966-ceab-4be3-afb6-bea72a089661"
      },
      "execution_count": null,
      "outputs": [
        {
          "output_type": "error",
          "ename": "SyntaxError",
          "evalue": "ignored",
          "traceback": [
            "\u001b[0;36m  File \u001b[0;32m\"<ipython-input-45-4c751a0c0769>\"\u001b[0;36m, line \u001b[0;32m3\u001b[0m\n\u001b[0;31m    Algorithm __delitem__ (k):\u001b[0m\n\u001b[0m              ^\u001b[0m\n\u001b[0;31mSyntaxError\u001b[0m\u001b[0;31m:\u001b[0m invalid syntax\n"
          ]
        }
      ]
    },
    {
      "cell_type": "code",
      "source": [
        "#@title R-10.25\n",
        "from collections import MutableSet\n",
        "def pop(self):\n",
        "  if len(self) == 0:\n",
        "    raise Empty(\"The set is empty!\")\n",
        "  else:\n",
        "    for e in self:   #there is no guarantee in order of elements of set\n",
        "      return e"
      ],
      "metadata": {
        "colab": {
          "base_uri": "https://localhost:8080/"
        },
        "id": "YG8-0p9pnY7G",
        "outputId": "cf5e8734-4b1b-4c15-d372-48fce4ea1c9b"
      },
      "execution_count": null,
      "outputs": [
        {
          "output_type": "stream",
          "name": "stderr",
          "text": [
            "<ipython-input-43-54f28932addb>:1: DeprecationWarning: Using or importing the ABCs from 'collections' instead of from 'collections.abc' is deprecated since Python 3.3, and in 3.10 it will stop working\n",
            "  from collections import MutableSet\n"
          ]
        }
      ]
    },
    {
      "cell_type": "code",
      "source": [
        "#@title R-10.26\n",
        "def isdisjoint(self, other):\n",
        "  for e in self:\n",
        "    if e in other:\n",
        "      return False\n",
        "  return True"
      ],
      "metadata": {
        "id": "7DH0BDBzV-gh"
      },
      "execution_count": null,
      "outputs": []
    },
    {
      "cell_type": "markdown",
      "source": [
        "# Creativity"
      ],
      "metadata": {
        "id": "lB5F_h8AY1H5"
      }
    },
    {
      "cell_type": "code",
      "source": [
        "#@title C-10.28\n",
        "def setdefault(self, k, d):\n",
        "    for item in self._table:\n",
        "      if k == item._key:\n",
        "        return item._value\n",
        "    self._table.append(self._Item(k, d))\n",
        "    return d "
      ],
      "metadata": {
        "id": "XtUYNV6-YsEM"
      },
      "execution_count": null,
      "outputs": []
    },
    {
      "cell_type": "code",
      "source": [
        "#@title C-10.29\n",
        "\n",
        "# This is the method which should be implemented in ProbeHashMap\n",
        "def _bucket_setdefault(self, j, k, d):\n",
        "      found, s = self._find_slot(j, k)\n",
        "      if not found:\n",
        "        self._table[s] = self._Item(k, d)\n",
        "        self._n += 1\n",
        "        return d\n",
        "      else:\n",
        "        return self._table[s]._value\n",
        "\n",
        "\n",
        "\n",
        "# This is the method which should be implemented in HashMapBase\n",
        "def setdefault(self, k, d):\n",
        "    j = self._hash_function(k)\n",
        "    return self._bucket_setdefault(self, j, k, d)\n",
        "\n"
      ],
      "metadata": {
        "id": "5pzVPhuBa4HX"
      },
      "execution_count": 36,
      "outputs": []
    },
    {
      "cell_type": "code",
      "source": [
        "#@title C-10.30\n",
        "\n",
        "# This is the method which should be implemented in ProbeHashMap\n",
        "def _bucket_setdefault(self, j, k, d):\n",
        "    bucket = self._table[j]\n",
        "    if self._table[j] is None:\n",
        "      self._bucket_setitem(j, k, d)\n",
        "    else:\n",
        "      self._bucket_getitem(self, j, k)\n",
        "\n",
        "\n",
        "# This is the method which should be implemented in ChainHashMap\n",
        "def setdefault(self, k, d):\n",
        "    j = self._hash_function(k)\n",
        "    return self._bucket_setdefault(j, k, d)\n"
      ],
      "metadata": {
        "id": "fggQ-8rGsvjg"
      },
      "execution_count": 37,
      "outputs": []
    },
    {
      "cell_type": "code",
      "source": [
        "#@title C-10.31\n",
        "\n",
        "def is_prime(n):\n",
        "  for i in range(2,n):\n",
        "    if (n % i) == 0:\n",
        "      return False\n",
        "  return True \n",
        "\n",
        "def sieve_algorithm(M):\n",
        "  table = [True] * (2 * M)\n",
        "  table[0] = False\n",
        "  for i in range(2, math.ceil(math.sqrt(2 * M))):\n",
        "    for k in range(1, math.ceil(2*M/i)):\n",
        "      if not is_prime(i*k):\n",
        "        table[i*k] = False\n",
        "\n",
        "  return table"
      ],
      "metadata": {
        "id": "Lff78kT6-QUO"
      },
      "execution_count": 52,
      "outputs": []
    },
    {
      "cell_type": "code",
      "source": [
        "#@title C-10.32"
      ],
      "metadata": {
        "id": "sW6DqbgYD2FZ"
      },
      "execution_count": 54,
      "outputs": []
    },
    {
      "cell_type": "code",
      "source": [
        "#@title C-10.33\n",
        "def _bucket_getitem(self, j, k): \n",
        "    bucket = self._table[j]\n",
        "    if bucket is None:\n",
        "      raise KeyError( 'Key Error: '  + repr(k))\n",
        "\n",
        "    if isinstance(bucket, self._Item):\n",
        "      return bucket._value\n",
        "    else:\n",
        "      return bucket[k]\n",
        "\n",
        "def _bucket_setitem(self, j, k, v): \n",
        "  if self._table[j] is None:\n",
        "    self._table[j] = self._Item(k, v)\n",
        "    self._n += 1\n",
        "  elif isinstance(self._table[j], self._Item):\n",
        "    old_value = self._table[j]\n",
        "    self._table[j] = UnsortedTableMap()\n",
        "    self._table[j][old_value._key] = old_value._value\n",
        "    self._table[j][k] = v\n",
        "    oldsize = len(self._table[j])\n",
        "  elif isinstance(self._table[j], UnsortedTableMap):\n",
        "    self._table[j][k] = v\n",
        "    oldsize = len(self._table[j])\n",
        "\n",
        "  if isinstance(self._table[j], UnsortedTableMap) and len(self._table[j]) > oldsize:\n",
        "    self._n += 1\n",
        "    "
      ],
      "metadata": {
        "id": "-Sn2ZAzuJN_5"
      },
      "execution_count": 88,
      "outputs": []
    },
    {
      "cell_type": "code",
      "source": [
        "#@title C-10.34\n",
        "\n",
        "class MapBase(MutableMapping):\n",
        "  class _Item:\n",
        "    __slots__ = '_key' , '_value', '_hcode'\n",
        "    def __init__ (self, k, v): \n",
        "      self._key = k\n",
        "      self._value = v\n",
        "      self._hcode = None #is set whenever the hash code is determined\n",
        "    \n",
        "    def __eq__(self, other):\n",
        "      return self._key == other._key\n",
        "    \n",
        "    def __ne__ (self, other): \n",
        "      return not (self == other)\n",
        "    \n",
        "    def __lt__ (self, other):\n",
        "      return self._key < other._key\n"
      ],
      "metadata": {
        "id": "YP3I0hPJTLLg"
      },
      "execution_count": 89,
      "outputs": []
    },
    {
      "cell_type": "code",
      "source": [
        "#@title C-10.35\n",
        "#we can append an attribute that declares if a given element is collision type or not. If one element is removed, we shift all element one cell to the left to fill the cells."
      ],
      "metadata": {
        "id": "dcl2VcBuX3w5"
      },
      "execution_count": 36,
      "outputs": []
    },
    {
      "cell_type": "code",
      "source": [
        "#@title C-10.38\n",
        "ProbeHashMap"
      ],
      "metadata": {
        "id": "JDGpT6FxKaqk"
      },
      "execution_count": null,
      "outputs": []
    }
  ]
}