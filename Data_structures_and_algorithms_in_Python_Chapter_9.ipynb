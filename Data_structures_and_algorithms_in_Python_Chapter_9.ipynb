{
  "nbformat": 4,
  "nbformat_minor": 0,
  "metadata": {
    "colab": {
      "provenance": [],
      "authorship_tag": "ABX9TyP0yJgufp7S92UoacdJ2rUU",
      "include_colab_link": true
    },
    "kernelspec": {
      "name": "python3",
      "display_name": "Python 3"
    },
    "language_info": {
      "name": "python"
    }
  },
  "cells": [
    {
      "cell_type": "markdown",
      "metadata": {
        "id": "view-in-github",
        "colab_type": "text"
      },
      "source": [
        "<a href=\"https://colab.research.google.com/github/vahidNaghshin/Data_structures_and_algorithms_in_Python/blob/main/Data_structures_and_algorithms_in_Python_Chapter_9.ipynb\" target=\"_parent\"><img src=\"https://colab.research.google.com/assets/colab-badge.svg\" alt=\"Open In Colab\"/></a>"
      ]
    },
    {
      "cell_type": "markdown",
      "source": [
        "# Priority Queues - Chapter 9"
      ],
      "metadata": {
        "id": "KXXSWbu1O4Ca"
      }
    },
    {
      "cell_type": "code",
      "execution_count": null,
      "metadata": {
        "id": "8WMyZo2WOtoa"
      },
      "outputs": [],
      "source": [
        "class PriorityQueueBase:\n",
        "  class _Item:\n",
        "    __slots__ = '_key', '_value'\n",
        "\n",
        "    def __init__(self, k, v):\n",
        "      self._key = k\n",
        "      self._value = v\n",
        "    \n",
        "    def __lt__(self, other):\n",
        "      return self._key < other._key\n",
        "  \n",
        "  def is_empty(self):\n",
        "    return len(self)==0\n",
        "\n"
      ]
    },
    {
      "cell_type": "code",
      "source": [
        "class _DoublyLinkedBase:\n",
        "  class _Node:\n",
        "    __slot__ = '_element', '_next', '_prev'\n",
        "    def __init__(self, element, next, prev):\n",
        "      self._element = element\n",
        "      self._next = next\n",
        "      self._prev = prev\n",
        "  \n",
        "  def __init__(self):\n",
        "    self._header = self._Node(None, None, None)\n",
        "    self._trailer = self._Node(None, None, None)\n",
        "    self._header._next = self._trailer\n",
        "    self._trailer._prev = self._header\n",
        "    self._size = 0\n",
        "\n",
        "  def __len__(self):\n",
        "    return self._size\n",
        "  \n",
        "  def is_empty(self):\n",
        "    return self._size == 0\n",
        "  \n",
        "  def _insert_between(self, e, predecessor, successor):\n",
        "    \n",
        "    new_node = self._Node(e, successor, predecessor)\n",
        "    successor._prev = new_node\n",
        "    predecessor._next = new_node\n",
        "    self._size += 1\n",
        "    \n",
        "    return new_node\n",
        "\n",
        "  def _delete_node(self, node):\n",
        "    \n",
        "    predecessor = node._prev\n",
        "    successor = node._next\n",
        "    successor._prev = predecessor\n",
        "    predecessor._next = successor\n",
        "    self._size -= 1\n",
        "    element = node._element\n",
        "    node._element, node._prev, node._next = None, None, None\n",
        "    \n",
        "    return element"
      ],
      "metadata": {
        "id": "4_VYGwAnUYVU"
      },
      "execution_count": null,
      "outputs": []
    },
    {
      "cell_type": "code",
      "source": [
        "class PositionalList(_DoublyLinkedBase):\n",
        "  class Position:\n",
        "    def __init__(self, container, node):\n",
        "      self._container = container\n",
        "      self._node = node\n",
        "    def element(self):\n",
        "      return self._node._element\n",
        "    def ــeqــ(self, other):\n",
        "      return type(other) is type(self) and other.ـnode is self.ـnode\n",
        "    def ــneــ(self, other):\n",
        "      return not (self == other) \n",
        "\n",
        "  def _validate(self, p):\n",
        "    if not isinstance(p, self.Position):\n",
        "      raise TypeError( 'p must be proper Position type' ) \n",
        "    if p._container is not self:\n",
        "      raise ValueError( 'p does not belong to this container' )\n",
        "    if p._node._next is None: \n",
        "      raise ValueError( 'p is no longer valid' ) \n",
        "    return p._node\n",
        "\n",
        "  def _make_position(self, node):\n",
        "    if node is self._header or node is self._trailer:\n",
        "      return None \n",
        "    else:\n",
        "      return self.Position(self, node)\n",
        "  \n",
        "  def first(self):\n",
        "    return self._make_position(self._header._next)\n",
        "\n",
        "  def last(self):\n",
        "    return self._make_position(self._trailer._prev)\n",
        "\n",
        "  def before(self, p):\n",
        "    node = self._validate(p)\n",
        "    return self._make_position(node._prev)\n",
        "  \n",
        "  def after(self, p):\n",
        "    node = self._validate(p)\n",
        "    \n",
        "    return self._make_position(node._next)\n",
        "\n",
        "  def __iter__(self):\n",
        "    cursor = self.first()\n",
        "    while cursor is not None:\n",
        "      yield cursor.element() \n",
        "      cursor = self.after(cursor)\n",
        "\n",
        "  def _insert_between(self, e, predecessor, successor):\n",
        "    node = super()._insert_between(e, predecessor, successor)\n",
        "    return self._make_position(node)\n",
        "\n",
        "  def add_first(self, e): \n",
        "    return self._insert_between(e, self._header, self._header._next)\n",
        "  \n",
        "  def add_last(self, e):\n",
        "    return self._insert_between(e, self._trailer._prev, self._trailer)\n",
        "\n",
        "  def add_before(self, p, e):\n",
        "    original = self._validate(p)\n",
        "    return self._insert_between(e, original._prev, original)\n",
        "\n",
        "  def add_after(self, p, e):\n",
        "    original = self._validate(p)\n",
        "    return self._insert_between(e, original, original._next)\n",
        "  \n",
        "  def delete(self, p):\n",
        "    original = self._validate(p)\n",
        "    return self._delete_node(original) \n",
        "\n",
        "\n",
        "  def replace(self, p, e):\n",
        "    original = self._validate(p)\n",
        "    old_value = original._element\n",
        "    original._element = e \n",
        "    return old_value\n"
      ],
      "metadata": {
        "id": "K9UhbmohUY3V"
      },
      "execution_count": null,
      "outputs": []
    },
    {
      "cell_type": "code",
      "source": [
        "class Empty(Exception):\n",
        "  pass"
      ],
      "metadata": {
        "id": "3UDLX5gzWAZN"
      },
      "execution_count": null,
      "outputs": []
    },
    {
      "cell_type": "code",
      "source": [
        "class UnsortedPriorityQueue(PriorityQueueBase):\n",
        "  def _find_min(self):\n",
        "    if self.is_empty():\n",
        "      raise Empty('Priority queue is empty')\n",
        "    small = self._data.first()\n",
        "    walk = self._data.after(small)\n",
        "    while walk is not None:\n",
        "      if walk.element() < small.element(): \n",
        "        small = walk\n",
        "      walk = self._data.after(walk)\n",
        "    return small\n",
        "  \n",
        "  def __init__(self):\n",
        "    self._data = PositionalList()\n",
        "  \n",
        "  def __len__(self):\n",
        "    return len(self._data)\n",
        "  \n",
        "  def add(self, key, value):\n",
        "    self._data.add_last(self._Item(key, value))\n",
        "  \n",
        "  def min(self):\n",
        "    p = self._find_min()\n",
        "    item = p.element()\n",
        "    return (item._key, item._value)\n",
        "  \n",
        "  def remove_min(self):\n",
        "    p = self._find_min()\n",
        "    item = self._data.delete(p)\n",
        "    return (item._key, item._value)\n",
        "  "
      ],
      "metadata": {
        "id": "bbZjmLSeUcKO"
      },
      "execution_count": null,
      "outputs": []
    },
    {
      "cell_type": "code",
      "source": [
        "class SortedPriorityQueue(PriorityQueueBase):\n",
        "  def __init__(self):\n",
        "    self._data = PositionalList()\n",
        "  \n",
        "  def __len__(self):\n",
        "    return len(self._data)\n",
        "  \n",
        "  def add(self, key, value):\n",
        "    newest = self._Item(key, value)\n",
        "    walk = self._data.last()\n",
        "    while walk is not None and newest < walk.element():\n",
        "      walk = self._data.before(walk)\n",
        "    if walk is None:\n",
        "      self._data.add_first(newest)\n",
        "    else:\n",
        "      self._data.add_after(walk, newest)\n",
        "  \n",
        "  def min(self):\n",
        "    if self.is_empty():\n",
        "      raise Empty('Priority queue is empty.')\n",
        "    p = self._data.first()\n",
        "    item = p.element()\n",
        "    return (item._key, item._value)\n",
        "  \n",
        "  def remove_min(self):\n",
        "    if self.is_empty():\n",
        "      raise Empty( 'Priority queue is empty.' ) \n",
        "    item = self._data.delete(self._data.first()) \n",
        "    return (item._key, item._value)"
      ],
      "metadata": {
        "id": "tZqJhpadX77j"
      },
      "execution_count": null,
      "outputs": []
    },
    {
      "cell_type": "code",
      "source": [
        "class HeapPriorityQueue(PriorityQueueBase):\n",
        "  \"\"\"A min-oriented priority queue implemented with a binary heap.\"\"\"\n",
        "  def _parent(self, j):\n",
        "    return (j-1)//2\n",
        "    \n",
        "  def _left(self, j):\n",
        "    return 2*j+1 \n",
        "\n",
        "  def _right(self, j):\n",
        "    return 2*j+2 \n",
        "  \n",
        "  def _has_left(self, j):\n",
        "    return self._left(j) < len(self._data) \n",
        "  \n",
        "  def _has_right(self, j):\n",
        "    return self._right(j) < len(self._data)\n",
        "  \n",
        "  def _swap(self, i, j):\n",
        "    self._data[i], self._data[j] = self._data[j], self._data[i]\n",
        "  \n",
        "  def _upheap(self, j):\n",
        "    parent = self._parent(j)\n",
        "    if j > 0 and self._data[j] < self._data[parent]:\n",
        "      self._swap(j, parent) \n",
        "      self._upheap(parent)\n",
        "  \n",
        "  def _downheap(self, j): \n",
        "    if self._has_left(j):\n",
        "      left = self._left(j) \n",
        "      small_child = left\n",
        "      if self._has_right(j):\n",
        "        right = self._right(j)\n",
        "        if self._data[right] < self._data[left]:\n",
        "          small_child = right\n",
        "      if self._data[small_child] < self._data[j]:\n",
        "        self._swap(j, small_child)\n",
        "        self._downheap(small_child)\n",
        "\n",
        "  #------------- public behaviours\n",
        "  # def __init__ (self):\n",
        "  #   self._data = []\n",
        "\n",
        "  def __init__ (self, contents=()):\n",
        "    self._data = [self._Item(k,v) for k, v in contents]\n",
        "    if len(self._data) > 1:\n",
        "       self._heapify()\n",
        "    \n",
        "  def _heapify(self):\n",
        "    start = self._parent(len(self) - 1) \n",
        "    for j in range(start, -1, -1):\n",
        "      self._downheap(j)\n",
        "    \n",
        "  \n",
        "  def __len__ (self):\n",
        "    return len(self._data)\n",
        "  \n",
        "  def add(self, key, value):\n",
        "    self._data.append(self._Item(key, value))\n",
        "    self._upheap(len(self._data) - 1)\n",
        "\n",
        "  def min(self):\n",
        "    if self.is_empty():\n",
        "      raise Empty( 'Priority queue is empty.' ) \n",
        "      item = self._data[0]\n",
        "      return (item._key, item._value)\n",
        "\n",
        "  def remove_min(self):\n",
        "    if self.is_empty():\n",
        "      raise Empty( 'Priority queue is empty.' )\n",
        "    self._swap(0, len(self._data) - 1) \n",
        "    item = self._data.pop()\n",
        "    self._downheap(0)\n",
        "    return (item._key, item._value)    \n",
        "  "
      ],
      "metadata": {
        "id": "_0zzU2Sgc-nl"
      },
      "execution_count": null,
      "outputs": []
    },
    {
      "cell_type": "code",
      "source": [
        "from heapq import *\n",
        "L = []\n",
        "heappush(L, 2)\n",
        "heappush(L, 1)\n",
        "heappush(L, 20)"
      ],
      "metadata": {
        "id": "Nl3uj1T2CFyZ"
      },
      "execution_count": null,
      "outputs": []
    },
    {
      "cell_type": "code",
      "source": [
        "heappop(L)"
      ],
      "metadata": {
        "colab": {
          "base_uri": "https://localhost:8080/"
        },
        "id": "zLOD2RaHPsSD",
        "outputId": "5841a3c9-6acd-4843-dfd0-4dac684d6c9f"
      },
      "execution_count": null,
      "outputs": [
        {
          "output_type": "execute_result",
          "data": {
            "text/plain": [
              "1"
            ]
          },
          "metadata": {},
          "execution_count": 10
        }
      ]
    },
    {
      "cell_type": "code",
      "source": [
        "heappushpop(L, 4)"
      ],
      "metadata": {
        "colab": {
          "base_uri": "https://localhost:8080/"
        },
        "id": "VLRbP9NPQTbA",
        "outputId": "6a25f7da-c095-489e-b878-0c6e36448857"
      },
      "execution_count": null,
      "outputs": [
        {
          "output_type": "execute_result",
          "data": {
            "text/plain": [
              "2"
            ]
          },
          "metadata": {},
          "execution_count": 11
        }
      ]
    },
    {
      "cell_type": "code",
      "source": [
        "heapreplace(L, 1)"
      ],
      "metadata": {
        "colab": {
          "base_uri": "https://localhost:8080/"
        },
        "id": "PbMaT9UEQdbZ",
        "outputId": "7eb91bcb-1cd3-4620-df92-ae359d609950"
      },
      "execution_count": null,
      "outputs": [
        {
          "output_type": "execute_result",
          "data": {
            "text/plain": [
              "4"
            ]
          },
          "metadata": {},
          "execution_count": 12
        }
      ]
    },
    {
      "cell_type": "code",
      "source": [
        "heapify([3,2,5,1,0])"
      ],
      "metadata": {
        "id": "bXZfINFSQrp7"
      },
      "execution_count": null,
      "outputs": []
    },
    {
      "cell_type": "code",
      "source": [
        "def pq_sort(C):\n",
        "  n = len(C)\n",
        "  P = PriorityQueue()\n",
        "  for j in range(n):\n",
        "    element = C.delete(C.first())\n",
        "    P.add(element, element) \n",
        "  for j in range(n):\n",
        "    (k,v) = P.remove_min() \n",
        "    C.add_last(v)"
      ],
      "metadata": {
        "id": "8j9kdrrjQxoJ"
      },
      "execution_count": null,
      "outputs": []
    },
    {
      "cell_type": "code",
      "source": [
        "class AdaptableHeapPriorityQueue(HeapPriorityQueue):\n",
        "  class Locator(HeapPriorityQueue._Item):\n",
        "    __slots__ = '_index'\n",
        "    def __init__(self, k, v, j):\n",
        "      super.__init__(k, v)\n",
        "      self._index = j\n",
        "  \n",
        "  def _swap(self, i, j):\n",
        "    super()._swap(i,j) \n",
        "    self._data[i]._index = i \n",
        "    self._data[j]._index = j\n",
        "  \n",
        "\n",
        "  def _bubble(self, j):\n",
        "    if j > 0 and self._data[j] < self._data[self._parent(j)]:\n",
        "      self._upheap(j) \n",
        "    else:\n",
        "      self._downheap(j)\n",
        "  \n",
        "  def add(self, key, value):\n",
        "    token = self.Locator(key, value, len(self. data)) # initiaize locator index \n",
        "    self._data.append(token)\n",
        "    self._upheap(len(self._data) - 1)\n",
        "    return token\n",
        "  \n",
        "  def update(self, loc, newkey, newval):\n",
        "    j = loc._index\n",
        "    if not (0 <= j < len(self) and self._data[j] is loc):\n",
        "      raise ValueError( 'Invalid locator' ) \n",
        "      loc._key = newkey\n",
        "    loc._value = newval\n",
        "    self._bubble(j)\n",
        "\n",
        "  def remove(self, loc):\n",
        "    j = loc._index\n",
        "    if not (0 <= j < len(self) and self._data[j] is loc):\n",
        "      raise ValueError( 'Invalid locator' )\n",
        "    if j == len(self) - 1: \n",
        "      self._data.pop()\n",
        "    else:\n",
        "      self._swap(j, len(self) - 1) \n",
        "      self._data.pop( )\n",
        "      self._bubble(j)\n",
        "\n",
        "    return (loc. key, loc. value)"
      ],
      "metadata": {
        "id": "sKLg8PeacJyT"
      },
      "execution_count": null,
      "outputs": []
    },
    {
      "cell_type": "markdown",
      "source": [
        "#  Reinforcement"
      ],
      "metadata": {
        "id": "Lo65s2PUes-t"
      }
    },
    {
      "cell_type": "code",
      "source": [
        "#@title R-9.4\n",
        "Q = SortedPriorityQueue()\n",
        "\n",
        "#add an event with timestamp 2\n",
        "timestamp = 2\n",
        "flight_id = 3\n",
        "Q.add(timestamp, flight_id)\n",
        "\n",
        "#add an event with timestamp .3\n",
        "timestamp = .3\n",
        "flight_id = 5\n",
        "Q.add(timestamp, flight_id)\n",
        "\n",
        "#add an event with timestamp 5\n",
        "timestamp = 5\n",
        "flight_id = 6\n",
        "Q.add(timestamp, flight_id)\n",
        "print(len(Q))\n",
        "print(Q.remove_min())\n",
        "print(Q.remove_min())\n",
        "print(Q.remove_min())"
      ],
      "metadata": {
        "colab": {
          "base_uri": "https://localhost:8080/"
        },
        "id": "IY3KucrWgM39",
        "outputId": "fbac1bff-e02c-4edc-f4ea-fa1551ac7702"
      },
      "execution_count": null,
      "outputs": [
        {
          "output_type": "stream",
          "name": "stdout",
          "text": [
            "3\n",
            "(0.3, 5)\n",
            "(2, 3)\n",
            "(5, 6)\n"
          ]
        }
      ]
    },
    {
      "cell_type": "code",
      "source": [
        "#@title R-9.5\n",
        "#the same modification in SortedPriorityQueue shoud be applied."
      ],
      "metadata": {
        "id": "mVI-AabhdtA9"
      },
      "execution_count": null,
      "outputs": []
    },
    {
      "cell_type": "code",
      "source": [
        "#@title R-9.12\n",
        "# we can use the minus key for the traditional minimum-oriented sorted key priority key."
      ],
      "metadata": {
        "id": "1O57LmlciGWB"
      },
      "execution_count": null,
      "outputs": []
    },
    {
      "cell_type": "markdown",
      "source": [
        "# Creativity"
      ],
      "metadata": {
        "id": "o9qM_TRb_mJs"
      }
    },
    {
      "cell_type": "code",
      "source": [
        "#@title C-9.26\n",
        "\n",
        "class Stack(SortedPriorityQueue):\n",
        "  \"\"\"A slack ADT developed by the Sorted priority queue\"\"\"\n",
        "  def __init__(self):\n",
        "    #initialize the key of the node to 0\n",
        "    #reduce the value of the key of each node by one so the LIFO structure is preserved\n",
        "    super.__init__()\n",
        "    self._key = 0\n",
        "  \n",
        "  def push(self, e):\n",
        "    self.add(self._key, e)\n",
        "    #reduce the key of the next added node by one so, it will be prioritised to the previously added one\n",
        "    self._key -= 1\n",
        "  \n",
        "  def pop(self):\n",
        "    self.remove_min()\n",
        "  \n",
        "  def top(self):\n",
        "    return self.min()"
      ],
      "metadata": {
        "id": "LHNBowOhkZUW"
      },
      "execution_count": null,
      "outputs": []
    },
    {
      "cell_type": "code",
      "source": [
        "#@title C-9.27\n",
        "\n",
        "class Queue(SortedPriorityQueue):\n",
        "  \"\"\"A Queue ADT developed by the Sorted priority queue\"\"\"\n",
        "  def __init__(self):\n",
        "    #initialize the key of the node to 0\n",
        "    #increase the value of the key of each node by one so the FIFO structure is preserved\n",
        "    super.__init__()\n",
        "    self._key = 0\n",
        "  \n",
        "  def enqueue(self, e):\n",
        "    self.add(self._key, e)\n",
        "    #reduce the key of the next added node by one so, it will be prioritised to the previously added one\n",
        "    self._key += 1\n",
        "  \n",
        "  def dequeue(self):\n",
        "    self.remove_min()\n",
        "  \n",
        "  def first(self):\n",
        "    return self.min()\n",
        "\n"
      ],
      "metadata": {
        "id": "qaj5SflXHpTE"
      },
      "execution_count": null,
      "outputs": []
    },
    {
      "cell_type": "code",
      "source": [
        "#@title C-9.29\n",
        "\n",
        "class SortedPriorityQueue(PriorityQueueBase):\n",
        "  \"\"\"Implementing the sorted priority queue using the Python list\"\"\"\n",
        "\n",
        "  def __init__(self):\n",
        "    self._data = []\n",
        "  \n",
        "  def __len__(self):\n",
        "    return len(self._data)\n",
        "  \n",
        "  def add(self, key, value):\n",
        "    newest = self._Item(key, value)\n",
        "    \n",
        "    if not self.is_empty():\n",
        "      c = 0\n",
        "      new_data = (len(self) + 1) * [None]\n",
        "      \n",
        "      while 0 <= c < len(self) and newest > self._data[c]:\n",
        "    \n",
        "        walk = self._data[c]\n",
        "        new_data[c] = walk\n",
        "        c += 1\n",
        "        \n",
        "      \n",
        "      new_data[c] = newest\n",
        "      new_data[c+1:] = self._data[c:]\n",
        "      self._data = new_data\n",
        "    else:\n",
        "      self._data.append(newest)\n",
        "\n",
        "  def min(self):\n",
        "    if self.is_empty():\n",
        "      raise Empty('Priority queue is empty.')\n",
        "    item = self._data[0]\n",
        "    \n",
        "    return (item._key, item._value)\n",
        "  \n",
        "  def remove_min(self):\n",
        "    if self.is_empty():\n",
        "      raise Empty( 'Priority queue is empty.' ) \n",
        "    item = self._data[0]\n",
        "    del self._data[0]\n",
        "    return (item._key, item._value)"
      ],
      "metadata": {
        "id": "rBQ6C0STIhtq"
      },
      "execution_count": null,
      "outputs": []
    },
    {
      "cell_type": "code",
      "source": [
        "#@title C-9.30\n",
        "\n",
        "def _upheap(self, j):\n",
        "    \"\"\"non-recursive implementation of the upheap method\"\"\"\n",
        "    parent = self._parent(j)\n",
        "    while j > 0 and self._data[j] < self._data[parent]:\n",
        "      self._swap(j, parent)\n",
        "      j = parent \n",
        "      parent = self._parent(j)"
      ],
      "metadata": {
        "id": "mNEU_PK8SHf5"
      },
      "execution_count": null,
      "outputs": []
    },
    {
      "cell_type": "code",
      "source": [
        "#@title C-9.31\n",
        "def _downheap(self, j):\n",
        "    flag = True # in case the current position does not violate the heap order\n",
        "    while flag and j < len(self) and self._has_left(j):\n",
        "      left = self._left(j)\n",
        "      small_child = left\n",
        "      \n",
        "      if self._has_right(j):\n",
        "        right = self._right(j)\n",
        "        if self._data[right] < self._data[left]:\n",
        "          small_child = right\n",
        "      \n",
        "      if self._data[small_child] < self._data[j]:\n",
        "        self._swap(j, small_child)\n",
        "        j = small_child\n",
        "\n",
        "        parent = self._parent(j)\n",
        "        if self._has_left(parent) and self._has_right(parent):\n",
        "          right, left = self._right(parent), self._left(parent)\n",
        "          \n",
        "          if self._data[right] < self._data[left]:\n",
        "            self._swap(left, right)\n",
        "      else:\n",
        "        flag = False"
      ],
      "metadata": {
        "id": "bxihZ9_lSPQd"
      },
      "execution_count": null,
      "outputs": []
    },
    {
      "cell_type": "code",
      "source": [
        "#@title C-9.32"
      ],
      "metadata": {
        "id": "ozFMhqSGYdwY"
      },
      "execution_count": null,
      "outputs": []
    }
  ]
}