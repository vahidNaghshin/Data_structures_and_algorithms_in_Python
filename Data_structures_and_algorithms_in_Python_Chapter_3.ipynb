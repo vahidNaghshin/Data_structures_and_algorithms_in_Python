{
  "nbformat": 4,
  "nbformat_minor": 0,
  "metadata": {
    "colab": {
      "provenance": [],
      "authorship_tag": "ABX9TyN2KYtnvjBlBkg92XtfozSt",
      "include_colab_link": true
    },
    "kernelspec": {
      "name": "python3",
      "display_name": "Python 3"
    },
    "language_info": {
      "name": "python"
    }
  },
  "cells": [
    {
      "cell_type": "markdown",
      "metadata": {
        "id": "view-in-github",
        "colab_type": "text"
      },
      "source": [
        "<a href=\"https://colab.research.google.com/github/vahidNaghshin/Data_structures_and_algorithms_in_Python/blob/main/Data_structures_and_algorithms_in_Python_Chapter_3.ipynb\" target=\"_parent\"><img src=\"https://colab.research.google.com/assets/colab-badge.svg\" alt=\"Open In Colab\"/></a>"
      ]
    },
    {
      "cell_type": "code",
      "execution_count": null,
      "metadata": {
        "colab": {
          "base_uri": "https://localhost:8080/"
        },
        "id": "7aGSmCoxJLiP",
        "outputId": "0f3cf187-c28d-4847-bcf6-daa8bf83097d"
      },
      "outputs": [
        {
          "output_type": "execute_result",
          "data": {
            "text/plain": [
              "1.0021030902862549"
            ]
          },
          "metadata": {},
          "execution_count": 8
        }
      ],
      "source": [
        "from time import time\n",
        "start_time = time()\n",
        "# run algorithm\n",
        "sleep(1)\n",
        "finish_time = time()\n",
        "elapsed = finish_time - start_time\n",
        "elapsed"
      ]
    },
    {
      "cell_type": "code",
      "source": [
        "from time import process_time, sleep, time.perf_counter\n",
        "start_time = process_time()\n",
        "\n",
        "# run algorithm\n",
        "sleep(1)\n",
        "\n",
        "finish_time = process_time()\n",
        "elapsed = finish_time - start_time\n",
        "elapsed"
      ],
      "metadata": {
        "colab": {
          "base_uri": "https://localhost:8080/"
        },
        "id": "23e5v-DfKccg",
        "outputId": "0ec94df7-51f8-4965-e2d4-75e3227b32c4"
      },
      "execution_count": null,
      "outputs": [
        {
          "output_type": "execute_result",
          "data": {
            "text/plain": [
              "0.0028061800000003245"
            ]
          },
          "metadata": {},
          "execution_count": 9
        }
      ]
    },
    {
      "cell_type": "code",
      "source": [
        "from time import process_time, sleep, perf_counter\n",
        "start_time = perf_counter()\n",
        "\n",
        "# run algorithm\n",
        "sleep(1)\n",
        "\n",
        "finish_time = perf_counter()\n",
        "elapsed = finish_time - start_time\n",
        "elapsed"
      ],
      "metadata": {
        "colab": {
          "base_uri": "https://localhost:8080/"
        },
        "id": "aMjOOEPYLIMb",
        "outputId": "b8518f90-463a-456d-8b89-33f7570fb9f0"
      },
      "execution_count": null,
      "outputs": [
        {
          "output_type": "execute_result",
          "data": {
            "text/plain": [
              "1.0011895949999712"
            ]
          },
          "metadata": {},
          "execution_count": 10
        }
      ]
    },
    {
      "cell_type": "code",
      "source": [
        "import timeit\n",
        "print(timeit.timeit('output = 10*5'))"
      ],
      "metadata": {
        "colab": {
          "base_uri": "https://localhost:8080/"
        },
        "id": "nSwHV7hiL94F",
        "outputId": "f74c88cc-1d43-4fa1-8349-2eb1e0a96b6f"
      },
      "execution_count": null,
      "outputs": [
        {
          "output_type": "stream",
          "name": "stdout",
          "text": [
            "0.020970539000018107\n"
          ]
        }
      ]
    },
    {
      "cell_type": "code",
      "source": [
        "import timeit\n",
        "import_module = \"import random\"\n",
        "testcode = ''' \n",
        "def test(): \n",
        "    return random.randint(10, 100)\n",
        "'''\n",
        "print(timeit.repeat(stmt=testcode, setup=import_module))"
      ],
      "metadata": {
        "colab": {
          "base_uri": "https://localhost:8080/"
        },
        "id": "FiDwRja9Mk-m",
        "outputId": "c6fd63c0-f600-4d80-d66e-9c8dceea4643"
      },
      "execution_count": null,
      "outputs": [
        {
          "output_type": "stream",
          "name": "stdout",
          "text": [
            "[0.06538046200000736, 0.0601882429999705, 0.059903534000000036, 0.060252262999938466, 0.0870264310000266]\n"
          ]
        }
      ]
    },
    {
      "cell_type": "markdown",
      "source": [
        "# Reinforcement"
      ],
      "metadata": {
        "id": "UdDfgNobNTCe"
      }
    },
    {
      "cell_type": "code",
      "source": [
        "#@title R-3.1\n",
        "import numpy as np\n",
        "import matplotlib.pyplot as plt\n",
        "\n",
        "\n",
        "x = [n for n in range(1, 20)]\n",
        "y1 = [8 * n for n in x]\n",
        "y2 = [4 * n * np.log2(n) for n in x]\n",
        "y3 = [2 * pow(n, 2) for n in x]\n",
        "y4 = [pow(n, 3) for n in x]\n",
        "y5 = [2**n for n in x]\n",
        "\n",
        "plt.plot(np.log2(x), np.log2(y1), '-o', label=r'$8n$')\n",
        "plt.plot(np.log2(x), np.log2(y2), '-s', label=r'$4n\\log(n)$')\n",
        "plt.plot(np.log2(x), np.log2(y3), '-^', label=r'$2n^2$')\n",
        "plt.plot(np.log2(x), np.log2(y4), '-*', label=r'$n^3$')\n",
        "plt.plot(np.log2(x), np.log2(y5), '-<', label=r'$2^n$')\n",
        "\n",
        "plt.legend()"
      ],
      "metadata": {
        "id": "IGA9Kif2Mxm1",
        "colab": {
          "base_uri": "https://localhost:8080/",
          "height": 316
        },
        "outputId": "d0641f23-17c8-4944-9ffd-a7d06eea0b1f"
      },
      "execution_count": null,
      "outputs": [
        {
          "output_type": "stream",
          "name": "stderr",
          "text": [
            "/usr/local/lib/python3.7/dist-packages/ipykernel_launcher.py:14: RuntimeWarning: divide by zero encountered in log2\n",
            "  \n"
          ]
        },
        {
          "output_type": "execute_result",
          "data": {
            "text/plain": [
              "<matplotlib.legend.Legend at 0x7fa376c23710>"
            ]
          },
          "metadata": {},
          "execution_count": 19
        },
        {
          "output_type": "display_data",
          "data": {
            "text/plain": [
              "<Figure size 432x288 with 1 Axes>"
            ],
            "image/png": "[encoded data removed]"
          },
          "metadata": {
            "needs_background": "light"
          }
        }
      ]
    },
    {
      "cell_type": "code",
      "source": [
        "x, np.log2(x)"
      ],
      "metadata": {
        "colab": {
          "base_uri": "https://localhost:8080/"
        },
        "id": "8GDjBLKlNvEk",
        "outputId": "41377aba-d1ec-48d3-bf4d-845b645159e3"
      },
      "execution_count": null,
      "outputs": [
        {
          "output_type": "execute_result",
          "data": {
            "text/plain": [
              "([1, 2, 3, 4, 5, 6, 7, 8, 9, 10, 11, 12, 13, 14, 15, 16, 17, 18, 19],\n",
              " array([0.        , 1.        , 1.5849625 , 2.        , 2.32192809,\n",
              "        2.5849625 , 2.80735492, 3.        , 3.169925  , 3.32192809,\n",
              "        3.45943162, 3.5849625 , 3.70043972, 3.80735492, 3.9068906 ,\n",
              "        4.        , 4.08746284, 4.169925  , 4.24792751]))"
            ]
          },
          "metadata": {},
          "execution_count": 17
        }
      ]
    },
    {
      "cell_type": "code",
      "source": [],
      "metadata": {
        "id": "4107YTFwOr_J"
      },
      "execution_count": null,
      "outputs": []
    }
  ]
}