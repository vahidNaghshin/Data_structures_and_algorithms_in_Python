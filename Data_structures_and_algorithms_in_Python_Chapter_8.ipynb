{
  "nbformat": 4,
  "nbformat_minor": 0,
  "metadata": {
    "colab": {
      "provenance": [],
      "authorship_tag": "ABX9TyMc7xtlG0FIBePedH0t4DsP",
      "include_colab_link": true
    },
    "kernelspec": {
      "name": "python3",
      "display_name": "Python 3"
    },
    "language_info": {
      "name": "python"
    }
  },
  "cells": [
    {
      "cell_type": "markdown",
      "metadata": {
        "id": "view-in-github",
        "colab_type": "text"
      },
      "source": [
        "<a href=\"https://colab.research.google.com/github/vahidNaghshin/Data_structures_and_algorithms_in_Python/blob/main/Data_structures_and_algorithms_in_Python_Chapter_8.ipynb\" target=\"_parent\"><img src=\"https://colab.research.google.com/assets/colab-badge.svg\" alt=\"Open In Colab\"/></a>"
      ]
    },
    {
      "cell_type": "markdown",
      "source": [
        "#  Chapter 8. Trees"
      ],
      "metadata": {
        "id": "pqNFPBNadacW"
      }
    },
    {
      "cell_type": "code",
      "execution_count": 1,
      "metadata": {
        "id": "N-RKewsrdXbB"
      },
      "outputs": [],
      "source": [
        "class Empty(Exception):\n",
        "  pass"
      ]
    },
    {
      "cell_type": "code",
      "source": [
        "raise Empty('This is an exception!!')"
      ],
      "metadata": {
        "colab": {
          "base_uri": "https://localhost:8080/",
          "height": 164
        },
        "id": "gGHfenE5h_9e",
        "outputId": "9beabd95-409b-4109-e4c3-730b33bc756b"
      },
      "execution_count": null,
      "outputs": [
        {
          "output_type": "error",
          "ename": "Empty",
          "evalue": "ignored",
          "traceback": [
            "\u001b[0;31m---------------------------------------------------------------------------\u001b[0m",
            "\u001b[0;31mEmpty\u001b[0m                                     Traceback (most recent call last)",
            "\u001b[0;32m<ipython-input-8-0bd052d96d80>\u001b[0m in \u001b[0;36m<module>\u001b[0;34m\u001b[0m\n\u001b[0;32m----> 1\u001b[0;31m \u001b[0;32mraise\u001b[0m \u001b[0mEmpty\u001b[0m\u001b[0;34m(\u001b[0m\u001b[0;34m'This is an exception!!'\u001b[0m\u001b[0;34m)\u001b[0m\u001b[0;34m\u001b[0m\u001b[0;34m\u001b[0m\u001b[0m\n\u001b[0m",
            "\u001b[0;31mEmpty\u001b[0m: This is an exception!!"
          ]
        }
      ]
    },
    {
      "cell_type": "code",
      "source": [
        "class Tree:\n",
        "  def element(self):\n",
        "    raise NotImplementedError('Should be implemented!')"
      ],
      "metadata": {
        "id": "RKlZO6lriJN3"
      },
      "execution_count": null,
      "outputs": []
    },
    {
      "cell_type": "code",
      "source": [
        "h = Tree()"
      ],
      "metadata": {
        "id": "T1BfiYB4nKeB"
      },
      "execution_count": null,
      "outputs": []
    },
    {
      "cell_type": "code",
      "source": [
        "h.element()"
      ],
      "metadata": {
        "id": "U58jH73InMWe",
        "colab": {
          "base_uri": "https://localhost:8080/",
          "height": 249
        },
        "outputId": "931913cd-6610-43e1-eed8-f431c300b2cf"
      },
      "execution_count": null,
      "outputs": [
        {
          "output_type": "error",
          "ename": "NotImplementedError",
          "evalue": "ignored",
          "traceback": [
            "\u001b[0;31m---------------------------------------------------------------------------\u001b[0m",
            "\u001b[0;31mNotImplementedError\u001b[0m                       Traceback (most recent call last)",
            "\u001b[0;32m<ipython-input-11-b70cba286126>\u001b[0m in \u001b[0;36m<module>\u001b[0;34m\u001b[0m\n\u001b[0;32m----> 1\u001b[0;31m \u001b[0mh\u001b[0m\u001b[0;34m.\u001b[0m\u001b[0melement\u001b[0m\u001b[0;34m(\u001b[0m\u001b[0;34m)\u001b[0m\u001b[0;34m\u001b[0m\u001b[0;34m\u001b[0m\u001b[0m\n\u001b[0m",
            "\u001b[0;32m<ipython-input-9-33e4ded29c13>\u001b[0m in \u001b[0;36melement\u001b[0;34m(self)\u001b[0m\n\u001b[1;32m      1\u001b[0m \u001b[0;32mclass\u001b[0m \u001b[0mTree\u001b[0m\u001b[0;34m:\u001b[0m\u001b[0;34m\u001b[0m\u001b[0;34m\u001b[0m\u001b[0m\n\u001b[1;32m      2\u001b[0m   \u001b[0;32mdef\u001b[0m \u001b[0melement\u001b[0m\u001b[0;34m(\u001b[0m\u001b[0mself\u001b[0m\u001b[0;34m)\u001b[0m\u001b[0;34m:\u001b[0m\u001b[0;34m\u001b[0m\u001b[0;34m\u001b[0m\u001b[0m\n\u001b[0;32m----> 3\u001b[0;31m     \u001b[0;32mraise\u001b[0m \u001b[0mNotImplementedError\u001b[0m\u001b[0;34m(\u001b[0m\u001b[0;34m'Should be implemented!'\u001b[0m\u001b[0;34m)\u001b[0m\u001b[0;34m\u001b[0m\u001b[0;34m\u001b[0m\u001b[0m\n\u001b[0m",
            "\u001b[0;31mNotImplementedError\u001b[0m: Should be implemented!"
          ]
        }
      ]
    },
    {
      "cell_type": "code",
      "source": [
        "#another abstract class decleration method\n",
        "from abc import ABCMeta, abstractmethod\n",
        "class Tree(metaclass=ABCMeta):\n",
        "\n",
        "  @abstractmethod\n",
        "  def element(self):\n",
        "    'it should give you the elemenet'\n",
        "    pass"
      ],
      "metadata": {
        "id": "5H96sc9cnOMM"
      },
      "execution_count": null,
      "outputs": []
    },
    {
      "cell_type": "code",
      "source": [
        "class Tree:\n",
        "  \"\"\"Abstract base class represents the Tree structure\"\"\"\n",
        "  class Position:\n",
        "    \n",
        "    def element(self):\n",
        "      raise NotImplementedError('must be implemented by subclass')\n",
        "    \n",
        "    def __eq__(self):\n",
        "      raise NotImplementedError('must be implemented by subclass')\n",
        "    \n",
        "    def __ne__(self, other):\n",
        "      return not (self==other)\n",
        "\n",
        "  \n",
        "  def root(self):\n",
        "    raise NotImplementedError('must be implemented by subclass')\n",
        "  \n",
        "  def parent(self, p):\n",
        "    raise NotImplementedError('must be implemented by subclass')\n",
        "\n",
        "  def num_children(self, p):\n",
        "    raise NotImplementedError('must be implemented by subclass')\n",
        "  \n",
        "  def children(self, p):\n",
        "    raise NotImplementedError('must be implemented by subclass')\n",
        "\n",
        "  def __len__(self):\n",
        "    raise NotImplementedError('must be implemented by subclass')\n",
        "\n",
        "  def is_root(self, p):\n",
        "    return self.root() == p\n",
        "  \n",
        "  def is_leaf(self, p):\n",
        "    return self.num_children(p) == 0\n",
        "  \n",
        "  def is_empty(self):\n",
        "    return len(self) == 0\n",
        "\n",
        "  def __iter__(self):\n",
        "    \"\"\"Generate an iteration of the tree's elements.\"\"\"\n",
        "    for p in self.positions():\n",
        "      yield p.element()\n",
        "  \n",
        "  def preorder(self):\n",
        "    \"\"\"Genertate a preorder iteration of positions in the tree.\"\"\"\n",
        "    if not self.is_empty():\n",
        "        for p in self._subtree_preorder(self.root()):\n",
        "            yield p\n",
        "  \n",
        "  def _subtree_preorder(self, p):\n",
        "    \"\"\"Generate a preorder iteration of positions in subtree rooted at p.\"\"\"\n",
        "    yield p\n",
        "    for c in self.children(p):\n",
        "        for other in self._subtree_preorder(c):\n",
        "            yield other\n",
        "\n",
        "  def positions(self):\n",
        "    \"\"\"Generate an iteration of the tree's positions.\n",
        "      Here, we set the traverse algorithm to preorder traversal algorithm.\n",
        "    \"\"\"\n",
        "    return self.preorder()\n",
        "\n",
        "  \n",
        "  def postorder(self):\n",
        "    \"\"\"Generate a postorder iteration of positions in the tree.\"\"\"\n",
        "    if not self.is_empty():\n",
        "        for p in self._subtree_postorder(self.root()):\n",
        "            yield p\n",
        "\n",
        "\n",
        "  def _subtree_postorder(self, p):\n",
        "    \"\"\"Generate a postorder iteration of postiions in subtree rooted at p.\"\"\"\n",
        "    for c in self.children(p):\n",
        "        for other in self._subtree_postorder(c):\n",
        "            yield other\n",
        "        yield p\n",
        "  \n",
        "  def breadthfirst(self):\n",
        "    \"\"\"Generate a breadth-first iteration of the positions of the tree.\"\"\"\n",
        "    if not self.is_empty():\n",
        "        fringe = LinkedQueue()  # known positions not yet yielded\n",
        "        fringe.enqueue(self.root())  # starting with the root\n",
        "        while not fringe.is_empty():\n",
        "            p = fringe.dequeue()  # remove from front of the queue\n",
        "            yield p  # report this position\n",
        "            for c in self.children(p): \n",
        "                fringe.enqueue(c)  # add children to back of queue"
      ],
      "metadata": {
        "id": "SuKdbGXOo9oB"
      },
      "execution_count": null,
      "outputs": []
    },
    {
      "cell_type": "code",
      "source": [
        "def depth(self, p):\n",
        "    if self.is_root(p):\n",
        "      return 0\n",
        "    else:\n",
        "      return 1 + self.depth(self.parent(p))"
      ],
      "metadata": {
        "id": "lh0fJJxPrLul"
      },
      "execution_count": null,
      "outputs": []
    },
    {
      "cell_type": "code",
      "source": [
        "def _height1(self):\n",
        "    return max(self.depth(p) for p in self.poisitons() if self.is_leaf(p))\n"
      ],
      "metadata": {
        "id": "Ju8G18pQzEcy"
      },
      "execution_count": null,
      "outputs": []
    },
    {
      "cell_type": "code",
      "source": [
        "def _height2(self, p):\n",
        "  if self.is_leaf(p):\n",
        "    return 0\n",
        "  else:\n",
        "    return 1 + max(self._height2(c) for c in self.children(p))\n"
      ],
      "metadata": {
        "id": "4HBD-RCyzFYU"
      },
      "execution_count": null,
      "outputs": []
    },
    {
      "cell_type": "code",
      "source": [
        "def height(self, p=None):\n",
        "  if p is None:\n",
        "    p = self.root()\n",
        "  return self._height2(p)"
      ],
      "metadata": {
        "id": "Y02isdvjz6No"
      },
      "execution_count": null,
      "outputs": []
    },
    {
      "cell_type": "code",
      "source": [
        "class BinaryTree(Tree):\n",
        "  def left(self, p):\n",
        "    raise NotImplementedError('must be implemented by subclass')\n",
        "  \n",
        "  def right(self, p):\n",
        "    raise NotImplementedError('must be implemented by subclass')\n",
        "  \n",
        "  def sibling(self, p):\n",
        "    parent = self.parent(p)\n",
        "    if parent is None:\n",
        "      return None\n",
        "    else:\n",
        "      if p == self.left(parent):\n",
        "        return self.right(parent)\n",
        "      else:\n",
        "        return self.left(parent)\n",
        "  \n",
        "  def children(self, p):\n",
        "    \n",
        "    if self.left(p) is not None:\n",
        "      yield self.left(p)\n",
        "\n",
        "    if self.right(p) is not None:\n",
        "      yield self.right(p)\n",
        "\n",
        "  def num_children(self, p):\n",
        "    count = 0\n",
        "    if self.left(p) is not None:\n",
        "      count += 1\n",
        "    if self.right(p) is not None:\n",
        "      count += 1\n",
        "    return count\n"
      ],
      "metadata": {
        "id": "z68U30IK19ze"
      },
      "execution_count": null,
      "outputs": []
    },
    {
      "cell_type": "code",
      "source": [
        "class LinkedBinaryTree(BinaryTree):\n",
        "\n",
        "  class _Node:\n",
        "    __slot__ = '_element', '_parent', '_left', '_right'\n",
        "    def __init__(self, element, parent=None, left=None, right=None):\n",
        "      self._element = element\n",
        "      self._parent = parent\n",
        "      self._left = left\n",
        "      self._right = right\n",
        "  \n",
        "  class Position(BinaryTree.Position):\n",
        "    def __init__(self, container, node):\n",
        "      self._container = container\n",
        "      self._node = node\n",
        "    \n",
        "    def element(self):\n",
        "      return self._node._element\n",
        "    \n",
        "    def __eq__(self, other):\n",
        "      return type(other) == type(self) and other._node == self._node\n",
        "\n",
        "  def _validate(self, p):\n",
        "    if not isinstance(p, self.Position):\n",
        "      raise TypeError( 'p must be proper Position type' )\n",
        "    if p._container is not self:\n",
        "      raise ValueError( 'p does not belong to this container' )\n",
        "    if p._node._parent == p._node:\n",
        "      raise ValueError( 'p is no longer valid' )\n",
        "    \n",
        "    return p._node\n",
        "\n",
        "  def _make_position(self, node):\n",
        "    return self.Position(self, node) if node is not None else None\n",
        "\n",
        "  def __init__(self):\n",
        "    self._root = None\n",
        "    self._size = 0\n",
        "  \n",
        "  def __len__(self):\n",
        "    return self._size\n",
        "  \n",
        "  def root(self):\n",
        "    return self._make_position(self._root)\n",
        "  \n",
        "  def parent(self, p):\n",
        "    node = self._validate(p)\n",
        "    return self._make_position(node._parent)\n",
        "\n",
        "  def left(self, p):\n",
        "    node = self._validate(p)\n",
        "    return self._make_position(node._left)\n",
        "\n",
        "  def right(self, p):\n",
        "    node = self._validate(p)\n",
        "    return self._make_position(node._right)\n",
        "\n",
        "  def num_children(self, p):\n",
        "    node = self._validate(p)\n",
        "    count = 0\n",
        "    if node._left is not None:\n",
        "      count += 1\n",
        "    if node._right is not None:\n",
        "      count += 1\n",
        "    return count\n",
        "  \n",
        "  def _add_root(self, e):\n",
        "    if self._root is not None:\n",
        "      raise ValueError('There is already a root!')\n",
        "    self._root = self._Node(e)\n",
        "    self._size += 1\n",
        "    \n",
        "    return self._make_position(self._root)\n",
        "\n",
        "\n",
        "\n",
        "  def _add_left(self, p, e):\n",
        "    node = self._validate(p)\n",
        "    if node._left is not None:\n",
        "      raise ValueError(\"Left child exists!\")\n",
        "    self._size += 1\n",
        "    node._left = self._Node(e, node) \n",
        "    return self._make_position(node._left)\n",
        "\n",
        "  def _add_right(self, p, e):\n",
        "    node = self._validate(p)\n",
        "    if node._right is not None:\n",
        "      raise ValueError(\"Right child exists!\")\n",
        "    self._size += 1\n",
        "    node._right = self._Node(e, node) \n",
        "    return self._make_position(node._right)\n",
        "  \n",
        "  def repalce(self, p, e):\n",
        "    node = self._validate(p)\n",
        "    old_element = node._element\n",
        "    node._element = e\n",
        "    return old_element\n",
        "\n",
        "  def _delete(self, p):\n",
        "    \n",
        "    node = self._validate(p)\n",
        "    if self.num_children(p) == 2: raise ValueError('p has two children')\n",
        "    child = node._left if node._left else node._right\n",
        "\n",
        "    if child is not None:\n",
        "      child._parent = node._parent\n",
        "\n",
        "    if node is self._root:\n",
        "      self._root = child\n",
        "    else:\n",
        "      parent = node._parent\n",
        "      if node is parent._left:\n",
        "        parent._left = child\n",
        "      else:\n",
        "        parent._right = child\n",
        "    \n",
        "    self._size -= 1\n",
        "    node._parent = node\n",
        "    return node._element\n",
        "\n",
        "  def _attach(self, p, t1, t2):\n",
        "    node = self._validate(p)\n",
        "    if not self.is_leaf(p): raise ValueError( 'position must be leaf' )\n",
        "\n",
        "    if not type(self) is type(t1) is type(t2): \n",
        "      raise TypeError( 'Tree types must match' )\n",
        "    \n",
        "    self._size += len(t1) + len(t2)\n",
        "\n",
        "    if not t1.is_empty():\n",
        "      t1._root._parent = node\n",
        "      node._left = t1._root\n",
        "      t1._root = None \n",
        "      t1.size=0\n",
        "    \n",
        "    if not t2.is_empty():\n",
        "      t2._root._parent = node\n",
        "      node._right = t2._root\n",
        "      t2._root = None \n",
        "      t2.size=0\n",
        "\n",
        "  def inorde(self):\n",
        "    if not self.is_empty():\n",
        "      for p in self._subtree_inorder(self._root):\n",
        "        yield p\n",
        "  \n",
        "  def _subtree_inorder(self, p):\n",
        "    if self.left(p) is not None:\n",
        "      for other in self._subtree_inorder(self.left(p)):\n",
        "        yield other\n",
        "      yield p\n",
        "    if self.right(p) is not None:\n",
        "      for other in self._subtree_inorder(self.right(p)):\n",
        "        yield other\n",
        "  \n",
        "  # def positions(self):\n",
        "  #   return self.inorder()\n",
        "  "
      ],
      "metadata": {
        "id": "jUDRHOPQ8VLp"
      },
      "execution_count": null,
      "outputs": []
    },
    {
      "cell_type": "code",
      "source": [
        "T = LinkedBinaryTree()\n",
        "p_root = T._add_root('Electronics R’Us')\n",
        "p_left = T._add_left(p_root, 'R&D')\n",
        "p_right = T._add_right(p_root, 'sales')\n",
        "p_left_left = T._add_left(p_right, 'Domestic')\n",
        "p_right_right = T._add_right(p_right, 'International')"
      ],
      "metadata": {
        "id": "Sjjm51rUIuNN"
      },
      "execution_count": null,
      "outputs": []
    },
    {
      "cell_type": "code",
      "source": [
        "for p in T.preorder(): \n",
        "  print(p.element())"
      ],
      "metadata": {
        "colab": {
          "base_uri": "https://localhost:8080/"
        },
        "id": "WA4JjYh1MK_b",
        "outputId": "e72b7983-fc91-42d0-e115-60718ff00eb0"
      },
      "execution_count": null,
      "outputs": [
        {
          "output_type": "stream",
          "name": "stdout",
          "text": [
            "Electronics R’Us\n",
            "R&D\n",
            "sales\n",
            "Domestic\n",
            "International\n"
          ]
        }
      ]
    },
    {
      "cell_type": "code",
      "source": [
        "def preorder_indent(T, p, d):\n",
        "  print(2 * d * ' ' + str(p.element()))\n",
        "  for c in T.children(p):\n",
        "    preorder_indent(T, c, d+1)"
      ],
      "metadata": {
        "id": "QK3Y1OD7MbBK"
      },
      "execution_count": null,
      "outputs": []
    },
    {
      "cell_type": "code",
      "source": [
        "preorder_indent(T, T.root(), 0)"
      ],
      "metadata": {
        "colab": {
          "base_uri": "https://localhost:8080/"
        },
        "id": "RjtT5VO4NN_9",
        "outputId": "d2b234c3-8af4-465b-b09a-97e02b3438d7"
      },
      "execution_count": null,
      "outputs": [
        {
          "output_type": "stream",
          "name": "stdout",
          "text": [
            "Electronics R’Us\n",
            "  R&D\n",
            "  sales\n",
            "    Domestic\n",
            "    International\n"
          ]
        }
      ]
    },
    {
      "cell_type": "code",
      "source": [
        "def preorder_label(T, p, d, path):\n",
        "    \"\"\"Print labeled representation of subtree of T rooted at p at depth d.\"\"\"\n",
        "    label = '.'.join(str(j+1) for j in path)\n",
        "    print(2 * d * ' ' + label, p.element())\n",
        "    path.append(0)\n",
        "    for c in T.children(p):\n",
        "        preorder_label(T, c, d+1, path)\n",
        "        path[-1] += 1\n",
        "    path.pop()"
      ],
      "metadata": {
        "id": "NReBp7BJNUVi"
      },
      "execution_count": null,
      "outputs": []
    },
    {
      "cell_type": "code",
      "source": [
        "preorder_label(T, T.root(), 0, path=[])"
      ],
      "metadata": {
        "colab": {
          "base_uri": "https://localhost:8080/"
        },
        "id": "BQ4TzyYuO5A9",
        "outputId": "6fa698b4-1b09-4157-b731-2d1bfea9d44d"
      },
      "execution_count": null,
      "outputs": [
        {
          "output_type": "stream",
          "name": "stdout",
          "text": [
            " Electronics R’Us\n",
            "  1 R&D\n",
            "  2 sales\n",
            "    2.1 Domestic\n",
            "    2.2 International\n"
          ]
        }
      ]
    },
    {
      "cell_type": "code",
      "source": [
        "def parenthesize(t, p):\n",
        "    \"\"\"Print parenthesized representation of subtree of T rooted at p.\"\"\"\n",
        "    print(p.element(), end='')\n",
        "    if not T.is_leaf(p):\n",
        "        first_time = True\n",
        "        for c in T.children(p):\n",
        "            sep = ' (' if first_time else ', '\n",
        "            print(sep, end='')\n",
        "            first_time = False\n",
        "            parenthesize(t, c)\n",
        "        print(')', end='')"
      ],
      "metadata": {
        "id": "zoS3uDI6PLV8"
      },
      "execution_count": null,
      "outputs": []
    },
    {
      "cell_type": "code",
      "source": [
        "parenthesize(T, T.root())"
      ],
      "metadata": {
        "colab": {
          "base_uri": "https://localhost:8080/"
        },
        "id": "-3rHu6WjQ_c5",
        "outputId": "3fe0740e-ad0e-4222-d89f-3beed24a392e"
      },
      "execution_count": null,
      "outputs": [
        {
          "output_type": "stream",
          "name": "stdout",
          "text": [
            "Electronics R’Us (R&D, sales (Domestic, International))"
          ]
        }
      ]
    },
    {
      "cell_type": "code",
      "source": [
        "print('as')\n",
        "print('12asd', end='')"
      ],
      "metadata": {
        "colab": {
          "base_uri": "https://localhost:8080/"
        },
        "id": "EsUByeoiRCbE",
        "outputId": "b8aa271c-13e4-4870-f80d-c6287f8a3abd"
      },
      "execution_count": null,
      "outputs": [
        {
          "output_type": "stream",
          "name": "stdout",
          "text": [
            "as\n",
            "12asd"
          ]
        }
      ]
    },
    {
      "cell_type": "code",
      "source": [
        "class EulerTour:\n",
        "  def __init__(self, tree):\n",
        "    self._tree = tree\n",
        "  \n",
        "  def tree(self):\n",
        "    return self._tree\n",
        "  \n",
        "  def execute(self):\n",
        "    if len(self._tree) > 0:\n",
        "      return self._tour(self._tree.root(), 0, [])\n",
        "  \n",
        "  def _tour(self, p, d, path):\n",
        "    self._hook_previsit(p, d, path)\n",
        "    results = []\n",
        "    path.append(0)\n",
        "    for c in self._tree.children(p):\n",
        "      results.append(self._tour(c, d+1, path))\n",
        "      path[-1] += 1\n",
        "    path.pop()\n",
        "    answer = self._hook_postvisit(p, d, path, results)\n",
        "    return answer\n",
        "  \n",
        "  def _hook_previsit(self, p, d, path):\n",
        "    pass\n",
        "  \n",
        "  def _hook_postvisit(self, p,d,path, results):\n",
        "    pass"
      ],
      "metadata": {
        "id": "HQ_h_UzIRQtA"
      },
      "execution_count": null,
      "outputs": []
    },
    {
      "cell_type": "code",
      "source": [
        "class PreorderPrintIndentedTour(EulerTour): \n",
        "  def _hook_previsit(self, p, d, path): \n",
        "    print(2 * d * ' ' + str(p.element()))"
      ],
      "metadata": {
        "id": "HV3Iz32lXyxC"
      },
      "execution_count": null,
      "outputs": []
    },
    {
      "cell_type": "code",
      "source": [
        "PreorderPrintIndentedTour(T).execute()"
      ],
      "metadata": {
        "colab": {
          "base_uri": "https://localhost:8080/"
        },
        "id": "DiuiNZSaZLbA",
        "outputId": "6f8e9c09-0c77-491c-e4b2-d88730d8e34d"
      },
      "execution_count": null,
      "outputs": [
        {
          "output_type": "stream",
          "name": "stdout",
          "text": [
            "Electronics R’Us\n",
            "  R&D\n",
            "  sales\n",
            "    Domestic\n",
            "    International\n"
          ]
        }
      ]
    },
    {
      "cell_type": "code",
      "source": [
        "class PreorderPrintIndentedLabeledTour(EulerTour): \n",
        "  def _hook_previsit(self, p, d, path):\n",
        "    label = '.'.join(str(j+1) for j in path)\n",
        "    print(2 * d * ' ' + label, p.element())\n"
      ],
      "metadata": {
        "id": "Q9iP7R8PZSJT"
      },
      "execution_count": null,
      "outputs": []
    },
    {
      "cell_type": "code",
      "source": [
        "PreorderPrintIndentedLabeledTour(T).execute()"
      ],
      "metadata": {
        "colab": {
          "base_uri": "https://localhost:8080/"
        },
        "id": "suQdFB56Z1Lj",
        "outputId": "959f2bef-b629-4181-c288-26b03dbbd8f0"
      },
      "execution_count": null,
      "outputs": [
        {
          "output_type": "stream",
          "name": "stdout",
          "text": [
            " Electronics R’Us\n",
            "  1 R&D\n",
            "  2 sales\n",
            "    2.1 Domestic\n",
            "    2.2 International\n"
          ]
        }
      ]
    },
    {
      "cell_type": "code",
      "source": [
        "class ParenthesizeTour(EulerTour): \n",
        "  def _hook_previsit(self, p, d, path):\n",
        "    if path and path[-1] > 0: \n",
        "      print( ', ', end='')\n",
        "    print(p.element(), end='')\n",
        "    if not self.tree().is_leaf(p):\n",
        "      print(' (' , end='')\n",
        "  def _hook_postvisit(self, p, d, path, results):\n",
        "    if not self.tree().is_leaf(p):\n",
        "      print(')' , end='')\n"
      ],
      "metadata": {
        "id": "A4AhmOf2Z3eo"
      },
      "execution_count": null,
      "outputs": []
    },
    {
      "cell_type": "code",
      "source": [
        "ParenthesizeTour(T).execute()"
      ],
      "metadata": {
        "id": "neKehLLnazak",
        "outputId": "e4d48255-2466-419d-8005-049dfdb09e35",
        "colab": {
          "base_uri": "https://localhost:8080/"
        }
      },
      "execution_count": null,
      "outputs": [
        {
          "output_type": "stream",
          "name": "stdout",
          "text": [
            "Electronics R’Us (R&D, sales (Domestic, International))"
          ]
        }
      ]
    },
    {
      "cell_type": "code",
      "source": [
        "class BinaryEulerTour(EulerTour):\n",
        "  def _tour(self, p, d, path):\n",
        "    results = [None, None]\n",
        "    self._hook_previsit(p, d, path)\n",
        "    if self._tree.left(p) is not None:\n",
        "      path.append(0)\n",
        "      results[0] = self._tour(self._tree.left(p), d+1, path)\n",
        "      path.pop()\n",
        "    self._hook_invisit(p, d, path)\n",
        "    if self._tree.right(p) is not None:\n",
        "      path.append(1)\n",
        "      results[1] = self._tour(self._tree.right(p), d+1, path)\n",
        "      path.pop()\n",
        "    answer = self._hook_postvisit(p, d, path, results)\n",
        "    return answer"
      ],
      "metadata": {
        "id": "-Q8YTTkBa2en"
      },
      "execution_count": null,
      "outputs": []
    },
    {
      "cell_type": "code",
      "source": [
        "class BinaryLayout(BinaryEulerTour):\n",
        "  def __init__(self, tree):\n",
        "    super( ).__init__(tree)\n",
        "    self._count = 0\n",
        "  def _hook_invisit(self, p, d, path):\n",
        "    p.element().setX(self._count)\n",
        "    p.element().setY(d)\n",
        "    self._count += 1"
      ],
      "metadata": {
        "id": "Oo7h8AZ_W2Pg"
      },
      "execution_count": null,
      "outputs": []
    },
    {
      "cell_type": "code",
      "source": [
        "BinaryLayout(T)"
      ],
      "metadata": {
        "colab": {
          "base_uri": "https://localhost:8080/"
        },
        "id": "CcTl9Ql_jlir",
        "outputId": "6f2d45af-d483-4ca9-aa1a-663448ebca97"
      },
      "execution_count": null,
      "outputs": [
        {
          "output_type": "execute_result",
          "data": {
            "text/plain": [
              "<__main__.BinaryLayout at 0x7f44e1940790>"
            ]
          },
          "metadata": {},
          "execution_count": 38
        }
      ]
    },
    {
      "cell_type": "code",
      "source": [
        "class ExpressionTree(LinkedBinaryTree):\n",
        "    \"\"\"An arithmetic expression tree.\"\"\"\n",
        "    \n",
        "    def __init__(self, token, left=None, right=None):\n",
        "        \"\"\"Create an expression tree.\n",
        "        \n",
        "        In a single parameter form, token should be a leaf value (e.g., '42')\n",
        "        and the expression tree will have that value at an isolated node.\n",
        "        \n",
        "        In a three-parameter version, token should be an operator,\n",
        "        and left and right should be existing ExpressionTree instances\n",
        "        that become the operand for the binary operator.\n",
        "        \"\"\"\n",
        "        \n",
        "        super().__init__()\n",
        "        if not isinstance(token, str):\n",
        "            raise TypeError('Token must be a string')\n",
        "            \n",
        "        self._add_root(token)\n",
        "        if left is not None:\n",
        "            if token not in '+-*/x':\n",
        "                raise ValueError('Token must be a string')\n",
        "            self._attach(self.root(), left, right)\n",
        "        \n",
        "    def __str__(self):\n",
        "        \"\"\"Return string representation of the expression.\"\"\"\n",
        "        pieces = []\n",
        "        self._parenthesize_recur(self.root(), pieces)\n",
        "        return ''.join(pieces)\n",
        "    \n",
        "    def _parenthesize_recur(self, p, result):\n",
        "        \"\"\"Append piecewise representation of p's subtree to resulting list.\"\"\"\n",
        "        if self.is_leaf(p):\n",
        "            result.append(str(p.element()))\n",
        "        else:\n",
        "            result.append('(')\n",
        "            self._parenthesize_recur(self.left(p), result)\n",
        "            result.append(p.element())\n",
        "            self._parenthesize_recur(self.right(p), result)\n",
        "            result.append(')')\n",
        "    \n",
        "    \n",
        "    def evaluate(self):\n",
        "        \"\"\"Return the numeric result of the expression.\"\"\"\n",
        "        return self._evaluate_recur(self.root())\n",
        "\n",
        "    def _evaluate_recur(self, p):\n",
        "        \"\"\"Return the numeric result of subtree rooted at p.\"\"\"\n",
        "        if self.is_leaf(p):\n",
        "            return float(p.element())\n",
        "        else:\n",
        "            op = p.element()\n",
        "            left_val = self._evaluate_recur(self.left(p))\n",
        "            right_val = self._evaluate_recur(self.right(p))\n",
        "            if op == '+': return left_val + right_val\n",
        "            elif op == '-': return left_val - right_val\n",
        "            elif op == '/': return left_val / right_val\n",
        "            else: return left_val * right_val\n",
        "            "
      ],
      "metadata": {
        "id": "-20qVVTDjpc8"
      },
      "execution_count": null,
      "outputs": []
    },
    {
      "cell_type": "code",
      "source": [
        "def build_expression_tree(tokens):\n",
        "    \"\"\"Return an Expression Tree based upon by a tokenized expression.\"\"\"\n",
        "    S = []\n",
        "    for t in tokens:\n",
        "        if t in '+-x*/':\n",
        "            S.append(t)\n",
        "        elif t not in '()':\n",
        "            S.append(ExpressionTree(t))\n",
        "        elif t == ')':\n",
        "            right = S.pop()\n",
        "            op = S.pop()\n",
        "            left = S.pop()\n",
        "            S.append(ExpressionTree(op, left, right))\n",
        "            \n",
        "    return S.pop()"
      ],
      "metadata": {
        "id": "YPPhm521mMFU"
      },
      "execution_count": null,
      "outputs": []
    },
    {
      "cell_type": "code",
      "source": [
        "exp = '(((3+1)*4)/((9-5)+2))'\n",
        "exp_tree = build_expression_tree(exp)\n",
        "exp_tree, (((31+1)*4)/((9-5)+2))"
      ],
      "metadata": {
        "colab": {
          "base_uri": "https://localhost:8080/"
        },
        "id": "yWvXhWJbnqyh",
        "outputId": "781496a8-6ecd-42d7-ca86-ceb90d7a49ae"
      },
      "execution_count": null,
      "outputs": [
        {
          "output_type": "execute_result",
          "data": {
            "text/plain": [
              "(<__main__.ExpressionTree at 0x7f44e1948ca0>, 21.333333333333332)"
            ]
          },
          "metadata": {},
          "execution_count": 41
        }
      ]
    },
    {
      "cell_type": "code",
      "source": [
        "exp_tree.evaluate()"
      ],
      "metadata": {
        "colab": {
          "base_uri": "https://localhost:8080/"
        },
        "id": "ensPQXDZoNo8",
        "outputId": "be612006-8426-4ce6-f077-6efc51bd7521"
      },
      "execution_count": null,
      "outputs": [
        {
          "output_type": "execute_result",
          "data": {
            "text/plain": [
              "2.6666666666666665"
            ]
          },
          "metadata": {},
          "execution_count": 42
        }
      ]
    },
    {
      "cell_type": "code",
      "source": [
        "print(exp_tree)"
      ],
      "metadata": {
        "colab": {
          "base_uri": "https://localhost:8080/"
        },
        "id": "z6_CFbGvpT-T",
        "outputId": "a4a87e3b-624e-4ea9-e19c-1ffc09f5bf2a"
      },
      "execution_count": null,
      "outputs": [
        {
          "output_type": "stream",
          "name": "stdout",
          "text": [
            "(((3+1)*4)/((9-5)+2))\n"
          ]
        }
      ]
    },
    {
      "cell_type": "markdown",
      "source": [
        "# Reinforcement"
      ],
      "metadata": {
        "id": "_sGAK_fesFHa"
      }
    },
    {
      "cell_type": "code",
      "source": [
        "#@title R-8.5\n",
        "\n",
        "def count_left_leaf(T):\n",
        "  cnt = 0\n",
        "  for p in T.positions():\n",
        "    if T.is_leaf(p) and p == T.left(T.parent(p)):\n",
        "      cnt += 1\n",
        "  return cnt"
      ],
      "metadata": {
        "id": "0_ltiuUKrCv8"
      },
      "execution_count": null,
      "outputs": []
    },
    {
      "cell_type": "code",
      "source": [
        "#@title R-8.10\n",
        "def num_children(self, p):\n",
        "    count = 0\n",
        "    if self.left(p) is not None:\n",
        "      count += 1\n",
        "    if self.right(p) is not None:\n",
        "      count += 1\n",
        "    return count"
      ],
      "metadata": {
        "colab": {
          "base_uri": "https://localhost:8080/"
        },
        "id": "t3Ru7-l3rEhQ",
        "outputId": "1e47005b-a8c0-41b5-f60d-6278a5543c6b"
      },
      "execution_count": null,
      "outputs": [
        {
          "output_type": "execute_result",
          "data": {
            "text/plain": [
              "2"
            ]
          },
          "metadata": {},
          "execution_count": 58
        }
      ]
    },
    {
      "cell_type": "code",
      "source": [
        "#@title R-8.15\n",
        "class MutableLinkedBinaryTree(LinkedBinaryTree):\n",
        "\n",
        "  def add_root(self, e):\n",
        "    return self._add_root(e)\n",
        "  \n",
        "  def add_left(self, p, e):\n",
        "    return self._add_left(p, e)\n",
        "\n",
        "  def add_right(self, p, e):\n",
        "    return self._add_right(p, e)\n",
        "  \n",
        "  def delete(self, p):\n",
        "    return self._delete(p)\n",
        "  \n",
        "  def attach(self, p, t1, t2):\n",
        "    return self._attach(p, t1, t2)\n"
      ],
      "metadata": {
        "id": "llwX2SAX-VCz"
      },
      "execution_count": null,
      "outputs": []
    },
    {
      "cell_type": "code",
      "source": [
        "#@title R-8.17\n",
        "\n",
        "class EulerTour:\n",
        "  def __init__(self, tree):\n",
        "    self._tree = tree\n",
        "  \n",
        "  def tree(self):\n",
        "    return self._tree\n",
        "  \n",
        "  def execute(self):\n",
        "    if len(self._tree) > 0:\n",
        "      return self._tour(self._tree.root(), 0, 0)\n",
        "  \n",
        "  def _tour(self, p, d, l):\n",
        "    self._hook_previsit(p, d, l)\n",
        "    print('we are at depth: ', d)\n",
        "    for c in self._tree.children(p):\n",
        "      if c == self._tree.left(p):\n",
        "        results = self._tour(c, d+1, (2 * l) + 1)\n",
        "      if c == self._tree.right(p):\n",
        "        results = self._tour(c, d+1, (2 * l) + 2)\n",
        "  \n",
        "  def _hook_previsit(self, p, d, l):\n",
        "    pass\n",
        "  \n",
        "  def _hook_postvisit(self, p, d, l, results):\n",
        "    pass\n",
        "\n",
        "\n",
        "class LevelNumbering(EulerTour):\n",
        "  def _hook_previsit(self, p, d, l):\n",
        "    print(l)\n",
        "    return l\n"
      ],
      "metadata": {
        "id": "M9t-wmu606tT"
      },
      "execution_count": null,
      "outputs": []
    },
    {
      "cell_type": "code",
      "source": [
        "T = LinkedBinaryTree()\n",
        "p_root = T._add_root('Electronics R’Us')\n",
        "p_left = T._add_left(p_root, 'R&D')\n",
        "p_right = T._add_right(p_root, 'sales')\n",
        "p_left_left = T._add_left(p_right, 'Domestic')\n",
        "p_right_right = T._add_right(p_right, 'International')"
      ],
      "metadata": {
        "id": "ekNuzIibdDp_"
      },
      "execution_count": null,
      "outputs": []
    },
    {
      "cell_type": "code",
      "source": [
        "h = LevelNumbering(T)"
      ],
      "metadata": {
        "id": "XT84G8BVJM0x"
      },
      "execution_count": null,
      "outputs": []
    },
    {
      "cell_type": "code",
      "source": [
        "h.execute()"
      ],
      "metadata": {
        "colab": {
          "base_uri": "https://localhost:8080/"
        },
        "id": "xh32YkxLJN4C",
        "outputId": "ced0ffe1-8a3e-4a28-9062-eeb923655190"
      },
      "execution_count": null,
      "outputs": [
        {
          "output_type": "stream",
          "name": "stdout",
          "text": [
            "0\n",
            "we are at depth:  0\n",
            "1\n",
            "we are at depth:  1\n",
            "2\n",
            "we are at depth:  1\n",
            "5\n",
            "we are at depth:  2\n",
            "6\n",
            "we are at depth:  2\n"
          ]
        }
      ]
    },
    {
      "cell_type": "code",
      "source": [
        "#@title R-8.18\n",
        "def root(A):\n",
        "  \"\"\"This func returns the level numbering of the root of the tree represented by array A\"\"\"\n",
        "  if len(A) > 0:\n",
        "    return A[0]\n",
        "  \n",
        "def parent(A, p):\n",
        "  \"\"\" this func returns the index of parent of node at index p\"\"\"\n",
        "  if not p:\n",
        "    # p is root\n",
        "    return None\n",
        "  else:\n",
        "    left_level_num_parent = int((A[p]-1)/2)\n",
        "    right_level_num_parent = int((A[p]-2)/2)\n",
        "    if left_level_num_parent in A:\n",
        "      return A.index(left_level_num_parent)\n",
        "    if right_level_num_parent in A:\n",
        "      return A.index(right_level_num_parent) \n",
        "\n",
        "def left(A, p):\n",
        "  \"\"\"This func returns the left child of node with index p in array (if exists)\"\"\"\n",
        "  lvl_num = (2 * A[p]) + 1\n",
        "  if lvl_num in A:\n",
        "    return A.index(lvl_num)\n",
        "  else:\n",
        "    return None\n",
        "\n",
        "def right(A, p):\n",
        "  \"\"\"This func returns the right child of node with index p in array (if exists)\"\"\"\n",
        "  lvl_num = (2 * A[p]) + 2\n",
        "  if lvl_num in A:\n",
        "    return A.index(lvl_num)\n",
        "  else:\n",
        "    return None\n",
        "\n",
        "def is_leaf(A, p):\n",
        "  \"\"\"returns True if node at index p is a leaf\"\"\"\n",
        "  left_level_num_child = (2 * A[p]) + 1\n",
        "  right_level_num_child = (2 * A[p]) + 2\n",
        "  \n",
        "  return not ((left_level_num_child in A) or (right_level_num_child in A))\n",
        "\n",
        "def is_root(A, p):\n",
        "  \"\"\"returns True if node at index p is a root\"\"\"\n",
        "  \n",
        "  return A[p] == 0\n"
      ],
      "metadata": {
        "id": "iXQjcWfdJ89h"
      },
      "execution_count": null,
      "outputs": []
    },
    {
      "cell_type": "code",
      "source": [
        "A = [0, 1, 2, 5, 6]\n",
        "# A = [1, 3, 4, 9, 10]"
      ],
      "metadata": {
        "id": "uTS3efp7qL3_"
      },
      "execution_count": null,
      "outputs": []
    },
    {
      "cell_type": "code",
      "source": [
        "root(A)"
      ],
      "metadata": {
        "colab": {
          "base_uri": "https://localhost:8080/"
        },
        "id": "78Oc2k-2qPSI",
        "outputId": "0ee69902-d8ee-45af-8fff-bc71802c0bd0"
      },
      "execution_count": null,
      "outputs": [
        {
          "output_type": "execute_result",
          "data": {
            "text/plain": [
              "1"
            ]
          },
          "metadata": {},
          "execution_count": 124
        }
      ]
    },
    {
      "cell_type": "code",
      "source": [
        "parent(A, 4)"
      ],
      "metadata": {
        "colab": {
          "base_uri": "https://localhost:8080/"
        },
        "id": "GYhpnx4Ls62f",
        "outputId": "56c4d58b-a177-4f0f-c969-b7a69b85c549"
      },
      "execution_count": null,
      "outputs": [
        {
          "output_type": "execute_result",
          "data": {
            "text/plain": [
              "2"
            ]
          },
          "metadata": {},
          "execution_count": 125
        }
      ]
    },
    {
      "cell_type": "code",
      "source": [
        "left(A, 2)"
      ],
      "metadata": {
        "colab": {
          "base_uri": "https://localhost:8080/"
        },
        "id": "X5WmsjyKs9sm",
        "outputId": "330fb3bd-9220-4918-89dc-4b869a7ef42c"
      },
      "execution_count": null,
      "outputs": [
        {
          "output_type": "execute_result",
          "data": {
            "text/plain": [
              "3"
            ]
          },
          "metadata": {},
          "execution_count": 126
        }
      ]
    },
    {
      "cell_type": "code",
      "source": [
        "right(A, 2)"
      ],
      "metadata": {
        "colab": {
          "base_uri": "https://localhost:8080/"
        },
        "id": "ISiMJ5jVwbG5",
        "outputId": "c122d604-553e-493c-c4a6-38c4a51ba06e"
      },
      "execution_count": null,
      "outputs": [
        {
          "output_type": "execute_result",
          "data": {
            "text/plain": [
              "4"
            ]
          },
          "metadata": {},
          "execution_count": 127
        }
      ]
    },
    {
      "cell_type": "code",
      "source": [
        "is_leaf(A, 4)"
      ],
      "metadata": {
        "colab": {
          "base_uri": "https://localhost:8080/"
        },
        "id": "6Ub_xzyLuMPC",
        "outputId": "9afae254-1874-4190-e184-346eefda4f7c"
      },
      "execution_count": null,
      "outputs": [
        {
          "output_type": "execute_result",
          "data": {
            "text/plain": [
              "True"
            ]
          },
          "metadata": {},
          "execution_count": 128
        }
      ]
    },
    {
      "cell_type": "code",
      "source": [
        "is_root(A, 0)"
      ],
      "metadata": {
        "colab": {
          "base_uri": "https://localhost:8080/"
        },
        "id": "Ds7snqCRvAxc",
        "outputId": "3277b057-4e76-4b1b-a826-d36b43682911"
      },
      "execution_count": null,
      "outputs": [
        {
          "output_type": "execute_result",
          "data": {
            "text/plain": [
              "True"
            ]
          },
          "metadata": {},
          "execution_count": 130
        }
      ]
    },
    {
      "cell_type": "code",
      "source": [
        "#@title R-8.19\n",
        "\n",
        "def is_root(A, p):\n",
        "  \"\"\"returns True if node at index p is a root\"\"\"\n",
        "  \n",
        "  return A[p] == 1"
      ],
      "metadata": {
        "id": "gC-ILr1rvPzO"
      },
      "execution_count": null,
      "outputs": []
    },
    {
      "cell_type": "code",
      "source": [
        "#@title R-8.20\n",
        "  #       E\n",
        "  #     |   |\n",
        "  #     X   N\n",
        "  #    | |\n",
        "  #    A U\n",
        "  #   | |\n",
        "  #   M F \n"
      ],
      "metadata": {
        "id": "FovTS5-7v8Rm"
      },
      "execution_count": null,
      "outputs": []
    },
    {
      "cell_type": "code",
      "source": [
        "#@title R-8.26\n",
        "from collections import deque\n",
        "\n",
        "def breadthfirst(self):\n",
        "  \"\"\"Generate a breadth-first iteration of the positions of the tree.\"\"\"\n",
        "  if not self.is_empty():\n",
        "      fringe = deque()  # known positions not yet yielded\n",
        "      fringe.append(self.root())  # starting with the root\n",
        "      while not fringe.is_empty():\n",
        "          p = fringe.pop()  # remove from front of the queue\n",
        "          yield p  # report this position\n",
        "          for c in self.children(p): \n",
        "              fringe.append(c)  # add children to back of queue"
      ],
      "metadata": {
        "id": "QGWW_vIm2gMg"
      },
      "execution_count": null,
      "outputs": []
    },
    {
      "cell_type": "code",
      "source": [
        "#@title R-8.29\n",
        "class EulerTour:\n",
        "  def __init__(self, tree):\n",
        "    self._tree = tree\n",
        "  \n",
        "  def tree(self):\n",
        "    return self._tree\n",
        "  \n",
        "  def execute(self):\n",
        "    if len(self._tree) > 0:\n",
        "      return self._tour(self._tree.root(), 0, [])\n",
        "  \n",
        "  def _tour(self, p, d, path):\n",
        "    self._hook_previsit(p, d, path)\n",
        "    results = 0\n",
        "    path.append(0)\n",
        "    print('we are at depth: ', d)\n",
        "    for c in self._tree.children(p):\n",
        "      results += self._tour(c, d+1, path)\n",
        "      path[-1] += 1\n",
        "    path.pop()\n",
        "    answer = self._hook_postvisit(p, d, path, results)\n",
        "    return answer\n",
        "  \n",
        "  def _hook_previsit(self, p, d, path):\n",
        "    pass\n",
        "  \n",
        "  def _hook_postvisit(self, p, d, path, results):\n",
        "    pass\n",
        "\n",
        "\n",
        "class DescendantCount(EulerTour): \n",
        "  def _hook_postvisit(self, p, d, path, results):\n",
        "    print('result before: ', results, 'at depth: ', d)\n",
        "    results += self._tree.num_children(p)\n",
        "    print('number of descendant: ', results)\n",
        "    print('-----')\n",
        "    return results"
      ],
      "metadata": {
        "id": "Zj-8hayI5ohA"
      },
      "execution_count": null,
      "outputs": []
    },
    {
      "cell_type": "code",
      "source": [
        "T = LinkedBinaryTree()\n",
        "p_root = T._add_root('Electronics R’Us')\n",
        "p_left = T._add_left(p_root, 'R&D')\n",
        "p_right = T._add_right(p_root, 'sales')\n",
        "p_left_left = T._add_left(p_right, 'Domestic')\n",
        "p_right_right = T._add_right(p_right, 'International')"
      ],
      "metadata": {
        "id": "CGE_62099C65"
      },
      "execution_count": null,
      "outputs": []
    },
    {
      "cell_type": "code",
      "source": [
        "d = DescendantCount(T)"
      ],
      "metadata": {
        "id": "WCZVxL5B97_p"
      },
      "execution_count": null,
      "outputs": []
    },
    {
      "cell_type": "code",
      "source": [
        "d.execute()"
      ],
      "metadata": {
        "colab": {
          "base_uri": "https://localhost:8080/"
        },
        "id": "5K14yYOK-AgP",
        "outputId": "1de45ad1-e3dc-47f3-d450-574b41067462"
      },
      "execution_count": null,
      "outputs": [
        {
          "output_type": "stream",
          "name": "stdout",
          "text": [
            "we are at depth:  0\n",
            "we are at depth:  1\n",
            "result before:  0 at depth:  1\n",
            "number of descendant:  0\n",
            "-----\n",
            "we are at depth:  1\n",
            "we are at depth:  2\n",
            "result before:  0 at depth:  2\n",
            "number of descendant:  0\n",
            "-----\n",
            "we are at depth:  2\n",
            "result before:  0 at depth:  2\n",
            "number of descendant:  0\n",
            "-----\n",
            "result before:  0 at depth:  1\n",
            "number of descendant:  2\n",
            "-----\n",
            "result before:  2 at depth:  0\n",
            "number of descendant:  4\n",
            "-----\n"
          ]
        },
        {
          "output_type": "execute_result",
          "data": {
            "text/plain": [
              "4"
            ]
          },
          "metadata": {},
          "execution_count": 234
        }
      ]
    },
    {
      "cell_type": "code",
      "source": [
        "#@title R-8.30\n",
        "def tokenize(raw):\n",
        "  result = []\n",
        "  c = -1\n",
        "  for k in range(len(raw)):\n",
        "    if raw[k] in '(+-x*/)':\n",
        "      result.append(raw[k])\n",
        "    elif not raw[k] in ' ':\n",
        "      if k > c:\n",
        "        c = k\n",
        "        temp = []\n",
        "        while not raw[c] in  '(+-x*/) ':\n",
        "          temp.append(raw[c])\n",
        "          c += 1\n",
        "        result.append(''.join(temp))\n",
        "  return result"
      ],
      "metadata": {
        "id": "kNuPQgHb-uqt"
      },
      "execution_count": null,
      "outputs": []
    },
    {
      "cell_type": "code",
      "source": [
        "raw = '(3523 + 1204)'\n",
        "tokenize(raw)"
      ],
      "metadata": {
        "colab": {
          "base_uri": "https://localhost:8080/"
        },
        "id": "IdbqNCIaDR7J",
        "outputId": "bcab634a-fc55-41f1-c4bc-0836ffa6b52d"
      },
      "execution_count": null,
      "outputs": [
        {
          "output_type": "execute_result",
          "data": {
            "text/plain": [
              "['(', '3523', '+', '1204', ')']"
            ]
          },
          "metadata": {},
          "execution_count": 221
        }
      ]
    },
    {
      "cell_type": "markdown",
      "source": [
        "# Creativity\n"
      ],
      "metadata": {
        "id": "bWQesWBLFK2W"
      }
    },
    {
      "cell_type": "code",
      "source": [
        "#@title C-8.38\n",
        "class BinaryTree(Tree):\n",
        "  def left(self, p):\n",
        "    raise NotImplementedError('must be implemented by subclass')\n",
        "  \n",
        "  def right(self, p):\n",
        "    raise NotImplementedError('must be implemented by subclass')\n",
        "  \n",
        "  def sibling(self, p):\n",
        "    parent = self.parent(p)\n",
        "    if parent is None:\n",
        "      return None\n",
        "    else:\n",
        "      if p == self.left(parent):\n",
        "        return self.right(parent)\n",
        "      else:\n",
        "        return self.left(parent)\n",
        "  \n",
        "  def children(self, p):\n",
        "    \n",
        "    if self.left(p) is not None:\n",
        "      yield self.left(p)\n",
        "\n",
        "    if self.right(p) is not None:\n",
        "      yield self.right(p)\n",
        "\n",
        "  def num_children(self, p):\n",
        "    count = 0\n",
        "    if self.left(p) is not None:\n",
        "      count += 1\n",
        "    if self.right(p) is not None:\n",
        "      count += 1\n",
        "    return count\n",
        "\n",
        "\n",
        "\n",
        "\n",
        "\n",
        "class LinkedBinaryTree(BinaryTree):\n",
        "\n",
        "  class _Node:\n",
        "    __slot__ = '_element', '_parent', '_left', '_right'\n",
        "    def __init__(self, element, parent=None, left=None, right=None):\n",
        "      self._element = element\n",
        "      self._parent = parent\n",
        "      self._left = left\n",
        "      self._right = right\n",
        "  \n",
        "  class Position(BinaryTree.Position):\n",
        "    def __init__(self, container, node):\n",
        "      self._container = container\n",
        "      self._node = node\n",
        "    \n",
        "    def element(self):\n",
        "      return self._node._element\n",
        "    \n",
        "    def __eq__(self, other):\n",
        "      return type(other) == type(self) and other._node == self._node\n",
        "\n",
        "  def _validate(self, p):\n",
        "    if not isinstance(p, self.Position):\n",
        "      raise TypeError( 'p must be proper Position type' )\n",
        "    if p._container is not self:\n",
        "      raise ValueError( 'p does not belong to this container' )\n",
        "    if p._node._parent == p._node:\n",
        "      raise ValueError( 'p is no longer valid' )\n",
        "    \n",
        "    return p._node\n",
        "\n",
        "  def _make_position(self, node):\n",
        "    return self.Position(self, node) if node is not None else None\n",
        "\n",
        "  def __init__(self):\n",
        "    self._root = None\n",
        "    self._size = 0\n",
        "  \n",
        "  def __len__(self):\n",
        "    return self._size\n",
        "  \n",
        "  def root(self):\n",
        "    return self._make_position(self._root)\n",
        "  \n",
        "  def parent(self, p):\n",
        "    node = self._validate(p)\n",
        "    return self._make_position(node._parent)\n",
        "\n",
        "  def left(self, p):\n",
        "    node = self._validate(p)\n",
        "    return self._make_position(node._left)\n",
        "\n",
        "  def right(self, p):\n",
        "    node = self._validate(p)\n",
        "    return self._make_position(node._right)\n",
        "\n",
        "  def num_children(self, p):\n",
        "    node = self._validate(p)\n",
        "    count = 0\n",
        "    if node._left is not None:\n",
        "      count += 1\n",
        "    if node._right is not None:\n",
        "      count += 1\n",
        "    return count\n",
        "  \n",
        "  def _add_root(self, e):\n",
        "    if self._root is not None:\n",
        "      raise ValueError('There is already a root!')\n",
        "    self._root = self._Node(e)\n",
        "    self._size += 1\n",
        "    \n",
        "    return self._make_position(self._root)\n",
        "\n",
        "  def _add_left(self, p, e):\n",
        "    node = self._validate(p)\n",
        "    if node._left is not None:\n",
        "      raise ValueError(\"Left child exists!\")\n",
        "    self._size += 1\n",
        "    node._left = self._Node(e, node) \n",
        "    return self._make_position(node._left)\n",
        "\n",
        "  def _add_right(self, p, e):\n",
        "    node = self._validate(p)\n",
        "    if node._right is not None:\n",
        "      raise ValueError(\"Right child exists!\")\n",
        "    self._size += 1\n",
        "    node._right = self._Node(e, node) \n",
        "    return self._make_position(node._right)\n",
        "  \n",
        "  def repalce(self, p, e):\n",
        "    node = self._validate(p)\n",
        "    old_element = node._element\n",
        "    node._element = e\n",
        "    return old_element\n",
        "\n",
        "  def _delete(self, p):\n",
        "    \n",
        "    node = self._validate(p)\n",
        "    if self.num_children(p) == 2: raise ValueError('p has two children')\n",
        "    child = node._left if node._left else node._right\n",
        "\n",
        "    if child is not None:\n",
        "      child._parent = node._parent\n",
        "\n",
        "    if node is self._root:\n",
        "      self._root = child\n",
        "    else:\n",
        "      parent = node._parent\n",
        "      if node is parent._left:\n",
        "        parent._left = child\n",
        "      else:\n",
        "        parent._right = child\n",
        "    \n",
        "    self._size -= 1\n",
        "    node._parent = node\n",
        "    return node._element\n",
        "\n",
        "  def _attach(self, p, t1, t2):\n",
        "    node = self._validate(p)\n",
        "    if not self.is_leaf(p): raise ValueError( 'position must be leaf' )\n",
        "\n",
        "    if not type(self) is type(t1) is type(t2): \n",
        "      raise TypeError( 'Tree types must match' )\n",
        "    \n",
        "    self._size += len(t1) + len(t2)\n",
        "\n",
        "    if not t1.is_empty():\n",
        "      t1._root._parent = node\n",
        "      node._left = t1._root\n",
        "      t1._root = None \n",
        "      t1.size=0\n",
        "    \n",
        "    if not t2.is_empty():\n",
        "      t2._root._parent = node\n",
        "      node._right = t2._root\n",
        "      t2._root = None \n",
        "      t2.size=0\n",
        "\n",
        "  def inorde(self):\n",
        "    if not self.is_empty():\n",
        "      for p in self._subtree_inorder(self._root):\n",
        "        yield p\n",
        "  \n",
        "  def _subtree_inorder(self, p):\n",
        "    if self.left(p) is not None:\n",
        "      for other in self._subtree_inorder(self.left(p)):\n",
        "        yield other\n",
        "      yield p\n",
        "    if self.right(p) is not None:\n",
        "      for other in self._subtree_inorder(self.right(p)):\n",
        "        yield other\n",
        "\n",
        "  def _delete_subtree(self, p):\n",
        "    \"\"\"remove the subtree rooted at node positioned at p while maintain the size\"\"\"\n",
        "\n",
        "    node = self._validate(p)\n",
        "\n",
        "    #firstly, total number of descendant of node p should be counted (plus one to include itself)\n",
        "    tot_num_desc = self.num_desc(p) + 1\n",
        "\n",
        "    self._size -= tot_num_desc\n",
        "\n",
        "    if node is self._root:\n",
        "      self._root = None\n",
        "\n",
        "    parent = node._parent\n",
        "\n",
        "    #cut the connection between node and its parent\n",
        "    if node is parent._left:\n",
        "      parent._left = None\n",
        "    else:\n",
        "      parent._right = None\n",
        "\n",
        "    return node._element\n",
        "\n",
        "      \n",
        "  def num_desc(self, p):   \n",
        "    \"\"\"count total number of descendant for node at position p\"\"\"\n",
        "    \n",
        "    num_desc = self.num_children(p)\n",
        "\n",
        "    for c in self.children(p):\n",
        "      num_desc += self.num_desc(c)\n",
        "\n",
        "    answer = num_desc\n",
        "    return answer \n",
        "\n",
        "\n",
        "  def _swap(self, p, q):\n",
        "\n",
        "    node_p = self._validate(p)\n",
        "    node_q = self._validate(q)\n",
        "\n",
        "    parent_p = node_p._parent\n",
        "    lef_p = node_p._left\n",
        "    right_p = node_p._right\n",
        "\n",
        "\n",
        "    parent_q = node_q._parent\n",
        "    lef_q = node_q._left\n",
        "    right_q = node_q._right\n",
        "\n",
        "    if node_q is parent_q._left:\n",
        "      parent_q._left = node_p\n",
        "    else:\n",
        "      parent_q._right = node_p\n",
        "\n",
        "\n",
        "    #apply the swap on the parents' side\n",
        "    if node_p is parent_p._left:\n",
        "      parent_p._left = node_q\n",
        "    else:\n",
        "      parent_p._right = node_q\n",
        "    \n",
        "    #apply the swap on the children's side\n",
        "    node_p._parent = parent_q\n",
        "    node_p._left = lef_q\n",
        "    node_p._right = right_q\n",
        "\n",
        "    node_q._parent = parent_p\n",
        "    node_q._left = lef_p\n",
        "    node_q._right = right_p\n",
        "  "
      ],
      "metadata": {
        "id": "We04EP5lGxw_"
      },
      "execution_count": null,
      "outputs": []
    },
    {
      "cell_type": "code",
      "source": [
        "T = LinkedBinaryTree()\n",
        "p_root = T._add_root('Electronics R’Us')\n",
        "p_left = T._add_left(p_root, 'R&D')\n",
        "p_right = T._add_right(p_root, 'sales')\n",
        "p_left_left = T._add_left(p_right, 'Domestic')\n",
        "p_right_right = T._add_right(p_right, 'International')"
      ],
      "metadata": {
        "id": "W9Uiz33_c8or"
      },
      "execution_count": null,
      "outputs": []
    },
    {
      "cell_type": "code",
      "source": [],
      "metadata": {
        "id": "i6qM6ZvHPjvE"
      },
      "execution_count": null,
      "outputs": []
    },
    {
      "cell_type": "code",
      "source": [
        "len(T)"
      ],
      "metadata": {
        "colab": {
          "base_uri": "https://localhost:8080/"
        },
        "id": "rgbAQPS6jO0X",
        "outputId": "21d7643a-a160-4036-9fa6-85a865c26431"
      },
      "execution_count": null,
      "outputs": [
        {
          "output_type": "execute_result",
          "data": {
            "text/plain": [
              "5"
            ]
          },
          "metadata": {},
          "execution_count": 164
        }
      ]
    },
    {
      "cell_type": "code",
      "source": [
        "T._delete_subtree(p_right)"
      ],
      "metadata": {
        "colab": {
          "base_uri": "https://localhost:8080/",
          "height": 37
        },
        "id": "RX2dbMjjebJr",
        "outputId": "a4345b48-0263-4381-ef52-81e888bad848"
      },
      "execution_count": null,
      "outputs": [
        {
          "output_type": "execute_result",
          "data": {
            "text/plain": [
              "'sales'"
            ],
            "application/vnd.google.colaboratory.intrinsic+json": {
              "type": "string"
            }
          },
          "metadata": {},
          "execution_count": 132
        }
      ]
    },
    {
      "cell_type": "code",
      "source": [
        "len(T)"
      ],
      "metadata": {
        "colab": {
          "base_uri": "https://localhost:8080/"
        },
        "id": "Pn5pGRV8elaS",
        "outputId": "5070f476-a1bb-4a4c-c732-f265bfaa710c"
      },
      "execution_count": null,
      "outputs": [
        {
          "output_type": "execute_result",
          "data": {
            "text/plain": [
              "2"
            ]
          },
          "metadata": {},
          "execution_count": 133
        }
      ]
    },
    {
      "cell_type": "code",
      "source": [
        "p_root = T.root()\n",
        "T.num_children(p_root)"
      ],
      "metadata": {
        "colab": {
          "base_uri": "https://localhost:8080/"
        },
        "id": "Yk1iBNUljcZP",
        "outputId": "2158015f-f64a-48f0-998b-e848e64fec96"
      },
      "execution_count": null,
      "outputs": [
        {
          "output_type": "execute_result",
          "data": {
            "text/plain": [
              "1"
            ]
          },
          "metadata": {},
          "execution_count": 134
        }
      ]
    },
    {
      "cell_type": "code",
      "source": [
        "#@title C-8.39\n",
        "#refer to solution of C-8.38 for implementation details\n",
        "\n",
        "T = LinkedBinaryTree()\n",
        "p_root = T._add_root('Electronics R’Us')\n",
        "p_left = T._add_left(p_root, 'R&D')\n",
        "p_right = T._add_right(p_root, 'sales')\n",
        "p_left_left = T._add_left(p_right, 'Domestic')\n",
        "p_right_right = T._add_right(p_right, 'International')"
      ],
      "metadata": {
        "id": "Sb-hEuI2j-tA"
      },
      "execution_count": null,
      "outputs": []
    },
    {
      "cell_type": "code",
      "source": [
        "T.left(T.root()).element(), T.right(T.root()).element()"
      ],
      "metadata": {
        "colab": {
          "base_uri": "https://localhost:8080/"
        },
        "id": "46UzvrABoqIk",
        "outputId": "94d04db0-8b07-42f2-85d6-46b6daba243f"
      },
      "execution_count": null,
      "outputs": [
        {
          "output_type": "execute_result",
          "data": {
            "text/plain": [
              "('R&D', 'sales')"
            ]
          },
          "metadata": {},
          "execution_count": 194
        }
      ]
    },
    {
      "cell_type": "code",
      "source": [
        "T._swap(p_left, p_right)"
      ],
      "metadata": {
        "id": "3NtGxdjzndup"
      },
      "execution_count": null,
      "outputs": []
    },
    {
      "cell_type": "code",
      "source": [
        "T.left(T.root()).element(), T.right(T.root()).element()"
      ],
      "metadata": {
        "colab": {
          "base_uri": "https://localhost:8080/"
        },
        "id": "4wmWy5xyn1LV",
        "outputId": "8751e539-aca5-46b9-886d-431dc06f770c"
      },
      "execution_count": null,
      "outputs": [
        {
          "output_type": "execute_result",
          "data": {
            "text/plain": [
              "('sales', 'R&D')"
            ]
          },
          "metadata": {},
          "execution_count": 196
        }
      ]
    },
    {
      "cell_type": "code",
      "source": [
        "#@title C-8.44\n",
        "class EulerTour:\n",
        "  def __init__(self, tree):\n",
        "    self._tree = tree\n",
        "  \n",
        "  def tree(self):\n",
        "    return self._tree\n",
        "  \n",
        "  def execute(self):\n",
        "    if len(self._tree) > 0:\n",
        "      return self._tour(self._tree.root(), 0, 0)\n",
        "  \n",
        "  def _tour(self, p, d, h):\n",
        "    \n",
        "    for c in self._tree.children(p):\n",
        "      h =  self._tour(c, d+1, h)\n",
        "      \n",
        "    answer = self._hook_postvisit(p, h)\n",
        "    \n",
        "    return answer\n",
        "  \n",
        "  def _hook_previsit(self, p, d, path):\n",
        "    pass\n",
        "  \n",
        "  def _hook_postvisit(self, p, h):\n",
        "    pass\n",
        "\n",
        "\n",
        "class HeightCount(EulerTour): \n",
        "  def _hook_postvisit(self, p, h):\n",
        "    print(\"The element of node is: \", p.element())\n",
        "    if T.is_leaf(p):\n",
        "      h = 0\n",
        "      print('The hight is: ', h)\n",
        "      return 0\n",
        "    else:\n",
        "      h += 1\n",
        "      print('The hight is: ', h)\n",
        "      return h"
      ],
      "metadata": {
        "id": "TNt--p4xoTHc"
      },
      "execution_count": null,
      "outputs": []
    },
    {
      "cell_type": "code",
      "source": [
        "T = LinkedBinaryTree()\n",
        "p_root = T._add_root('Electronics R’Us')\n",
        "p_left = T._add_left(p_root, 'R&D')\n",
        "p_right = T._add_right(p_root, 'sales')\n",
        "p_left_left = T._add_left(p_right, 'Domestic')\n",
        "p_right_right = T._add_right(p_right, 'International')\n",
        "\n",
        "p_left_left_left = T._add_left(p_right_right, 'Canada ')\n",
        "p_right_right_right = T._add_right(p_right_right, 'USA')"
      ],
      "metadata": {
        "id": "vssNBsstDZjC"
      },
      "execution_count": null,
      "outputs": []
    },
    {
      "cell_type": "code",
      "source": [
        "d = HeightCount(T)"
      ],
      "metadata": {
        "id": "-w0lH17ZGBvJ"
      },
      "execution_count": null,
      "outputs": []
    },
    {
      "cell_type": "code",
      "source": [
        "d.execute()"
      ],
      "metadata": {
        "colab": {
          "base_uri": "https://localhost:8080/"
        },
        "id": "R1cjGTqCGJC7",
        "outputId": "43520b49-453c-44cd-9bc7-06e9f82ab094"
      },
      "execution_count": null,
      "outputs": [
        {
          "output_type": "stream",
          "name": "stdout",
          "text": [
            "The element of node is:  R&D\n",
            "The hight is:  0\n",
            "The element of node is:  Domestic\n",
            "The hight is:  0\n",
            "The element of node is:  Canada \n",
            "The hight is:  0\n",
            "The element of node is:  USA\n",
            "The hight is:  0\n",
            "The element of node is:  International\n",
            "The hight is:  1\n",
            "The element of node is:  sales\n",
            "The hight is:  2\n",
            "The element of node is:  Electronics R’Us\n",
            "The hight is:  3\n"
          ]
        },
        {
          "output_type": "execute_result",
          "data": {
            "text/plain": [
              "3"
            ]
          },
          "metadata": {},
          "execution_count": 393
        }
      ]
    },
    {
      "cell_type": "code",
      "source": [
        "#@title C-8.45\n",
        "class EulerTour:\n",
        "  def __init__(self, tree):\n",
        "    self._tree = tree\n",
        "  \n",
        "  def tree(self):\n",
        "    return self._tree\n",
        "  \n",
        "  def execute(self):\n",
        "    if len(self._tree) > 0:\n",
        "      return self._tour(self._tree.root(), 0,)\n",
        "  \n",
        "  def _tour(self, p, d):\n",
        "    \n",
        "    for c in self._tree.children(p):\n",
        "      self._tour(c, d+1)\n",
        "      \n",
        "    self._hook_postvisit(p, d)\n",
        "\n",
        "    \n",
        "  \n",
        "  def _hook_previsit(self, p):\n",
        "    pass\n",
        "  \n",
        "  def _hook_postvisit(self, p, d):\n",
        "    pass\n",
        "\n",
        "\n",
        "class DepthCount(EulerTour): \n",
        "  def _hook_postvisit(self, p, d):\n",
        "    print('the depth of node with element {0} is: {1}'.format(p.element(), d))"
      ],
      "metadata": {
        "id": "x2CxQfQDGLq8"
      },
      "execution_count": null,
      "outputs": []
    },
    {
      "cell_type": "code",
      "source": [
        "d = DepthCount(T)"
      ],
      "metadata": {
        "id": "eaZFaSl7jpOv"
      },
      "execution_count": null,
      "outputs": []
    },
    {
      "cell_type": "code",
      "source": [
        "d.execute()"
      ],
      "metadata": {
        "colab": {
          "base_uri": "https://localhost:8080/"
        },
        "id": "p3p5KvspjsQU",
        "outputId": "d1ba49c6-5d1b-40e2-cd32-7143cf55dd2e"
      },
      "execution_count": null,
      "outputs": [
        {
          "output_type": "stream",
          "name": "stdout",
          "text": [
            "the depth of node with element R&D is: 1\n",
            "the depth of node with element Domestic is: 2\n",
            "the depth of node with element Canada  is: 3\n",
            "the depth of node with element USA is: 3\n",
            "the depth of node with element International is: 2\n",
            "the depth of node with element sales is: 1\n",
            "the depth of node with element Electronics R’Us is: 0\n"
          ]
        }
      ]
    },
    {
      "cell_type": "code",
      "source": [
        "#@title C-8.46\n",
        "class EulerTour:\n",
        "  def __init__(self, tree):\n",
        "    self._tree = tree\n",
        "  \n",
        "  def tree(self):\n",
        "    return self._tree\n",
        "  \n",
        "  def execute(self):\n",
        "    if len(self._tree) > 0:\n",
        "      return self._tour(self._tree.root(), 0, 0)\n",
        "  \n",
        "  def _tour(self, p, d, max_depth):\n",
        "    \n",
        "    for c in self._tree.children(p):\n",
        "      max_depth = self._tour(c, d+1, max_depth)\n",
        "      \n",
        "    max_depth += self._hook_postvisit(p, d)\n",
        "\n",
        "    return max_depth\n",
        "  \n",
        "  def _hook_previsit(self, p):\n",
        "    pass\n",
        "  \n",
        "  def _hook_postvisit(self, p, d):\n",
        "    pass\n",
        "\n",
        "\n",
        "class PathLength(EulerTour): \n",
        "  def _hook_postvisit(self, p, d):\n",
        "    # print('the depth of node with element {0} is: {1}'.format(p.element(), d))\n",
        "    return d"
      ],
      "metadata": {
        "id": "Ayx3Wo2zjtoo"
      },
      "execution_count": null,
      "outputs": []
    },
    {
      "cell_type": "code",
      "source": [
        "d = PathLength(T)\n",
        "d.execute()"
      ],
      "metadata": {
        "colab": {
          "base_uri": "https://localhost:8080/",
          "height": 181
        },
        "id": "Np7tNGs0nBQi",
        "outputId": "3e960046-e2f4-47a2-cda0-d7a222906e3b"
      },
      "execution_count": null,
      "outputs": [
        {
          "output_type": "error",
          "ename": "NameError",
          "evalue": "ignored",
          "traceback": [
            "\u001b[0;31m---------------------------------------------------------------------------\u001b[0m",
            "\u001b[0;31mNameError\u001b[0m                                 Traceback (most recent call last)",
            "\u001b[0;32m<ipython-input-2-66d78dac7cdc>\u001b[0m in \u001b[0;36m<module>\u001b[0;34m\u001b[0m\n\u001b[0;32m----> 1\u001b[0;31m \u001b[0md\u001b[0m \u001b[0;34m=\u001b[0m \u001b[0mPathLength\u001b[0m\u001b[0;34m(\u001b[0m\u001b[0mT\u001b[0m\u001b[0;34m)\u001b[0m\u001b[0;34m\u001b[0m\u001b[0;34m\u001b[0m\u001b[0m\n\u001b[0m\u001b[1;32m      2\u001b[0m \u001b[0md\u001b[0m\u001b[0;34m.\u001b[0m\u001b[0mexecute\u001b[0m\u001b[0;34m(\u001b[0m\u001b[0;34m)\u001b[0m\u001b[0;34m\u001b[0m\u001b[0;34m\u001b[0m\u001b[0m\n",
            "\u001b[0;31mNameError\u001b[0m: name 'T' is not defined"
          ]
        }
      ]
    },
    {
      "cell_type": "code",
      "source": [
        "#@title C-8.47\n"
      ],
      "metadata": {
        "id": "LShwMZH7nE5w"
      },
      "execution_count": null,
      "outputs": []
    },
    {
      "cell_type": "code",
      "source": [
        "#@title C-8.50\n",
        "class Tree:\n",
        "  \"\"\"Abstract base class represents the Tree structure\"\"\"\n",
        "  class Position:\n",
        "    \n",
        "    def element(self):\n",
        "      raise NotImplementedError('must be implemented by subclass')\n",
        "    \n",
        "    def __eq__(self):\n",
        "      raise NotImplementedError('must be implemented by subclass')\n",
        "    \n",
        "    def __ne__(self, other):\n",
        "      return not (self==other)\n",
        "\n",
        "  \n",
        "  def root(self):\n",
        "    raise NotImplementedError('must be implemented by subclass')\n",
        "  \n",
        "  def parent(self, p):\n",
        "    raise NotImplementedError('must be implemented by subclass')\n",
        "\n",
        "  def num_children(self, p):\n",
        "    raise NotImplementedError('must be implemented by subclass')\n",
        "  \n",
        "  def children(self, p):\n",
        "    raise NotImplementedError('must be implemented by subclass')\n",
        "\n",
        "  def __len__(self):\n",
        "    raise NotImplementedError('must be implemented by subclass')\n",
        "\n",
        "  def is_root(self, p):\n",
        "    return self.root() == p\n",
        "  \n",
        "  def is_leaf(self, p):\n",
        "    return self.num_children(p) == 0\n",
        "  \n",
        "  def is_empty(self):\n",
        "    return len(self) == 0\n",
        "\n",
        "  def __iter__(self):\n",
        "    \"\"\"Generate an iteration of the tree's elements.\"\"\"\n",
        "    for p in self.positions():\n",
        "      yield p.element()\n",
        "  \n",
        "  def preorder(self):\n",
        "    \"\"\"Genertate a preorder iteration of positions in the tree.\"\"\"\n",
        "    if not self.is_empty():\n",
        "        for p in self._subtree_preorder(self.root()):\n",
        "            yield p\n",
        "\n",
        "  def preorder_next(self, p):\n",
        "    node = self._validate(p)\n",
        "    perv_node = None\n",
        "    for c in self.preorder():\n",
        "\n",
        "      if perv_node is node:\n",
        "        return self._make_position(self._validate(c))\n",
        "\n",
        "      perv_node = self._validate(c)\n",
        "\n",
        "\n",
        "  \n",
        "  def _subtree_preorder(self, p):\n",
        "    \"\"\"Generate a preorder iteration of positions in subtree rooted at p.\"\"\"\n",
        "    yield p\n",
        "    for c in self.children(p):\n",
        "        for other in self._subtree_preorder(c):\n",
        "            yield other\n",
        "\n",
        "  def positions(self):\n",
        "    \"\"\"Generate an iteration of the tree's positions.\n",
        "      Here, we set the traverse algorithm to preorder traversal algorithm.\n",
        "    \"\"\"\n",
        "    return self.preorder()\n",
        "\n",
        "  \n",
        "  def postorder(self):\n",
        "    \"\"\"Generate a postorder iteration of positions in the tree.\"\"\"\n",
        "    if not self.is_empty():\n",
        "        for p in self._subtree_postorder(self.root()):\n",
        "            yield p\n",
        "\n",
        "\n",
        "  def _subtree_postorder(self, p):\n",
        "    \"\"\"Generate a postorder iteration of postiions in subtree rooted at p.\"\"\"\n",
        "    for c in self.children(p):\n",
        "        for other in self._subtree_postorder(c):\n",
        "            yield other\n",
        "        yield p\n",
        "\n",
        "  def postorder_next(self, p):\n",
        "    node = self._validate(p)\n",
        "    perv_node = None\n",
        "    for c in self.postorder():\n",
        "\n",
        "      if perv_node is node:\n",
        "        return self._make_position(self._validate(c))\n",
        "\n",
        "      perv_node = self._validate(c)\n",
        "\n",
        "  \n",
        "\n",
        "  def inorder(self):\n",
        "    if not self.is_empty():\n",
        "      for p in self._subtree_inorder(self._root):\n",
        "        yield p\n",
        "  \n",
        "  def _subtree_inorder(self, p):\n",
        "    if self.left(p) is not None:\n",
        "      for other in self._subtree_inorder(self.left(p)):\n",
        "        yield other\n",
        "    yield p\n",
        "    if self.right(p) is not None:\n",
        "      for other in self._subtree_inorder(self.right(p)):\n",
        "        yield other\n",
        "\n",
        "  def inorder_next(self, p):\n",
        "    node = self._validate(p)\n",
        "    perv_node = None\n",
        "    for c in self.inorder():\n",
        "\n",
        "      if perv_node is node:\n",
        "        return self._make_position(self._validate(c))\n",
        "\n",
        "      perv_node = self._validate(c)\n",
        "\n",
        "  def breadthfirst(self):\n",
        "    \"\"\"Generate a breadth-first iteration of the positions of the tree.\"\"\"\n",
        "    if not self.is_empty():\n",
        "        fringe = LinkedQueue()  # known positions not yet yielded\n",
        "        fringe.enqueue(self.root())  # starting with the root\n",
        "        while not fringe.is_empty():\n",
        "            p = fringe.dequeue()  # remove from front of the queue\n",
        "            yield p  # report this position\n",
        "            for c in self.children(p): \n",
        "                fringe.enqueue(c)  # add children to back of queue"
      ],
      "metadata": {
        "id": "ePSl6dXyJVZQ"
      },
      "execution_count": null,
      "outputs": []
    },
    {
      "cell_type": "code",
      "source": [],
      "metadata": {
        "id": "J4VzbZ3LNY11"
      },
      "execution_count": null,
      "outputs": []
    },
    {
      "cell_type": "code",
      "source": [],
      "metadata": {
        "id": "9Oy0J6gINkYR"
      },
      "execution_count": null,
      "outputs": []
    },
    {
      "cell_type": "code",
      "source": [
        "T = LinkedBinaryTree()\n",
        "p_root = T._add_root('Electronics R’Us')\n",
        "p_left = T._add_left(p_root, 'R&D')\n",
        "p_right = T._add_right(p_root, 'sales')\n",
        "p_left_left = T._add_left(p_right, 'Domestic')\n",
        "p_right_right = T._add_right(p_right, 'International')\n",
        "\n",
        "p_left_left_left = T._add_left(p_right_right, 'Canada ')\n",
        "p_right_right_right = T._add_right(p_right_right, 'USA')"
      ],
      "metadata": {
        "id": "Gk5mvBLyNnfT"
      },
      "execution_count": null,
      "outputs": []
    },
    {
      "cell_type": "code",
      "source": [
        "T.preorder_next(p_root).element()"
      ],
      "metadata": {
        "colab": {
          "base_uri": "https://localhost:8080/",
          "height": 37
        },
        "id": "5tPbjH0BOXrI",
        "outputId": "7cb38cba-27ca-4d8e-8529-15d560cc27df"
      },
      "execution_count": null,
      "outputs": [
        {
          "output_type": "execute_result",
          "data": {
            "text/plain": [
              "'R&D'"
            ],
            "application/vnd.google.colaboratory.intrinsic+json": {
              "type": "string"
            }
          },
          "metadata": {},
          "execution_count": 117
        }
      ]
    },
    {
      "cell_type": "code",
      "source": [
        "T.inorder_next(p_right_right).element()"
      ],
      "metadata": {
        "colab": {
          "base_uri": "https://localhost:8080/",
          "height": 307
        },
        "id": "bHtCmLr1Oltd",
        "outputId": "a03dba0b-53a6-4818-a714-cad358eb800e"
      },
      "execution_count": null,
      "outputs": [
        {
          "output_type": "error",
          "ename": "TypeError",
          "evalue": "ignored",
          "traceback": [
            "\u001b[0;31m---------------------------------------------------------------------------\u001b[0m",
            "\u001b[0;31mTypeError\u001b[0m                                 Traceback (most recent call last)",
            "\u001b[0;32m<ipython-input-118-65276d96d2f3>\u001b[0m in \u001b[0;36m<module>\u001b[0;34m\u001b[0m\n\u001b[0;32m----> 1\u001b[0;31m \u001b[0mT\u001b[0m\u001b[0;34m.\u001b[0m\u001b[0minorder_next\u001b[0m\u001b[0;34m(\u001b[0m\u001b[0mp_right_right\u001b[0m\u001b[0;34m)\u001b[0m\u001b[0;34m.\u001b[0m\u001b[0melement\u001b[0m\u001b[0;34m(\u001b[0m\u001b[0;34m)\u001b[0m\u001b[0;34m\u001b[0m\u001b[0;34m\u001b[0m\u001b[0m\n\u001b[0m",
            "\u001b[0;32m<ipython-input-113-9feb1fcace35>\u001b[0m in \u001b[0;36minorder_next\u001b[0;34m(self, p)\u001b[0m\n\u001b[1;32m    118\u001b[0m     \u001b[0mnode\u001b[0m \u001b[0;34m=\u001b[0m \u001b[0mself\u001b[0m\u001b[0;34m.\u001b[0m\u001b[0m_validate\u001b[0m\u001b[0;34m(\u001b[0m\u001b[0mp\u001b[0m\u001b[0;34m)\u001b[0m\u001b[0;34m\u001b[0m\u001b[0;34m\u001b[0m\u001b[0m\n\u001b[1;32m    119\u001b[0m     \u001b[0mperv_node\u001b[0m \u001b[0;34m=\u001b[0m \u001b[0;32mNone\u001b[0m\u001b[0;34m\u001b[0m\u001b[0;34m\u001b[0m\u001b[0m\n\u001b[0;32m--> 120\u001b[0;31m     \u001b[0;32mfor\u001b[0m \u001b[0mc\u001b[0m \u001b[0;32min\u001b[0m \u001b[0mself\u001b[0m\u001b[0;34m.\u001b[0m\u001b[0minorder\u001b[0m\u001b[0;34m(\u001b[0m\u001b[0;34m)\u001b[0m\u001b[0;34m:\u001b[0m\u001b[0;34m\u001b[0m\u001b[0;34m\u001b[0m\u001b[0m\n\u001b[0m\u001b[1;32m    121\u001b[0m \u001b[0;34m\u001b[0m\u001b[0m\n\u001b[1;32m    122\u001b[0m       \u001b[0;32mif\u001b[0m \u001b[0mperv_node\u001b[0m \u001b[0;32mis\u001b[0m \u001b[0mnode\u001b[0m\u001b[0;34m:\u001b[0m\u001b[0;34m\u001b[0m\u001b[0;34m\u001b[0m\u001b[0m\n",
            "\u001b[0;32m<ipython-input-113-9feb1fcace35>\u001b[0m in \u001b[0;36minorder\u001b[0;34m(self)\u001b[0m\n\u001b[1;32m    103\u001b[0m   \u001b[0;32mdef\u001b[0m \u001b[0minorder\u001b[0m\u001b[0;34m(\u001b[0m\u001b[0mself\u001b[0m\u001b[0;34m)\u001b[0m\u001b[0;34m:\u001b[0m\u001b[0;34m\u001b[0m\u001b[0;34m\u001b[0m\u001b[0m\n\u001b[1;32m    104\u001b[0m     \u001b[0;32mif\u001b[0m \u001b[0;32mnot\u001b[0m \u001b[0mself\u001b[0m\u001b[0;34m.\u001b[0m\u001b[0mis_empty\u001b[0m\u001b[0;34m(\u001b[0m\u001b[0;34m)\u001b[0m\u001b[0;34m:\u001b[0m\u001b[0;34m\u001b[0m\u001b[0;34m\u001b[0m\u001b[0m\n\u001b[0;32m--> 105\u001b[0;31m       \u001b[0;32mfor\u001b[0m \u001b[0mp\u001b[0m \u001b[0;32min\u001b[0m \u001b[0mself\u001b[0m\u001b[0;34m.\u001b[0m\u001b[0m_subtree_inorder\u001b[0m\u001b[0;34m(\u001b[0m\u001b[0mself\u001b[0m\u001b[0;34m.\u001b[0m\u001b[0m_root\u001b[0m\u001b[0;34m)\u001b[0m\u001b[0;34m:\u001b[0m\u001b[0;34m\u001b[0m\u001b[0;34m\u001b[0m\u001b[0m\n\u001b[0m\u001b[1;32m    106\u001b[0m         \u001b[0;32myield\u001b[0m \u001b[0mp\u001b[0m\u001b[0;34m\u001b[0m\u001b[0;34m\u001b[0m\u001b[0m\n\u001b[1;32m    107\u001b[0m \u001b[0;34m\u001b[0m\u001b[0m\n",
            "\u001b[0;32m<ipython-input-113-9feb1fcace35>\u001b[0m in \u001b[0;36m_subtree_inorder\u001b[0;34m(self, p)\u001b[0m\n\u001b[1;32m    107\u001b[0m \u001b[0;34m\u001b[0m\u001b[0m\n\u001b[1;32m    108\u001b[0m   \u001b[0;32mdef\u001b[0m \u001b[0m_subtree_inorder\u001b[0m\u001b[0;34m(\u001b[0m\u001b[0mself\u001b[0m\u001b[0;34m,\u001b[0m \u001b[0mp\u001b[0m\u001b[0;34m)\u001b[0m\u001b[0;34m:\u001b[0m\u001b[0;34m\u001b[0m\u001b[0;34m\u001b[0m\u001b[0m\n\u001b[0;32m--> 109\u001b[0;31m     \u001b[0;32mif\u001b[0m \u001b[0mself\u001b[0m\u001b[0;34m.\u001b[0m\u001b[0mleft\u001b[0m\u001b[0;34m(\u001b[0m\u001b[0mp\u001b[0m\u001b[0;34m)\u001b[0m \u001b[0;32mis\u001b[0m \u001b[0;32mnot\u001b[0m \u001b[0;32mNone\u001b[0m\u001b[0;34m:\u001b[0m\u001b[0;34m\u001b[0m\u001b[0;34m\u001b[0m\u001b[0m\n\u001b[0m\u001b[1;32m    110\u001b[0m       \u001b[0;32mfor\u001b[0m \u001b[0mother\u001b[0m \u001b[0;32min\u001b[0m \u001b[0mself\u001b[0m\u001b[0;34m.\u001b[0m\u001b[0m_subtree_inorder\u001b[0m\u001b[0;34m(\u001b[0m\u001b[0mself\u001b[0m\u001b[0;34m.\u001b[0m\u001b[0mleft\u001b[0m\u001b[0;34m(\u001b[0m\u001b[0mp\u001b[0m\u001b[0;34m)\u001b[0m\u001b[0;34m)\u001b[0m\u001b[0;34m:\u001b[0m\u001b[0;34m\u001b[0m\u001b[0;34m\u001b[0m\u001b[0m\n\u001b[1;32m    111\u001b[0m         \u001b[0;32myield\u001b[0m \u001b[0mother\u001b[0m\u001b[0;34m\u001b[0m\u001b[0;34m\u001b[0m\u001b[0m\n",
            "\u001b[0;32m<ipython-input-115-bfdec3453e81>\u001b[0m in \u001b[0;36mleft\u001b[0;34m(self, p)\u001b[0m\n\u001b[1;32m     48\u001b[0m \u001b[0;34m\u001b[0m\u001b[0m\n\u001b[1;32m     49\u001b[0m   \u001b[0;32mdef\u001b[0m \u001b[0mleft\u001b[0m\u001b[0;34m(\u001b[0m\u001b[0mself\u001b[0m\u001b[0;34m,\u001b[0m \u001b[0mp\u001b[0m\u001b[0;34m)\u001b[0m\u001b[0;34m:\u001b[0m\u001b[0;34m\u001b[0m\u001b[0;34m\u001b[0m\u001b[0m\n\u001b[0;32m---> 50\u001b[0;31m     \u001b[0mnode\u001b[0m \u001b[0;34m=\u001b[0m \u001b[0mself\u001b[0m\u001b[0;34m.\u001b[0m\u001b[0m_validate\u001b[0m\u001b[0;34m(\u001b[0m\u001b[0mp\u001b[0m\u001b[0;34m)\u001b[0m\u001b[0;34m\u001b[0m\u001b[0;34m\u001b[0m\u001b[0m\n\u001b[0m\u001b[1;32m     51\u001b[0m     \u001b[0;32mreturn\u001b[0m \u001b[0mself\u001b[0m\u001b[0;34m.\u001b[0m\u001b[0m_make_position\u001b[0m\u001b[0;34m(\u001b[0m\u001b[0mnode\u001b[0m\u001b[0;34m.\u001b[0m\u001b[0m_left\u001b[0m\u001b[0;34m)\u001b[0m\u001b[0;34m\u001b[0m\u001b[0;34m\u001b[0m\u001b[0m\n\u001b[1;32m     52\u001b[0m \u001b[0;34m\u001b[0m\u001b[0m\n",
            "\u001b[0;32m<ipython-input-115-bfdec3453e81>\u001b[0m in \u001b[0;36m_validate\u001b[0;34m(self, p)\u001b[0m\n\u001b[1;32m     22\u001b[0m   \u001b[0;32mdef\u001b[0m \u001b[0m_validate\u001b[0m\u001b[0;34m(\u001b[0m\u001b[0mself\u001b[0m\u001b[0;34m,\u001b[0m \u001b[0mp\u001b[0m\u001b[0;34m)\u001b[0m\u001b[0;34m:\u001b[0m\u001b[0;34m\u001b[0m\u001b[0;34m\u001b[0m\u001b[0m\n\u001b[1;32m     23\u001b[0m     \u001b[0;32mif\u001b[0m \u001b[0;32mnot\u001b[0m \u001b[0misinstance\u001b[0m\u001b[0;34m(\u001b[0m\u001b[0mp\u001b[0m\u001b[0;34m,\u001b[0m \u001b[0mself\u001b[0m\u001b[0;34m.\u001b[0m\u001b[0mPosition\u001b[0m\u001b[0;34m)\u001b[0m\u001b[0;34m:\u001b[0m\u001b[0;34m\u001b[0m\u001b[0;34m\u001b[0m\u001b[0m\n\u001b[0;32m---> 24\u001b[0;31m       \u001b[0;32mraise\u001b[0m \u001b[0mTypeError\u001b[0m\u001b[0;34m(\u001b[0m \u001b[0;34m'p must be proper Position type'\u001b[0m \u001b[0;34m)\u001b[0m\u001b[0;34m\u001b[0m\u001b[0;34m\u001b[0m\u001b[0m\n\u001b[0m\u001b[1;32m     25\u001b[0m     \u001b[0;32mif\u001b[0m \u001b[0mp\u001b[0m\u001b[0;34m.\u001b[0m\u001b[0m_container\u001b[0m \u001b[0;32mis\u001b[0m \u001b[0;32mnot\u001b[0m \u001b[0mself\u001b[0m\u001b[0;34m:\u001b[0m\u001b[0;34m\u001b[0m\u001b[0;34m\u001b[0m\u001b[0m\n\u001b[1;32m     26\u001b[0m       \u001b[0;32mraise\u001b[0m \u001b[0mValueError\u001b[0m\u001b[0;34m(\u001b[0m \u001b[0;34m'p does not belong to this container'\u001b[0m \u001b[0;34m)\u001b[0m\u001b[0;34m\u001b[0m\u001b[0;34m\u001b[0m\u001b[0m\n",
            "\u001b[0;31mTypeError\u001b[0m: p must be proper Position type"
          ]
        }
      ]
    },
    {
      "cell_type": "code",
      "source": [
        "T.postorder_next(p_root).element()"
      ],
      "metadata": {
        "colab": {
          "base_uri": "https://localhost:8080/",
          "height": 37
        },
        "id": "eQDDKSyCRyX3",
        "outputId": "b4caf13e-9c23-4443-c96c-1c43ed0a64ac"
      },
      "execution_count": null,
      "outputs": [
        {
          "output_type": "execute_result",
          "data": {
            "text/plain": [
              "'sales'"
            ],
            "application/vnd.google.colaboratory.intrinsic+json": {
              "type": "string"
            }
          },
          "metadata": {},
          "execution_count": 119
        }
      ]
    },
    {
      "cell_type": "code",
      "source": [
        "#@title C-8.51\n"
      ],
      "metadata": {
        "id": "OcWmQiXaUrep"
      },
      "execution_count": null,
      "outputs": []
    }
  ]
}