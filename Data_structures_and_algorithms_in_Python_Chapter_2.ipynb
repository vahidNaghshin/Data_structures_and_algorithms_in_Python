{
  "nbformat": 4,
  "nbformat_minor": 0,
  "metadata": {
    "colab": {
      "provenance": [],
      "authorship_tag": "ABX9TyMo4ENQUMnZldofEwh8hPrb",
      "include_colab_link": true
    },
    "kernelspec": {
      "name": "python3",
      "display_name": "Python 3"
    },
    "language_info": {
      "name": "python"
    }
  },
  "cells": [
    {
      "cell_type": "markdown",
      "metadata": {
        "id": "view-in-github",
        "colab_type": "text"
      },
      "source": [
        "<a href=\"https://colab.research.google.com/github/vahidNaghshin/Data_structures_and_algorithms_in_Python/blob/main/Data_structures_and_algorithms_in_Python_Chapter_2.ipynb\" target=\"_parent\"><img src=\"https://colab.research.google.com/assets/colab-badge.svg\" alt=\"Open In Colab\"/></a>"
      ]
    },
    {
      "cell_type": "markdown",
      "source": [
        "# Chapter 2. Object-Oriented Programming"
      ],
      "metadata": {
        "id": "k8_sJh4l7np3"
      }
    },
    {
      "cell_type": "markdown",
      "source": [
        "# Reinforcement"
      ],
      "metadata": {
        "id": "pQ4j9YfcSUsX"
      }
    },
    {
      "cell_type": "code",
      "source": [
        "#@title R-2.4\n",
        "class Flower:\n",
        "  \"\"\"This class defines a flower\n",
        "  \n",
        "    name: name of flower\n",
        "    num_petal: number of petals\n",
        "    price: price of flower\n",
        "  \"\"\"\n",
        "  def __init__(self, name, num_petal, price):\n",
        "    self._name = name\n",
        "    self._num_petal = num_petal\n",
        "    self._price = price\n",
        "\n",
        "  def set_name_value(self, name):\n",
        "    self._name = name\n",
        "\n",
        "  def set_num_petal_value(self, num_petal):\n",
        "    self._num_petal = num_petal\n",
        "\n",
        "  def set_price(self, price):\n",
        "     self._price = price\n",
        "\n",
        "  def get_name_value(self):\n",
        "    return self._name \n",
        "\n",
        "  def get_num_petal_value(self):\n",
        "    return self._num_petal\n",
        "\n",
        "  def get_price(self):\n",
        "    return self._price \n",
        "  "
      ],
      "metadata": {
        "id": "S-PQZRH0SLOk"
      },
      "execution_count": null,
      "outputs": []
    },
    {
      "cell_type": "code",
      "source": [
        "f = Flower('rose', 4, 10)"
      ],
      "metadata": {
        "id": "m7asQF3CT4MM"
      },
      "execution_count": null,
      "outputs": []
    },
    {
      "cell_type": "code",
      "source": [
        "print(\"number of petal before setting: {0} \".format(f.get_num_petal_value()))\n",
        "f.set_num_petal_value(5)\n",
        "print(\"number of petal after setting: {0}\".format(f.get_num_petal_value()))"
      ],
      "metadata": {
        "colab": {
          "base_uri": "https://localhost:8080/"
        },
        "id": "88I4wRc6T9Jf",
        "outputId": "290a2c1d-0cee-4f7b-99e7-b15e2524783e"
      },
      "execution_count": null,
      "outputs": [
        {
          "output_type": "stream",
          "name": "stdout",
          "text": [
            "number of petal before setting: 4 \n",
            "number of petal after setting: 5\n"
          ]
        }
      ]
    },
    {
      "cell_type": "code",
      "source": [
        "#@title R-2.5\n",
        "class CreditCard:\n",
        "  \"\"\"The credit card consumer\"\"\"\n",
        "\n",
        "  def __init__(self, customer, bank, acnt, lim):\n",
        "    \"\"\"\n",
        "    initialize the object credit card\n",
        "\n",
        "    customer: customer's name\n",
        "    \n",
        "    bank: bank's name\n",
        "    \n",
        "    acnt: account number\n",
        "    \n",
        "    balance: balance\n",
        "\n",
        "    lim: limit of credit card\n",
        "\n",
        "    \"\"\"\n",
        "    self._customer = customer\n",
        "    self._bank = bank\n",
        "    self._account = acnt\n",
        "    self._balance = 0\n",
        "    self._limit = lim\n",
        "\n",
        "\n",
        "  def get_customer(self):\n",
        "    \"\"\"get the customer's name\"\"\"\n",
        "    return self._customer\n",
        "\n",
        "  def get_bank(self):\n",
        "    return self._bank\n",
        "\n",
        "  def get_account(self):\n",
        "    return self._account\n",
        "\n",
        "  def get_balance(self):\n",
        "    return self._balance\n",
        "\n",
        "  def get_limit(self):\n",
        "    return self._limit\n",
        "\n",
        "  def charge(self, price):\n",
        "    if not isinstance(price, (int, float)):\n",
        "      raise ValueError('price is not a numerical value')\n",
        "\n",
        "    if price + self._balance > self._limit:\n",
        "      return False\n",
        "    else:\n",
        "      self._balance += price\n",
        "      return True\n",
        "\n",
        "  def make_payment(self, amount):\n",
        "    if not isinstance(amount, (int, float)):\n",
        "      raise ValueError('amount is not a numerical value')\n",
        "    self._balance -= amount\n",
        "\n",
        "  def __str__(self):\n",
        "    return \"this is the calss!\"\n",
        "\n",
        "  "
      ],
      "metadata": {
        "id": "iRFYRvr6UXhN"
      },
      "execution_count": null,
      "outputs": []
    },
    {
      "cell_type": "code",
      "source": [
        "c = CreditCard('John Mcguiee', 'NAB', '11344 123312 12313', 50)"
      ],
      "metadata": {
        "id": "IJGCUACvbGhg"
      },
      "execution_count": null,
      "outputs": []
    },
    {
      "cell_type": "code",
      "source": [
        "#make sure the amount and price supported by user is a numerical value\n",
        "c.charge('name')"
      ],
      "metadata": {
        "colab": {
          "base_uri": "https://localhost:8080/",
          "height": 283
        },
        "id": "RwGPOVi3bXgP",
        "outputId": "616cef8e-61d5-49c2-e859-ebc28c4aeac4"
      },
      "execution_count": null,
      "outputs": [
        {
          "output_type": "error",
          "ename": "ValueError",
          "evalue": "ignored",
          "traceback": [
            "\u001b[0;31m---------------------------------------------------------------------------\u001b[0m",
            "\u001b[0;31mValueError\u001b[0m                                Traceback (most recent call last)",
            "\u001b[0;32m<ipython-input-43-15c60e317b0d>\u001b[0m in \u001b[0;36m<module>\u001b[0;34m\u001b[0m\n\u001b[0;32m----> 1\u001b[0;31m \u001b[0mc\u001b[0m\u001b[0;34m.\u001b[0m\u001b[0mcharge\u001b[0m\u001b[0;34m(\u001b[0m\u001b[0;34m'name'\u001b[0m\u001b[0;34m)\u001b[0m\u001b[0;34m\u001b[0m\u001b[0;34m\u001b[0m\u001b[0m\n\u001b[0m",
            "\u001b[0;32m<ipython-input-41-c51aef5fe7b4>\u001b[0m in \u001b[0;36mcharge\u001b[0;34m(self, price)\u001b[0m\n\u001b[1;32m     43\u001b[0m   \u001b[0;32mdef\u001b[0m \u001b[0mcharge\u001b[0m\u001b[0;34m(\u001b[0m\u001b[0mself\u001b[0m\u001b[0;34m,\u001b[0m \u001b[0mprice\u001b[0m\u001b[0;34m)\u001b[0m\u001b[0;34m:\u001b[0m\u001b[0;34m\u001b[0m\u001b[0;34m\u001b[0m\u001b[0m\n\u001b[1;32m     44\u001b[0m     \u001b[0;32mif\u001b[0m \u001b[0;32mnot\u001b[0m \u001b[0misinstance\u001b[0m\u001b[0;34m(\u001b[0m\u001b[0mprice\u001b[0m\u001b[0;34m,\u001b[0m \u001b[0;34m(\u001b[0m\u001b[0mint\u001b[0m\u001b[0;34m,\u001b[0m \u001b[0mfloat\u001b[0m\u001b[0;34m)\u001b[0m\u001b[0;34m)\u001b[0m\u001b[0;34m:\u001b[0m\u001b[0;34m\u001b[0m\u001b[0;34m\u001b[0m\u001b[0m\n\u001b[0;32m---> 45\u001b[0;31m       \u001b[0;32mraise\u001b[0m \u001b[0mValueError\u001b[0m\u001b[0;34m(\u001b[0m\u001b[0;34m'price is not a numerical value'\u001b[0m\u001b[0;34m)\u001b[0m\u001b[0;34m\u001b[0m\u001b[0;34m\u001b[0m\u001b[0m\n\u001b[0m\u001b[1;32m     46\u001b[0m \u001b[0;34m\u001b[0m\u001b[0m\n\u001b[1;32m     47\u001b[0m     \u001b[0;32mif\u001b[0m \u001b[0mprice\u001b[0m \u001b[0;34m+\u001b[0m \u001b[0mself\u001b[0m\u001b[0;34m.\u001b[0m\u001b[0m_balance\u001b[0m \u001b[0;34m>\u001b[0m \u001b[0mself\u001b[0m\u001b[0;34m.\u001b[0m\u001b[0m_limit\u001b[0m\u001b[0;34m:\u001b[0m\u001b[0;34m\u001b[0m\u001b[0;34m\u001b[0m\u001b[0m\n",
            "\u001b[0;31mValueError\u001b[0m: price is not a numerical value"
          ]
        }
      ]
    },
    {
      "cell_type": "code",
      "source": [
        "#@title R-2.6\n",
        "class CreditCard:\n",
        "  \"\"\"The credit card consumer\"\"\"\n",
        "\n",
        "  def __init__(self, customer, bank, acnt, lim):\n",
        "    \"\"\"\n",
        "    initialize the object credit card\n",
        "\n",
        "    customer: customer's name\n",
        "    \n",
        "    bank: bank's name\n",
        "    \n",
        "    acnt: account number\n",
        "    \n",
        "    balance: balance\n",
        "\n",
        "    lim: limit of credit card\n",
        "\n",
        "    \"\"\"\n",
        "    self._customer = customer\n",
        "    self._bank = bank\n",
        "    self._account = acnt\n",
        "    self._balance = 0\n",
        "    self._limit = lim\n",
        "\n",
        "\n",
        "  def get_customer(self):\n",
        "    \"\"\"get the customer's name\"\"\"\n",
        "    return self._customer\n",
        "\n",
        "  def get_bank(self):\n",
        "    return self._bank\n",
        "\n",
        "  def get_account(self):\n",
        "    return self._account\n",
        "\n",
        "  def get_balance(self):\n",
        "    return self._balance\n",
        "\n",
        "  def get_limit(self):\n",
        "    return self._limit\n",
        "\n",
        "  def charge(self, price):\n",
        "    if not isinstance(price, (int, float)):\n",
        "      raise ValueError('price is not a numerical value')\n",
        "\n",
        "    if price + self._balance > self._limit:\n",
        "      return False\n",
        "    else:\n",
        "      self._balance += price\n",
        "      return True\n",
        "\n",
        "  def make_payment(self, amount):\n",
        "\n",
        "    if not isinstance(amount, (int, float)): #to make sure the amount is numerical value\n",
        "      raise ValueError('amount is not a numerical value')\n",
        "\n",
        "    if amount < 0:  #to make sure the amount is positive\n",
        "      raise ValueError('amount is not a positive value')\n",
        "    self._balance -= amount\n",
        "\n",
        "  def __str__(self):\n",
        "    return \"this is the calss!\"\n",
        "\n",
        "  "
      ],
      "metadata": {
        "id": "Sy-1uFYwbbVD"
      },
      "execution_count": null,
      "outputs": []
    },
    {
      "cell_type": "code",
      "source": [
        "#@title R-2.7\n",
        "class CreditCard:\n",
        "  \"\"\"The credit card consumer\"\"\"\n",
        "\n",
        "  def __init__(self, customer, bank, acnt, lim, balance=0):\n",
        "    \"\"\"\n",
        "    initialize the object credit card\n",
        "\n",
        "    customer: customer's name\n",
        "    \n",
        "    bank: bank's name\n",
        "    \n",
        "    acnt: account number\n",
        "    \n",
        "    balance: balance\n",
        "\n",
        "    lim: limit of credit card\n",
        "\n",
        "    \"\"\"\n",
        "    self._customer = customer\n",
        "    self._bank = bank\n",
        "    self._account = acnt\n",
        "    self._balance = balance\n",
        "    self._limit = lim\n",
        "\n",
        "    #the rest of class definition is ommited for brevity\n"
      ],
      "metadata": {
        "id": "D9YfmJjtb61I"
      },
      "execution_count": null,
      "outputs": []
    },
    {
      "cell_type": "code",
      "source": [
        "#@title R-2.8\n",
        "#this causes the first credit card to go over limit first and then the second credit card\n",
        "for c in range(3):\n",
        "  print( 'Customer = ', wallet[c].get_customer()) \n",
        "  print( 'Bank = ', wallet[c].get_bank())\n",
        "  print( 'Account = ', wallet[c].get_account()) \n",
        "  print( 'Limit = ', wallet[c].get_limit())\n",
        "  print( 'Balance = ', wallet[c].get_balance()) \n",
        "  while wallet[2].get_balance( ) > 100:  #since the third credit card has larger limit\n",
        "  wallet[c].make_payment(100)\n",
        "  print( 'New balance = ', wallet[c].get_balance()) \n"
      ],
      "metadata": {
        "id": "qyLX6VzhcUBE"
      },
      "execution_count": null,
      "outputs": []
    },
    {
      "cell_type": "code",
      "source": [
        "#@title R-2.9, 2-10, 2-11, 2-12, 2-13, 2-14, 2-15\n",
        "class Vector:\n",
        "  \"\"\"\n",
        "  a geometric vector with coordinate dimention\n",
        "  \"\"\"\n",
        "\n",
        "  def __init__(self, dim, value=None):\n",
        "\n",
        "    if not value or isinstance(value, (int, float)):\n",
        "      self._value = [0]*dim\n",
        "    elif isinstance(value, (list, tuple)):\n",
        "      self._value = list(value)\n",
        "    else:\n",
        "      raise ValueError(\"The value should be numerical or iterable value such as list or tuple\")\n",
        "    \n",
        "    self._dim = dim\n",
        "\n",
        "  def get_value(self):\n",
        "    return self._value\n",
        "\n",
        "  def __setitem__(self, idx, value):\n",
        "    if idx >= 0:\n",
        "      self._value[idx] = value\n",
        "    else:\n",
        "      self._value[ self._dim + idx] = value\n",
        "\n",
        "  def __getitem__(self, idx):\n",
        "    return self._value[idx]\n",
        "\n",
        "  def __len__(self):\n",
        "    return len(self._value)\n",
        "  \n",
        "\n",
        "  def __add__(self, U):\n",
        "    u = Vector(len(self))\n",
        "\n",
        "    for i in range(len(self)):\n",
        "      u[i] = self[i] + U[i]\n",
        "    return u\n",
        "\n",
        "  def __radd__(self, U):\n",
        "    u = Vector(len(self))\n",
        "\n",
        "    for i in range(len(self)):\n",
        "      u[i] = self[i] + U[i]\n",
        "    return u\n",
        "\n",
        "  def __sub__(self, U):\n",
        "    u = Vector(len(self))\n",
        "    for i in range(len(self)):\n",
        "      u[i] = self[i] - U[i]\n",
        "    return u\n",
        "\n",
        "\n",
        "  def __mul__(self, U):\n",
        "\n",
        "    u = Vector(len(self))\n",
        "    \n",
        "    if isinstance(U, (int, float)):\n",
        "      for i in range(len(self)):\n",
        "        u[i] = self[i] * U\n",
        "      return u\n",
        "    \n",
        "    elif isinstance(U, Vector):\n",
        "      for i in range(len(self)):\n",
        "        u[i] = self[i] * U[i]\n",
        "      return u\n",
        "\n",
        "\n",
        "  def __rmul__(self, U):\n",
        "    u = Vector(len(self))\n",
        "    for i in range(len(self)):\n",
        "      u[i] = self[i] * U\n",
        "    return u\n",
        "\n",
        "  def __neg__(self):\n",
        "    u = Vector(len(self))\n",
        "    for i in range(len(self)):\n",
        "      u[i] = -self[i]\n",
        "\n",
        "    return u\n",
        "    \n",
        "  def __eq__(self, other) -> bool:\n",
        "    return self._value == other._value\n",
        "\n",
        "  def __ne__(self, other) -> bool:\n",
        "    return not self == other\n",
        "\n",
        "\n",
        "  def __str__(self):\n",
        "    return '<'+'{0}'.format(str(self._value)[1:-1])+'>'\n"
      ],
      "metadata": {
        "id": "CHC7qzsQdjd8"
      },
      "execution_count": null,
      "outputs": []
    },
    {
      "cell_type": "code",
      "source": [
        "u, v = Vector(4), Vector(4)\n",
        "u[0], u[3] = 1, 3\n",
        "v[0], v[2] = 10, 5"
      ],
      "metadata": {
        "id": "zooLlvopePAA"
      },
      "execution_count": null,
      "outputs": []
    },
    {
      "cell_type": "code",
      "source": [
        "B = u-v\n",
        "print(B)"
      ],
      "metadata": {
        "colab": {
          "base_uri": "https://localhost:8080/"
        },
        "id": "zsf9sdrgebU_",
        "outputId": "69214789-c852-4afd-fb65-2eacf7e5efb3"
      },
      "execution_count": null,
      "outputs": [
        {
          "output_type": "stream",
          "name": "stdout",
          "text": [
            "<-9, 0, -5, 3>\n"
          ]
        }
      ]
    },
    {
      "cell_type": "code",
      "source": [
        "print(v), print(-v)"
      ],
      "metadata": {
        "colab": {
          "base_uri": "https://localhost:8080/"
        },
        "id": "B5Fx2WFHecbY",
        "outputId": "a2bb1dbe-9ec2-40f0-f630-957a2df3b448"
      },
      "execution_count": null,
      "outputs": [
        {
          "output_type": "stream",
          "name": "stdout",
          "text": [
            "<10, 0, 5, 0>\n",
            "<-10, 0, -5, 0>\n"
          ]
        },
        {
          "output_type": "execute_result",
          "data": {
            "text/plain": [
              "(None, None)"
            ]
          },
          "metadata": {},
          "execution_count": 89
        }
      ]
    },
    {
      "cell_type": "code",
      "source": [
        "print(v), print([1,2,3,4]+v)"
      ],
      "metadata": {
        "colab": {
          "base_uri": "https://localhost:8080/"
        },
        "id": "fzoWYo_xfEVF",
        "outputId": "db5626f2-60e7-4fa8-fc98-0db159d8c09b"
      },
      "execution_count": null,
      "outputs": [
        {
          "output_type": "stream",
          "name": "stdout",
          "text": [
            "<10, 0, 5, 0>\n",
            "<11, 2, 8, 4>\n"
          ]
        },
        {
          "output_type": "execute_result",
          "data": {
            "text/plain": [
              "(None, None)"
            ]
          },
          "metadata": {},
          "execution_count": 90
        }
      ]
    },
    {
      "cell_type": "code",
      "source": [
        "print(v), print(v*3), print(3*v)"
      ],
      "metadata": {
        "colab": {
          "base_uri": "https://localhost:8080/"
        },
        "id": "sQDtnVlKfqo8",
        "outputId": "deb1743b-a2af-48ef-8f4e-c6a2cfffe48c"
      },
      "execution_count": null,
      "outputs": [
        {
          "output_type": "stream",
          "name": "stdout",
          "text": [
            "<10, 0, 5, 0>\n",
            "<30, 0, 15, 0>\n",
            "<30, 0, 15, 0>\n"
          ]
        },
        {
          "output_type": "execute_result",
          "data": {
            "text/plain": [
              "(None, None, None)"
            ]
          },
          "metadata": {},
          "execution_count": 91
        }
      ]
    },
    {
      "cell_type": "code",
      "source": [
        "print(v), print(u), print(v*u)"
      ],
      "metadata": {
        "colab": {
          "base_uri": "https://localhost:8080/"
        },
        "id": "2ecuzZl0gHiS",
        "outputId": "4a1ab563-b5d9-4052-ee7d-ceef2c752ae7"
      },
      "execution_count": null,
      "outputs": [
        {
          "output_type": "stream",
          "name": "stdout",
          "text": [
            "<10, 0, 5, 0>\n",
            "<1, 0, 0, 3>\n",
            "<10, 0, 0, 0>\n"
          ]
        },
        {
          "output_type": "execute_result",
          "data": {
            "text/plain": [
              "(None, None, None)"
            ]
          },
          "metadata": {},
          "execution_count": 92
        }
      ]
    },
    {
      "cell_type": "code",
      "source": [
        "a = Vector(4, [1,2,3,4])\n",
        "print(a)"
      ],
      "metadata": {
        "colab": {
          "base_uri": "https://localhost:8080/"
        },
        "id": "IVfSbqhvhfMM",
        "outputId": "4ee9b4c4-e6c1-4bbe-9be4-5be04f29f5d6"
      },
      "execution_count": null,
      "outputs": [
        {
          "output_type": "stream",
          "name": "stdout",
          "text": [
            "<1, 2, 3, 4>\n"
          ]
        }
      ]
    },
    {
      "cell_type": "code",
      "source": [
        "#R-2-18\n",
        "f = FibonacciProgressoin(start1=2, start2=2)\n",
        "for i in range(10):\n",
        "  if (i < 8) or (i > 8):\n",
        "    next(f)\n",
        "  else:\n",
        "    print(\"This is the 8th value: {0}\".format(next(f)))\n",
        "\n"
      ],
      "metadata": {
        "colab": {
          "base_uri": "https://localhost:8080/"
        },
        "id": "Sq8fFkcMiooV",
        "outputId": "2482d683-fd0a-4cc1-c3c7-e648c67a9207"
      },
      "execution_count": null,
      "outputs": [
        {
          "output_type": "stream",
          "name": "stdout",
          "text": [
            "This is the 8th value: 68\n"
          ]
        }
      ]
    },
    {
      "cell_type": "code",
      "source": [
        "#@title R-2-22, 2-23\n",
        "\n",
        "#Using Sequence from collections is deprecated in Python 3.7\n",
        "#https://github.com/chainer/chainer/issues/5097\n",
        "import collections\n",
        "\n",
        "class Seq(collections.Sequence):\n",
        "\n",
        "  def __init__(self, l=None):\n",
        "    self._l = l\n",
        "  \n",
        "  \n",
        "  def __len__(self):\n",
        "    return len(self._l)\n",
        "\n",
        "  def __getitem__(self, j):\n",
        "    return self._l[j]\n",
        "\n",
        "  def __eq__(self, seq):\n",
        "    for i in range(len(self)):\n",
        "      if self[i] != seq[i]:\n",
        "        return False\n",
        "    return True\n",
        "\n",
        "  def __lt__(self, seq):\n",
        "    for i in range(len(self)):\n",
        "      if self[i] >= seq[i]:\n",
        "        return False\n",
        "    return True\n",
        "\n",
        "  "
      ],
      "metadata": {
        "id": "tWxx86YRnv-7"
      },
      "execution_count": null,
      "outputs": []
    },
    {
      "cell_type": "code",
      "source": [
        "seq1 = Seq([1,2,3])\n",
        "seq2 = Seq([1,2,3])"
      ],
      "metadata": {
        "id": "hs_a0A8_mBtY"
      },
      "execution_count": null,
      "outputs": []
    },
    {
      "cell_type": "code",
      "source": [
        "seq1.count(1), seq1.index(3)"
      ],
      "metadata": {
        "colab": {
          "base_uri": "https://localhost:8080/"
        },
        "id": "9iNJMSOEoW6I",
        "outputId": "cf6ecc0a-3569-4506-88cf-dbce38431c13"
      },
      "execution_count": null,
      "outputs": [
        {
          "output_type": "execute_result",
          "data": {
            "text/plain": [
              "(1, 2)"
            ]
          },
          "metadata": {},
          "execution_count": 168
        }
      ]
    },
    {
      "cell_type": "code",
      "source": [
        "seq1 == seq2"
      ],
      "metadata": {
        "colab": {
          "base_uri": "https://localhost:8080/"
        },
        "id": "F6yDCpoyn8TN",
        "outputId": "568772de-59f2-4823-84b8-544d3544417b"
      },
      "execution_count": null,
      "outputs": [
        {
          "output_type": "execute_result",
          "data": {
            "text/plain": [
              "True"
            ]
          },
          "metadata": {},
          "execution_count": 169
        }
      ]
    },
    {
      "cell_type": "code",
      "source": [
        "seq1 < seq2"
      ],
      "metadata": {
        "colab": {
          "base_uri": "https://localhost:8080/"
        },
        "id": "nk0OXYEQn-wU",
        "outputId": "673ee947-9a6e-4da3-ccdb-887ff5b7760f"
      },
      "execution_count": null,
      "outputs": [
        {
          "output_type": "execute_result",
          "data": {
            "text/plain": [
              "False"
            ]
          },
          "metadata": {},
          "execution_count": 170
        }
      ]
    },
    {
      "cell_type": "markdown",
      "source": [
        "# Creativity"
      ],
      "metadata": {
        "id": "gfpa0d_Sqngv"
      }
    },
    {
      "cell_type": "code",
      "source": [
        "#@title C-2.25 is already provided in 2-14"
      ],
      "metadata": {
        "id": "1PpgoeNOqcsu"
      },
      "execution_count": null,
      "outputs": []
    },
    {
      "cell_type": "code",
      "source": [
        "#@title C-2.26\n",
        "class ReversedSequenceIterator:\n",
        "  \"\"\"\n",
        "  Iterate a sequence inreversed order\n",
        "\n",
        "  seq: sequence to iterate\n",
        "  \"\"\"\n",
        "  def __init__(self, seq):\n",
        "    self._seq = seq\n",
        "    self._k = len(seq)\n",
        "\n",
        "  def __len__(self): #this is implemented to be used in iteration count\n",
        "    return self._k\n",
        "\n",
        "  def __next__(self):\n",
        "    if self._k < 1:\n",
        "      raise StopIteration()\n",
        "    answer = self._seq [self._k - 1]\n",
        "    self._k -= 1\n",
        "    return answer\n",
        "\n",
        "  def __iter__(self):\n",
        "    return self\n"
      ],
      "metadata": {
        "id": "3HcAnQ7OEhrO"
      },
      "execution_count": null,
      "outputs": []
    },
    {
      "cell_type": "code",
      "source": [
        "r = ReversedSequenceIterator([1,2,3,4,5])"
      ],
      "metadata": {
        "id": "_PaJCAmFFq8I"
      },
      "execution_count": null,
      "outputs": []
    },
    {
      "cell_type": "code",
      "source": [
        "for i in range(len(r)):\n",
        "  print(next(r))"
      ],
      "metadata": {
        "colab": {
          "base_uri": "https://localhost:8080/"
        },
        "id": "rR7AzuZ0FvMm",
        "outputId": "fb077006-f3ee-439e-b07e-cb8f2738f4c1"
      },
      "execution_count": null,
      "outputs": [
        {
          "output_type": "stream",
          "name": "stdout",
          "text": [
            "5\n",
            "4\n",
            "3\n",
            "2\n",
            "1\n"
          ]
        }
      ]
    },
    {
      "cell_type": "code",
      "source": [
        "#@title C-2.27\n",
        "\n",
        "class Range:\n",
        "  \"\"\"customised range iterator\"\"\"\n",
        "  def __init__(self, start, stop=None, step=1):\n",
        "    if step == 0:\n",
        "      raise ValueError('step cannot be zero')\n",
        "    self._step = step\n",
        "    if not stop:\n",
        "      self._start, self._stop = 0, start\n",
        "    else:\n",
        "      self._start = start\n",
        "      self._stop = stop\n",
        "\n",
        "    self._num  = max(0, (self._stop - self._start + step - 1) // step)\n",
        "    \n",
        "\n",
        "  def __len__(self):\n",
        "    return self._num\n",
        "\n",
        "  def __getitem__(self, idx):\n",
        "\n",
        "    if idx < 0:\n",
        "       idx = len(self) + idx\n",
        "\n",
        "    #If we do not insert this line, the for loop goes infinity\n",
        "    if not 0 <= idx < len(self):\n",
        "      raise IndexError('index out of range')\n",
        "    else:\n",
        "      return self._start + idx * self._step\n",
        "\n",
        "  def __contain__(self, value):\n",
        "    \n",
        "    cond = (value == self._start) or ((self._start < value < self._stop) and not(value % self._num))\n",
        "    if cond:\n",
        "      return True\n",
        "    else:\n",
        "      return False\n"
      ],
      "metadata": {
        "id": "FSq4RyxbFweM"
      },
      "execution_count": null,
      "outputs": []
    },
    {
      "cell_type": "code",
      "source": [
        "r = Range(1, 30, 7)"
      ],
      "metadata": {
        "id": "nwAEEvufICTy"
      },
      "execution_count": null,
      "outputs": []
    },
    {
      "cell_type": "code",
      "source": [
        "[i for i in r]"
      ],
      "metadata": {
        "colab": {
          "base_uri": "https://localhost:8080/"
        },
        "id": "hzeBmpvAIGcu",
        "outputId": "eb1bf9e8-fddb-47b0-e105-537679b94003"
      },
      "execution_count": null,
      "outputs": [
        {
          "output_type": "execute_result",
          "data": {
            "text/plain": [
              "[1, 8, 15, 22, 29]"
            ]
          },
          "metadata": {},
          "execution_count": 212
        }
      ]
    },
    {
      "cell_type": "code",
      "source": [
        "28 in r, 22 in r"
      ],
      "metadata": {
        "colab": {
          "base_uri": "https://localhost:8080/"
        },
        "id": "vIoNQM0NIr_x",
        "outputId": "05ff854c-7dbc-402c-965f-9c5ac04423df"
      },
      "execution_count": null,
      "outputs": [
        {
          "output_type": "execute_result",
          "data": {
            "text/plain": [
              "(False, True)"
            ]
          },
          "metadata": {},
          "execution_count": 214
        }
      ]
    },
    {
      "cell_type": "code",
      "source": [
        "class CreditCard:\n",
        "  \"\"\"The credit card consumer\"\"\"\n",
        "\n",
        "  def __init__(self, customer, bank, acnt, lim):\n",
        "    \"\"\"\n",
        "    initialize the object credit card\n",
        "\n",
        "    customer: customer's name\n",
        "    \n",
        "    bank: bank's name\n",
        "    \n",
        "    acnt: account number\n",
        "    \n",
        "    balance: balance\n",
        "\n",
        "    lim: limit of credit card\n",
        "\n",
        "    \"\"\"\n",
        "    self._customer = customer\n",
        "    self._bank = bank\n",
        "    self._account = acnt\n",
        "    self._balance = 0\n",
        "    self._limit = lim\n",
        "\n",
        "  def set_balance(self, value):\n",
        "    self._balance = value\n",
        "\n",
        "\n",
        "  def get_customer(self):\n",
        "    \"\"\"get the customer's name\"\"\"\n",
        "    return self._customer\n",
        "\n",
        "  def get_bank(self):\n",
        "    return self._bank\n",
        "\n",
        "  def get_account(self):\n",
        "    return self._account\n",
        "\n",
        "  def get_balance(self):\n",
        "    return self._balance\n",
        "\n",
        "  def get_limit(self):\n",
        "    return self._limit\n",
        "\n",
        "  def charge(self, price):\n",
        "    if price + self._balance > self._limit:\n",
        "      return False\n",
        "    else:\n",
        "      self._balance += price\n",
        "      return True\n",
        "\n",
        "  def make_payment(self, amount):\n",
        "    self._balance -= amount\n",
        "\n",
        "  def __str__(self):\n",
        "    return \"this is the calss!\"\n",
        "\n",
        "  "
      ],
      "metadata": {
        "id": "0Wt9cIhydki6"
      },
      "execution_count": null,
      "outputs": []
    },
    {
      "cell_type": "code",
      "source": [
        "#@title C-2.28, 2-29, 2-30\n",
        "\n",
        "class PredatoryCredit(CreditCard):\n",
        "  \"\"\"an inherited class with specialization and extension\"\"\"\n",
        "  LATE_FEE = 10 #late fee is applied if the minimum payment is not satisfied\n",
        "  def __init__(self, customer, bank, acnt, lim, apr, min_pay_perc=0.8):\n",
        "    super().__init__(customer, bank, acnt, lim)\n",
        "    self._apr = apr\n",
        "    self._num_call = 0\n",
        "    self._min_pay_perc = min_pay_perc\n",
        "\n",
        "  \n",
        "\n",
        "  def charge(self, price):\n",
        "\n",
        "    success = super().charge(price)\n",
        "    print(\"The op is {}\".format(success))\n",
        "\n",
        "    if success:\n",
        "      return success\n",
        "    else:\n",
        "      #self._balance += 5. #set baance by direct access the attribute\n",
        "      super().set_balance(super().get_balance() + 5) #set the balance via set_balance in CreditCard class\n",
        "\n",
        "      \n",
        "      if self._num_call > 10:\n",
        "        # self._balance += 1. #each additional call to charge results additional 1$ surcharge\n",
        "        super().set_balance(super().get_balance() + 1)\n",
        "\n",
        "\n",
        "      self._num_call += 1.  #count number of fails\n",
        "\n",
        "  def process_month(self, payment):\n",
        "    if super().get_balance() > 0:\n",
        "    # if positive balance, convert APR to monthly multiplicative factor\n",
        "      monthly_factor = pow(1 + self._apr, 1/12) \n",
        "      # self._balance *= monthly_factor\n",
        "      super().set_balance(super().get_balance() * monthly_factor)\n",
        "\n",
        "      self._num_call = 0 #reset each month\n",
        "\n",
        "      payment_success = self.process_payment(payment)\n",
        "      if not payment_success: \n",
        "        # self._balance += LATE_FEE\n",
        "        super().set_balance(super().get_balance() + LATE_FEE)\n",
        "      else:\n",
        "        # self._balance -= payment\n",
        "        super().set_balance(super().get_balance() - payment)\n",
        "\n",
        "\n",
        "  def process_payment(self, payment):\n",
        "    min_payment = self._min_pay_perc * super().get_balance()\n",
        "\n",
        "    if payment >= min_payment:\n",
        "      return True\n",
        "    else:\n",
        "      return False"
      ],
      "metadata": {
        "id": "I1QRzcCTIv-T"
      },
      "execution_count": null,
      "outputs": []
    },
    {
      "cell_type": "code",
      "source": [
        "p = PredatoryCredit( 'John Bowman' , 'California Savings' , 5391037593875309 , 250, 2)"
      ],
      "metadata": {
        "id": "RnFduEjBJpjy"
      },
      "execution_count": null,
      "outputs": []
    },
    {
      "cell_type": "code",
      "source": [
        "for i in range(20):\n",
        "  p.charge(100)\n",
        "  print(\"balance: {0}\".format(p._balance))"
      ],
      "metadata": {
        "colab": {
          "base_uri": "https://localhost:8080/"
        },
        "id": "o2KsU5bfLtY6",
        "outputId": "b59b0cad-56bd-4411-d0ca-4f56b87b870d"
      },
      "execution_count": null,
      "outputs": [
        {
          "output_type": "stream",
          "name": "stdout",
          "text": [
            "The op is True\n",
            "balance: 100\n",
            "The op is True\n",
            "balance: 200\n",
            "The op is False\n",
            "balance: 205\n",
            "The op is False\n",
            "balance: 210\n",
            "The op is False\n",
            "balance: 215\n",
            "The op is False\n",
            "balance: 220\n",
            "The op is False\n",
            "balance: 225\n",
            "The op is False\n",
            "balance: 230\n",
            "The op is False\n",
            "balance: 235\n",
            "The op is False\n",
            "balance: 240\n",
            "The op is False\n",
            "balance: 245\n",
            "The op is False\n",
            "balance: 250\n",
            "The op is False\n",
            "balance: 255\n",
            "The op is False\n",
            "balance: 261\n",
            "The op is False\n",
            "balance: 267\n",
            "The op is False\n",
            "balance: 273\n",
            "The op is False\n",
            "balance: 279\n",
            "The op is False\n",
            "balance: 285\n",
            "The op is False\n",
            "balance: 291\n",
            "The op is False\n",
            "balance: 297\n"
          ]
        }
      ]
    },
    {
      "cell_type": "code",
      "source": [
        "class Progression:\n",
        "  \"\"\"This is a base class that adds up one unit value to the start value\"\"\"\n",
        "  def __init__(self, start=0):\n",
        "    self._cur = start\n",
        "\n",
        "  def _advance(self):\n",
        "    self._cur += 1\n",
        "\n",
        "  def __next__(self):\n",
        "    if self._cur == None:\n",
        "      raise StopIteration()\n",
        "    answer = self._cur\n",
        "    self._advance()\n",
        "    return answer\n",
        "\n",
        "  def __iter__(self):\n",
        "    return self\n",
        "\n",
        "  def print_progression(self, n):\n",
        "    print(str([next(self) for i in range(n)]))"
      ],
      "metadata": {
        "id": "GHwbcLU7gDh6"
      },
      "execution_count": null,
      "outputs": []
    },
    {
      "cell_type": "code",
      "source": [
        "#@title C-2.31\n",
        "\n",
        "class AbsoluteProgression(Progression):\n",
        "  \"\"\"This class adds the difference of two previous value to the current value\"\"\"\n",
        "  def __init__(self, start1=2, start2=200):\n",
        "    super().__init__(start2)\n",
        "    self._start1 = start1\n",
        "\n",
        "  def _advance(self):\n",
        "    self._diff = self._cur - self._start1\n",
        "    self._cur, self._start1 = self._diff + self._cur, self._cur\n",
        "\n",
        "    \n"
      ],
      "metadata": {
        "id": "iLmiYzFEMaGn"
      },
      "execution_count": null,
      "outputs": []
    },
    {
      "cell_type": "code",
      "source": [
        "a = AbsoluteProgression()"
      ],
      "metadata": {
        "id": "ZDj6KGu3hroD"
      },
      "execution_count": null,
      "outputs": []
    },
    {
      "cell_type": "code",
      "source": [
        "a.print_progression(10)"
      ],
      "metadata": {
        "colab": {
          "base_uri": "https://localhost:8080/"
        },
        "id": "VS2HwxBNhugK",
        "outputId": "acdb14e7-dd9d-42b5-e94f-0c6a3c7e95d9"
      },
      "execution_count": null,
      "outputs": [
        {
          "output_type": "stream",
          "name": "stdout",
          "text": [
            "[200, 398, 596, 794, 992, 1190, 1388, 1586, 1784, 1982]\n"
          ]
        }
      ]
    },
    {
      "cell_type": "code",
      "source": [
        "#@title C-2.32\n",
        "from math import sqrt\n",
        "class SqrtProgression(Progression):\n",
        "  \"\"\"This class adsqrt the previous value \"\"\"\n",
        "  def __init__(self, start=65536):\n",
        "    super().__init__(start)\n",
        "    \n",
        "\n",
        "  def _advance(self):\n",
        "    \n",
        "    self._cur = sqrt(self._cur)\n"
      ],
      "metadata": {
        "id": "Hx4KHMtUhync"
      },
      "execution_count": null,
      "outputs": []
    },
    {
      "cell_type": "code",
      "source": [
        "s = SqrtProgression()"
      ],
      "metadata": {
        "id": "E6D5NVaCifpd"
      },
      "execution_count": null,
      "outputs": []
    },
    {
      "cell_type": "code",
      "source": [
        "s.print_progression(10)"
      ],
      "metadata": {
        "colab": {
          "base_uri": "https://localhost:8080/"
        },
        "id": "zsPcuK0Vig2J",
        "outputId": "7bc87177-ee77-4907-d92d-f9a407bd53a6"
      },
      "execution_count": null,
      "outputs": [
        {
          "output_type": "stream",
          "name": "stdout",
          "text": [
            "[65536, 256.0, 16.0, 4.0, 2.0, 1.4142135623730951, 1.189207115002721, 1.0905077326652577, 1.0442737824274138, 1.0218971486541166]\n"
          ]
        }
      ]
    },
    {
      "cell_type": "markdown",
      "source": [
        "# Projects"
      ],
      "metadata": {
        "id": "fM4yfkSTi-i4"
      }
    },
    {
      "cell_type": "code",
      "source": [
        "#@title P-2.33\n",
        "class FirstDerivativePoly:\n",
        "  \"\"\"This class operates derivative on the conventional polynomial of order d,\n",
        "  e.g., x^2+4x^1+1. The coefficients should be numerical\"\"\"\n",
        "  def __init__(self, poly, symb='x'):\n",
        "    \n",
        "    if poly == '':\n",
        "      raise ValueError('No polynomial entered!!')\n",
        "    \n",
        "    self._poly = poly\n",
        "    self._symb = symb\n",
        "    \n",
        "\n",
        "  def _derive_coeff(self):\n",
        "    \"\"\"This func derives the coefficient and power matrix\"\"\"\n",
        "\n",
        "    splitted = self._poly.split(self._symb+'^')\n",
        "    coeff, power = [], []\n",
        "    sign = None\n",
        "    for k in range(len(splitted)):\n",
        "\n",
        "      # derive the sign\n",
        "      for i in range(len(splitted[k])):\n",
        "        if splitted[k][i] == '+':\n",
        "          sign = '+'\n",
        "          break\n",
        "        elif splitted[k][i] == '-':\n",
        "          sign = '-'\n",
        "          break\n",
        "\n",
        "      if len(splitted) == 1:\n",
        "        coeff.append(float(splitted[k]))\n",
        "        power.append(0)\n",
        "      elif k == 0:\n",
        "        coeff.append(float(splitted[k]))\n",
        "      elif not sign:\n",
        "        power.append(float(splitted[k]))\n",
        "      else:\n",
        "        idx = splitted[k].index(sign)\n",
        "        power.append(float(splitted[k][0:idx]))\n",
        "        coeff.append(float(splitted[k][idx+1:]) if sign=='+' else -float(splitted[k][idx+1:])) \n",
        "\n",
        "    if len(power) < len(coeff):\n",
        "      power.append(0)\n",
        "\n",
        "    self._coeff, self._power = coeff, power\n",
        "\n",
        "    return self._coeff, self._power\n",
        "  \n",
        "  def _drivative(self):\n",
        "    \"\"\"This func derives the derivative of polynomial\"\"\"\n",
        "    \n",
        "    self._derive_coeff()\n",
        "    driv_coeff = []\n",
        "    driv_power = []\n",
        "    \n",
        "    for i in range(len(self._coeff)):\n",
        "      driv_coeff.append(self._coeff[i] * self._power[i])\n",
        "      driv_power.append(self._power[i] - 1 if self._power[i] > 0 else 0)\n",
        "    \n",
        "    return driv_coeff, driv_power\n",
        "\n",
        "\n"
      ],
      "metadata": {
        "id": "Ul_aaBPpi66T"
      },
      "execution_count": null,
      "outputs": []
    },
    {
      "cell_type": "code",
      "source": [
        "poly = '4x^5-3x^2+1x^1-9'\n",
        "s = FirstDerivativePoly(poly)\n",
        "coeff, power = s._drivative()\n",
        "print(\"The derivative of {0} is polynomial with corresponding coeff: {1} and power: {2}\".format(poly, coeff, power))"
      ],
      "metadata": {
        "colab": {
          "base_uri": "https://localhost:8080/"
        },
        "id": "YlwjzVu1_DVm",
        "outputId": "00e69f5c-0157-4fcf-bbf0-b054ea2b87d2"
      },
      "execution_count": null,
      "outputs": [
        {
          "output_type": "stream",
          "name": "stdout",
          "text": [
            "The derivative of 4x^5-3x^2+1x^1-9 is polynomial with corresponding coeff: [20.0, -6.0, 1.0, -0.0] and power: [4.0, 1.0, 0.0, 0]\n"
          ]
        }
      ]
    },
    {
      "cell_type": "code",
      "source": [
        "#@title P-2.34\n",
        "from collections import defaultdict\n",
        "import matplotlib.pyplot as plt\n",
        "\n",
        "class PlotFreqChars:\n",
        "  \"\"\"This class plot the frequency of each alphabet character in input document\"\"\"\n",
        "  def __init__(self, file_path=None):\n",
        "    self._path = file_path\n",
        "\n",
        "  def _count(self):\n",
        "    \"\"\"This func counts number of chars\"\"\"\n",
        "    result = defaultdict(int)\n",
        "    with open(self._path) as f:\n",
        "      contents = f.read()\n",
        "    for char in contents:\n",
        "      result[char.lower()] += 1\n",
        "    self._result = result\n",
        "  \n",
        "  def _bar_plot(self):\n",
        "    \"\"\"This func draws the bar plot\"\"\"\n",
        "    self._count()\n",
        "    data = self._result\n",
        "    courses = list(data.keys())\n",
        "    values = list(data.values())\n",
        "      \n",
        "    fig = plt.figure(figsize = (10, 5))\n",
        "    \n",
        "    # creating the bar plot\n",
        "    plt.bar(courses, values, color ='maroon',\n",
        "            width = 0.4)\n",
        "    \n",
        "    plt.xlabel(\"Characters\")\n",
        "    plt.ylabel(\"No. of Chars\")\n",
        "    plt.title(\"Number of chars\")\n",
        "    plt.show()\n",
        "\n",
        "\n",
        "    "
      ],
      "metadata": {
        "id": "vrkod7kjaely"
      },
      "execution_count": null,
      "outputs": []
    },
    {
      "cell_type": "code",
      "source": [
        "file_path = '/content/sample_data/README.md'\n",
        "p = PlotFreqChars(file_path)\n",
        "p._bar_plot()"
      ],
      "metadata": {
        "colab": {
          "base_uri": "https://localhost:8080/",
          "height": 361
        },
        "id": "YaO3VNJVWlDH",
        "outputId": "b7db2c43-f67e-4e06-d3b6-e4c98faa9e42"
      },
      "execution_count": null,
      "outputs": [
        {
          "output_type": "display_data",
          "data": {
            "text/plain": [
              "<Figure size 720x360 with 1 Axes>"
            ],
            "image/png": "[encoded data removed]"
          },
          "metadata": {
            "needs_background": "light"
          }
        }
      ]
    },
    {
      "cell_type": "markdown",
      "source": [
        "# P-2.35\n",
        "\n",
        "1. Alice creates a packet\n",
        "2. The packet is listed in queue\n",
        "3. The sender is notified \n",
        "4. The packet is picked up by the sender and is send to the destiantion\n",
        "5. When the packet received, the receiver will be notified\n",
        "6. The packet is delviered to the receiver "
      ],
      "metadata": {
        "id": "TGkGsge4G5zG"
      }
    },
    {
      "cell_type": "code",
      "source": [
        "#@title P-2.35\n",
        "class Packet:\n",
        "  \"\"\"This packet simulate a packet\"\"\"\n",
        "  def __init__(self, id, body, timestamp_created):\n",
        "    self._id = id\n",
        "    self._body = body\n",
        "    self._timestamp_created = timestamp_created\n",
        "\n",
        "\n",
        "class SendToQueue:\n",
        "  \"\"\"This class puts the packet in queue\"\"\"\n",
        "  def __init__(self, queue=None):\n",
        "    self._queue = queue\n",
        "    self._flag = False\n",
        "\n",
        "  def _queue_packet(self, packet):\n",
        "    \"\"\"Put the packet in the queue\"\"\"\n",
        "    self._queue.append(packet)\n",
        "\n",
        "  def _get_packet(self):\n",
        "    \"\"\"Get the packet from queue, it is a FIFO queue\"\"\"\n",
        "    return self._queue[-1]\n",
        "\n",
        "  def _set_flag(self):\n",
        "    \"\"\"set the flag to indicate the existance of a packet in the queue\"\"\"\n",
        "    self._flag = True\n",
        "  \n",
        "\n",
        "  def _check_packet(self):\n",
        "    \"\"\"check the queue, if there is any paclet, get it\"\"\"\n",
        "    if self._flag:\n",
        "      self._get_packet()\n",
        "    else:\n",
        "      return None\n",
        "\n",
        "\n",
        "\n",
        "class SendPacket:\n",
        "  \"\"\"Send the packet to a destiantion\"\"\"\n",
        "\n",
        "  def _send_packet(self, packet):\n",
        "    return packet\n",
        "\n",
        "class ReceivePacket:\n",
        "\n",
        "  def __init__(self, rec_flag):\n",
        "    self._rec_flag = rec_flag\n",
        "    self._rec_queue = []\n",
        "  \n",
        "\n",
        "\n",
        "  def _set_flag(self):\n",
        "    self._rec_flag = True\n",
        "\n",
        "  def _get_packet(self):\n",
        "    return self._rec_queue[-1]\n",
        "\n",
        "  def _check_rec(self):\n",
        "    if self._rec_flag:\n",
        "      self._get_packet()\n",
        "\n",
        "\n",
        "\n",
        "    \n",
        "\n",
        "\n"
      ],
      "metadata": {
        "id": "LaFtjJAZXaO1"
      },
      "execution_count": null,
      "outputs": []
    },
    {
      "cell_type": "code",
      "source": [
        "#@title P-2.36\n",
        "\n",
        "import random\n",
        "\n",
        "class Bear:\n",
        "  def __init__(self):\n",
        "    \"\"\"This class generates the bear object\"\"\"\n",
        "    self._type = 'Bear'\n",
        "  def _get_type(self):\n",
        "    return self._type\n",
        "\n",
        "class Fish:\n",
        "  def __init__(self):\n",
        "    \"\"\"This class generate fish object\"\"\"\n",
        "    self._type = 'Fish'\n",
        "  \n",
        "  def _get_type(self):\n",
        "    return self._type\n",
        "\n",
        "class Echosys:\n",
        "  \"\"\"This class manages echo system\"\"\"\n",
        "  def __init__(self, length=0):\n",
        "    self._list_of_obj = [None] * length\n",
        "\n",
        "  def _get_list_obj(self):\n",
        "    return self._list_of_obj\n",
        "  \n",
        "  def _generate_obj(self):\n",
        "    \"\"\"This func generates the object fish or bear or none with equal probability\"\"\"\n",
        "    rand_num = random.random()\n",
        "    if rand_num < 1/3:\n",
        "      return Bear()\n",
        "    elif 1/3 < rand_num < 2/3:\n",
        "      return Fish()\n",
        "    else:\n",
        "      return None\n",
        "\n",
        "  def _generate_list(self):\n",
        "    for i in range(len(self._list_of_obj)):\n",
        "      self._list_of_obj[i] = self._generate_obj()\n",
        "\n",
        "  def _set_value(self, j, value):\n",
        "    self._list_of_obj[j] = value\n",
        "\n",
        "  def _update_if_right(self, k):\n",
        "    if self._list_of_obj[k+1]: \n",
        "      if self._list_of_obj[k]._get_type() == self._list_of_obj[k+1]._get_type():\n",
        "        try:\n",
        "          idx = self._list_of_obj.index(None)\n",
        "          if self._list_of_obj[k]._get_type() == 'Fish':\n",
        "            self._set_value(idx, Fish())\n",
        "          else:\n",
        "            self._set_value(idx, Bear())\n",
        "        except ValueError:\n",
        "          pass\n",
        "      elif self._list_of_obj[k]._get_type() == 'Fish' and self._list_of_obj[k+1]._get_type() == 'Bear':\n",
        "        self._set_value(k, None)\n",
        "      else:\n",
        "        self._set_value(k, None)\n",
        "        self._set_value(k+1, Bear())\n",
        "    else:\n",
        "      if self._list_of_obj[k]._get_type() == 'Fish':\n",
        "        self._set_value(k+1, Fish())\n",
        "      else:\n",
        "        self._set_value(k+1, Bear())\n",
        "\n",
        "  def _update_if_left(self, k):\n",
        "    if self._list_of_obj[k-1]: \n",
        "      if self._list_of_obj[k]._get_type() == self._list_of_obj[k-1]._get_type():\n",
        "        try:\n",
        "          idx = self._list_of_obj.index(None)\n",
        "          if self._list_of_obj[k]._get_type() == 'Fish':\n",
        "            self._set_value(idx, Fish())\n",
        "          else:\n",
        "            self._set_value(idx, Bear())\n",
        "        except ValueError:\n",
        "                pass\n",
        "      elif self._list_of_obj[k]._get_type() == 'Fish' and self._list_of_obj[k-1]._get_type() == 'Bear':\n",
        "        self._set_value(k, None)\n",
        "      else:\n",
        "        self._set_value(k, None)\n",
        "        self._set_value(k-1, Bear())\n",
        "    else:\n",
        "      if self._list_of_obj[k]._get_type() == 'Fish':\n",
        "        self._set_value(k-1, Fish())\n",
        "      else:\n",
        "        self._set_value(k-1, Bear())\n",
        "\n",
        "  def _move_sim(self):\n",
        "\n",
        "    for k in range(len(self._list_of_obj)):  #for each element in river\n",
        "      dir = random.randint(0, 1) #if 0 object jumps to left, else right\n",
        "      if k == 0 and self._list_of_obj[k]:\n",
        "        if dir:\n",
        "          self._update_if_right(k)\n",
        "        else:\n",
        "          continue\n",
        "      \n",
        "      if k == len(self._list_of_obj) - 1 and self._list_of_obj[k]:\n",
        "        if not dir:\n",
        "          self._update_if_left(k)\n",
        "        else:\n",
        "          continue\n",
        "\n",
        "      if self._list_of_obj[k]:\n",
        "        if dir:\n",
        "          self._update_if_right(k)\n",
        "        else:\n",
        "          self._update_if_left(k)\n",
        "    \n",
        "  def _run_simulation(self, t):\n",
        "\n",
        "    self._generate_list()\n",
        "    for i in range(t):\n",
        "      print(\"The echo system objs at time step {0} is : {1}\".format(i, self._get_list_obj()))\n",
        "      self._move_sim()\n",
        "      \n",
        "\n",
        "          "
      ],
      "metadata": {
        "id": "QXFoFddWFhWV"
      },
      "execution_count": null,
      "outputs": []
    },
    {
      "cell_type": "code",
      "source": [
        "echsys = Echosys(10)"
      ],
      "metadata": {
        "id": "CjLANxKUSrXJ"
      },
      "execution_count": null,
      "outputs": []
    },
    {
      "cell_type": "code",
      "source": [
        "#run simulation\n",
        "echsys._run_simulation(10)"
      ],
      "metadata": {
        "colab": {
          "base_uri": "https://localhost:8080/"
        },
        "id": "PFdm0TveazA9",
        "outputId": "7cc67502-dcb0-4091-ffb6-f38a0c479069"
      },
      "execution_count": null,
      "outputs": [
        {
          "output_type": "stream",
          "name": "stdout",
          "text": [
            "The echo system objs at time step 0 is : [None, None, <__main__.Bear object at 0x7f9871897190>, <__main__.Bear object at 0x7f9871897590>, <__main__.Fish object at 0x7f9871897e10>, <__main__.Fish object at 0x7f9871897b10>, <__main__.Bear object at 0x7f9871897c90>, <__main__.Bear object at 0x7f9871897990>, None, <__main__.Bear object at 0x7f98718976d0>]\n",
            "The echo system objs at time step 1 is : [<__main__.Bear object at 0x7f9871897310>, <__main__.Bear object at 0x7f9871897050>, <__main__.Bear object at 0x7f9871897190>, <__main__.Bear object at 0x7f9871897e10>, <__main__.Bear object at 0x7f9871897590>, <__main__.Bear object at 0x7f9871897b10>, <__main__.Bear object at 0x7f9871897c90>, <__main__.Bear object at 0x7f9871897990>, None, <__main__.Bear object at 0x7f98718976d0>]\n",
            "The echo system objs at time step 2 is : [<__main__.Bear object at 0x7f9871897310>, <__main__.Bear object at 0x7f9871897050>, <__main__.Bear object at 0x7f9871897190>, <__main__.Bear object at 0x7f9871897e10>, <__main__.Bear object at 0x7f9871897590>, <__main__.Bear object at 0x7f9871897b10>, <__main__.Bear object at 0x7f9871897c90>, <__main__.Bear object at 0x7f9871897990>, <__main__.Bear object at 0x7f9871897e90>, <__main__.Bear object at 0x7f98718976d0>]\n",
            "The echo system objs at time step 3 is : [<__main__.Bear object at 0x7f9871897310>, <__main__.Bear object at 0x7f9871897050>, <__main__.Bear object at 0x7f9871897190>, <__main__.Bear object at 0x7f9871897e10>, <__main__.Bear object at 0x7f9871897590>, <__main__.Bear object at 0x7f9871897b10>, <__main__.Bear object at 0x7f9871897c90>, <__main__.Bear object at 0x7f9871897990>, <__main__.Bear object at 0x7f9871897e90>, <__main__.Bear object at 0x7f98718976d0>]\n",
            "The echo system objs at time step 4 is : [<__main__.Bear object at 0x7f9871897310>, <__main__.Bear object at 0x7f9871897050>, <__main__.Bear object at 0x7f9871897190>, <__main__.Bear object at 0x7f9871897e10>, <__main__.Bear object at 0x7f9871897590>, <__main__.Bear object at 0x7f9871897b10>, <__main__.Bear object at 0x7f9871897c90>, <__main__.Bear object at 0x7f9871897990>, <__main__.Bear object at 0x7f9871897e90>, <__main__.Bear object at 0x7f98718976d0>]\n",
            "The echo system objs at time step 5 is : [<__main__.Bear object at 0x7f9871897310>, <__main__.Bear object at 0x7f9871897050>, <__main__.Bear object at 0x7f9871897190>, <__main__.Bear object at 0x7f9871897e10>, <__main__.Bear object at 0x7f9871897590>, <__main__.Bear object at 0x7f9871897b10>, <__main__.Bear object at 0x7f9871897c90>, <__main__.Bear object at 0x7f9871897990>, <__main__.Bear object at 0x7f9871897e90>, <__main__.Bear object at 0x7f98718976d0>]\n",
            "The echo system objs at time step 6 is : [<__main__.Bear object at 0x7f9871897310>, <__main__.Bear object at 0x7f9871897050>, <__main__.Bear object at 0x7f9871897190>, <__main__.Bear object at 0x7f9871897e10>, <__main__.Bear object at 0x7f9871897590>, <__main__.Bear object at 0x7f9871897b10>, <__main__.Bear object at 0x7f9871897c90>, <__main__.Bear object at 0x7f9871897990>, <__main__.Bear object at 0x7f9871897e90>, <__main__.Bear object at 0x7f98718976d0>]\n",
            "The echo system objs at time step 7 is : [<__main__.Bear object at 0x7f9871897310>, <__main__.Bear object at 0x7f9871897050>, <__main__.Bear object at 0x7f9871897190>, <__main__.Bear object at 0x7f9871897e10>, <__main__.Bear object at 0x7f9871897590>, <__main__.Bear object at 0x7f9871897b10>, <__main__.Bear object at 0x7f9871897c90>, <__main__.Bear object at 0x7f9871897990>, <__main__.Bear object at 0x7f9871897e90>, <__main__.Bear object at 0x7f98718976d0>]\n",
            "The echo system objs at time step 8 is : [<__main__.Bear object at 0x7f9871897310>, <__main__.Bear object at 0x7f9871897050>, <__main__.Bear object at 0x7f9871897190>, <__main__.Bear object at 0x7f9871897e10>, <__main__.Bear object at 0x7f9871897590>, <__main__.Bear object at 0x7f9871897b10>, <__main__.Bear object at 0x7f9871897c90>, <__main__.Bear object at 0x7f9871897990>, <__main__.Bear object at 0x7f9871897e90>, <__main__.Bear object at 0x7f98718976d0>]\n",
            "The echo system objs at time step 9 is : [<__main__.Bear object at 0x7f9871897310>, <__main__.Bear object at 0x7f9871897050>, <__main__.Bear object at 0x7f9871897190>, <__main__.Bear object at 0x7f9871897e10>, <__main__.Bear object at 0x7f9871897590>, <__main__.Bear object at 0x7f9871897b10>, <__main__.Bear object at 0x7f9871897c90>, <__main__.Bear object at 0x7f9871897990>, <__main__.Bear object at 0x7f9871897e90>, <__main__.Bear object at 0x7f98718976d0>]\n"
          ]
        }
      ]
    },
    {
      "cell_type": "code",
      "source": [
        "#@title P-2.37\n"
      ],
      "metadata": {
        "id": "WwpHuFPo3XDs"
      },
      "execution_count": null,
      "outputs": []
    },
    {
      "cell_type": "code",
      "source": [
        "#@title P-2.38"
      ],
      "metadata": {
        "id": "ITKdBnxy3bPf"
      },
      "execution_count": null,
      "outputs": []
    },
    {
      "cell_type": "code",
      "source": [
        "#@title P-2.39\n",
        "from abc import ABCMeta, abstractmethod\n",
        "\n",
        "class Polygon(metaclass=ABCMeta):\n",
        "\n",
        "  @abstractmethod\n",
        "  def _area(self):\n",
        "    \"\"\"Return the area of polygon\"\"\"\n",
        "  \n",
        "  @abstractmethod\n",
        "  def _perimeter(self):\n",
        "    \"\"\"Return the perimeter of the polygon\"\"\"\n"
      ],
      "metadata": {
        "id": "oT81otNJftMa"
      },
      "execution_count": null,
      "outputs": []
    },
    {
      "cell_type": "code",
      "source": [
        "class Triangle(Polygon):\n",
        "  def __init__(self, side_a=None, side_c = None, height=None, base=None):\n",
        "    self._height = height\n",
        "    self._base = base\n",
        "    self._side_a = side_a\n",
        "    self._side_c = side_c\n",
        "  \n",
        "  def _area(self):\n",
        "    return self._height * self._base * 0.5\n",
        "  \n",
        "  def _perimeter(self):\n",
        "    return self._side_a + self._side_c + self._base"
      ],
      "metadata": {
        "id": "ZDE_glasscCj"
      },
      "execution_count": null,
      "outputs": []
    },
    {
      "cell_type": "code",
      "source": [
        "import math\n",
        "class EquilateralTriangle(Triangle):\n",
        "  def __init__(self, side=None):\n",
        "    super().__init__(side, side, side * math.sqrt(3)/2, side)"
      ],
      "metadata": {
        "id": "xcqpN1wGHOOG"
      },
      "execution_count": null,
      "outputs": []
    },
    {
      "cell_type": "code",
      "source": [
        "t = Triangle(3, 5, 3,4)"
      ],
      "metadata": {
        "id": "YXDdIfBDuBl9"
      },
      "execution_count": null,
      "outputs": []
    },
    {
      "cell_type": "code",
      "source": [
        "t._area(), t._perimeter()"
      ],
      "metadata": {
        "colab": {
          "base_uri": "https://localhost:8080/"
        },
        "id": "o5VzCVQvuPDb",
        "outputId": "3d3e0b83-9e30-454c-de2a-a11b7a0517b2"
      },
      "execution_count": null,
      "outputs": [
        {
          "output_type": "execute_result",
          "data": {
            "text/plain": [
              "(6.0, 12)"
            ]
          },
          "metadata": {},
          "execution_count": 199
        }
      ]
    },
    {
      "cell_type": "code",
      "source": [
        "e = EquilateralTriangle(3)\n",
        "e._area(), e._perimeter()"
      ],
      "metadata": {
        "colab": {
          "base_uri": "https://localhost:8080/"
        },
        "id": "YHlWL5qHuRhv",
        "outputId": "4301857e-8ddd-4bdc-f4ef-c97940d5a98f"
      },
      "execution_count": null,
      "outputs": [
        {
          "output_type": "execute_result",
          "data": {
            "text/plain": [
              "(3.897114317029974, 9)"
            ]
          },
          "metadata": {},
          "execution_count": 200
        }
      ]
    },
    {
      "cell_type": "code",
      "source": [],
      "metadata": {
        "id": "s8UJYapaIdsZ"
      },
      "execution_count": null,
      "outputs": []
    }
  ]
}