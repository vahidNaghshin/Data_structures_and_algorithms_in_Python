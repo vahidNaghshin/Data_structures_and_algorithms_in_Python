{
  "cells": [
    {
      "cell_type": "markdown",
      "metadata": {
        "id": "view-in-github",
        "colab_type": "text"
      },
      "source": [
        "<a href=\"https://colab.research.google.com/github/vahidNaghshin/Data_structures_and_algorithms_in_Python/blob/main/Data_structures_and_algorithms_in_Python_Chapter_4.ipynb\" target=\"_parent\"><img src=\"https://colab.research.google.com/assets/colab-badge.svg\" alt=\"Open In Colab\"/></a>"
      ]
    },
    {
      "cell_type": "code",
      "execution_count": null,
      "metadata": {
        "id": "5V5oFZSrkcyi"
      },
      "outputs": [],
      "source": [
        "def factorial(n):\n",
        "  if n == 0:\n",
        "    return 1\n",
        "  else:\n",
        "    return n * factorial(n-1)"
      ]
    },
    {
      "cell_type": "code",
      "execution_count": null,
      "metadata": {
        "colab": {
          "base_uri": "https://localhost:8080/"
        },
        "id": "a9_G4GJ9mUgd",
        "outputId": "3d5adeda-b9d1-45ea-9cf0-f3b1783b3b32"
      },
      "outputs": [
        {
          "data": {
            "text/plain": [
              "6"
            ]
          },
          "execution_count": 4,
          "metadata": {},
          "output_type": "execute_result"
        }
      ],
      "source": [
        "n = 3\n",
        "factorial(3)"
      ]
    },
    {
      "cell_type": "code",
      "execution_count": null,
      "metadata": {
        "id": "wZ8gleXtmXD8"
      },
      "outputs": [],
      "source": [
        "def draw_line(tick_length, tick_label=''):\n",
        "  \"Draw one line with given tick length (followed by optional label).\"\"\"\n",
        "  line =   '-' * tick_length\n",
        "  if tick_label:\n",
        "    line += ' ' + tick_label \n",
        "  print(line)\n",
        "\n",
        "def draw_interval(center_length):\n",
        "  \"\"\"Draw tick interval based upon a central tick length.\"\"\"\n",
        "  if center_length > 0:\n",
        "    draw_interval(center_length - 1) \n",
        "    draw_line(center_length)\n",
        "    draw_interval(center_length - 1)\n",
        "\n",
        "def draw_ruler(num_inches, major_length):\n",
        "  \"\"\"Draw English ruler with given number of inches, major tick length.\"\"\"\n",
        "  draw_line(major_length, '0' )\n",
        "  for j in range(1, 1 + num_inches): \n",
        "    draw_interval(major_length - 1)\n",
        "    draw_line(major_length, str(j))"
      ]
    },
    {
      "cell_type": "code",
      "execution_count": null,
      "metadata": {
        "colab": {
          "base_uri": "https://localhost:8080/"
        },
        "id": "hMK5qonJs_4Q",
        "outputId": "9e38182b-82a7-4fef-c71f-3fd182cddb3c"
      },
      "outputs": [
        {
          "name": "stdout",
          "output_type": "stream",
          "text": [
            "----- 0\n",
            "-\n",
            "--\n",
            "-\n",
            "---\n",
            "-\n",
            "--\n",
            "-\n",
            "----\n",
            "-\n",
            "--\n",
            "-\n",
            "---\n",
            "-\n",
            "--\n",
            "-\n",
            "----- 1\n"
          ]
        }
      ],
      "source": [
        "draw_ruler(num_inches=1, major_length=5)"
      ]
    },
    {
      "cell_type": "code",
      "execution_count": null,
      "metadata": {
        "id": "dciumo7ztHSS"
      },
      "outputs": [],
      "source": [
        "import math\n",
        "def binary_search(seq, target):\n",
        "  low, high = 0, len(seq)-1\n",
        "\n",
        "  while low < high :\n",
        "    print(low, high)\n",
        "    med = math.floor((high+low)/2)\n",
        "    \n",
        "    if seq[med] == target:\n",
        "      return True\n",
        "\n",
        "    if seq[med] > target:\n",
        "      high = med - 1 #since seq[med] has already been checked\n",
        "    else:\n",
        "      low = med + 1\n",
        "    \n",
        "    \n",
        "  \n",
        "  return False\n"
      ]
    },
    {
      "cell_type": "code",
      "execution_count": null,
      "metadata": {
        "colab": {
          "base_uri": "https://localhost:8080/"
        },
        "id": "9ouWRsj_w_N9",
        "outputId": "43da391e-d971-4320-ba69-99a751734442"
      },
      "outputs": [
        {
          "name": "stdout",
          "output_type": "stream",
          "text": [
            "[0, 0, 1, 1, 1, 2, 3, 3, 3, 4, 5, 5, 5, 6, 7, 7, 7, 9, 9, 9]\n"
          ]
        }
      ],
      "source": [
        "# seq = [1,2,3,4,5]\n",
        "import random\n",
        "seq = [random.randint(0, 10) for _ in range(20)]\n",
        "seq.sort()\n",
        "print(seq)"
      ]
    },
    {
      "cell_type": "code",
      "execution_count": null,
      "metadata": {
        "colab": {
          "base_uri": "https://localhost:8080/"
        },
        "id": "QDcmlPrYxARu",
        "outputId": "92e31047-e1ac-4262-f9c2-19219b91edc5"
      },
      "outputs": [
        {
          "name": "stdout",
          "output_type": "stream",
          "text": [
            "0 19\n",
            "10 19\n",
            "15 19\n",
            "15 16\n"
          ]
        },
        {
          "data": {
            "text/plain": [
              "False"
            ]
          },
          "execution_count": 80,
          "metadata": {},
          "output_type": "execute_result"
        }
      ],
      "source": [
        "binary_search(seq, target=8)"
      ]
    },
    {
      "cell_type": "code",
      "execution_count": null,
      "metadata": {
        "id": "wpfSn95szvgS"
      },
      "outputs": [],
      "source": [
        "def binary_search(seq, target, low, high):\n",
        "  if low > high:  #this is the base case\n",
        "    return False\n",
        "  else:\n",
        "    med = (low+high)//2\n",
        "    if target == seq[high]:\n",
        "      return True\n",
        "    elif target > seq[med]:\n",
        "      return binary_search(seq, target, med+1, high)\n",
        "    else:\n",
        "      return binary_search(seq, target, low, med-1)\n",
        "\n",
        "  "
      ]
    },
    {
      "cell_type": "code",
      "execution_count": null,
      "metadata": {
        "colab": {
          "base_uri": "https://localhost:8080/"
        },
        "id": "Y1SsYm3g7dM0",
        "outputId": "e4382226-97dc-4fed-962b-c07ba28a194c"
      },
      "outputs": [
        {
          "data": {
            "text/plain": [
              "True"
            ]
          },
          "execution_count": 90,
          "metadata": {},
          "output_type": "execute_result"
        }
      ],
      "source": [
        "binary_search(seq, 9, 0, 19)"
      ]
    },
    {
      "cell_type": "code",
      "execution_count": null,
      "metadata": {
        "colab": {
          "base_uri": "https://localhost:8080/"
        },
        "id": "RxmkjeJR7o84",
        "outputId": "7e1f0aad-1e30-4c38-8979-54c6edf83d48"
      },
      "outputs": [
        {
          "data": {
            "text/plain": [
              "int"
            ]
          },
          "execution_count": 118,
          "metadata": {},
          "output_type": "execute_result"
        }
      ],
      "source": [
        "import os\n",
        "file_path = '/content/sample_data/anscombe.json'\n",
        "type(os.path.getsize(file_path))"
      ]
    },
    {
      "cell_type": "code",
      "execution_count": null,
      "metadata": {
        "colab": {
          "base_uri": "https://localhost:8080/"
        },
        "id": "mX6MB0pKDiOc",
        "outputId": "7808530e-2836-4395-a2f0-d32cc451d29e"
      },
      "outputs": [
        {
          "data": {
            "text/plain": [
              "False"
            ]
          },
          "execution_count": 111,
          "metadata": {},
          "output_type": "execute_result"
        }
      ],
      "source": [
        "os.path.isdir(file_path)"
      ]
    },
    {
      "cell_type": "code",
      "execution_count": null,
      "metadata": {
        "colab": {
          "base_uri": "https://localhost:8080/",
          "height": 181
        },
        "id": "te1nVQRBDt3n",
        "outputId": "982473f0-9dba-424a-ff69-902098de2f14"
      },
      "outputs": [
        {
          "ename": "NotADirectoryError",
          "evalue": "ignored",
          "output_type": "error",
          "traceback": [
            "\u001b[0;31m---------------------------------------------------------------------------\u001b[0m",
            "\u001b[0;31mNotADirectoryError\u001b[0m                        Traceback (most recent call last)",
            "\u001b[0;32m<ipython-input-112-ff2935b9225c>\u001b[0m in \u001b[0;36m<module>\u001b[0;34m\u001b[0m\n\u001b[0;32m----> 1\u001b[0;31m \u001b[0mx\u001b[0m \u001b[0;34m=\u001b[0m \u001b[0mos\u001b[0m\u001b[0;34m.\u001b[0m\u001b[0mlistdir\u001b[0m\u001b[0;34m(\u001b[0m\u001b[0mfile_path\u001b[0m\u001b[0;34m)\u001b[0m\u001b[0;34m\u001b[0m\u001b[0;34m\u001b[0m\u001b[0m\n\u001b[0m\u001b[1;32m      2\u001b[0m \u001b[0mx\u001b[0m\u001b[0;34m\u001b[0m\u001b[0;34m\u001b[0m\u001b[0m\n",
            "\u001b[0;31mNotADirectoryError\u001b[0m: [Errno 20] Not a directory: '/content/sample_data/anscombe.json'"
          ]
        }
      ],
      "source": [
        "x = os.listdir(file_path)\n",
        "x"
      ]
    },
    {
      "cell_type": "code",
      "execution_count": null,
      "metadata": {
        "colab": {
          "base_uri": "https://localhost:8080/",
          "height": 37
        },
        "id": "yEFHQnDqD_Z9",
        "outputId": "d8dad3dc-c6cf-4a14-a2ac-d9a0782c7536"
      },
      "outputs": [
        {
          "data": {
            "application/vnd.google.colaboratory.intrinsic+json": {
              "type": "string"
            },
            "text/plain": [
              "'/content/sample_data/anscombe.json'"
            ]
          },
          "execution_count": 101,
          "metadata": {},
          "output_type": "execute_result"
        }
      ],
      "source": [
        "os.path.join(file_path, x[0])"
      ]
    },
    {
      "cell_type": "code",
      "execution_count": null,
      "metadata": {
        "id": "23Ggk5T_EN5C"
      },
      "outputs": [],
      "source": [
        "import os\n",
        "\n",
        "def disk_space(file_path):\n",
        "  total = 0\n",
        "  for di in os.listdir(file_path):\n",
        "    path = os.path.join(file_path, di)\n",
        "    tot_size = os.path.getsize(path)\n",
        "    total += tot_size\n",
        "  return total"
      ]
    },
    {
      "cell_type": "code",
      "execution_count": null,
      "metadata": {
        "colab": {
          "base_uri": "https://localhost:8080/"
        },
        "id": "HY-4qIOQSimw",
        "outputId": "56461d77-f03b-446e-8417-b03c70514411"
      },
      "outputs": [
        {
          "data": {
            "text/plain": [
              "56823521"
            ]
          },
          "execution_count": 136,
          "metadata": {},
          "output_type": "execute_result"
        }
      ],
      "source": [
        "disk_space('/content/sample_data')"
      ]
    },
    {
      "cell_type": "code",
      "execution_count": null,
      "metadata": {
        "id": "ZpihJ_Z2W3YS"
      },
      "outputs": [],
      "source": [
        "def disk_usage(path):\n",
        "  total = os.path.getsize(path) \n",
        "  if os.path.isdir(path):\n",
        "    for filename in os.listdir(path):\n",
        "      childpath = os.path.join(path, filename) \n",
        "      total += disk_usage(childpath)\n",
        "  print ('{0:<7}'.format(total), path) \n",
        "  return total"
      ]
    },
    {
      "cell_type": "code",
      "execution_count": null,
      "metadata": {
        "colab": {
          "base_uri": "https://localhost:8080/",
          "height": 164
        },
        "id": "7fLAcv_3XYRv",
        "outputId": "33e61361-d2e5-4a34-857d-7740060ae61b"
      },
      "outputs": [
        {
          "ename": "NameError",
          "evalue": "ignored",
          "output_type": "error",
          "traceback": [
            "\u001b[0;31m---------------------------------------------------------------------------\u001b[0m",
            "\u001b[0;31mNameError\u001b[0m                                 Traceback (most recent call last)",
            "\u001b[0;32m<ipython-input-2-0834272beb67>\u001b[0m in \u001b[0;36m<module>\u001b[0;34m\u001b[0m\n\u001b[0;32m----> 1\u001b[0;31m \u001b[0mdisk_usage\u001b[0m\u001b[0;34m(\u001b[0m\u001b[0mfile_path\u001b[0m\u001b[0;34m)\u001b[0m\u001b[0;34m\u001b[0m\u001b[0;34m\u001b[0m\u001b[0m\n\u001b[0m",
            "\u001b[0;31mNameError\u001b[0m: name 'file_path' is not defined"
          ]
        }
      ],
      "source": [
        "disk_usage(file_path)"
      ]
    },
    {
      "cell_type": "code",
      "execution_count": null,
      "metadata": {
        "id": "cLPAvSklXaWk"
      },
      "outputs": [],
      "source": [
        "#the designers of Python made an intentional decision to limit the overall number of function acti- vations that can be simultaneously active. \n",
        "import sys\n",
        "sys.getrecursionlimit()\n",
        "sys.setrecursionlimit(1000)"
      ]
    },
    {
      "cell_type": "markdown",
      "metadata": {
        "id": "3v6q5oUeuw42"
      },
      "source": [
        "We organize our presentation by considering the maximum number of recursive calls that may be started from within the body of a single activation.\n",
        "If a recursive call starts at most one other, we call this a linear recursion.\n",
        "\n",
        "1. If a recursive call starts at most one other, we call this a **linear recursion**.\n",
        "\n",
        "2. If a recursive call may start two others, we call this a **binary recursion**.\n",
        "\n",
        "3. If a recursive call may start three or more others, this is **multiple recursion**.\n"
      ]
    },
    {
      "cell_type": "code",
      "execution_count": null,
      "metadata": {
        "id": "G_Q2LWDbuJTu"
      },
      "outputs": [],
      "source": [
        "def sum_seq(seq):\n",
        "  if len(seq) == 0:\n",
        "    return 0\n",
        "  else:\n",
        "    return seq[-1] + sum_seq(seq[0:-1])"
      ]
    },
    {
      "cell_type": "code",
      "execution_count": null,
      "metadata": {
        "colab": {
          "base_uri": "https://localhost:8080/"
        },
        "id": "mdBYnJOUwEgB",
        "outputId": "b71ca688-602b-4544-d054-1f0f3685b95e"
      },
      "outputs": [
        {
          "data": {
            "text/plain": [
              "21"
            ]
          },
          "execution_count": 4,
          "metadata": {},
          "output_type": "execute_result"
        }
      ],
      "source": [
        "seq = [1,2,3,4,5,6]\n",
        "sum_seq(seq)"
      ]
    },
    {
      "cell_type": "code",
      "execution_count": null,
      "metadata": {
        "id": "A7iKL-CuwIIa"
      },
      "outputs": [],
      "source": [
        "def linear_sum(seq, n):\n",
        "  if n == 0:\n",
        "    return 0\n",
        "  else:\n",
        "    return linear_sum(seq, n-1) + seq[n-1]"
      ]
    },
    {
      "cell_type": "code",
      "execution_count": null,
      "metadata": {
        "colab": {
          "base_uri": "https://localhost:8080/"
        },
        "id": "cwVlEmfQwm5f",
        "outputId": "db02b362-1613-4fc7-e238-9e44fd3e9175"
      },
      "outputs": [
        {
          "data": {
            "text/plain": [
              "6"
            ]
          },
          "execution_count": 6,
          "metadata": {},
          "output_type": "execute_result"
        }
      ],
      "source": [
        "linear_sum(seq, 3)"
      ]
    },
    {
      "cell_type": "code",
      "execution_count": null,
      "metadata": {
        "id": "QhiEcbOiwqhj"
      },
      "outputs": [],
      "source": [
        "def reverse_seq(seq):\n",
        "  if len(seq) <= 1:\n",
        "    return seq\n",
        "  else:\n",
        "    return [seq[-1], *reverse_seq(seq[1: -1]), seq[0]]\n",
        "\n"
      ]
    },
    {
      "cell_type": "code",
      "execution_count": null,
      "metadata": {
        "colab": {
          "base_uri": "https://localhost:8080/"
        },
        "id": "5EaOqUqux-7o",
        "outputId": "25bf4765-5c9a-4269-bcad-bf64f00799e1"
      },
      "outputs": [
        {
          "data": {
            "text/plain": [
              "[6, 5, 4, 3, 2, 1]"
            ]
          },
          "execution_count": 31,
          "metadata": {},
          "output_type": "execute_result"
        }
      ],
      "source": [
        "reverse_seq(seq)"
      ]
    },
    {
      "cell_type": "code",
      "execution_count": null,
      "metadata": {
        "id": "btvotOeGyCyh"
      },
      "outputs": [],
      "source": [
        "def reverse_seq(seq, start, stop):\n",
        "  if start < stop-1:\n",
        "    seq[start], seq[stop-1] = seq[stop-1], seq[start]\n",
        "    reverse_seq(seq, start+1, stop-1)\n"
      ]
    },
    {
      "cell_type": "code",
      "execution_count": null,
      "metadata": {
        "colab": {
          "base_uri": "https://localhost:8080/"
        },
        "id": "P0S_NThFzwGj",
        "outputId": "3cd7b8da-ddeb-4a49-fa3a-c8cd0cc0bb54"
      },
      "outputs": [
        {
          "data": {
            "text/plain": [
              "[6, 5, 4, 3, 2, 1]"
            ]
          },
          "execution_count": 38,
          "metadata": {},
          "output_type": "execute_result"
        }
      ],
      "source": [
        "reverse_seq(seq, 0, 6)\n",
        "seq"
      ]
    },
    {
      "cell_type": "code",
      "execution_count": null,
      "metadata": {
        "colab": {
          "base_uri": "https://localhost:8080/"
        },
        "id": "YfV9hdMazxDp",
        "outputId": "e43a5e56-228b-408d-a4b1-ff335593c237"
      },
      "outputs": [
        {
          "data": {
            "text/plain": [
              "[1, 2, 3, 4, 5, 6]"
            ]
          },
          "execution_count": 24,
          "metadata": {},
          "output_type": "execute_result"
        }
      ],
      "source": [
        "seq"
      ]
    },
    {
      "cell_type": "code",
      "execution_count": null,
      "metadata": {
        "id": "-J8dI6Qc4F-I"
      },
      "outputs": [],
      "source": [
        "def power(a, n):\n",
        "  if n==0:\n",
        "    return 1\n",
        "  else:\n",
        "    partial = power(a, n//2)\n",
        "    result = partial * partial\n",
        "    if n%2==1:\n",
        "      result = a*result\n",
        "    return result"
      ]
    },
    {
      "cell_type": "code",
      "execution_count": null,
      "metadata": {
        "colab": {
          "base_uri": "https://localhost:8080/"
        },
        "id": "73yvlfCl65IX",
        "outputId": "82f330af-6382-4f04-b134-22421d9d1243"
      },
      "outputs": [
        {
          "data": {
            "text/plain": [
              "27"
            ]
          },
          "execution_count": 41,
          "metadata": {},
          "output_type": "execute_result"
        }
      ],
      "source": [
        "power(3, 3)"
      ]
    },
    {
      "cell_type": "code",
      "execution_count": null,
      "metadata": {
        "id": "mrG_Z-X266_B"
      },
      "outputs": [],
      "source": [
        "import copy\n",
        "def puzzle_solve(seq, k):\n",
        "  result = []\n",
        "  for i in range(len(seq)):\n",
        "    u = copy.deepcopy(seq)\n",
        "    candidate = seq[i]\n",
        "    u.remove(candidate)\n",
        "    for j in range(k-1):\n",
        "      result.append(candidate + \"\".join(u))\n",
        "  return result"
      ]
    },
    {
      "cell_type": "code",
      "execution_count": null,
      "metadata": {
        "colab": {
          "base_uri": "https://localhost:8080/"
        },
        "id": "TMyOHOtII7fx",
        "outputId": "7231da6c-6c24-477c-9bdb-810699d71f74"
      },
      "outputs": [
        {
          "data": {
            "text/plain": [
              "['abc', 'abc', 'bac', 'bac', 'cab', 'cab']"
            ]
          },
          "execution_count": 66,
          "metadata": {},
          "output_type": "execute_result"
        }
      ],
      "source": [
        "seq = ['a', 'b', 'c']\n",
        "puzzle_solve(seq, 3)"
      ]
    },
    {
      "cell_type": "code",
      "execution_count": null,
      "metadata": {
        "colab": {
          "base_uri": "https://localhost:8080/"
        },
        "id": "T-M_M5PBKGGr",
        "outputId": "9fdacb39-0462-4fac-e6c9-e26faab05618"
      },
      "outputs": [
        {
          "data": {
            "text/plain": [
              "(['a', 'b', 'c'], 'abc')"
            ]
          },
          "execution_count": 67,
          "metadata": {},
          "output_type": "execute_result"
        }
      ],
      "source": [
        "seq, \"\".join(seq)\n"
      ]
    },
    {
      "cell_type": "markdown",
      "metadata": {
        "id": "Qt4TqPGGy-PU"
      },
      "source": [
        "# Reinforcement"
      ]
    },
    {
      "cell_type": "code",
      "execution_count": null,
      "metadata": {
        "id": "-uXbVa12KU2x"
      },
      "outputs": [],
      "source": [
        "#@title R-4.1\n",
        "def max_element(seq, n):\n",
        "  if n <= 1:\n",
        "    return n\n",
        "  else:\n",
        "    return max(seq[-1], max_element(seq[0:-1], n-1))\n"
      ]
    },
    {
      "cell_type": "code",
      "execution_count": null,
      "metadata": {
        "colab": {
          "base_uri": "https://localhost:8080/"
        },
        "id": "Vx0aTa4JzcGq",
        "outputId": "7c99fc4c-226b-4a40-ebbe-df65f1717db2"
      },
      "outputs": [
        {
          "data": {
            "text/plain": [
              "40"
            ]
          },
          "execution_count": 75,
          "metadata": {},
          "output_type": "execute_result"
        }
      ],
      "source": [
        "seq = [1,2,3,40,4,5,6,7, 9]\n",
        "max_element(seq, len(seq))"
      ]
    },
    {
      "cell_type": "code",
      "execution_count": null,
      "metadata": {
        "id": "4dS2NqA9zdQN"
      },
      "outputs": [],
      "source": [
        "#@title R-4.6\n",
        "def harmonic_num(seq):\n",
        "  if len(seq) == 1:\n",
        "    return 1 / seq[0]\n",
        "  else:\n",
        "    return (1 / seq[-1]) + harmonic_num(seq[0:-1])"
      ]
    },
    {
      "cell_type": "code",
      "execution_count": null,
      "metadata": {
        "colab": {
          "base_uri": "https://localhost:8080/"
        },
        "id": "1VdynXkaz6Vs",
        "outputId": "a761c91f-b34d-4a2f-e517-b9a4b129b9f6"
      },
      "outputs": [
        {
          "data": {
            "text/plain": [
              "1.9444444444444444"
            ]
          },
          "execution_count": 77,
          "metadata": {},
          "output_type": "execute_result"
        }
      ],
      "source": [
        "seq = [1,2,3, 9]\n",
        "harmonic_num(seq)"
      ]
    },
    {
      "cell_type": "code",
      "execution_count": null,
      "metadata": {
        "id": "J4ivclB01RPn"
      },
      "outputs": [],
      "source": [
        "def string_to_digit(s):\n",
        "  if len(s) == 1:\n",
        "    return int(s[0])\n",
        "  else:\n",
        "    return (10**(len(s) - 1) * int(s[0])) + string_to_digit(s[1:])\n"
      ]
    },
    {
      "cell_type": "code",
      "execution_count": null,
      "metadata": {
        "colab": {
          "base_uri": "https://localhost:8080/"
        },
        "id": "rWZugp2i1dSe",
        "outputId": "8621348b-6f13-4b46-adbd-c8787fbc90b3"
      },
      "outputs": [
        {
          "data": {
            "text/plain": [
              "3534596029340"
            ]
          },
          "execution_count": 85,
          "metadata": {},
          "output_type": "execute_result"
        }
      ],
      "source": [
        "s = '3534596029340'\n",
        "string_to_digit(s)"
      ]
    },
    {
      "cell_type": "markdown",
      "metadata": {
        "id": "Ypv9tdSS3Fh4"
      },
      "source": [
        "# Creativity"
      ]
    },
    {
      "cell_type": "code",
      "execution_count": null,
      "metadata": {
        "id": "i5tgRNeX1epf"
      },
      "outputs": [],
      "source": [
        "def max_min(seq):\n",
        "  if len(seq) == 1:\n",
        "    return seq[0], seq[0]\n",
        "  else:\n",
        "    return max(seq[-1], max_min(seq[0:-1])[0]), min(seq[-1], max_min(seq[0:-1])[1])\n"
      ]
    },
    {
      "cell_type": "code",
      "execution_count": null,
      "metadata": {
        "colab": {
          "base_uri": "https://localhost:8080/"
        },
        "id": "aDBXNG4a3mf4",
        "outputId": "a8d14eef-0329-43e1-cf13-3d8d69e41346"
      },
      "outputs": [
        {
          "data": {
            "text/plain": [
              "(9, 1)"
            ]
          },
          "execution_count": 96,
          "metadata": {},
          "output_type": "execute_result"
        }
      ],
      "source": [
        "seq = [1,2,3, 9, 4, 9]\n",
        "max_min(seq)"
      ]
    },
    {
      "cell_type": "code",
      "execution_count": null,
      "metadata": {
        "id": "eoVu56E-3rVB"
      },
      "outputs": [],
      "source": [
        "def log(x, n):\n",
        "  if n == 1:\n",
        "    return 2 * (x - 1)/(x + 1)\n",
        "  else:\n",
        "    return (2 * (((x-1)/(x+1))**(2*n-1))/(2*n-1)) + log(x, n - 1)"
      ]
    },
    {
      "cell_type": "code",
      "execution_count": null,
      "metadata": {
        "colab": {
          "base_uri": "https://localhost:8080/"
        },
        "id": "l5CAKSGP6ByF",
        "outputId": "8a3b92ea-aa61-4ce6-94b4-bf5986e3bf51"
      },
      "outputs": [
        {
          "data": {
            "text/plain": [
              "2.5532827955511053"
            ]
          },
          "execution_count": 2,
          "metadata": {},
          "output_type": "execute_result"
        }
      ],
      "source": [
        "log(13, 10)"
      ]
    },
    {
      "cell_type": "code",
      "execution_count": null,
      "metadata": {
        "id": "Oqcm_Uit-7kc"
      },
      "outputs": [],
      "source": [
        "#@title C.4-11\n",
        "def not_uniqe1(seq):\n",
        "  if len(seq) <= 1:\n",
        "    return False\n",
        "  else:\n",
        "    return (seq[0] in seq[1:]) or not_uniqe1(seq[1:])"
      ]
    },
    {
      "cell_type": "code",
      "execution_count": null,
      "metadata": {
        "colab": {
          "base_uri": "https://localhost:8080/"
        },
        "id": "d6m_eloccU8W",
        "outputId": "d7697ba4-d9d7-494f-c54f-e8bc94ae5ba2"
      },
      "outputs": [
        {
          "output_type": "execute_result",
          "data": {
            "text/plain": [
              "False"
            ]
          },
          "metadata": {},
          "execution_count": 63
        }
      ],
      "source": [
        "#if the func returns False, it means the list is unique\n",
        "seq = [1,2,3, 129, 30, 18, 14, 19]\n",
        "not_uniqe1(seq)"
      ]
    },
    {
      "cell_type": "code",
      "execution_count": null,
      "metadata": {
        "id": "ev52smT4bgw2"
      },
      "outputs": [],
      "source": [
        "#@title C. 4-12\n",
        "def prod_two_int(m, n):\n",
        "  if n == 1:\n",
        "    return m\n",
        "  else:\n",
        "    return m + prod_two_int(m, n-1)"
      ]
    },
    {
      "cell_type": "code",
      "execution_count": null,
      "metadata": {
        "id": "4Efm1zYDdJsJ",
        "colab": {
          "base_uri": "https://localhost:8080/"
        },
        "outputId": "719ccc92-2b2b-448c-e4fe-1e2bfeadda35"
      },
      "outputs": [
        {
          "output_type": "execute_result",
          "data": {
            "text/plain": [
              "42"
            ]
          },
          "metadata": {},
          "execution_count": 3
        }
      ],
      "source": [
        "m, n = 14, 3\n",
        "prod_two_int(m, n)"
      ]
    },
    {
      "cell_type": "code",
      "source": [
        "#@title C. 4-15\n",
        "def all_subset(s):\n",
        "\n",
        "  if len(s) <= 0:\n",
        "    return [[]]\n",
        "  else:\n",
        "\n",
        "    sub = all_subset(s[1:])\n",
        "\n",
        "    return sub + [[s[0]] + f for f in sub]\n",
        "  "
      ],
      "metadata": {
        "id": "knoK2_wSqI1N"
      },
      "execution_count": null,
      "outputs": []
    },
    {
      "cell_type": "code",
      "source": [
        "S = ['a', 'b', 'c', 'd', 'f']\n",
        "\n",
        "all_subset(S)"
      ],
      "metadata": {
        "colab": {
          "base_uri": "https://localhost:8080/"
        },
        "id": "WO2ROQyayOVz",
        "outputId": "16ae73c8-ef2d-40a7-ad6f-99dacaed5bf7"
      },
      "execution_count": null,
      "outputs": [
        {
          "output_type": "execute_result",
          "data": {
            "text/plain": [
              "[[],\n",
              " ['f'],\n",
              " ['d'],\n",
              " ['d', 'f'],\n",
              " ['c'],\n",
              " ['c', 'f'],\n",
              " ['c', 'd'],\n",
              " ['c', 'd', 'f'],\n",
              " ['b'],\n",
              " ['b', 'f'],\n",
              " ['b', 'd'],\n",
              " ['b', 'd', 'f'],\n",
              " ['b', 'c'],\n",
              " ['b', 'c', 'f'],\n",
              " ['b', 'c', 'd'],\n",
              " ['b', 'c', 'd', 'f'],\n",
              " ['a'],\n",
              " ['a', 'f'],\n",
              " ['a', 'd'],\n",
              " ['a', 'd', 'f'],\n",
              " ['a', 'c'],\n",
              " ['a', 'c', 'f'],\n",
              " ['a', 'c', 'd'],\n",
              " ['a', 'c', 'd', 'f'],\n",
              " ['a', 'b'],\n",
              " ['a', 'b', 'f'],\n",
              " ['a', 'b', 'd'],\n",
              " ['a', 'b', 'd', 'f'],\n",
              " ['a', 'b', 'c'],\n",
              " ['a', 'b', 'c', 'f'],\n",
              " ['a', 'b', 'c', 'd'],\n",
              " ['a', 'b', 'c', 'd', 'f']]"
            ]
          },
          "metadata": {},
          "execution_count": 76
        }
      ]
    },
    {
      "cell_type": "code",
      "source": [
        "#@title C-4.16\n",
        "def reverse_string(seq):\n",
        "  if len(seq) <= 1:\n",
        "    return seq\n",
        "  else:\n",
        "    return seq[-1]+ reverse_string(seq[1: -1])+ seq[0]"
      ],
      "metadata": {
        "id": "8R4RJVUo9O3O"
      },
      "execution_count": null,
      "outputs": []
    },
    {
      "cell_type": "code",
      "source": [
        "seq='frag'\n",
        "reverse_string(seq)"
      ],
      "metadata": {
        "colab": {
          "base_uri": "https://localhost:8080/",
          "height": 37
        },
        "id": "2HPGWe3_87jj",
        "outputId": "72a7b685-4fc7-4e34-b9d1-be42b32e999e"
      },
      "execution_count": null,
      "outputs": [
        {
          "output_type": "execute_result",
          "data": {
            "text/plain": [
              "'garf'"
            ],
            "application/vnd.google.colaboratory.intrinsic+json": {
              "type": "string"
            }
          },
          "metadata": {},
          "execution_count": 85
        }
      ]
    },
    {
      "cell_type": "code",
      "source": [
        "#@title C-4.17\n",
        "def if_palindrome(s):\n",
        "  if len(s)<=1:\n",
        "    return True\n",
        "  else:\n",
        "    return s[0]==s[-1] and if_palindrome(s[1:-1])\n"
      ],
      "metadata": {
        "id": "1BJntE1Y9B0E"
      },
      "execution_count": null,
      "outputs": []
    },
    {
      "cell_type": "code",
      "source": [
        "s = 'racecar'\n",
        "if_palindrome(s)"
      ],
      "metadata": {
        "colab": {
          "base_uri": "https://localhost:8080/"
        },
        "id": "-OtDMNh8FwFt",
        "outputId": "470dfa0a-47f6-4ade-efad-3cf8e4e036a8"
      },
      "execution_count": null,
      "outputs": [
        {
          "output_type": "execute_result",
          "data": {
            "text/plain": [
              "True"
            ]
          },
          "metadata": {},
          "execution_count": 89
        }
      ]
    },
    {
      "cell_type": "code",
      "source": [
        "#@title C-4.18\n",
        "def more_vowel(s):\n",
        "  vowel = ['o', 'a', 'u', 'e', 'i']\n",
        "  if len(s) <= 1:\n",
        "    return s in vowel\n",
        "  else: \n",
        "    return (s[0] in vowel) + more_vowel(s[1:])"
      ],
      "metadata": {
        "id": "tnTuRHvXF0ME"
      },
      "execution_count": null,
      "outputs": []
    },
    {
      "cell_type": "code",
      "source": [
        "s = 'fariud'\n",
        "more_vowel(s)"
      ],
      "metadata": {
        "colab": {
          "base_uri": "https://localhost:8080/"
        },
        "id": "XZmKdxNxMM96",
        "outputId": "d194c383-1169-4de1-c213-fc02d0dc5c44"
      },
      "execution_count": null,
      "outputs": [
        {
          "output_type": "execute_result",
          "data": {
            "text/plain": [
              "3"
            ]
          },
          "metadata": {},
          "execution_count": 101
        }
      ]
    },
    {
      "cell_type": "code",
      "source": [
        "#@title C-4.19\n",
        "def even_odd(s, start, stop):\n",
        "  if len(s) <= 1:\n",
        "    return s\n",
        "  elif stop - start > 1 :\n",
        "    if s[stop] % 2 == 0 and not s[start] % 2 == 0:\n",
        "      s[stop], s[start] = s[start], s[stop]\n",
        "    elif s[stop] % 2 == 0 and s[start] % 2 == 0:\n",
        "      s[stop], s[start+1] = s[start+1], s[stop]\n",
        "    elif not s[stop] % 2 == 0 and s[start] % 2 == 0:\n",
        "      pass\n",
        "    else:\n",
        "      pass\n",
        "    even_odd(s, start+1, stop-1)"
      ],
      "metadata": {
        "id": "GoIBV0z6Mwg5"
      },
      "execution_count": null,
      "outputs": []
    },
    {
      "cell_type": "code",
      "source": [
        "seq = [1,2,3, 129, 30, 18, 14, 18]\n",
        "even_odd(seq, start=0, stop=7)\n",
        "seq"
      ],
      "metadata": {
        "colab": {
          "base_uri": "https://localhost:8080/"
        },
        "id": "vYbp82Cy3xbB",
        "outputId": "27796365-1792-45b3-bd5c-00f8731b49e0"
      },
      "execution_count": null,
      "outputs": [
        {
          "output_type": "execute_result",
          "data": {
            "text/plain": [
              "[18, 2, 14, 18, 30, 129, 3, 1]"
            ]
          },
          "metadata": {},
          "execution_count": 18
        }
      ]
    },
    {
      "cell_type": "code",
      "source": [
        "#@title C-4.20\n",
        "def rearange_seq(s, start, k, index_of_k):\n",
        "  if len(s)<=1:\n",
        "    return s\n",
        "  else:\n",
        "    if s[start] < k:\n",
        "      pass\n",
        "    else:\n",
        "      \n",
        "\n",
        "    rearange_seq(s, start, k)\n",
        "\n",
        "    "
      ],
      "metadata": {
        "id": "7kPgR2ofikXj"
      },
      "execution_count": null,
      "outputs": []
    },
    {
      "cell_type": "code",
      "source": [
        "#@title C-4.21\n",
        " "
      ],
      "metadata": {
        "id": "yMt8iDSMjUgM"
      },
      "execution_count": null,
      "outputs": []
    },
    {
      "cell_type": "code",
      "source": [
        "#@title C-4.22\n",
        "def power(a, n):\n",
        "  if n==0:\n",
        "    return 1\n",
        "  else:\n",
        "    partial = 1\n",
        "    \n",
        "    for i in range(n//2):\n",
        "      partial *= a\n",
        "\n",
        "    result = partial * partial\n",
        "    if n%2==1:\n",
        "      result = a*result\n",
        "    return result"
      ],
      "metadata": {
        "id": "JzEfBdPokNUx"
      },
      "execution_count": null,
      "outputs": []
    },
    {
      "cell_type": "code",
      "source": [
        "power(4, 3)"
      ],
      "metadata": {
        "colab": {
          "base_uri": "https://localhost:8080/"
        },
        "id": "5shV1inhkeX7",
        "outputId": "78062432-bcef-4b95-b50f-9dc82ad90331"
      },
      "execution_count": null,
      "outputs": [
        {
          "output_type": "execute_result",
          "data": {
            "text/plain": [
              "64"
            ]
          },
          "metadata": {},
          "execution_count": 108
        }
      ]
    },
    {
      "cell_type": "code",
      "source": [],
      "metadata": {
        "id": "ZeGLg7NSkh86"
      },
      "execution_count": null,
      "outputs": []
    }
  ],
  "metadata": {
    "colab": {
      "provenance": [],
      "authorship_tag": "ABX9TyPMqd0Oqk+uNGxmEitrKzVK",
      "include_colab_link": true
    },
    "kernelspec": {
      "display_name": "Python 3",
      "name": "python3"
    },
    "language_info": {
      "name": "python"
    }
  },
  "nbformat": 4,
  "nbformat_minor": 0
}