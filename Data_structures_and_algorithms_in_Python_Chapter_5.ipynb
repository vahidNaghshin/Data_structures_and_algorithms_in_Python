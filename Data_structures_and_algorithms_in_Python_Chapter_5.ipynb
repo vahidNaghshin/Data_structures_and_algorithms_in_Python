{
  "cells": [
    {
      "cell_type": "markdown",
      "metadata": {
        "id": "view-in-github",
        "colab_type": "text"
      },
      "source": [
        "<a href=\"https://colab.research.google.com/github/vahidNaghshin/Data_structures_and_algorithms_in_Python/blob/main/Data_structures_and_algorithms_in_Python_Chapter_5.ipynb\" target=\"_parent\"><img src=\"https://colab.research.google.com/assets/colab-badge.svg\" alt=\"Open In Colab\"/></a>"
      ]
    },
    {
      "cell_type": "code",
      "execution_count": null,
      "metadata": {
        "id": "5V2sScDLlQQ-"
      },
      "outputs": [],
      "source": [
        "s=[1,2,3,4,5]\n",
        "x=s[2:4]"
      ]
    },
    {
      "cell_type": "code",
      "execution_count": null,
      "metadata": {
        "colab": {
          "base_uri": "https://localhost:8080/"
        },
        "id": "NFP3eytJxIW3",
        "outputId": "1d894a53-d30d-473a-dbf5-486bcbce7021"
      },
      "outputs": [
        {
          "data": {
            "text/plain": [
              "[3, 4]"
            ]
          },
          "execution_count": 2,
          "metadata": {},
          "output_type": "execute_result"
        }
      ],
      "source": [
        "x"
      ]
    },
    {
      "cell_type": "code",
      "execution_count": null,
      "metadata": {
        "colab": {
          "base_uri": "https://localhost:8080/"
        },
        "id": "FsiX92DmxJOw",
        "outputId": "21e6d090-52d6-41d6-c5b2-2d686807dab5"
      },
      "outputs": [
        {
          "data": {
            "text/plain": [
              "[3, 4]"
            ]
          },
          "execution_count": 3,
          "metadata": {},
          "output_type": "execute_result"
        }
      ],
      "source": [
        "s[2] = 5\n",
        "x"
      ]
    },
    {
      "cell_type": "code",
      "execution_count": null,
      "metadata": {
        "colab": {
          "base_uri": "https://localhost:8080/"
        },
        "id": "F0aCFgaExQmf",
        "outputId": "a85a0f71-ba3f-47a3-e439-82c0af6edb8c"
      },
      "outputs": [
        {
          "data": {
            "text/plain": [
              "88"
            ]
          },
          "execution_count": 5,
          "metadata": {},
          "output_type": "execute_result"
        }
      ],
      "source": [
        "import sys\n",
        "sys.getsizeof(x)"
      ]
    },
    {
      "cell_type": "code",
      "execution_count": null,
      "metadata": {
        "colab": {
          "base_uri": "https://localhost:8080/"
        },
        "id": "5HAjsKCSyNPE",
        "outputId": "9c3847ed-a598-4c35-a981-0a265735e982"
      },
      "outputs": [
        {
          "data": {
            "text/plain": [
              "5"
            ]
          },
          "execution_count": 6,
          "metadata": {},
          "output_type": "execute_result"
        }
      ],
      "source": [
        "d = s[4]\n",
        "d"
      ]
    },
    {
      "cell_type": "code",
      "execution_count": null,
      "metadata": {
        "colab": {
          "base_uri": "https://localhost:8080/"
        },
        "id": "EVJ38d-YyZDN",
        "outputId": "d56f2641-d9d3-40d3-8abf-821bde3d3753"
      },
      "outputs": [
        {
          "data": {
            "text/plain": [
              "5"
            ]
          },
          "execution_count": 7,
          "metadata": {},
          "output_type": "execute_result"
        }
      ],
      "source": [
        "s[4]=7\n",
        "d"
      ]
    },
    {
      "cell_type": "code",
      "execution_count": null,
      "metadata": {
        "colab": {
          "base_uri": "https://localhost:8080/"
        },
        "id": "MN-4mkidycZg",
        "outputId": "4519ea76-e45b-48bf-bec1-247742d7d57b"
      },
      "outputs": [
        {
          "data": {
            "text/plain": [
              "28"
            ]
          },
          "execution_count": 8,
          "metadata": {},
          "output_type": "execute_result"
        }
      ],
      "source": [
        "sys.getsizeof(d)"
      ]
    },
    {
      "cell_type": "code",
      "execution_count": null,
      "metadata": {
        "colab": {
          "base_uri": "https://localhost:8080/"
        },
        "id": "hyqFhM90yicY",
        "outputId": "75c55b57-d61f-44f6-808e-d111a7da7bd6"
      },
      "outputs": [
        {
          "data": {
            "text/plain": [
              "24"
            ]
          },
          "execution_count": 9,
          "metadata": {},
          "output_type": "execute_result"
        }
      ],
      "source": [
        "f = 0\n",
        "sys.getsizeof(f)"
      ]
    },
    {
      "cell_type": "code",
      "execution_count": null,
      "metadata": {
        "id": "v_6Og20FymlA"
      },
      "outputs": [],
      "source": [
        "import array\n",
        "primes = array.array( 'i' , [2, 3, 8, 7, 11, 13, 17, 19])"
      ]
    },
    {
      "cell_type": "code",
      "execution_count": null,
      "metadata": {
        "colab": {
          "base_uri": "https://localhost:8080/"
        },
        "id": "Unln3kUf0ZTW",
        "outputId": "aacf04b8-13a9-4b99-b59f-6fc3820c211e"
      },
      "outputs": [
        {
          "name": "stdout",
          "output_type": "stream",
          "text": [
            "72\n",
            "104\n",
            "104\n",
            "104\n",
            "104\n",
            "136\n",
            "136\n",
            "136\n",
            "136\n",
            "200\n"
          ]
        }
      ],
      "source": [
        "data = []\n",
        "for _ in range(10):\n",
        "  print(sys.getsizeof(data))\n",
        "  data.append(None)"
      ]
    },
    {
      "cell_type": "code",
      "execution_count": null,
      "metadata": {
        "id": "_4sB94XT21Bb"
      },
      "outputs": [],
      "source": [
        "import ctypes\n",
        "\n",
        "class DynamicArray:\n",
        "  \"\"\"This class mimics the dynamic array list class in the python\"\"\"\n",
        "\n",
        "  def __init__(self):\n",
        "    self._n = 0\n",
        "    self._capacity = 1\n",
        "    self._A = self._make_array(self._capacity)\n",
        "\n",
        "\n",
        "  def __len__(self):\n",
        "    return self._n\n",
        "\n",
        "  def __getitem__(self, k):\n",
        "    \n",
        "    #to support negative index\n",
        "    if k < 0:\n",
        "      k += len(self)\n",
        "\n",
        "    if not 0 <= k < self._n:\n",
        "      raise IndexError(\"Index out of range!\")\n",
        "    return self._A[k]\n",
        "\n",
        "  def append(self, v):\n",
        "    if self._n == self._capacity:\n",
        "      self._resize( 2 * self._capacity)\n",
        "      \n",
        "    self._A[self._n]=v\n",
        "    self._n += 1\n",
        "\n",
        "\n",
        "  def insert(self, k, value):  #my implementation\n",
        "    if self._n == self._capacity:\n",
        "      self._resize( 2 * self._capacity)\n",
        "\n",
        "    self._A[k], temp = value, self._A[k]\n",
        "\n",
        "    for i in range(k+1, self._n):\n",
        "      self._A[i], temp = temp, self._A[i]\n",
        "\n",
        "    self._A[self._n] = temp\n",
        "    self._n += 1\n",
        "\n",
        "\n",
        "  # def insert(self, k, value): #books implementation\n",
        "  #   if self._n == self._capacity: \n",
        "  #     self._resize(2*self._capacity)\n",
        "  #     for j in range(self._n, k, -1): \n",
        "  #       self._A[j] = self._A[j-1]\n",
        "  #     self. A[k] = value \n",
        "  #     self. n += 1\n",
        "\n",
        "  def pop(self, k):\n",
        "    for i in range(k, self._n-1):\n",
        "      self._A[i] = self._A[i+1]\n",
        "\n",
        "    self._n -= 1\n",
        "\n",
        "\n",
        "  def _index(self, value):\n",
        "    for i in range(self._n):\n",
        "      if self._A[i] == value:\n",
        "        return i\n",
        "    \n",
        "    raise ValueError(\"Ther is no such a value!\")\n",
        "\n",
        "  def remove(self, value):\n",
        "    #first find the index of a given value\n",
        "    idx = self._index(value)\n",
        "    self.pop(idx)\n",
        "\n",
        "\n",
        "  \n",
        "\n",
        "  def _resize(self, c):\n",
        "    B = self._make_array(c)\n",
        "    for i in range(self._n):\n",
        "        B[i] = self._A[i]\n",
        "    self._A = B\n",
        "    self._capacity *=2\n",
        "  \n",
        "\n",
        "  def _make_array(self, c):\n",
        "    return (c*ctypes.py_object)()"
      ]
    },
    {
      "cell_type": "code",
      "execution_count": null,
      "metadata": {
        "colab": {
          "base_uri": "https://localhost:8080/"
        },
        "id": "b3qw-XUA_mHC",
        "outputId": "4401fffe-75ae-44b1-b870-19ce0b593835"
      },
      "outputs": [
        {
          "name": "stdout",
          "output_type": "stream",
          "text": [
            "0\n",
            "1\n"
          ]
        }
      ],
      "source": [
        "a = DynamicArray()\n",
        "print(len(a))\n",
        "a.append(4)\n",
        "print(len(a))"
      ]
    },
    {
      "cell_type": "code",
      "execution_count": null,
      "metadata": {
        "colab": {
          "base_uri": "https://localhost:8080/"
        },
        "id": "g_VJ5b5xZeQu",
        "outputId": "e26e6215-2250-497f-dbfd-fd9386a70530"
      },
      "outputs": [
        {
          "data": {
            "text/plain": [
              "7"
            ]
          },
          "execution_count": 21,
          "metadata": {},
          "output_type": "execute_result"
        }
      ],
      "source": [
        "a.append(2)\n",
        "a.append(3)\n",
        "a.append(6)\n",
        "a.append(7)\n",
        "a.append(17)\n",
        "a.append(73)\n",
        "len(a)"
      ]
    },
    {
      "cell_type": "code",
      "execution_count": null,
      "metadata": {
        "colab": {
          "base_uri": "https://localhost:8080/"
        },
        "id": "shZj-C9hZmcr",
        "outputId": "c48ed07e-d81c-44bd-f346-e2bb582c1c61"
      },
      "outputs": [
        {
          "data": {
            "text/plain": [
              "[4, 2, 3, 6, 7, 17, 73]"
            ]
          },
          "execution_count": 22,
          "metadata": {},
          "output_type": "execute_result"
        }
      ],
      "source": [
        "[a[i] for i in range(len(a))]"
      ]
    },
    {
      "cell_type": "code",
      "execution_count": null,
      "metadata": {
        "colab": {
          "base_uri": "https://localhost:8080/"
        },
        "id": "3_-KPgmC64Ap",
        "outputId": "75f57b61-2010-4793-beb6-4e71f5b6bbef"
      },
      "outputs": [
        {
          "data": {
            "text/plain": [
              "(6, 73)"
            ]
          },
          "execution_count": 24,
          "metadata": {},
          "output_type": "execute_result"
        }
      ],
      "source": [
        "a[3], a[-1]"
      ]
    },
    {
      "cell_type": "code",
      "execution_count": null,
      "metadata": {
        "id": "G3xGJICGZqjL"
      },
      "outputs": [],
      "source": [
        "a.insert(4, 10)"
      ]
    },
    {
      "cell_type": "code",
      "execution_count": null,
      "metadata": {
        "colab": {
          "base_uri": "https://localhost:8080/"
        },
        "id": "kh5TUErXZuCp",
        "outputId": "5a7f030d-a298-4230-9511-21ee2faec4a5"
      },
      "outputs": [
        {
          "data": {
            "text/plain": [
              "[4, 2, 3, 6, 10, 7, 17, 73]"
            ]
          },
          "execution_count": 179,
          "metadata": {},
          "output_type": "execute_result"
        }
      ],
      "source": [
        "[a[i] for i in range(len(a))]"
      ]
    },
    {
      "cell_type": "code",
      "execution_count": null,
      "metadata": {
        "id": "MNhSxQUMlg23"
      },
      "outputs": [],
      "source": [
        "a.pop(0)"
      ]
    },
    {
      "cell_type": "code",
      "execution_count": null,
      "metadata": {
        "colab": {
          "base_uri": "https://localhost:8080/"
        },
        "id": "1EwLZ3EbljcG",
        "outputId": "b65fd0fe-69c2-41e2-99e8-55c58000913f"
      },
      "outputs": [
        {
          "data": {
            "text/plain": [
              "[2, 3, 6, 7, 17, 73]"
            ]
          },
          "execution_count": 195,
          "metadata": {},
          "output_type": "execute_result"
        }
      ],
      "source": [
        "[a[i] for i in range(len(a))]"
      ]
    },
    {
      "cell_type": "code",
      "execution_count": null,
      "metadata": {
        "id": "ymx7CGHSmmvq"
      },
      "outputs": [],
      "source": [
        "a.remove(6)"
      ]
    },
    {
      "cell_type": "code",
      "execution_count": null,
      "metadata": {
        "colab": {
          "base_uri": "https://localhost:8080/"
        },
        "id": "i36Wpf1QmnG2",
        "outputId": "ad199a0f-64b8-4558-c71c-dc856538dcdf"
      },
      "outputs": [
        {
          "data": {
            "text/plain": [
              "[4, 2, 3, 7, 17, 73]"
            ]
          },
          "execution_count": 223,
          "metadata": {},
          "output_type": "execute_result"
        }
      ],
      "source": [
        "[a[i] for i in range(len(a))]"
      ]
    },
    {
      "cell_type": "code",
      "execution_count": null,
      "metadata": {
        "id": "o1ny5tOw_5MK"
      },
      "outputs": [],
      "source": [
        "import time\n",
        "def average_cost(n):\n",
        "  start_time = time.time()\n",
        "  data = []\n",
        "  for i in range(n):\n",
        "    data.append(None)\n",
        "  end_time = time.time()\n",
        "  return (end_time - start_time)/n"
      ]
    },
    {
      "cell_type": "code",
      "execution_count": null,
      "metadata": {
        "colab": {
          "base_uri": "https://localhost:8080/"
        },
        "id": "2BUqrBA9L16J",
        "outputId": "10549431-c26e-4ded-9c3f-39f57253b8f6"
      },
      "outputs": [
        {
          "data": {
            "text/plain": [
              "1.1166501045227051e-07"
            ]
          },
          "execution_count": 10,
          "metadata": {},
          "output_type": "execute_result"
        }
      ],
      "source": [
        "n=1000000\n",
        "average_cost(n)"
      ]
    },
    {
      "cell_type": "code",
      "execution_count": null,
      "metadata": {
        "colab": {
          "base_uri": "https://localhost:8080/"
        },
        "id": "koEjrkw_L9GF",
        "outputId": "0864bd2c-0f2b-4e72-f29e-939eb9a9b5ae"
      },
      "outputs": [
        {
          "data": {
            "text/plain": [
              "False"
            ]
          },
          "execution_count": 12,
          "metadata": {},
          "output_type": "execute_result"
        }
      ],
      "source": [
        "#the comparison is performed lexicographically\n",
        "[1,4,3] < [1,3,4]"
      ]
    },
    {
      "cell_type": "code",
      "execution_count": null,
      "metadata": {
        "colab": {
          "base_uri": "https://localhost:8080/"
        },
        "id": "HSs9XZIoNadX",
        "outputId": "050dd800-d6ad-47c9-ac24-265963dff639"
      },
      "outputs": [
        {
          "data": {
            "text/plain": [
              "[1, 2, 4]"
            ]
          },
          "execution_count": 17,
          "metadata": {},
          "output_type": "execute_result"
        }
      ],
      "source": [
        "f = [1,2,3,4]\n",
        "f.pop(2)\n",
        "f"
      ]
    },
    {
      "cell_type": "code",
      "execution_count": null,
      "metadata": {
        "colab": {
          "base_uri": "https://localhost:8080/"
        },
        "id": "T3J6kFbAOC1A",
        "outputId": "5393e26c-7007-4b0c-8a8c-3d754a8eae28"
      },
      "outputs": [
        {
          "data": {
            "text/plain": [
              "([1, 2], 3, [1, 2])"
            ]
          },
          "execution_count": 16,
          "metadata": {},
          "output_type": "execute_result"
        }
      ],
      "source": [
        "f, f.pop(), f"
      ]
    },
    {
      "cell_type": "code",
      "execution_count": null,
      "metadata": {
        "id": "s_c_7N2YOFaw"
      },
      "outputs": [],
      "source": [
        "class GameEntry:\n",
        "  def __init__(self, name, score):\n",
        "    self._name = name\n",
        "    self._score = score\n",
        "  \n",
        "  def get_name(self):\n",
        "    return self._name\n",
        "  \n",
        "  def get_score(self):\n",
        "    return self._score\n",
        "\n",
        "  def __str__(self):\n",
        "    return \"name of the player: {0} with score: {1}\".format(self.get_name(), self.get_score())"
      ]
    },
    {
      "cell_type": "code",
      "execution_count": null,
      "metadata": {
        "id": "bZ6ggzBTzrrT"
      },
      "outputs": [],
      "source": [
        "a = GameEntry('vahid', 43)"
      ]
    },
    {
      "cell_type": "code",
      "execution_count": null,
      "metadata": {
        "colab": {
          "base_uri": "https://localhost:8080/"
        },
        "id": "2GKgQn4kzuj8",
        "outputId": "39fa371f-201d-4b98-e6bd-9c6a1b7e4cd0"
      },
      "outputs": [
        {
          "name": "stdout",
          "output_type": "stream",
          "text": [
            "name of the player: vahid with score: 43\n"
          ]
        }
      ],
      "source": [
        "print(a)"
      ]
    },
    {
      "cell_type": "code",
      "execution_count": null,
      "metadata": {
        "colab": {
          "base_uri": "https://localhost:8080/",
          "height": 37
        },
        "id": "es5jRup72FqW",
        "outputId": "4a255199-212f-48c1-f714-7e83ceb6d7ad"
      },
      "outputs": [
        {
          "data": {
            "application/vnd.google.colaboratory.intrinsic+json": {
              "type": "string"
            },
            "text/plain": [
              "'name of the player: vahid with score: 43'"
            ]
          },
          "execution_count": 239,
          "metadata": {},
          "output_type": "execute_result"
        }
      ],
      "source": [
        "str(a)"
      ]
    },
    {
      "cell_type": "code",
      "execution_count": null,
      "metadata": {
        "id": "b1hqkUNTz01P"
      },
      "outputs": [],
      "source": [
        "class ScoreBoard:\n",
        "  def __init__(self, capacity):\n",
        "    self._A = [None] * capacity\n",
        "    self._n = 0\n",
        "  \n",
        "  def __getitem__(self, k):\n",
        "    return self._A[k]\n",
        "  \n",
        "  def __len__(self):\n",
        "    return self._n\n",
        "\n",
        "  def __str__(self):\n",
        "    return [str(a) for a in self._A]\n",
        "  \n",
        "\n",
        "  def add_score(self, entry):\n",
        "    score = entry.get_score()\n",
        "    good = self._n < len(self) or score > self._A[-1].get_score()\n",
        "    if good:\n",
        "      if self._n < len(self._A):\n",
        "        self._n += 1\n",
        "    \n",
        "    j = self._n - 1\n",
        "\n",
        "    while j >= 0 and self._A[j-1].get_score() < score:\n",
        "      self._A[j] = self._A[j-1]\n",
        "      j -= 1\n",
        "    self._A[j]=entry\n",
        "\n",
        "    \n",
        "    if self._n < len(self) or c.get_score() > self._A[-1]:\n",
        "      for j in range(self._n):\n",
        "        if self._A[j] < c.get_score():\n",
        "          self._A[j+1] = self._A[j]"
      ]
    },
    {
      "cell_type": "code",
      "execution_count": null,
      "metadata": {
        "id": "uR1L9p4A96HJ"
      },
      "outputs": [],
      "source": [
        "def insert_sort(seq):\n",
        "\n",
        "  for k in range(1, len(seq)):\n",
        "    cur = seq[k]\n",
        "    j = k\n",
        "    while j > 0 and seq[j-1] > cur:\n",
        "      seq[j] = seq[j-1]\n",
        "      j -= 1\n",
        "    seq[j] = cur"
      ]
    },
    {
      "cell_type": "code",
      "execution_count": null,
      "metadata": {
        "colab": {
          "base_uri": "https://localhost:8080/"
        },
        "id": "t_uv8164Dp9M",
        "outputId": "c3b719f7-09fc-4e0c-aa97-e88901c1284b"
      },
      "outputs": [
        {
          "data": {
            "text/plain": [
              "[2, 3, 4, 6, 7, 9]"
            ]
          },
          "execution_count": 250,
          "metadata": {},
          "output_type": "execute_result"
        }
      ],
      "source": [
        "seq = [4, 7, 2,6 ,9,3]\n",
        "insert_sort(seq)\n",
        "seq"
      ]
    },
    {
      "cell_type": "code",
      "execution_count": null,
      "metadata": {
        "id": "E2vpk33SDvQo"
      },
      "outputs": [],
      "source": [
        "class CaesarCipher:\n",
        "  def __init__(self, shift):\n",
        "    encoder = [None]*26 # temp array for encryption \n",
        "    decoder = [None]*26 # temp array for decryption \n",
        "    for k in range(26):\n",
        "      encoder[k] = chr((k + shift) % 26 + ord( 'A' ))\n",
        "      decoder[k] = chr((k - shift) % 26 + ord( 'A' ))\n",
        "    self._forward = ''.join(encoder) # will store as string \n",
        "    self._backward = ''.join(decoder) # since fixed\n",
        "\n",
        "  def encrypt(self, message):\n",
        "    return self._transform(message, self._forward)\n",
        "\n",
        "  def decrypt(self, secret):\n",
        "    return self._transform(secret, self._backward)\n",
        "\n",
        "  def _transform(self, original, code):\n",
        "    msg = list(original)\n",
        "    for k in range(len(msg)):\n",
        "      if msg[k].isupper(): \n",
        "        j = ord(msg[k]) - ord( 'A' ) \n",
        "        msg[k] = code[j]\n",
        "    \n",
        "    return ''.join(msg)\n",
        "  \n",
        "\n",
        "  "
      ]
    },
    {
      "cell_type": "code",
      "execution_count": null,
      "metadata": {
        "id": "-h3C7IqDH5ZC"
      },
      "outputs": [],
      "source": [
        "d = CaesarCipher(2)"
      ]
    },
    {
      "cell_type": "code",
      "execution_count": null,
      "metadata": {
        "colab": {
          "base_uri": "https://localhost:8080/",
          "height": 37
        },
        "id": "GA6yXHfOH_dn",
        "outputId": "585aa295-7f35-4cb5-a1bb-7cf859b56319"
      },
      "outputs": [
        {
          "output_type": "execute_result",
          "data": {
            "text/plain": [
              "'CDEFGHIJKLMNOPQRSTUVWXYZAB'"
            ],
            "application/vnd.google.colaboratory.intrinsic+json": {
              "type": "string"
            }
          },
          "metadata": {},
          "execution_count": 51
        }
      ],
      "source": [
        "d._forward"
      ]
    },
    {
      "cell_type": "code",
      "execution_count": null,
      "metadata": {
        "colab": {
          "base_uri": "https://localhost:8080/",
          "height": 37
        },
        "id": "Mvy9NKz9IDCM",
        "outputId": "885283e9-a103-411b-f7ec-a2659f66999d"
      },
      "outputs": [
        {
          "output_type": "execute_result",
          "data": {
            "text/plain": [
              "'YZABCDEFGHIJKLMNOPQRSTUVWX'"
            ],
            "application/vnd.google.colaboratory.intrinsic+json": {
              "type": "string"
            }
          },
          "metadata": {},
          "execution_count": 52
        }
      ],
      "source": [
        "d._backward"
      ]
    },
    {
      "cell_type": "code",
      "execution_count": null,
      "metadata": {
        "colab": {
          "base_uri": "https://localhost:8080/",
          "height": 37
        },
        "id": "ptVr2hNKIF0t",
        "outputId": "9aa9d60d-9bb1-4742-bb5e-ffa35c103244"
      },
      "outputs": [
        {
          "output_type": "execute_result",
          "data": {
            "text/plain": [
              "'VJKU is C OGUUCIG'"
            ],
            "application/vnd.google.colaboratory.intrinsic+json": {
              "type": "string"
            }
          },
          "metadata": {},
          "execution_count": 54
        }
      ],
      "source": [
        "d = CaesarCipher(2)\n",
        "d.encrypt('THIS is A MESSAGE')"
      ]
    },
    {
      "cell_type": "code",
      "execution_count": null,
      "metadata": {
        "colab": {
          "base_uri": "https://localhost:8080/",
          "height": 37
        },
        "id": "FT-hm9gaIewx",
        "outputId": "31554589-fe52-412c-9491-1459c25abdd2"
      },
      "outputs": [
        {
          "output_type": "execute_result",
          "data": {
            "text/plain": [
              "'THIS is A MESSAGE'"
            ],
            "application/vnd.google.colaboratory.intrinsic+json": {
              "type": "string"
            }
          },
          "metadata": {},
          "execution_count": 55
        }
      ],
      "source": [
        "d.decrypt(d.encrypt('THIS is A MESSAGE'))"
      ]
    },
    {
      "cell_type": "code",
      "execution_count": null,
      "metadata": {
        "colab": {
          "base_uri": "https://localhost:8080/"
        },
        "id": "dMvHLXLJItzH",
        "outputId": "52f82075-3175-4933-fc32-218e60373730"
      },
      "outputs": [
        {
          "data": {
            "text/plain": [
              "[[0, 0], [0, 0], [0, 0]]"
            ]
          },
          "execution_count": 2,
          "metadata": {},
          "output_type": "execute_result"
        }
      ],
      "source": [
        "c, r = 2,3\n",
        "data = [[0]*c]*r\n",
        "data"
      ]
    },
    {
      "cell_type": "code",
      "execution_count": null,
      "metadata": {
        "colab": {
          "base_uri": "https://localhost:8080/"
        },
        "id": "qQ-_Y7IFzPXb",
        "outputId": "23c3fbcd-c996-4b35-8391-9648e68118c2"
      },
      "outputs": [
        {
          "data": {
            "text/plain": [
              "[[9, 0], [9, 0], [9, 0]]"
            ]
          },
          "execution_count": 3,
          "metadata": {},
          "output_type": "execute_result"
        }
      ],
      "source": [
        "data[0][0]=9\n",
        "data"
      ]
    },
    {
      "cell_type": "code",
      "execution_count": null,
      "metadata": {
        "colab": {
          "base_uri": "https://localhost:8080/"
        },
        "id": "Nu-UA2razZfI",
        "outputId": "8c0eefe4-af53-43a0-8b94-0c3ac9e1cc64"
      },
      "outputs": [
        {
          "data": {
            "text/plain": [
              "[[0, 0], [0, 0], [0, 0]]"
            ]
          },
          "execution_count": 8,
          "metadata": {},
          "output_type": "execute_result"
        }
      ],
      "source": [
        "#right way\n",
        "data=[[0]*c for _ in range(r)]\n",
        "data"
      ]
    },
    {
      "cell_type": "code",
      "execution_count": null,
      "metadata": {
        "colab": {
          "base_uri": "https://localhost:8080/"
        },
        "id": "HhWMmEIdzi2X",
        "outputId": "bb9e9d8b-a8c5-4c79-e4d9-f8252b9d1ad8"
      },
      "outputs": [
        {
          "data": {
            "text/plain": [
              "[[9, 0], [0, 0], [0, 0]]"
            ]
          },
          "execution_count": 7,
          "metadata": {},
          "output_type": "execute_result"
        }
      ],
      "source": [
        "data[0][0]=9\n",
        "data"
      ]
    },
    {
      "cell_type": "code",
      "execution_count": null,
      "metadata": {
        "id": "uYV1ffDlztW6"
      },
      "outputs": [],
      "source": [
        "class TicTacToe:\n",
        "  def __init__(self):\n",
        "    self._board=[[' '] * 3 for j in range(3)] \n",
        "    self._player = 'X'\n",
        "  \n",
        "  def mark(self, i, j):\n",
        "    if not (0 <= i <= 2 and 0 <= j <= 2):\n",
        "      raise ValueError( 'Invalid board position' ) \n",
        "    if self._board[i][j] != ' ':\n",
        "      raise ValueError( 'Board position occupied' ) \n",
        "    if self.winner() is not None:\n",
        "      raise ValueError( 'Game is already complete' )\n",
        "    self._board[i][j] = self._player\n",
        "    if self._player == 'X' :\n",
        "      self._player = 'O' \n",
        "    else:\n",
        "      self._player = 'X' \n",
        "\n",
        "  def is_win(self, mark):\n",
        "     board = self._board\n",
        "\n",
        "     return (mark == board[0][0] == board[0][1] == board[0][2] or \n",
        "             mark == board[1][0] == board[1][1] == board[1][2] or \n",
        "             mark == board[2][0] == board[2][1] == board[2][2] or \n",
        "             mark == board[0][0] == board[1][0] == board[2][0] or \n",
        "             mark == board[0][1] == board[1][1] == board[2][1] or \n",
        "             mark == board[0][2] == board[1][2] == board[2][2] or \n",
        "             mark == board[0][0] == board[1][1] == board[2][2] or \n",
        "             mark == board[0][2] == board[1][1] == board[2][0])\n",
        "     \n",
        "  def winner(self):\n",
        "    for mark in 'XO' :\n",
        "      if self.is_win(mark): \n",
        "        return mark\n",
        "      return None\n",
        "\n",
        "  def __str__(self):\n",
        "    rows = ['|'.join(self._board[r]) for r in range(3)]\n",
        "    return '\\n-----\\n'.join(rows)\n",
        "  \n"
      ]
    },
    {
      "cell_type": "code",
      "execution_count": null,
      "metadata": {
        "id": "zSPdfWjL2R89"
      },
      "outputs": [],
      "source": [
        "x = TicTacToe()"
      ]
    },
    {
      "cell_type": "code",
      "execution_count": null,
      "metadata": {
        "colab": {
          "base_uri": "https://localhost:8080/",
          "height": 317
        },
        "id": "zb_YA3sy2YlE",
        "outputId": "7c2b3063-cc7b-4440-a4be-311c6289f283"
      },
      "outputs": [
        {
          "ename": "ValueError",
          "evalue": "ignored",
          "output_type": "error",
          "traceback": [
            "\u001b[0;31m---------------------------------------------------------------------------\u001b[0m",
            "\u001b[0;31mValueError\u001b[0m                                Traceback (most recent call last)",
            "\u001b[0;32m<ipython-input-22-9dbde163c30d>\u001b[0m in \u001b[0;36m<module>\u001b[0;34m\u001b[0m\n\u001b[1;32m      4\u001b[0m \u001b[0mx\u001b[0m\u001b[0;34m.\u001b[0m\u001b[0mmark\u001b[0m\u001b[0;34m(\u001b[0m\u001b[0;36m1\u001b[0m\u001b[0;34m,\u001b[0m \u001b[0;36m1\u001b[0m\u001b[0;34m)\u001b[0m\u001b[0;34m\u001b[0m\u001b[0;34m\u001b[0m\u001b[0m\n\u001b[1;32m      5\u001b[0m \u001b[0mx\u001b[0m\u001b[0;34m.\u001b[0m\u001b[0mmark\u001b[0m\u001b[0;34m(\u001b[0m\u001b[0;36m0\u001b[0m\u001b[0;34m,\u001b[0m \u001b[0;36m2\u001b[0m\u001b[0;34m)\u001b[0m\u001b[0;34m\u001b[0m\u001b[0;34m\u001b[0m\u001b[0m\n\u001b[0;32m----> 6\u001b[0;31m \u001b[0mx\u001b[0m\u001b[0;34m.\u001b[0m\u001b[0mmark\u001b[0m\u001b[0;34m(\u001b[0m\u001b[0;36m2\u001b[0m\u001b[0;34m,\u001b[0m \u001b[0;36m1\u001b[0m\u001b[0;34m)\u001b[0m\u001b[0;34m\u001b[0m\u001b[0;34m\u001b[0m\u001b[0m\n\u001b[0m",
            "\u001b[0;32m<ipython-input-20-460dfc7cbce0>\u001b[0m in \u001b[0;36mmark\u001b[0;34m(self, i, j)\u001b[0m\n\u001b[1;32m     10\u001b[0m       \u001b[0;32mraise\u001b[0m \u001b[0mValueError\u001b[0m\u001b[0;34m(\u001b[0m \u001b[0;34m'Board position occupied'\u001b[0m \u001b[0;34m)\u001b[0m\u001b[0;34m\u001b[0m\u001b[0;34m\u001b[0m\u001b[0m\n\u001b[1;32m     11\u001b[0m     \u001b[0;32mif\u001b[0m \u001b[0mself\u001b[0m\u001b[0;34m.\u001b[0m\u001b[0mwinner\u001b[0m\u001b[0;34m(\u001b[0m\u001b[0;34m)\u001b[0m \u001b[0;32mis\u001b[0m \u001b[0;32mnot\u001b[0m \u001b[0;32mNone\u001b[0m\u001b[0;34m:\u001b[0m\u001b[0;34m\u001b[0m\u001b[0;34m\u001b[0m\u001b[0m\n\u001b[0;32m---> 12\u001b[0;31m       \u001b[0;32mraise\u001b[0m \u001b[0mValueError\u001b[0m\u001b[0;34m(\u001b[0m \u001b[0;34m'Game is already complete'\u001b[0m \u001b[0;34m)\u001b[0m\u001b[0;34m\u001b[0m\u001b[0;34m\u001b[0m\u001b[0m\n\u001b[0m\u001b[1;32m     13\u001b[0m     \u001b[0mself\u001b[0m\u001b[0;34m.\u001b[0m\u001b[0m_board\u001b[0m\u001b[0;34m[\u001b[0m\u001b[0mi\u001b[0m\u001b[0;34m]\u001b[0m\u001b[0;34m[\u001b[0m\u001b[0mj\u001b[0m\u001b[0;34m]\u001b[0m \u001b[0;34m=\u001b[0m \u001b[0mself\u001b[0m\u001b[0;34m.\u001b[0m\u001b[0m_player\u001b[0m\u001b[0;34m\u001b[0m\u001b[0;34m\u001b[0m\u001b[0m\n\u001b[1;32m     14\u001b[0m     \u001b[0;32mif\u001b[0m \u001b[0mself\u001b[0m\u001b[0;34m.\u001b[0m\u001b[0m_player\u001b[0m \u001b[0;34m==\u001b[0m \u001b[0;34m'X'\u001b[0m \u001b[0;34m:\u001b[0m\u001b[0;34m\u001b[0m\u001b[0;34m\u001b[0m\u001b[0m\n",
            "\u001b[0;31mValueError\u001b[0m: Game is already complete"
          ]
        }
      ],
      "source": [
        "x.mark(0,0)\n",
        "x.mark(1,0)\n",
        "x.mark(0, 1)\n",
        "x.mark(1, 1)\n",
        "x.mark(0, 2)\n",
        "x.mark(2, 1)"
      ]
    },
    {
      "cell_type": "code",
      "execution_count": null,
      "metadata": {
        "colab": {
          "base_uri": "https://localhost:8080/",
          "height": 37
        },
        "id": "IlNk48ID2pD2",
        "outputId": "e59b4d77-21f3-4914-ebc2-e75d54fc983b"
      },
      "outputs": [
        {
          "data": {
            "application/vnd.google.colaboratory.intrinsic+json": {
              "type": "string"
            },
            "text/plain": [
              "'X|X|X\\n-----\\nO|O| \\n-----\\n | | '"
            ]
          },
          "execution_count": 23,
          "metadata": {},
          "output_type": "execute_result"
        }
      ],
      "source": [
        "str(x)"
      ]
    },
    {
      "cell_type": "markdown",
      "metadata": {
        "id": "7Z59aZ-g3FMF"
      },
      "source": [
        "# Reinforcement"
      ]
    },
    {
      "cell_type": "code",
      "execution_count": null,
      "metadata": {
        "colab": {
          "base_uri": "https://localhost:8080/"
        },
        "id": "NWWXvAK621-q",
        "outputId": "f5e35695-8022-4e24-da58-cb41e8fd89dc"
      },
      "outputs": [
        {
          "name": "stdout",
          "output_type": "stream",
          "text": [
            "Length:   0; Size in bytes:   72\n",
            "Length:   1; Size in bytes:  104\n",
            "Length:   2; Size in bytes:  104\n",
            "Length:   3; Size in bytes:  104\n",
            "Length:   4; Size in bytes:  104\n",
            "Length:   5; Size in bytes:  136\n",
            "Length:   6; Size in bytes:  136\n",
            "Length:   7; Size in bytes:  136\n",
            "Length:   8; Size in bytes:  136\n",
            "Length:   9; Size in bytes:  200\n",
            "Length:  10; Size in bytes:  200\n",
            "Length:  11; Size in bytes:  200\n",
            "Length:  12; Size in bytes:  200\n",
            "Length:  13; Size in bytes:  200\n",
            "Length:  14; Size in bytes:  200\n",
            "Length:  15; Size in bytes:  200\n",
            "Length:  16; Size in bytes:  200\n",
            "Length:  17; Size in bytes:  272\n",
            "Length:  18; Size in bytes:  272\n",
            "Length:  19; Size in bytes:  272\n",
            "Length:  20; Size in bytes:  272\n",
            "Length:  21; Size in bytes:  272\n",
            "Length:  22; Size in bytes:  272\n",
            "Length:  23; Size in bytes:  272\n",
            "Length:  24; Size in bytes:  272\n",
            "Length:  25; Size in bytes:  272\n",
            "Length:  26; Size in bytes:  352\n"
          ]
        }
      ],
      "source": [
        "#@title R-5.1\n",
        "import sys \n",
        "data=[]\n",
        "n=27\n",
        "for k in range(n):\n",
        "  a = len(data)\n",
        "  b = sys.getsizeof(data)\n",
        "  print('Length: {0:3d}; Size in bytes: {1:4d}'.format(a, b)) \n",
        "  data.append(None)"
      ]
    },
    {
      "cell_type": "code",
      "execution_count": null,
      "metadata": {
        "colab": {
          "base_uri": "https://localhost:8080/"
        },
        "id": "F6QchsAU3oXQ",
        "outputId": "2a2e514d-e0dc-435e-b75f-c60d1afadddb"
      },
      "outputs": [
        {
          "name": "stdout",
          "output_type": "stream",
          "text": [
            "Length:   0; Size in bytes:   72\n",
            "Length:   4; Size in bytes:  104\n",
            "Length:   8; Size in bytes:  136\n",
            "Length:  16; Size in bytes:  200\n",
            "Length:  25; Size in bytes:  272\n"
          ]
        }
      ],
      "source": [
        "#@title R-5.2\n",
        "import sys \n",
        "data=[]\n",
        "n=27\n",
        "prev_size, cur_size = 0, 0\n",
        "for k in range(n):\n",
        "  a = len(data)\n",
        "  cur_size = sys.getsizeof(data)\n",
        "\n",
        "  if cur_size > prev_size:\n",
        "    if a:\n",
        "      print('Length: {0:3d}; Size in bytes: {1:4d}'.format(a-1, prev_size))\n",
        "  \n",
        "  prev_size = cur_size \n",
        "  data.append(None)"
      ]
    },
    {
      "cell_type": "code",
      "execution_count": null,
      "metadata": {
        "colab": {
          "base_uri": "https://localhost:8080/"
        },
        "id": "uZ-4cIbFuLJh",
        "outputId": "3d0c0583-f6a1-4b4f-bd36-3f561b73dbec"
      },
      "outputs": [
        {
          "name": "stdout",
          "output_type": "stream",
          "text": [
            "Length:   0; Size in bytes:   72\n",
            "Length:   1; Size in bytes:  104\n",
            "Length:   2; Size in bytes:  104\n",
            "Length:   3; Size in bytes:  104\n",
            "Length:   4; Size in bytes:  104\n",
            "Length:   5; Size in bytes:  136\n",
            "Length:   6; Size in bytes:  136\n",
            "Length:   7; Size in bytes:  136\n",
            "Length:   8; Size in bytes:  136\n",
            "Length:   9; Size in bytes:  200\n",
            "Length:  10; Size in bytes:  200\n",
            "Length:  11; Size in bytes:  200\n",
            "Length:  12; Size in bytes:  200\n",
            "Length:  13; Size in bytes:  200\n",
            "Length:  14; Size in bytes:  200\n",
            "Length:  15; Size in bytes:  200\n",
            "Length:  16; Size in bytes:  200\n",
            "Length:  17; Size in bytes:  272\n",
            "Length:  16; Size in bytes:  272\n",
            "Length:  15; Size in bytes:  272\n",
            "Length:  14; Size in bytes:  272\n",
            "Length:  13; Size in bytes:  272\n",
            "Length:  12; Size in bytes:  272\n",
            "Length:  11; Size in bytes:  216\n",
            "Length:  10; Size in bytes:  216\n",
            "Length:   9; Size in bytes:  216\n",
            "Length:   8; Size in bytes:  168\n"
          ]
        }
      ],
      "source": [
        "#@title R-5.3\n",
        "import sys \n",
        "data=[]\n",
        "n=27\n",
        "for k in range(n):\n",
        "  a = len(data)\n",
        "  b = sys.getsizeof(data)\n",
        "  print('Length: {0:3d}; Size in bytes: {1:4d}'.format(a, b)) \n",
        "\n",
        "  if b > 200: #after size reaches 200, it stops appending and starts shrinking\n",
        "    data.pop()\n",
        "  else:\n",
        "    data.append(None)"
      ]
    },
    {
      "cell_type": "code",
      "execution_count": null,
      "metadata": {
        "id": "Az_iDbj65s90"
      },
      "outputs": [],
      "source": [
        "#@title R-5.4\n",
        "\n",
        "#add this method to the DynamicArray class\n",
        "def __getitem__(self, k):\n",
        "    \n",
        "    #to support negative index\n",
        "    if k < 0:\n",
        "      k += len(self)\n",
        "\n",
        "    if not 0 <= k < self._n:\n",
        "      raise IndexError(\"Index out of range!\")\n",
        "    return self._A[k]"
      ]
    },
    {
      "cell_type": "code",
      "execution_count": null,
      "metadata": {
        "id": "xZm-c9fsEMvT"
      },
      "outputs": [],
      "source": [
        "#@title R-5.6\n",
        "import ctypes\n",
        "\n",
        "class DynamicArray:\n",
        "  \"\"\"This class mimics the dynamic array list class in the python\"\"\"\n",
        "\n",
        "  def __init__(self):\n",
        "    self._n = 0\n",
        "    self._capacity = 1\n",
        "    self._A = self._make_array(self._capacity)\n",
        "\n",
        "\n",
        "  def __len__(self):\n",
        "    return self._n\n",
        "\n",
        "  def __getitem__(self, k):\n",
        "    \n",
        "    #to support negative index\n",
        "    if k < 0:\n",
        "      k += len(self)\n",
        "\n",
        "    if not 0 <= k < self._n:\n",
        "      raise IndexError(\"Index out of range!\")\n",
        "    return self._A[k]\n",
        "\n",
        "  def append(self, v):\n",
        "    if self._n == self._capacity:\n",
        "      self._resize( 2 * self._capacity)\n",
        "      \n",
        "    self._A[self._n]=v\n",
        "    self._n += 1\n",
        "\n",
        "\n",
        "  def insert(self, k, value):\n",
        "    if k >= self._n:\n",
        "      raise ValueError(\"The index should be a non-negative number less than {0}\".format(self._n))  \n",
        "    if self._n == self._capacity:\n",
        "      #if resize happens, it is loaded with shifted version to accommodate value at index=k\n",
        "      self._resize( 2 * self._capacity, k)\n",
        "    else:\n",
        "      for j in range(self._n, k, -1): \n",
        "        self._A[j] = self._A[j-1]\n",
        "      \n",
        "    self._A[k] = value\n",
        "    self._n += 1\n",
        "\n",
        "  def _resize(self, c, k=None):\n",
        "    B = self._make_array(c)\n",
        "    for i in range(self._n):\n",
        "      if not k:\n",
        "        B[i] = self._A[i]\n",
        "      if k and i < k:\n",
        "        B[i] = self._A[i]\n",
        "      if k and i >= k:\n",
        "        B[i+1] = self._A[i]\n",
        "    \n",
        "    if k:  #only in the case that we support k value\n",
        "      B[k] = None \n",
        "    \n",
        "    self._A = B\n",
        "    self._capacity *=2\n",
        "  \n",
        "\n",
        "  def _make_array(self, c):\n",
        "    return (c*ctypes.py_object)()"
      ]
    },
    {
      "cell_type": "code",
      "execution_count": null,
      "metadata": {
        "id": "Rq1HcKXJCP-T"
      },
      "outputs": [],
      "source": [
        "x = DynamicArray()"
      ]
    },
    {
      "cell_type": "code",
      "execution_count": null,
      "metadata": {
        "id": "VaF10cqUFIhu"
      },
      "outputs": [],
      "source": [
        "x.append(1)\n",
        "x.append(2)\n",
        "x.append(3)\n",
        "x.append(4)\n",
        "x.append(5)\n",
        "x.append(6)\n",
        "x.append(7)\n",
        "x.append(8)"
      ]
    },
    {
      "cell_type": "code",
      "execution_count": null,
      "metadata": {
        "id": "r8udAWVqF4n7"
      },
      "outputs": [],
      "source": [
        "#it inserts value 10 at index 4\n",
        "x.insert(4, 10)"
      ]
    },
    {
      "cell_type": "code",
      "execution_count": null,
      "metadata": {
        "colab": {
          "base_uri": "https://localhost:8080/"
        },
        "id": "IcMC6Wm2GDvQ",
        "outputId": "6b8d1710-b213-4aa7-cf4a-e36ddef0818d"
      },
      "outputs": [
        {
          "data": {
            "text/plain": [
              "[1, 2, 3, 4, 10, 5, 6, 7, 8]"
            ]
          },
          "execution_count": 97,
          "metadata": {},
          "output_type": "execute_result"
        }
      ],
      "source": [
        "[x[i] for i in range(len(x))]"
      ]
    },
    {
      "cell_type": "code",
      "execution_count": null,
      "metadata": {
        "id": "Ae4cJmhlGgcv"
      },
      "outputs": [],
      "source": [
        "#@title R-5.7\n",
        "def repeat_find(seq):\n",
        "  temp =[seq[0]]\n",
        "  for i in range(1, len(seq)):\n",
        "    if seq[i] in temp:\n",
        "      return seq[i]\n",
        "    temp.append(seq[i])\n",
        "  return None"
      ]
    },
    {
      "cell_type": "code",
      "execution_count": null,
      "metadata": {
        "id": "f9BSU2PdJ08h"
      },
      "outputs": [],
      "source": [
        "seq = [1,2,3,4,20,6,67,43, 62, 9, 1]"
      ]
    },
    {
      "cell_type": "code",
      "execution_count": null,
      "metadata": {
        "colab": {
          "base_uri": "https://localhost:8080/"
        },
        "id": "93SCXbSZKA4T",
        "outputId": "36bcddae-57dc-4756-92b9-acfcc54179c0"
      },
      "outputs": [
        {
          "name": "stdout",
          "output_type": "stream",
          "text": [
            "7.724761962890625e-05\n"
          ]
        }
      ],
      "source": [
        "import time\n",
        "\n",
        "start_time = time.time()\n",
        "repeat_find(seq)\n",
        "end_time = time.time()\n",
        "print(end_time - start_time)"
      ]
    },
    {
      "cell_type": "code",
      "execution_count": null,
      "metadata": {
        "id": "EQZnrrVdKB9H"
      },
      "outputs": [],
      "source": [
        "#@title R-5.8\n",
        "from time import time\n",
        "def compute_average(n, pop_idx):\n",
        "  data = [0]*1000000\n",
        "  start = time()\n",
        "  for k in range(n):\n",
        "    if pop_idx:\n",
        "      data.pop(pop_idx)\n",
        "    else:\n",
        "      data.pop()\n",
        "\n",
        "  end = time()\n",
        "  return (end - start) / n"
      ]
    },
    {
      "cell_type": "code",
      "execution_count": null,
      "metadata": {
        "colab": {
          "base_uri": "https://localhost:8080/"
        },
        "id": "1ayu0FEl4A3Z",
        "outputId": "5bc3566c-228a-4ee1-c320-ec097907feaf"
      },
      "outputs": [
        {
          "data": {
            "text/plain": [
              "7.321834564208985e-07"
            ]
          },
          "execution_count": 12,
          "metadata": {},
          "output_type": "execute_result"
        }
      ],
      "source": [
        "#pop the first element\n",
        "compute_average(1000, 0)"
      ]
    },
    {
      "cell_type": "code",
      "execution_count": null,
      "metadata": {
        "colab": {
          "base_uri": "https://localhost:8080/"
        },
        "id": "gwn-3nt14F7L",
        "outputId": "1c3acf85-170b-4eaf-9eef-d1ed90d1e0e5"
      },
      "outputs": [
        {
          "data": {
            "text/plain": [
              "0.00017796945571899413"
            ]
          },
          "execution_count": 15,
          "metadata": {},
          "output_type": "execute_result"
        }
      ],
      "source": [
        "#pop the middle element\n",
        "compute_average(1000, 500000)"
      ]
    },
    {
      "cell_type": "code",
      "execution_count": null,
      "metadata": {
        "colab": {
          "base_uri": "https://localhost:8080/"
        },
        "id": "A0AcMbw64g7R",
        "outputId": "b566acfc-9972-4b43-a009-3eba8af4c743"
      },
      "outputs": [
        {
          "data": {
            "text/plain": [
              "1.1014938354492188e-07"
            ]
          },
          "execution_count": 16,
          "metadata": {},
          "output_type": "execute_result"
        }
      ],
      "source": [
        "#pop the middle element\n",
        "compute_average(1000, None)"
      ]
    },
    {
      "cell_type": "code",
      "execution_count": null,
      "metadata": {
        "id": "jSGCmp6F4lOG"
      },
      "outputs": [],
      "source": [
        "#@title R-5.10\n",
        "#the constructor for the Caesar class\n",
        "\n",
        "def __init__(self, shift):\n",
        "    \n",
        "    self._forward = ''.join([chr((k + shift) % 26 + ord( 'A' )) for k in range(26)])\n",
        "    self._backward = ''.join([chr((k - shift) % 26 + ord( 'A' )) for k in range(26)])"
      ]
    },
    {
      "cell_type": "code",
      "execution_count": null,
      "metadata": {
        "id": "TwA4he0W6ndI"
      },
      "outputs": [],
      "source": [
        "#@title R-5.11\n",
        "import random\n",
        "def sum_array(c, r):\n",
        "  data = [[random.random()]*c for j in range(r)]\n",
        "  print('Array: {0}'.format(data))\n",
        "  tot_sum = 0\n",
        "  for i in range(r):\n",
        "    tot_sum += sum(data[i])\n",
        "  return tot_sum\n"
      ]
    },
    {
      "cell_type": "code",
      "execution_count": null,
      "metadata": {
        "colab": {
          "base_uri": "https://localhost:8080/"
        },
        "id": "HvUUY2Ot7aL9",
        "outputId": "7cdd1111-8066-4cb7-b763-13e9594fcfaa"
      },
      "outputs": [
        {
          "name": "stdout",
          "output_type": "stream",
          "text": [
            "Array: [[0.6415938648781283, 0.6415938648781283, 0.6415938648781283], [0.18134180103400455, 0.18134180103400455, 0.18134180103400455]]\n"
          ]
        },
        {
          "data": {
            "text/plain": [
              "2.4688069977363987"
            ]
          },
          "execution_count": 22,
          "metadata": {},
          "output_type": "execute_result"
        }
      ],
      "source": [
        "sum_array(c=3, r=2)"
      ]
    },
    {
      "cell_type": "code",
      "execution_count": null,
      "metadata": {
        "colab": {
          "base_uri": "https://localhost:8080/"
        },
        "id": "PFfL_y3s7b5p",
        "outputId": "edd07917-1f43-4cb8-ed01-76e99e9acb2e"
      },
      "outputs": [
        {
          "data": {
            "text/plain": [
              "17.3862946053412"
            ]
          },
          "execution_count": 24,
          "metadata": {},
          "output_type": "execute_result"
        }
      ],
      "source": [
        "#@title R-5.12\n",
        "c, r = 5, 4\n",
        "data = [[random.random()]*c for j in range(r)]\n",
        "\n",
        "sum([sum(data[k]) for k in range(r)])"
      ]
    },
    {
      "cell_type": "markdown",
      "metadata": {
        "id": "B6a39Oqe8ezu"
      },
      "source": [
        "# Creativity"
      ]
    },
    {
      "cell_type": "code",
      "execution_count": null,
      "metadata": {
        "colab": {
          "background_save": true
        },
        "id": "v5bm13qo8YC3",
        "outputId": "bb10d7b4-a643-4712-8ee0-49b722ca77a5"
      },
      "outputs": [
        {
          "name": "stdout",
          "output_type": "stream",
          "text": [
            "72\n",
            "104\n",
            "104\n",
            "104\n",
            "104\n",
            "136\n",
            "136\n",
            "136\n",
            "136\n",
            "200\n",
            "200\n",
            "200\n",
            "200\n",
            "200\n",
            "200\n",
            "200\n",
            "200\n",
            "272\n",
            "272\n",
            "272\n"
          ]
        }
      ],
      "source": [
        "#@title C-5.13\n",
        "\n",
        "#load with \n",
        "data = []\n",
        "for _ in range(20):\n",
        "  print(sys.getsizeof(data))\n",
        "  data.append(None)"
      ]
    },
    {
      "cell_type": "code",
      "execution_count": null,
      "metadata": {
        "id": "QURShpZQV6pg"
      },
      "outputs": [],
      "source": [
        "#@title C-5.14\n",
        "import random\n",
        "\n",
        "def shuffle_seq(seq):\n",
        "  data, idx = [], []\n",
        "  while len(data) < len(seq):\n",
        "    rand_idx = random.randrange(len(seq))\n",
        "    if not rand_idx in idx:\n",
        "      idx.append(rand_idx)\n",
        "      data.append(seq[rand_idx])\n",
        "  return data"
      ]
    },
    {
      "cell_type": "code",
      "execution_count": null,
      "metadata": {
        "colab": {
          "base_uri": "https://localhost:8080/"
        },
        "id": "PCAN8E2KYUUt",
        "outputId": "318c1b81-b7ea-45ae-b141-04660ea7fa8b"
      },
      "outputs": [
        {
          "data": {
            "text/plain": [
              "[5, 8, 3, 4, 2, 1]"
            ]
          },
          "execution_count": 18,
          "metadata": {},
          "output_type": "execute_result"
        }
      ],
      "source": [
        "seq = [1, 2, 3, 4, 5, 8]\n",
        "shuffle_seq(seq)"
      ]
    },
    {
      "cell_type": "code",
      "execution_count": null,
      "metadata": {
        "id": "paXz6GX1aHi4"
      },
      "outputs": [],
      "source": [
        "def __init__(self):\n",
        "    self._n = 0\n",
        "    self._capacity = 1\n",
        "    self._A = self._make_array(self._capacity)\n"
      ]
    },
    {
      "cell_type": "code",
      "execution_count": null,
      "metadata": {
        "id": "FN5WVm4dYZtm"
      },
      "outputs": [],
      "source": [
        "#@title C-5.16\n",
        "def pop(self):\n",
        "    if not self._n:\n",
        "      raise IndexError(\"The sequence is empty!\")\n",
        "    del self._A[-1] \n",
        "    self._n -= 1\n",
        "    \n",
        "    if self._n < self._capacity / 4:\n",
        "      self._resize( int(0.5 * self._capacity))\n"
      ]
    },
    {
      "cell_type": "code",
      "execution_count": null,
      "metadata": {
        "colab": {
          "base_uri": "https://localhost:8080/"
        },
        "id": "p4B6DFDoZ3yf",
        "outputId": "cfe24b70-a153-4dd0-dcdf-64bc5b8a0a60"
      },
      "outputs": [
        {
          "output_type": "stream",
          "name": "stdout",
          "text": [
            "The runtime for the concatenation approach is 0.0005786418914794922\n",
            "The runtime for the list join approach is 0.0004928112030029297\n",
            "The runtime for the Comprehension list join approach is 0.00022125244140625\n",
            "The runtime for the Comprehension generator join approach is 0.00024199485778808594\n"
          ]
        }
      ],
      "source": [
        "#@title C-5.21\n",
        "\n",
        "import time\n",
        "\n",
        "long_string = 'The randrange() function is used to generate a random number between the \\\n",
        "specified range in its parameter. It accepts three parameters: starting number, stop \\\n",
        "number, and width, which is used to skip a number in the range.\\\n",
        "The randrange() function is used to generate a random number between the \\\n",
        "specified range in its parameter. It accepts three parameters: starting number, stop \\\n",
        "number, and width, which is used to skip a number in the range.\\\n",
        "The randrange() function is used to generate a random number between the \\\n",
        "specified range in its parameter. It accepts three parameters: starting number, stop \\\n",
        "number, and width, which is used to skip a number in the range.\\\n",
        "The randrange() function is used to generate a random number between the \\\n",
        "specified range in its parameter. It accepts three parameters: starting number, stop \\\n",
        "number, and width, which is used to skip a number in the range.\\\n",
        "The randrange() function is used to generate a random number between the \\\n",
        "specified range in its parameter. It accepts three parameters: starting number, stop \\\n",
        "number, and width, which is used to skip a number in the range.'\n",
        "\n",
        "#first approach: Concatenation\n",
        "start_time = time.time()\n",
        "string_rep = ''\n",
        "for i in range(len(long_string)):\n",
        "  string_rep += long_string[i]\n",
        "end_time = time.time()\n",
        "print(f\"The runtime for the concatenation approach is {end_time - start_time}\")\n",
        "\n",
        "\n",
        "#Second approach: List join\n",
        "start_time = time.time()\n",
        "string_rep = []\n",
        "for i in range(len(long_string)):\n",
        "  string_rep.append(long_string[i])\n",
        "''.join(string_rep)\n",
        "end_time = time.time()\n",
        "print(f\"The runtime for the list join approach is {end_time - start_time}\")\n",
        "\n",
        "\n",
        "#Third approach: Comprehension list join\n",
        "start_time = time.time()\n",
        "letters = ''.join([c for c in long_string])\n",
        "end_time = time.time()\n",
        "print(f\"The runtime for the Comprehension list join approach is {end_time - start_time}\")\n",
        "\n",
        "\n",
        "#Third approach: Comprehension generator join\n",
        "start_time = time.time()\n",
        "letters = ''.join(c for c in long_string)\n",
        "end_time = time.time()\n",
        "print(f\"The runtime for the Comprehension generator join approach is {end_time - start_time}\")\n"
      ]
    },
    {
      "cell_type": "code",
      "execution_count": null,
      "metadata": {
        "colab": {
          "base_uri": "https://localhost:8080/"
        },
        "id": "mz2diiLAd0v7",
        "outputId": "f3106798-0e4c-4636-dfc9-77d2e027aa16"
      },
      "outputs": [
        {
          "output_type": "stream",
          "name": "stdout",
          "text": [
            "The runtime for the append approach is 0.0002593994140625\n",
            "The runtime for the extend approach is 6.365776062011719e-05\n"
          ]
        }
      ],
      "source": [
        "#@title C-5.22\n",
        "\n",
        "\n",
        "data = []\n",
        "list_to_be_attached = long_string\n",
        "start_time = time.time()\n",
        "for i in range(len(long_string)):\n",
        "  data.append(long_string[i])\n",
        "end_time = time.time()\n",
        "print(f\"The runtime for the append approach is {end_time - start_time}\")\n",
        "\n",
        "\n",
        "\n",
        "data = []\n",
        "list_to_be_attached = long_string\n",
        "start_time = time.time()\n",
        "data.extend(long_string)\n",
        "end_time = time.time()\n",
        "print(f\"The runtime for the extend approach is {end_time - start_time}\")\n",
        "\n"
      ]
    },
    {
      "cell_type": "code",
      "execution_count": null,
      "metadata": {
        "colab": {
          "base_uri": "https://localhost:8080/"
        },
        "id": "ZxfUER-oe80-",
        "outputId": "ac64c514-a05b-4b56-ce39-ded2bfc91f9a"
      },
      "outputs": [
        {
          "output_type": "stream",
          "name": "stdout",
          "text": [
            "The runtime for the for-loop approach is 0.12545299530029297\n",
            "The runtime for the list comprehension approach is 0.0521547794342041\n"
          ]
        }
      ],
      "source": [
        "#@title C-5.23\n",
        "import time \n",
        "\n",
        "n=1000000\n",
        "\n",
        "start_time = time.time()\n",
        "data = []\n",
        "for i in range(n):\n",
        "  data.append(None)\n",
        "end_time = time.time()\n",
        "\n",
        "print(f\"The runtime for the for-loop approach is {end_time - start_time}\")\n",
        "\n",
        "\n",
        "start_time = time.time()\n",
        "data = [None for i in range(n)]\n",
        "end_time = time.time()\n",
        "\n",
        "print(f\"The runtime for the list comprehension approach is {end_time - start_time}\")\n"
      ]
    },
    {
      "cell_type": "code",
      "execution_count": null,
      "metadata": {
        "colab": {
          "base_uri": "https://localhost:8080/"
        },
        "id": "E5RaryvPfBpr",
        "outputId": "d9febde5-9b44-4ad3-a41b-058f2a359832"
      },
      "outputs": [
        {
          "output_type": "stream",
          "name": "stdout",
          "text": [
            "The runtime for the removing element placed at the begining of array is 0.00030159950256347656\n",
            "The runtime for the removing element placed at the middle of the array is 0.031420230865478516\n",
            "The runtime for the removing element placed at the end of the array is 0.02801656723022461\n"
          ]
        }
      ],
      "source": [
        "#@title C-5.24\n",
        "import time \n",
        "\n",
        "n = 100\n",
        "data = [1] * n\n",
        "data.extend([None]*10000)\n",
        "\n",
        "#removing the element 1 placed at the begining of array\n",
        "start_time = time.time()\n",
        "for i in range(n):\n",
        "  data.remove(1)\n",
        "end_time = time.time()\n",
        "print(f\"The runtime for the removing element placed at the begining of array is {end_time - start_time}\")\n",
        "\n",
        "\n",
        "#place the element at the middle\n",
        "data = [None]*10000\n",
        "data.extend([1] * n)\n",
        "data.extend([None]*10000)\n",
        "\n",
        "#removing the element 1 placed at the middle of the array\n",
        "start_time = time.time()\n",
        "for i in range(n):\n",
        "  data.remove(1)\n",
        "end_time = time.time()\n",
        "print(f\"The runtime for the removing element placed at the middle of the array is {end_time - start_time}\")\n",
        "\n",
        "\n",
        "#place the element at the middle\n",
        "data = [None]*10000\n",
        "data.extend([1] * n)\n",
        "\n",
        "#removing the element 1 placed at the end of the array\n",
        "start_time = time.time()\n",
        "for i in range(n):\n",
        "  data.remove(1)\n",
        "end_time = time.time()\n",
        "print(f\"The runtime for the removing element placed at the end of the array is {end_time - start_time}\")\n",
        "\n"
      ]
    },
    {
      "cell_type": "code",
      "source": [
        "#@title C-5.25\n",
        "def remove_all(data, value):\n",
        "  return [c for c in data if not c==value]\n"
      ],
      "metadata": {
        "id": "Nk4zthK-B29z"
      },
      "execution_count": null,
      "outputs": []
    },
    {
      "cell_type": "code",
      "source": [
        "seq = [1,2,4,3,6,1,4,7]\n",
        "remove_all(seq, 1)"
      ],
      "metadata": {
        "colab": {
          "base_uri": "https://localhost:8080/"
        },
        "id": "rW2nLLJJCsS1",
        "outputId": "002ceeec-af86-465a-f389-35368db0b4b9"
      },
      "execution_count": null,
      "outputs": [
        {
          "output_type": "execute_result",
          "data": {
            "text/plain": [
              "[2, 4, 3, 6, 4, 7]"
            ]
          },
          "metadata": {},
          "execution_count": 17
        }
      ]
    },
    {
      "cell_type": "code",
      "source": [
        "#@title C-5.26\n",
        "from collections import defaultdict\n",
        "\n",
        "def find_repeated(seq):\n",
        "  c = defaultdict(int)\n",
        "  for k in seq:\n",
        "    c[k] += 1\n",
        "    if c[k] == 5:\n",
        "      return k\n",
        "      \n"
      ],
      "metadata": {
        "id": "Ofaq56pcFDzS"
      },
      "execution_count": null,
      "outputs": []
    },
    {
      "cell_type": "code",
      "source": [
        "seq = [1,2,3,1,1,1,3,1]\n",
        "find_repeated(seq)"
      ],
      "metadata": {
        "colab": {
          "base_uri": "https://localhost:8080/"
        },
        "id": "_Kl2v8TeHiVj",
        "outputId": "0f0da82d-796c-4c57-fc99-6307b54dd4c2"
      },
      "execution_count": null,
      "outputs": [
        {
          "output_type": "execute_result",
          "data": {
            "text/plain": [
              "1"
            ]
          },
          "metadata": {},
          "execution_count": 23
        }
      ]
    },
    {
      "cell_type": "code",
      "source": [
        "#@title C-5.27\n",
        "\n",
        "#this algorithm has O(n) complexity. The exact number of primitive operations is 2n.\n",
        "def missing_int(L):\n",
        "  \n",
        "  missing_integer = []\n",
        "  data = [None] * len(L)\n",
        "  for i in range(len(L)):\n",
        "    data[L[i]] = L[i]\n",
        "  \n",
        "  for i in range(len(L)):\n",
        "    if not data[i]:\n",
        "      missing_integer.append(i)\n",
        "  \n",
        "  return missing_integer\n",
        "\n",
        "  "
      ],
      "metadata": {
        "id": "1uG9nSiiHuUV"
      },
      "execution_count": null,
      "outputs": []
    },
    {
      "cell_type": "code",
      "source": [
        "L = [1, 1, 1, 3]\n",
        "missing_int(L)"
      ],
      "metadata": {
        "colab": {
          "base_uri": "https://localhost:8080/"
        },
        "id": "1fdyfbc5tcpz",
        "outputId": "43b883a4-c3e3-4b19-9bb8-2eab53555c1d"
      },
      "execution_count": null,
      "outputs": [
        {
          "output_type": "execute_result",
          "data": {
            "text/plain": [
              "[0, 2]"
            ]
          },
          "metadata": {},
          "execution_count": 4
        }
      ]
    },
    {
      "cell_type": "code",
      "source": [
        "#@title C-5.29\n",
        "\n",
        "def natural_join(A, B):\n",
        "  result = []\n",
        "  for i, j in A:\n",
        "    if j < len(B):\n",
        "      result.append((i, j, B[j][1]))\n",
        "  return result"
      ],
      "metadata": {
        "id": "PxZk96FZI0sj"
      },
      "execution_count": null,
      "outputs": []
    },
    {
      "cell_type": "code",
      "source": [
        "A = [(0, 2), (1, 4), (2, 1), (3, 0), (4, 3)]\n",
        "B = [(0, 3), (1, 2), (2, 4)]\n",
        "\n",
        "natural_join(A, B)\n"
      ],
      "metadata": {
        "colab": {
          "base_uri": "https://localhost:8080/"
        },
        "id": "_7Ek00XML2B9",
        "outputId": "f79cfe41-319f-4b60-e458-919f0b0c921c"
      },
      "execution_count": null,
      "outputs": [
        {
          "output_type": "execute_result",
          "data": {
            "text/plain": [
              "[(0, 2, 4), (2, 1, 2), (3, 0, 3)]"
            ]
          },
          "metadata": {},
          "execution_count": 36
        }
      ]
    },
    {
      "cell_type": "code",
      "source": [
        "#@title C-5.30\n",
        "\n",
        "#we have used the insertion-sort algorithm\n",
        "\n",
        "def order_packet(seq, n):\n",
        "  if not len(seq) == n:\n",
        "    raise ValueError(\"No all packets have been received!!\")\n",
        "  else:\n",
        "    for k in range(1, len(seq)):\n",
        "      cur = seq[k]\n",
        "      j = k\n",
        "      while j > 0 and seq[j-1] > cur:\n",
        "        seq[j] = seq[j-1]\n",
        "        j -= 1\n",
        "      seq[j] = cur"
      ],
      "metadata": {
        "id": "RwefaJMNL5iF"
      },
      "execution_count": null,
      "outputs": []
    },
    {
      "cell_type": "code",
      "source": [
        "#@title C-5.31\n",
        "def sum_list_list(seq):\n",
        "  if len(seq) == 1:\n",
        "    return sum(seq[0])\n",
        "  else:\n",
        "    return sum(seq[-1]) + sum_list_list(seq[0:-1])"
      ],
      "metadata": {
        "id": "6plKUbOySPgY"
      },
      "execution_count": null,
      "outputs": []
    },
    {
      "cell_type": "code",
      "source": [
        "seq = [[1,2], [1,3], [3,4], [5,4]]\n",
        "sum_list_list(seq)"
      ],
      "metadata": {
        "colab": {
          "base_uri": "https://localhost:8080/"
        },
        "id": "190WZNC3Sfca",
        "outputId": "97b9e8c1-96f1-4d93-88f4-6799a341ebc2"
      },
      "execution_count": null,
      "outputs": [
        {
          "output_type": "execute_result",
          "data": {
            "text/plain": [
              "23"
            ]
          },
          "metadata": {},
          "execution_count": 53
        }
      ]
    },
    {
      "cell_type": "markdown",
      "source": [
        "# Projects"
      ],
      "metadata": {
        "id": "9sdJOLpPTs6K"
      }
    },
    {
      "cell_type": "code",
      "source": [
        "#@title P-5.32\n",
        "def add_three_dim(a, b):\n",
        "  \n",
        "  #check for dimentionality match\n",
        "  if len(a) != len(b):\n",
        "    raise ValueError('Dimensions should match!')\n",
        "  if len(a[0]) != len(b[0]):\n",
        "    raise ValueError('Dimensions should match!')\n",
        "  r, c = len(a), len(a[0])\n",
        "  data = [[[None, None, None]]*c for i in range(r)]\n",
        "  for i in range(r):\n",
        "    for j in range(len(a[i][0])):\n",
        "      data[i][0][j] = a[i][0][j] + b[i][0][j]\n",
        "  \n",
        "  return data"
      ],
      "metadata": {
        "id": "iZJxWgCYSgtO"
      },
      "execution_count": null,
      "outputs": []
    },
    {
      "cell_type": "code",
      "source": [
        "\n",
        "x = [[[1, 2, 3]], [[10, 20, 30]], [[100, 200, 300]]]\n",
        "y = [[[1, 2, 3]], [[10, 20, 30]], [[100, 200, 300]]]\n",
        "add_three_dim(x, y)\n"
      ],
      "metadata": {
        "colab": {
          "base_uri": "https://localhost:8080/"
        },
        "id": "dXFejzhVS6wA",
        "outputId": "d4e9b6ba-1d0c-4b5e-fd81-7c7b0ad28f7b"
      },
      "execution_count": null,
      "outputs": [
        {
          "output_type": "execute_result",
          "data": {
            "text/plain": [
              "[[[2, 4, 6]], [[20, 40, 60]], [[200, 400, 600]]]"
            ]
          },
          "metadata": {},
          "execution_count": 17
        }
      ]
    },
    {
      "cell_type": "code",
      "source": [
        "#@title P-5.33\n",
        "def add_prod_mat(A, B, op = 'add'):\n",
        "  \"\"\"\n",
        "  This func adds/multiplies two dimentional matrix.\n",
        "  A, B: two-dim matrix\n",
        "  op: add or mul\n",
        "  \"\"\"\n",
        "\n",
        "  # a nested function\n",
        "  def transp(A):\n",
        "    \"\"\"This func transposes the matrix, e.g., intechange the column and rows\n",
        "    , i.e., xij would be xji\"\"\"\n",
        "    tr_mat = [[None] * len(A) for i in range(len(A[0]))]\n",
        "    for i in range(len(A)):\n",
        "      for j in range(len(A[0])):\n",
        "        tr_mat[j][i] = A[i][j]\n",
        "    \n",
        "    return tr_mat\n",
        "\n",
        "  #another nested func\n",
        "  def sum_mul_element_wise(x, y):\n",
        "    z = 0\n",
        "    for i in range(len(x)):\n",
        "      z += x[i] * y[i]\n",
        "    return z\n",
        "\n",
        "\n",
        "  if op == 'add':\n",
        "    #we assume that matrix A have the same shape element in the second dim\n",
        "    if len(A) != len(B) or len(A[0]) != len(B[0]):\n",
        "      raise ValueError(\"The dimensions do not match!!\")\n",
        "    \n",
        "    data = [[None] * len(A[0]) for i in range(len(A))]\n",
        "\n",
        "    for i in range(len(A)):\n",
        "      for j in range(len(A[0])):\n",
        "        data[i][j] = A[i][j] + B[i][j]\n",
        "    \n",
        "  elif op == 'mul':\n",
        "    if len(A[0]) != len(B):\n",
        "      raise ValueError(\"The dimensions do not match!!\")\n",
        "    \n",
        "    \n",
        "    data = [[None] * len(B[0]) for i in range(len(A))]\n",
        "\n",
        "    #transpose A matrix for multiplication\n",
        "    B = transp(B)\n",
        "    data = [[None] * len(B) for i in range(len(A))]\n",
        "\n",
        "    for i in range(len(data)):\n",
        "      for j in range(len(data[0])):\n",
        "        data[i][j] = sum_mul_element_wise(A[i], B[j])\n",
        "    \n",
        "  else:\n",
        "    raise ValueError(\"The op should be add or mul !\") \n",
        "\n",
        "  return data\n"
      ],
      "metadata": {
        "id": "F4av1KybureH"
      },
      "execution_count": null,
      "outputs": []
    },
    {
      "cell_type": "code",
      "source": [
        "x = [[1,2], [4,5], [4, 3]]\n",
        "y = [[2,6], [7,8], [0, 9]]\n",
        "add_prod_mat(x, y, op = 'add')"
      ],
      "metadata": {
        "colab": {
          "base_uri": "https://localhost:8080/"
        },
        "id": "olmtVFrUwW2_",
        "outputId": "8afd9894-6ef8-4775-fbda-d4f9c636a573"
      },
      "execution_count": null,
      "outputs": [
        {
          "output_type": "execute_result",
          "data": {
            "text/plain": [
              "[[3, 8], [11, 13], [4, 12]]"
            ]
          },
          "metadata": {},
          "execution_count": 47
        }
      ]
    },
    {
      "cell_type": "code",
      "source": [
        "x = [[1,2], [4,5], [4, 3]]\n",
        "y = [[2, 6, 7], [0, 9, 1]]\n",
        "add_prod_mat(x, y, op = 'mul')"
      ],
      "metadata": {
        "colab": {
          "base_uri": "https://localhost:8080/"
        },
        "id": "XH2139IBA9J0",
        "outputId": "b73e4f32-8f33-4a16-fca3-32a9634d1953"
      },
      "execution_count": null,
      "outputs": [
        {
          "output_type": "execute_result",
          "data": {
            "text/plain": [
              "[[2, 24, 9], [8, 69, 33], [8, 51, 31]]"
            ]
          },
          "metadata": {},
          "execution_count": 48
        }
      ]
    },
    {
      "cell_type": "code",
      "source": [
        "#@title P-5.34\n",
        "class CaesarCipher:\n",
        "  def __init__(self, shift):\n",
        "    encoder = [None]*26 # temp array for encryption \n",
        "    decoder = [None]*26 # temp array for decryption \n",
        "    for k in range(26):\n",
        "      encoder[k] = chr((k + shift) % 26 + ord( 'A' ))\n",
        "      decoder[k] = chr((k - shift) % 26 + ord( 'A' ))\n",
        "    self._forward = ''.join(encoder) # will store as string \n",
        "    self._backward = ''.join(decoder) # since fixed\n",
        "\n",
        "  def encrypt(self, message):\n",
        "    return self._transform(message, self._forward)\n",
        "\n",
        "  def decrypt(self, secret):\n",
        "    return self._transform(secret, self._backward)\n",
        "\n",
        "  def _transform(self, original, code):\n",
        "    msg = list(original)\n",
        "    for k in range(len(msg)):\n",
        "      if msg[k].isupper(): \n",
        "        j = ord(msg[k]) - ord( 'A' ) \n",
        "        msg[k] = code[j]\n",
        "      elif msg[k].islower():\n",
        "        msg[k] = msg[k].capitalize()\n",
        "        j = ord(msg[k]) - ord( 'A' ) \n",
        "        msg[k] = code[j].lower()\n",
        "    \n",
        "    return ''.join(msg)\n",
        "  \n",
        "\n",
        "  "
      ],
      "metadata": {
        "id": "Lbl2QBukAM88"
      },
      "execution_count": null,
      "outputs": []
    },
    {
      "cell_type": "code",
      "source": [
        "d = CaesarCipher(2)"
      ],
      "metadata": {
        "id": "7F-smpfbHkFH"
      },
      "execution_count": null,
      "outputs": []
    },
    {
      "cell_type": "code",
      "source": [
        "d._forward"
      ],
      "metadata": {
        "colab": {
          "base_uri": "https://localhost:8080/",
          "height": 37
        },
        "id": "x6Ymmsw0ME17",
        "outputId": "9e830639-e8a6-462c-8594-e0504fd469bf"
      },
      "execution_count": null,
      "outputs": [
        {
          "output_type": "execute_result",
          "data": {
            "text/plain": [
              "'CDEFGHIJKLMNOPQRSTUVWXYZAB'"
            ],
            "application/vnd.google.colaboratory.intrinsic+json": {
              "type": "string"
            }
          },
          "metadata": {},
          "execution_count": 150
        }
      ]
    },
    {
      "cell_type": "code",
      "source": [
        "d._backward"
      ],
      "metadata": {
        "colab": {
          "base_uri": "https://localhost:8080/",
          "height": 37
        },
        "id": "BEjpsDQFML-9",
        "outputId": "91f6bde7-2732-4c5a-fad2-704d178f59c1"
      },
      "execution_count": null,
      "outputs": [
        {
          "output_type": "execute_result",
          "data": {
            "text/plain": [
              "'YZABCDEFGHIJKLMNOPQRSTUVWX'"
            ],
            "application/vnd.google.colaboratory.intrinsic+json": {
              "type": "string"
            }
          },
          "metadata": {},
          "execution_count": 151
        }
      ]
    },
    {
      "cell_type": "code",
      "source": [
        "d.encrypt('THIS is A MESSAGE')"
      ],
      "metadata": {
        "colab": {
          "base_uri": "https://localhost:8080/",
          "height": 37
        },
        "id": "dxXv4XdSMDTm",
        "outputId": "925c2b54-dcda-4bb2-8f56-e96cd41a16bf"
      },
      "execution_count": null,
      "outputs": [
        {
          "output_type": "execute_result",
          "data": {
            "text/plain": [
              "'VJKU ku C OGUUCIG'"
            ],
            "application/vnd.google.colaboratory.intrinsic+json": {
              "type": "string"
            }
          },
          "metadata": {},
          "execution_count": 152
        }
      ]
    },
    {
      "cell_type": "code",
      "source": [
        "#@title P-5.35\n",
        "class SubstitutionCipher:\n",
        "  def __init__(self, encode_key):\n",
        "\n",
        "    #build mapping function\n",
        "    key = list(range(26))\n",
        "    decode_key = [chr((k) % 26 + ord( 'A' )) for k in key]\n",
        "\n",
        "    encode_map = {}\n",
        "    for i, key in enumerate(decode_key):\n",
        "      encode_map[key] = encode_key[i]\n",
        "\n",
        "    decode_map = {}\n",
        "    for i, key in enumerate(encode_key):\n",
        "      decode_map[key] = decode_key[i]\n",
        "\n",
        "    self._forward = encode_map \n",
        "    self._backward = decode_map\n",
        "\n",
        "  def encrypt(self, message):\n",
        "    return self._transform(message, self._forward)\n",
        "\n",
        "  def decrypt(self, secret):\n",
        "    return self._transform(secret, self._backward)\n",
        "\n",
        "  def _transform(self, original, code):\n",
        "    msg = list(original)\n",
        "    for k in range(len(msg)):\n",
        "      if msg[k].isupper():\n",
        "        msg[k] = code[msg[k]]\n",
        "\n",
        "    return ''.join(msg)"
      ],
      "metadata": {
        "id": "gCZ9VFI-I4N0"
      },
      "execution_count": null,
      "outputs": []
    },
    {
      "cell_type": "code",
      "source": [
        "import random\n",
        "key = list(range(26))\n",
        "random.shuffle(key)\n",
        "encode_key = [chr((k) % 26 + ord( 'A' )) for k in key]\n",
        "print(f'This is the codebook : {encode_key}')"
      ],
      "metadata": {
        "colab": {
          "base_uri": "https://localhost:8080/"
        },
        "id": "bCbDg67JOsLd",
        "outputId": "e651d9a7-4b4b-4c17-ed95-fb99bc6308d7"
      },
      "execution_count": null,
      "outputs": [
        {
          "output_type": "stream",
          "name": "stdout",
          "text": [
            "This is the codebook : ['D', 'J', 'S', 'I', 'P', 'Q', 'A', 'Y', 'R', 'N', 'L', 'V', 'M', 'O', 'K', 'F', 'W', 'B', 'E', 'G', 'T', 'Z', 'X', 'C', 'H', 'U']\n"
          ]
        }
      ]
    },
    {
      "cell_type": "code",
      "source": [
        "d = SubstitutionCipher(encode_key)"
      ],
      "metadata": {
        "id": "2_4HPmB9WRbt"
      },
      "execution_count": null,
      "outputs": []
    },
    {
      "cell_type": "code",
      "source": [
        "plain_text = 'I AM BATMAN'\n",
        "encrypted_text = d.encrypt(plain_text)\n",
        "print(f\"The encrypted text is: {encrypted_text}\") "
      ],
      "metadata": {
        "colab": {
          "base_uri": "https://localhost:8080/"
        },
        "id": "yMy4du3vWiMX",
        "outputId": "344cf352-7e5d-4793-d27b-a42d5b4720bf"
      },
      "execution_count": null,
      "outputs": [
        {
          "output_type": "stream",
          "name": "stdout",
          "text": [
            "The encrypted text is: R DM JDGMDO\n"
          ]
        }
      ]
    },
    {
      "cell_type": "code",
      "source": [
        "decrypted_text = d.decrypt(encrypted_text)\n",
        "print(f\"The original text is: {decrypted_text}\") "
      ],
      "metadata": {
        "colab": {
          "base_uri": "https://localhost:8080/"
        },
        "id": "E0Dnjua8W4eG",
        "outputId": "c322b1d1-083a-4b13-c628-535711a76bcd"
      },
      "execution_count": null,
      "outputs": [
        {
          "output_type": "stream",
          "name": "stdout",
          "text": [
            "The original text is: I AM BATMAN\n"
          ]
        }
      ]
    },
    {
      "cell_type": "code",
      "source": [
        "#@title P-5.36\n",
        "\n",
        "class CaesarCipher(SubstitutionCipher):\n",
        "  def __init__(self, shift):\n",
        "    encoder = [None]*26 # temp array for encryption \n",
        "    for k in range(26):\n",
        "      encoder[k] = chr((k + shift) % 26 + ord( 'A' ))\n",
        "    super().__init__(encoder)\n"
      ],
      "metadata": {
        "id": "EcgDuvQnUEx9"
      },
      "execution_count": null,
      "outputs": []
    },
    {
      "cell_type": "code",
      "source": [
        "d = CaesarCipher(2)"
      ],
      "metadata": {
        "id": "lWIq2vpDYpGt"
      },
      "execution_count": null,
      "outputs": []
    },
    {
      "cell_type": "code",
      "source": [
        "d.encrypt('THIS is A MESSAGE')"
      ],
      "metadata": {
        "colab": {
          "base_uri": "https://localhost:8080/",
          "height": 37
        },
        "id": "nQSgg0ggYy9N",
        "outputId": "c8a16c28-aa26-4293-8dfd-d452f2da46fe"
      },
      "execution_count": null,
      "outputs": [
        {
          "output_type": "execute_result",
          "data": {
            "text/plain": [
              "'VJKU ku C OGUUCIG'"
            ],
            "application/vnd.google.colaboratory.intrinsic+json": {
              "type": "string"
            }
          },
          "metadata": {},
          "execution_count": 154
        }
      ]
    },
    {
      "cell_type": "code",
      "source": [
        "#@title P-5.37\n",
        "class RandomCipher(SubstitutionCipher):\n",
        "  def __init__(self):\n",
        "    import random\n",
        "    key = list(range(26))\n",
        "    random.shuffle(key)\n",
        "    encode_key = [chr((k) % 26 + ord( 'A' )) for k in key]\n",
        "    super().__init__(encode_key)"
      ],
      "metadata": {
        "id": "M5rCS4smYz08"
      },
      "execution_count": null,
      "outputs": []
    },
    {
      "cell_type": "code",
      "source": [
        "d = RandomCipher()\n",
        "plain_text = 'I AM BATMAN'\n",
        "encrypted_text = d.encrypt(plain_text)\n",
        "print(f\"The encrypted text is: {encrypted_text}\") "
      ],
      "metadata": {
        "colab": {
          "base_uri": "https://localhost:8080/"
        },
        "id": "9MICfIILZaFw",
        "outputId": "c621367b-3ce5-43c5-d1d8-e2471e9735a4"
      },
      "execution_count": null,
      "outputs": [
        {
          "output_type": "stream",
          "name": "stdout",
          "text": [
            "The encrypted text is: O HE VHAEHB\n"
          ]
        }
      ]
    },
    {
      "cell_type": "code",
      "source": [
        "decrypted_text = d.decrypt(encrypted_text)\n",
        "print(f\"The original text is: {decrypted_text}\") "
      ],
      "metadata": {
        "colab": {
          "base_uri": "https://localhost:8080/"
        },
        "id": "n3XRh9fZZgUG",
        "outputId": "1acc5b72-8b87-4b85-e618-abecb2a431e8"
      },
      "execution_count": null,
      "outputs": [
        {
          "output_type": "stream",
          "name": "stdout",
          "text": [
            "The original text is: I AM BATMAN\n"
          ]
        }
      ]
    },
    {
      "cell_type": "code",
      "source": [],
      "metadata": {
        "id": "PAlugmALZrUf"
      },
      "execution_count": null,
      "outputs": []
    }
  ],
  "metadata": {
    "colab": {
      "provenance": [],
      "authorship_tag": "ABX9TyO2lw9pOJPTDv/vHaoFAzeH",
      "include_colab_link": true
    },
    "kernelspec": {
      "display_name": "Python 3",
      "name": "python3"
    },
    "language_info": {
      "name": "python"
    }
  },
  "nbformat": 4,
  "nbformat_minor": 0
}