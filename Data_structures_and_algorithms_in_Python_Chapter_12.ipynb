{
  "nbformat": 4,
  "nbformat_minor": 0,
  "metadata": {
    "colab": {
      "provenance": [],
      "authorship_tag": "ABX9TyMoNdnxDqop7UCscpZ4iQf1",
      "include_colab_link": true
    },
    "kernelspec": {
      "name": "python3",
      "display_name": "Python 3"
    },
    "language_info": {
      "name": "python"
    }
  },
  "cells": [
    {
      "cell_type": "markdown",
      "metadata": {
        "id": "view-in-github",
        "colab_type": "text"
      },
      "source": [
        "<a href=\"https://colab.research.google.com/github/vahidNaghshin/Data_structures_and_algorithms_in_Python/blob/main/Data_structures_and_algorithms_in_Python_Chapter_12.ipynb\" target=\"_parent\"><img src=\"https://colab.research.google.com/assets/colab-badge.svg\" alt=\"Open In Colab\"/></a>"
      ]
    },
    {
      "cell_type": "markdown",
      "source": [
        "# Chapter12. Sorting and Selection"
      ],
      "metadata": {
        "id": "lGFLBofOaK83"
      }
    },
    {
      "cell_type": "code",
      "source": [
        "def merge(S1, S2, S):\n",
        "  i=j=0\n",
        "  while i + j < len(S):\n",
        "    if j == len(S2) or (i < len(S1) and S1[i] < S2[j]):\n",
        "      S[i+j] = S1[i] # copy ith element of S1 as next item of S \n",
        "      i += 1\n",
        "    else:\n",
        "      S[i+j] = S2[j] # copy jth element of S2 as next item of S \n",
        "      j += 1"
      ],
      "metadata": {
        "id": "CeRHhQGWbh8N"
      },
      "execution_count": 1,
      "outputs": []
    },
    {
      "cell_type": "code",
      "source": [
        "def merge_sort(S):\n",
        "  \"\"\"Sort the elements of Python list S using the merge-sort algorithm.\"\"\"\n",
        "  n = len(S)\n",
        "  if n < 2:\n",
        "    return\n",
        "  # divide\n",
        "  mid = n // 2\n",
        "  S1 = S[0:mid]\n",
        "  S2 = S[mid:n]\n",
        "  # conquer (with recursion) \n",
        "  merge_sort(S1)\n",
        "  merge_sort(S2)\n",
        "  # merge results\n",
        "  merge(S1, S2, S)"
      ],
      "metadata": {
        "id": "tpqp_STsg74I"
      },
      "execution_count": 2,
      "outputs": []
    },
    {
      "cell_type": "code",
      "source": [
        "def merge(S1, S2, S):\n",
        "  while not S1.is_empty() and not S2.is_empty():\n",
        "    if S1.first() < S2.first(): \n",
        "      S.enqueue(S1.dequeue())\n",
        "    else: \n",
        "      S.enqueue(S2.dequeue())\n",
        "  while not S1.is_empty(): \n",
        "    S.enqueue(S1.dequeue())\n",
        "  while not S2.is_empty(): \n",
        "    S.enqueue(S2.dequeue())\n",
        "\n",
        "def merge_sort(S):\n",
        "   n = len(S)\n",
        "   if n < 2:\n",
        "     return\n",
        "   # divide\n",
        "   S1 = LinkedQueue() \n",
        "   S2 = LinkedQueue() \n",
        "   while len(S1) < n // 2:\n",
        "     S1.enqueue(S.dequeue()) \n",
        "   while not S.is_empty():\n",
        "     S2.enqueue(S.dequeue())\n",
        "  # conquer (with recursion)\n",
        "   merge_sort(S1) \n",
        "   merge_sort(S2) \n",
        "   merge(S1, S2, S)"
      ],
      "metadata": {
        "id": "43Lxgd1DhY7B"
      },
      "execution_count": 3,
      "outputs": []
    },
    {
      "cell_type": "code",
      "source": [
        "import math\n",
        "def merge(src, result, start, inc):\n",
        "  end1 = start+inc\n",
        "  end2 = min(start+2*inc, len(src))\n",
        "  x, y, z = start, start+inc, start\n",
        "  while x < end1 and y < end2:\n",
        "    if src[x] < src[y]:\n",
        "      result[z] = src[x]; x += 1\n",
        "    else:\n",
        "      result[z] = src[y]; y += 1\n",
        "    z += 1\n",
        "  if x < end1:\n",
        "    result[z:end2]=src[x:end1]\n",
        "  elif y < end2:\n",
        "    result[z:end2] = src[y:end2]\n",
        "\n",
        "def merge_sort(S):\n",
        "  n = len(S)\n",
        "  logn = math.ceil(math.log(n,2))\n",
        "  src, dest = S, [None]*n\n",
        "  for i in (2**k for k in range(logn)):\n",
        "    for j in range(0, n, 2*i): \n",
        "      merge(src, dest, j, i)\n",
        "    src, dest = dest, src\n",
        "  if S is not src:\n",
        "    S[0:n] = src[0:n]"
      ],
      "metadata": {
        "id": "t4cPwAJWnJOR"
      },
      "execution_count": 4,
      "outputs": []
    },
    {
      "cell_type": "code",
      "source": [
        "S=[4,6,2,3,7]\n",
        "merge_sort(S)"
      ],
      "metadata": {
        "id": "D3F5SrI7ol8C"
      },
      "execution_count": 5,
      "outputs": []
    },
    {
      "cell_type": "code",
      "source": [
        "S"
      ],
      "metadata": {
        "colab": {
          "base_uri": "https://localhost:8080/"
        },
        "id": "sDTTnkS_otAH",
        "outputId": "cd36ffa3-0c38-48e8-c595-7115e30b1314"
      },
      "execution_count": 6,
      "outputs": [
        {
          "output_type": "execute_result",
          "data": {
            "text/plain": [
              "[2, 3, 4, 6, 7]"
            ]
          },
          "metadata": {},
          "execution_count": 6
        }
      ]
    },
    {
      "cell_type": "code",
      "source": [
        "def quick_sort(S):\n",
        "  n = len(S)\n",
        "  if n < 2:\n",
        "    return\n",
        "  # divide\n",
        "  p = S.first( )\n",
        "  L = LinkedQueue()\n",
        "  E = LinkedQueue()\n",
        "  G = LinkedQueue() \n",
        "  while not S.is_empty():\n",
        "    if S.first() < p: \n",
        "      L.enqueue(S.dequeue())\n",
        "    elif p < S.first(): \n",
        "      G.enqueue(S.dequeue())\n",
        "    else: E.enqueue(S.dequeue())\n",
        "  # conquer (with recursion)\n",
        "  quick_sort(L)\n",
        "  quick_sort(G)\n",
        "  # concatenate results \n",
        "  while not L.is_empty():\n",
        "    S.enqueue(L.dequeue()) \n",
        "  while not E.is_empty():\n",
        "    S.enqueue(E.dequeue()) \n",
        "  while not G.is_empty():\n",
        "    S.enqueue(G.dequeue())"
      ],
      "metadata": {
        "id": "YFlXvgFzouCM"
      },
      "execution_count": 7,
      "outputs": []
    },
    {
      "cell_type": "code",
      "source": [
        "def inplace_quick_sort(S, a, b):\n",
        "  if a >= b: \n",
        "    return \n",
        "  pivot = S[b]\n",
        "  left = a\n",
        "  right = b-1\n",
        "  while left <= right:\n",
        "    while left <= right and S[left] < pivot: \n",
        "      left += 1\n",
        "    while left <= right and pivot < S[right]: \n",
        "      right -= 1\n",
        "    if left <= right:\n",
        "      S[left], S[right] = S[right], S[left] \n",
        "      left, right = left + 1, right - 1\n",
        "  S[left], S[b] = S[b], S[left]\n",
        "  inplace_quick_sort(S, a, left - 1) \n",
        "  inplace_quick_sort(S, left + 1, b)"
      ],
      "metadata": {
        "id": "AD6JtG940zQf"
      },
      "execution_count": 8,
      "outputs": []
    },
    {
      "cell_type": "code",
      "source": [
        "import numpy as np\n",
        "S = list(np.random.random(10))\n",
        "inplace_quick_sort(S, a=0, b=9)\n",
        "S"
      ],
      "metadata": {
        "colab": {
          "base_uri": "https://localhost:8080/"
        },
        "id": "ug29F2Lk9Ko5",
        "outputId": "ca1b00a5-fecc-4811-a4cd-0da272fea208"
      },
      "execution_count": 10,
      "outputs": [
        {
          "output_type": "execute_result",
          "data": {
            "text/plain": [
              "[0.04539570811910032,\n",
              " 0.11040401922152987,\n",
              " 0.1382446106548263,\n",
              " 0.3910537504176155,\n",
              " 0.4301207223269755,\n",
              " 0.43666900860587154,\n",
              " 0.6559770643570699,\n",
              " 0.8077669619720704,\n",
              " 0.9088798327646703,\n",
              " 0.9465416860271046]"
            ]
          },
          "metadata": {},
          "execution_count": 10
        }
      ]
    },
    {
      "cell_type": "code",
      "source": [
        "class _Item:\n",
        "  __slots__ = '_key' , '_value'\n",
        "  def __init__ (self, k, v): \n",
        "    self._key = k\n",
        "    self._value = v\n",
        "  def __lt__ (self, other):\n",
        "    return self._key < other._key"
      ],
      "metadata": {
        "id": "RcIv6kD29K8t"
      },
      "execution_count": 12,
      "outputs": []
    },
    {
      "cell_type": "code",
      "source": [
        "def decorated_merge_sort(data, key=None):\n",
        "  if key is not None:\n",
        "    for j in range(len(data)):\n",
        "      data[j] =  _Item(key(data[j]), data[j])\n",
        "  merge_sort(data)\n",
        "  if key is not None:\n",
        "    for j in range(len(data)): \n",
        "      data[j] = data[j]._value"
      ],
      "metadata": {
        "id": "h9XZlErq5dMc"
      },
      "execution_count": 13,
      "outputs": []
    },
    {
      "cell_type": "code",
      "source": [
        "import random\n",
        "def quick_select(S, k):\n",
        "  if len(S) == 1:\n",
        "    return S[0]\n",
        "  pivot = random.choice(S)\n",
        "  L = [x for x in S if x < pivot] \n",
        "  E = [x for x in S if x == pivot] \n",
        "  G = [x for x in S if pivot < x] \n",
        "  if k <= len(L):\n",
        "    return quick_select(L, k) \n",
        "  elif k <= len(L) + len(E):\n",
        "    return pivot \n",
        "  else:\n",
        "    j = k - len(L) - len(E) \n",
        "    return quick_select(G, j)"
      ],
      "metadata": {
        "id": "7AthZ4lT5xAD"
      },
      "execution_count": 14,
      "outputs": []
    },
    {
      "cell_type": "code",
      "source": [],
      "metadata": {
        "id": "JeTkkz1z70ST"
      },
      "execution_count": null,
      "outputs": []
    }
  ]
}